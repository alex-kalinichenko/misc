{
 "cells": [
  {
   "cell_type": "code",
   "execution_count": 80,
   "id": "9a49cf63",
   "metadata": {
    "ExecuteTime": {
     "end_time": "2022-04-05T21:48:11.390623Z",
     "start_time": "2022-04-05T21:48:08.364743Z"
    }
   },
   "outputs": [
    {
     "name": "stdout",
     "output_type": "stream",
     "text": [
      "10\n",
      "64630 11735 14216 99233 14470 4978 73429 38120 51135 67060\n",
      "43900.6\n",
      "44627.5\n",
      "(4978, 1)\n"
     ]
    }
   ],
   "source": [
    "from collections import Counter\n",
    "\n",
    "n = int(input())\n",
    "numbers = input().split()\n",
    "numbers = [int(i) for i in numbers]\n",
    "\n",
    "print(sum(numbers)/n)\n",
    "\n",
    "numbers.sort()\n",
    "\n",
    "\n",
    "if n % 2 == 0:\n",
    "    pos = int(n / 2 - 1)\n",
    "    print((numbers[pos] + numbers[pos + 1]) / 2)\n",
    "    \n",
    "if n % 2 != 0:\n",
    "    pos = int(n / 2 - 0.5)\n",
    "    print(numbers[pos])\n",
    "    \n",
    "data = Counter(numbers)\n",
    "print(data.most_common(1)[0][0])"
   ]
  },
  {
   "cell_type": "code",
   "execution_count": 8,
   "id": "ffcc6c3b",
   "metadata": {
    "ExecuteTime": {
     "end_time": "2022-04-06T19:44:18.545441Z",
     "start_time": "2022-04-06T19:44:18.524161Z"
    }
   },
   "outputs": [
    {
     "name": "stdout",
     "output_type": "stream",
     "text": [
      "32.0\n"
     ]
    }
   ],
   "source": [
    "import math\n",
    "import os\n",
    "import random\n",
    "import re\n",
    "import sys\n",
    "\n",
    "n = '5'\n",
    "x = '10 40 30 50 20'\n",
    "w = '1 2 3 4 5'\n",
    "\n",
    "n = list(map(int, n.rstrip().split()))\n",
    "x = list(map(int, x.rstrip().split()))\n",
    "w = list(map(int, w.rstrip().split()))\n",
    "\n",
    "\n",
    "def weightedMean(n, x, w):\n",
    "    sum_ = 0\n",
    "    for i in range(n[0]):\n",
    "        sum_ += x[i] * w[i]\n",
    "    print(sum_ / sum(w))\n",
    "\n",
    "weightedMean(n, x, w)"
   ]
  },
  {
   "cell_type": "code",
   "execution_count": 14,
   "id": "27d9dc27",
   "metadata": {
    "ExecuteTime": {
     "end_time": "2022-04-07T22:20:17.077639Z",
     "start_time": "2022-04-07T22:20:17.062170Z"
    }
   },
   "outputs": [
    {
     "name": "stdout",
     "output_type": "stream",
     "text": [
      "[3, 5, 7, 8, 12, 13, 14, 18, 21]\n",
      "case 2\n",
      "(6.0, 12, 16.0)\n",
      "[3, 5, 7, 8, 12, 14, 14, 15, 18, 21]\n",
      "case 1\n",
      "(7, 13.0, 15)\n",
      "[3, 4, 4, 4, 7, 10, 12, 12, 14, 16, 17, 18]\n",
      "case 1\n",
      "(4.0, 11.0, 15.0)\n"
     ]
    }
   ],
   "source": [
    "arr = '3 7 8 5 12 14 21 13 18'\n",
    "arr = list(map(int, arr.rstrip().split()))\n",
    "\n",
    "arr1 = '3 7 8 5 12 14 21 15 18 14'\n",
    "arr1 = list(map(int, arr1.rstrip().split()))\n",
    "\n",
    "arr2 = '4 17 7 14 18 12 3 16 10 4 4 12'\n",
    "arr2 = list(map(int, arr2.rstrip().split()))\n",
    "\n",
    "def quartiles(arr):\n",
    "    arr.sort()\n",
    "    print(arr)\n",
    "    if len(arr) % 2 == 0:\n",
    "        print('case 1')\n",
    "        pos = len(arr) / 2\n",
    "        q2 = (arr[int(pos) - 1] + arr[int(pos)]) / 2\n",
    "        if len(arr) / 2 % 2 == 0:\n",
    "            q1 = (arr[int(pos / 2 - 1)] + arr[int(pos / 2)]) / 2\n",
    "            q3 = (arr[int(pos + pos / 2)] + arr[int(pos + pos / 2 - 1)]) / 2\n",
    "        else:\n",
    "            q1 = arr[int(pos / 2 - 0.5)]\n",
    "            q3 = arr[int(pos + pos / 2 - 0.5)]\n",
    "        \n",
    "    else:\n",
    "        print('case 2')\n",
    "        pos = int(len(arr) / 2 - 0.5)\n",
    "        q2 = arr[pos]\n",
    "        q1 = (arr[int(pos / 2 - 1)] + arr[int(pos / 2)]) / 2\n",
    "        q3 = (arr[int(pos + pos / 2)] + arr[int(pos + pos / 2 + 1)]) / 2\n",
    "\n",
    "            \n",
    "    \n",
    "    return q1, q2, q3\n",
    "\n",
    "\n",
    "print(quartiles(arr)) # 6 12 16\n",
    "print(quartiles(arr1)) # 7 13 15\n",
    "print(quartiles(arr2)) # 4 11 15"
   ]
  },
  {
   "cell_type": "markdown",
   "id": "0aa9c209",
   "metadata": {},
   "source": [
    "##  Interquartile range"
   ]
  },
  {
   "cell_type": "code",
   "execution_count": null,
   "id": "7d731d99",
   "metadata": {},
   "outputs": [],
   "source": [
    "n = '6'\n",
    "n = list(map(int, n.rstrip().split()))\n",
    "\n",
    "vals = '6 12 8 10 20 16'\n",
    "vals = list(map(int, vals.rstrip().split()))\n",
    "\n",
    "freqs = '5 4 3 2 1 5'\n",
    "freqs = list(map(int, freqs.rstrip().split()))\n",
    "\n",
    "\n"
   ]
  },
  {
   "cell_type": "code",
   "execution_count": null,
   "id": "10204186",
   "metadata": {},
   "outputs": [],
   "source": []
  },
  {
   "cell_type": "code",
   "execution_count": null,
   "id": "136a54c6",
   "metadata": {},
   "outputs": [],
   "source": []
  },
  {
   "cell_type": "code",
   "execution_count": null,
   "id": "7287df35",
   "metadata": {},
   "outputs": [],
   "source": []
  },
  {
   "cell_type": "code",
   "execution_count": null,
   "id": "dc7653d3",
   "metadata": {},
   "outputs": [],
   "source": []
  }
 ],
 "metadata": {
  "kernelspec": {
   "display_name": "Python 3 (ipykernel)",
   "language": "python",
   "name": "python3"
  },
  "language_info": {
   "codemirror_mode": {
    "name": "ipython",
    "version": 3
   },
   "file_extension": ".py",
   "mimetype": "text/x-python",
   "name": "python",
   "nbconvert_exporter": "python",
   "pygments_lexer": "ipython3",
   "version": "3.9.7"
  },
  "toc": {
   "base_numbering": 1,
   "nav_menu": {},
   "number_sections": false,
   "sideBar": true,
   "skip_h1_title": true,
   "title_cell": "Table of Contents",
   "title_sidebar": "Contents",
   "toc_cell": false,
   "toc_position": {},
   "toc_section_display": true,
   "toc_window_display": false
  },
  "varInspector": {
   "cols": {
    "lenName": 16,
    "lenType": 16,
    "lenVar": 40
   },
   "kernels_config": {
    "python": {
     "delete_cmd_postfix": "",
     "delete_cmd_prefix": "del ",
     "library": "var_list.py",
     "varRefreshCmd": "print(var_dic_list())"
    },
    "r": {
     "delete_cmd_postfix": ") ",
     "delete_cmd_prefix": "rm(",
     "library": "var_list.r",
     "varRefreshCmd": "cat(var_dic_list()) "
    }
   },
   "types_to_exclude": [
    "module",
    "function",
    "builtin_function_or_method",
    "instance",
    "_Feature"
   ],
   "window_display": false
  }
 },
 "nbformat": 4,
 "nbformat_minor": 5
}
