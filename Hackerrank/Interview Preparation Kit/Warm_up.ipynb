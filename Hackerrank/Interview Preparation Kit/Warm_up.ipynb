{
 "cells": [
  {
   "cell_type": "markdown",
   "id": "d2f717cb",
   "metadata": {},
   "source": [
    "Sales by Match"
   ]
  },
  {
   "cell_type": "code",
   "execution_count": 19,
   "id": "dff262cd",
   "metadata": {
    "ExecuteTime": {
     "end_time": "2022-03-19T15:13:48.983562Z",
     "start_time": "2022-03-19T15:13:48.963704Z"
    }
   },
   "outputs": [
    {
     "name": "stdout",
     "output_type": "stream",
     "text": [
      "3\n",
      "2\n"
     ]
    }
   ],
   "source": [
    "def sockMerchant(n, ar):\n",
    "    socks = {}\n",
    "    for sock in ar:\n",
    "        if sock in socks:\n",
    "            socks[sock] += 1\n",
    "        else:\n",
    "            socks[sock] = 1\n",
    "    #print(socks)\n",
    "    \n",
    "    pair_counter = 0\n",
    "    for k, v in socks.items():\n",
    "        pair_counter += v // 2\n",
    "    return pair_counter\n",
    "\n",
    "\n",
    "print(sockMerchant(9, [10, 20, 20, 10, 10, 30, 50, 10, 20]))\n",
    "\n",
    "print(sockMerchant(7, [1, 2, 1, 2, 1, 3, 2]))"
   ]
  },
  {
   "cell_type": "markdown",
   "id": "f88b5389",
   "metadata": {
    "ExecuteTime": {
     "end_time": "2022-03-19T15:12:31.213211Z",
     "start_time": "2022-03-19T15:12:31.188983Z"
    }
   },
   "source": [
    "Counting Valleys"
   ]
  },
  {
   "cell_type": "code",
   "execution_count": 30,
   "id": "6670f625",
   "metadata": {
    "ExecuteTime": {
     "end_time": "2022-03-19T15:38:49.317665Z",
     "start_time": "2022-03-19T15:38:49.301676Z"
    }
   },
   "outputs": [
    {
     "name": "stdout",
     "output_type": "stream",
     "text": [
      "1\n"
     ]
    }
   ],
   "source": [
    "def countingValleys(steps, path):\n",
    "    \n",
    "    hight = 0\n",
    "    mountain_counter = 0\n",
    "    valley_counter = 0\n",
    "    \n",
    "    for step in path:\n",
    "        if hight == 0:\n",
    "            if step == 'U':\n",
    "                hight += 1\n",
    "                mountain_counter += 1\n",
    "            elif step == 'D':\n",
    "                hight -= 1\n",
    "                valley_counter += 1\n",
    "                \n",
    "        else:\n",
    "            if step == 'U':\n",
    "                hight += 1\n",
    "            elif step == 'D':\n",
    "                hight -= 1\n",
    "                \n",
    "#         print(hight)\n",
    "#     print(mountain_counter)\n",
    "#     print(valley_counter)\n",
    "        #if hight == 0:\n",
    "    return valley_counter\n",
    "            \n",
    "    \n",
    "print(countingValleys(8, 'UDDDUDUU'))  # 1"
   ]
  },
  {
   "cell_type": "markdown",
   "id": "06724264",
   "metadata": {},
   "source": [
    "Jumping on the Clouds"
   ]
  },
  {
   "cell_type": "code",
   "execution_count": 39,
   "id": "a79612d3",
   "metadata": {
    "ExecuteTime": {
     "end_time": "2022-03-19T16:57:00.637703Z",
     "start_time": "2022-03-19T16:57:00.620661Z"
    }
   },
   "outputs": [
    {
     "name": "stdout",
     "output_type": "stream",
     "text": [
      "[0, 0, 1, 0, 0, 1, 0]\n",
      "None\n",
      "[0, 0, 0, 0, 1, 0]\n",
      "None\n"
     ]
    }
   ],
   "source": [
    "def jumpingOnClouds(c):\n",
    "    lst = list(map(int, c.rstrip().split()))\n",
    "    \n",
    "    print(lst)\n",
    "    \n",
    "\n",
    "print(jumpingOnClouds('0 0 1 0 0 1 0'))\n",
    "print(jumpingOnClouds('0 0 0 0 1 0'))"
   ]
  },
  {
   "cell_type": "code",
   "execution_count": 38,
   "id": "ccf551ae",
   "metadata": {
    "ExecuteTime": {
     "end_time": "2022-03-19T16:07:24.372639Z",
     "start_time": "2022-03-19T16:07:24.356367Z"
    }
   },
   "outputs": [
    {
     "data": {
      "text/plain": [
       "[0, 0, 1, 0, 0, 1, 0]"
      ]
     },
     "execution_count": 38,
     "metadata": {},
     "output_type": "execute_result"
    }
   ],
   "source": [
    "list(map(int, '0 0 1 0 0 1 0'.split()))"
   ]
  },
  {
   "cell_type": "markdown",
   "id": "8dedaec7",
   "metadata": {},
   "source": [
    "Repeated String"
   ]
  },
  {
   "cell_type": "code",
   "execution_count": 126,
   "id": "208d5314",
   "metadata": {
    "ExecuteTime": {
     "end_time": "2022-03-19T21:10:55.260101Z",
     "start_time": "2022-03-19T21:10:55.235467Z"
    }
   },
   "outputs": [
    {
     "name": "stdout",
     "output_type": "stream",
     "text": [
      "4\n",
      "7\n",
      "1000000000\n"
     ]
    }
   ],
   "source": [
    "def repeatedString(s, n):\n",
    "    if len(s) == 1 and s == 'a':\n",
    "        return n\n",
    "    mult = n // len(s) + 1\n",
    "    string = s * mult\n",
    "    #print(string)\n",
    "    return string.count('a', 0, n)\n",
    "\n",
    "print(repeatedString('abcac', 10)) # 4\n",
    "print(repeatedString('aba', 10)) # 7\n",
    "print(repeatedString('a', 1000000000)) # 7"
   ]
  },
  {
   "cell_type": "code",
   "execution_count": 57,
   "id": "251dc8af",
   "metadata": {
    "ExecuteTime": {
     "end_time": "2022-03-19T19:07:21.137471Z",
     "start_time": "2022-03-19T19:07:21.121570Z"
    }
   },
   "outputs": [
    {
     "name": "stdout",
     "output_type": "stream",
     "text": [
      "4\n",
      "7\n"
     ]
    }
   ],
   "source": [
    "def repeatedString(s, n):\n",
    "    string = ''\n",
    "    for _ in range(n):\n",
    "        string += s\n",
    "        #print(string)\n",
    "        if len(string) > n:\n",
    "            return string.count('a', 0, n)\n",
    "\n",
    "print(repeatedString('abcac', 10)) # 4\n",
    "print(repeatedString('aba', 10)) # 7\n",
    "#print(repeatedString('a', 1000000000)) # 7"
   ]
  },
  {
   "cell_type": "code",
   "execution_count": 85,
   "id": "b9e3e8ce",
   "metadata": {
    "ExecuteTime": {
     "end_time": "2022-03-19T20:25:43.816279Z",
     "start_time": "2022-03-19T20:25:43.800247Z"
    }
   },
   "outputs": [
    {
     "name": "stdout",
     "output_type": "stream",
     "text": [
      "4\n",
      "8\n",
      "1000000000\n"
     ]
    }
   ],
   "source": [
    "def repeatedString(s, n):\n",
    "    num = 0\n",
    "    string_lenght = 0\n",
    "    string_len = len(s)\n",
    "    if len(s) == 1 and s == 'a':\n",
    "        return n\n",
    "    for i in range(n):\n",
    "        if string_lenght < n:\n",
    "            num += s.count('a')\n",
    "            string_lenght += string_len\n",
    "        else:\n",
    "            num += s.count('a', 0, -(i * string_len - (i - 1) * string_len ) )\n",
    "            string_lenght += string_len\n",
    "            return num\n",
    "\n",
    "print(repeatedString('abcac', 10)) # 4\n",
    "print(repeatedString('aba', 10)) # 7\n",
    "print(repeatedString('a', 1000000000)) # 1000000000"
   ]
  },
  {
   "cell_type": "code",
   "execution_count": 156,
   "id": "38d603de",
   "metadata": {
    "ExecuteTime": {
     "end_time": "2022-03-19T21:50:37.807442Z",
     "start_time": "2022-03-19T21:50:37.792324Z"
    }
   },
   "outputs": [
    {
     "name": "stdout",
     "output_type": "stream",
     "text": [
      "------\n",
      "4\n",
      "------\n",
      "pos_end 1\n",
      "1\n",
      "7\n",
      "------\n",
      "1000000000\n",
      "------\n",
      "pos_end 2\n",
      "0\n",
      "164280\n"
     ]
    }
   ],
   "source": [
    "def repeatedString(s, n):\n",
    "    \n",
    "    a_num_s = s.count('a') # кол-во а в исходной подстроке\n",
    "\n",
    "    s_len = len(s)\n",
    "    \n",
    "    num_of_s = n // s_len # кол-во целых строк\n",
    "    \n",
    "    a_num_string = num_of_s * a_num_s # кол-во букв а в целых строках\n",
    "    #print('a_num_string', a_num_string)\n",
    "    print('------')\n",
    "    if n % s_len != 0:\n",
    "        pos_end = n - s_len * num_of_s # кол-во символов в последней подстроке поиска\n",
    "        print('pos_end', pos_end)\n",
    "        print(s.count('a', 0, pos_end))\n",
    "        return a_num_string + s.count('a', 0, pos_end)\n",
    "    else:\n",
    "        return a_num_string\n",
    "    \n",
    "    \n",
    "        \n",
    "print(repeatedString('abcac', 10)) # 4\n",
    "print(repeatedString('aba', 10)) # 7\n",
    "print(repeatedString('a', 1000000000)) # 1000000000\n",
    "print(repeatedString('gfcaaaecbg', 547602)) # 164280"
   ]
  },
  {
   "cell_type": "markdown",
   "id": "05ee2df4",
   "metadata": {},
   "source": [
    "Jumping on the Clouds"
   ]
  },
  {
   "cell_type": "code",
   "execution_count": 157,
   "id": "a05e2add",
   "metadata": {
    "ExecuteTime": {
     "end_time": "2022-03-20T17:45:31.277553Z",
     "start_time": "2022-03-20T17:45:31.262534Z"
    }
   },
   "outputs": [
    {
     "name": "stdout",
     "output_type": "stream",
     "text": [
      "None\n",
      "None\n",
      "None\n"
     ]
    }
   ],
   "source": [
    "def jumpingOnClouds(c):\n",
    "    \n",
    "    pass\n",
    "\n",
    "print(jumpingOnClouds([0, 1, 0, 0, 0, 1, 0])) # 3\n",
    "print(jumpingOnClouds([0, 0, 1, 0, 0, 1, 0])) # 4\n",
    "print(jumpingOnClouds([0, 0, 0, 0, 1, 0])) # 3"
   ]
  },
  {
   "cell_type": "code",
   "execution_count": 170,
   "id": "e36475dc",
   "metadata": {
    "ExecuteTime": {
     "end_time": "2022-03-20T20:46:09.980764Z",
     "start_time": "2022-03-20T20:46:09.970466Z"
    }
   },
   "outputs": [
    {
     "name": "stdout",
     "output_type": "stream",
     "text": [
      "-9 -9 -9  1 1 1 \n",
      " 0 -9  0  4 3 2 \n",
      " -9 -9 -9  1 2 3 \n",
      " 0  0  8  6 6 0 \n",
      " 0  0  0 -2 0 0 \n",
      " 0  0  1  2 4 0\n"
     ]
    }
   ],
   "source": [
    "arr = '-9 -9 -9  1 1 1 \\n 0 -9  0  4 3 2 \\n -9 -9 -9  1 2 3 \\n 0  0  8  6 6 0 \\n 0  0  0 -2 0 0 \\n 0  0  1  2 4 0'\n",
    "\n",
    "print(arr)"
   ]
  },
  {
   "cell_type": "code",
   "execution_count": 171,
   "id": "01011537",
   "metadata": {
    "ExecuteTime": {
     "end_time": "2022-03-20T20:46:12.808777Z",
     "start_time": "2022-03-20T20:46:12.791714Z"
    }
   },
   "outputs": [
    {
     "name": "stdout",
     "output_type": "stream",
     "text": [
      "[[-9, -9, -9, 1, 1, 1, 0, -9, 0, 4, 3, 2, -9, -9, -9, 1, 2, 3, 0, 0, 8, 6, 6, 0, 0, 0, 0, -2, 0, 0, 0, 0, 1, 2, 4, 0]]\n",
      "None\n"
     ]
    }
   ],
   "source": [
    "def hourglassSum(arr):\n",
    "    array = []\n",
    "    array.append(list(map(int, arr.rstrip().split())))\n",
    "    print(array)\n",
    "    \n",
    "print(hourglassSum(arr))"
   ]
  },
  {
   "cell_type": "code",
   "execution_count": 196,
   "id": "c2f79fa7",
   "metadata": {
    "ExecuteTime": {
     "end_time": "2022-03-20T21:34:13.202309Z",
     "start_time": "2022-03-20T21:34:13.179539Z"
    }
   },
   "outputs": [
    {
     "name": "stdout",
     "output_type": "stream",
     "text": [
      "5 1 2 3 4\n",
      "87 97 33 47 70 37 8 53 13 93 71 72 51 100 60\n"
     ]
    }
   ],
   "source": [
    "def rotLeft(a, d):\n",
    "    arr_len, shift = map(int, a.split()) \n",
    "    d = list(map(int, d.split()))\n",
    "    \n",
    "    new_lst = []\n",
    "    for i in range(shift, arr_len):\n",
    "        new_lst.append(d[i])\n",
    "    for i in range(shift):\n",
    "        new_lst.append(d[i])\n",
    "    return ' '.join([str(elem) for elem in new_lst])\n",
    "\n",
    "print(rotLeft('5 4', '1 2 3 4 5'))\n",
    "print(rotLeft('15 13', '33 47 70 37 8 53 13 93 71 72 51 100 60 87 97'))"
   ]
  },
  {
   "cell_type": "code",
   "execution_count": 200,
   "id": "4edcfb3b",
   "metadata": {
    "ExecuteTime": {
     "end_time": "2022-03-20T22:09:42.791444Z",
     "start_time": "2022-03-20T22:09:42.761670Z"
    }
   },
   "outputs": [
    {
     "name": "stdout",
     "output_type": "stream",
     "text": [
      "a= 4 <class 'int'>\n",
      "d= [1, 2, 3, 4, 5] <class 'list'>\n"
     ]
    },
    {
     "ename": "TypeError",
     "evalue": "object of type 'int' has no len()",
     "output_type": "error",
     "traceback": [
      "\u001b[1;31m---------------------------------------------------------------------------\u001b[0m",
      "\u001b[1;31mTypeError\u001b[0m                                 Traceback (most recent call last)",
      "\u001b[1;32m~\\AppData\\Local\\Temp/ipykernel_22224/52812870.py\u001b[0m in \u001b[0;36m<module>\u001b[1;34m\u001b[0m\n\u001b[0;32m     15\u001b[0m     \u001b[1;32mreturn\u001b[0m \u001b[0ms\u001b[0m\u001b[1;33m\u001b[0m\u001b[1;33m\u001b[0m\u001b[0m\n\u001b[0;32m     16\u001b[0m \u001b[1;33m\u001b[0m\u001b[0m\n\u001b[1;32m---> 17\u001b[1;33m \u001b[0mprint\u001b[0m\u001b[1;33m(\u001b[0m\u001b[0mrotLeft\u001b[0m\u001b[1;33m(\u001b[0m\u001b[1;36m4\u001b[0m\u001b[1;33m,\u001b[0m \u001b[1;33m[\u001b[0m\u001b[1;36m1\u001b[0m\u001b[1;33m,\u001b[0m \u001b[1;36m2\u001b[0m\u001b[1;33m,\u001b[0m \u001b[1;36m3\u001b[0m\u001b[1;33m,\u001b[0m \u001b[1;36m4\u001b[0m\u001b[1;33m,\u001b[0m \u001b[1;36m5\u001b[0m\u001b[1;33m]\u001b[0m\u001b[1;33m)\u001b[0m\u001b[1;33m)\u001b[0m\u001b[1;33m\u001b[0m\u001b[1;33m\u001b[0m\u001b[0m\n\u001b[0m\u001b[0;32m     18\u001b[0m \u001b[1;31m#print(rotLeft('15 13', '33 47 70 37 8 53 13 93 71 72 51 100 60 87 97'))\u001b[0m\u001b[1;33m\u001b[0m\u001b[1;33m\u001b[0m\u001b[0m\n",
      "\u001b[1;32m~\\AppData\\Local\\Temp/ipykernel_22224/52812870.py\u001b[0m in \u001b[0;36mrotLeft\u001b[1;34m(a, d)\u001b[0m\n\u001b[0;32m      2\u001b[0m     \u001b[0mprint\u001b[0m\u001b[1;33m(\u001b[0m\u001b[1;34m'a='\u001b[0m\u001b[1;33m,\u001b[0m \u001b[0ma\u001b[0m\u001b[1;33m,\u001b[0m \u001b[0mtype\u001b[0m\u001b[1;33m(\u001b[0m\u001b[0ma\u001b[0m\u001b[1;33m)\u001b[0m\u001b[1;33m)\u001b[0m \u001b[1;31m# list\u001b[0m\u001b[1;33m\u001b[0m\u001b[1;33m\u001b[0m\u001b[0m\n\u001b[0;32m      3\u001b[0m     \u001b[0mprint\u001b[0m\u001b[1;33m(\u001b[0m\u001b[1;34m'd='\u001b[0m\u001b[1;33m,\u001b[0m \u001b[0md\u001b[0m\u001b[1;33m,\u001b[0m \u001b[0mtype\u001b[0m\u001b[1;33m(\u001b[0m\u001b[0md\u001b[0m\u001b[1;33m)\u001b[0m\u001b[1;33m)\u001b[0m \u001b[1;31m# shift\u001b[0m\u001b[1;33m\u001b[0m\u001b[1;33m\u001b[0m\u001b[0m\n\u001b[1;32m----> 4\u001b[1;33m     \u001b[0marr_len\u001b[0m \u001b[1;33m=\u001b[0m \u001b[0mlen\u001b[0m\u001b[1;33m(\u001b[0m\u001b[0ma\u001b[0m\u001b[1;33m)\u001b[0m\u001b[1;33m\u001b[0m\u001b[1;33m\u001b[0m\u001b[0m\n\u001b[0m\u001b[0;32m      5\u001b[0m     \u001b[0mshift\u001b[0m \u001b[1;33m=\u001b[0m \u001b[0md\u001b[0m\u001b[1;33m\u001b[0m\u001b[1;33m\u001b[0m\u001b[0m\n\u001b[0;32m      6\u001b[0m     \u001b[1;31m#d = list(map(int, d.split()))\u001b[0m\u001b[1;33m\u001b[0m\u001b[1;33m\u001b[0m\u001b[0m\n",
      "\u001b[1;31mTypeError\u001b[0m: object of type 'int' has no len()"
     ]
    }
   ],
   "source": [
    "def rotLeft(a, d):\n",
    "    print('a=', a, type(a)) # list\n",
    "    print('d=', d, type(d)) # shift\n",
    "    arr_len = len(a)\n",
    "    shift = d\n",
    "    #d = list(map(int, d.split()))\n",
    "    \n",
    "    s = ''\n",
    "    for i in range(shift, arr_len):\n",
    "        s = s + ' ' + str(a[i])\n",
    "        print(s)\n",
    "    for i in range(shift):\n",
    "        s = s + ' ' + str(a[i])\n",
    "        print(s)\n",
    "    return s\n",
    "\n",
    "print(rotLeft(4, [1, 2, 3, 4, 5]))\n",
    "#print(rotLeft('15 13', '33 47 70 37 8 53 13 93 71 72 51 100 60 87 97'))"
   ]
  }
 ],
 "metadata": {
  "kernelspec": {
   "display_name": "Python 3 (ipykernel)",
   "language": "python",
   "name": "python3"
  },
  "language_info": {
   "codemirror_mode": {
    "name": "ipython",
    "version": 3
   },
   "file_extension": ".py",
   "mimetype": "text/x-python",
   "name": "python",
   "nbconvert_exporter": "python",
   "pygments_lexer": "ipython3",
   "version": "3.9.7"
  },
  "toc": {
   "base_numbering": 1,
   "nav_menu": {},
   "number_sections": false,
   "sideBar": true,
   "skip_h1_title": true,
   "title_cell": "Table of Contents",
   "title_sidebar": "Contents",
   "toc_cell": false,
   "toc_position": {},
   "toc_section_display": true,
   "toc_window_display": false
  },
  "varInspector": {
   "cols": {
    "lenName": 16,
    "lenType": 16,
    "lenVar": 40
   },
   "kernels_config": {
    "python": {
     "delete_cmd_postfix": "",
     "delete_cmd_prefix": "del ",
     "library": "var_list.py",
     "varRefreshCmd": "print(var_dic_list())"
    },
    "r": {
     "delete_cmd_postfix": ") ",
     "delete_cmd_prefix": "rm(",
     "library": "var_list.r",
     "varRefreshCmd": "cat(var_dic_list()) "
    }
   },
   "types_to_exclude": [
    "module",
    "function",
    "builtin_function_or_method",
    "instance",
    "_Feature"
   ],
   "window_display": false
  }
 },
 "nbformat": 4,
 "nbformat_minor": 5
}
