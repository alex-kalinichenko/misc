{
 "cells": [
  {
   "cell_type": "markdown",
   "id": "76051ad1",
   "metadata": {},
   "source": [
    "What are like-to-view ratios for US and CA citizens with the last answer (rows with the same video_id and trending_date were dropped) and such data:\n",
    "\n",
    "Please write the whole calculation, so I understand which dates and videos were used."
   ]
  },
  {
   "cell_type": "code",
   "execution_count": 1,
   "id": "41090d54",
   "metadata": {
    "ExecuteTime": {
     "end_time": "2022-05-13T13:27:09.287431Z",
     "start_time": "2022-05-13T13:27:08.833091Z"
    }
   },
   "outputs": [],
   "source": [
    "import numpy as np\n",
    "import pandas as pd"
   ]
  },
  {
   "cell_type": "code",
   "execution_count": 2,
   "id": "390e8395",
   "metadata": {
    "ExecuteTime": {
     "end_time": "2022-05-13T13:27:09.339326Z",
     "start_time": "2022-05-13T13:27:09.293504Z"
    }
   },
   "outputs": [
    {
     "data": {
      "text/html": [
       "<div>\n",
       "<style scoped>\n",
       "    .dataframe tbody tr th:only-of-type {\n",
       "        vertical-align: middle;\n",
       "    }\n",
       "\n",
       "    .dataframe tbody tr th {\n",
       "        vertical-align: top;\n",
       "    }\n",
       "\n",
       "    .dataframe thead th {\n",
       "        text-align: right;\n",
       "    }\n",
       "</style>\n",
       "<table border=\"1\" class=\"dataframe\">\n",
       "  <thead>\n",
       "    <tr style=\"text-align: right;\">\n",
       "      <th></th>\n",
       "      <th>date</th>\n",
       "      <th>country</th>\n",
       "      <th>video</th>\n",
       "      <th>views</th>\n",
       "      <th>likes</th>\n",
       "    </tr>\n",
       "  </thead>\n",
       "  <tbody>\n",
       "    <tr>\n",
       "      <th>0</th>\n",
       "      <td>2022-01-01</td>\n",
       "      <td>US</td>\n",
       "      <td>Video_A</td>\n",
       "      <td>1000</td>\n",
       "      <td>1</td>\n",
       "    </tr>\n",
       "    <tr>\n",
       "      <th>1</th>\n",
       "      <td>2022-01-01</td>\n",
       "      <td>CA</td>\n",
       "      <td>Video_B</td>\n",
       "      <td>1000</td>\n",
       "      <td>100</td>\n",
       "    </tr>\n",
       "    <tr>\n",
       "      <th>2</th>\n",
       "      <td>2022-01-02</td>\n",
       "      <td>CA</td>\n",
       "      <td>Video_B</td>\n",
       "      <td>2000</td>\n",
       "      <td>200</td>\n",
       "    </tr>\n",
       "    <tr>\n",
       "      <th>3</th>\n",
       "      <td>2022-01-03</td>\n",
       "      <td>CA</td>\n",
       "      <td>Video_B</td>\n",
       "      <td>3000</td>\n",
       "      <td>300</td>\n",
       "    </tr>\n",
       "    <tr>\n",
       "      <th>4</th>\n",
       "      <td>2022-01-04</td>\n",
       "      <td>CA</td>\n",
       "      <td>Video_B</td>\n",
       "      <td>4000</td>\n",
       "      <td>400</td>\n",
       "    </tr>\n",
       "    <tr>\n",
       "      <th>5</th>\n",
       "      <td>2022-01-05</td>\n",
       "      <td>CA</td>\n",
       "      <td>Video_B</td>\n",
       "      <td>5000</td>\n",
       "      <td>500</td>\n",
       "    </tr>\n",
       "    <tr>\n",
       "      <th>6</th>\n",
       "      <td>2022-01-06</td>\n",
       "      <td>CA</td>\n",
       "      <td>Video_B</td>\n",
       "      <td>6000</td>\n",
       "      <td>600</td>\n",
       "    </tr>\n",
       "    <tr>\n",
       "      <th>7</th>\n",
       "      <td>2022-01-07</td>\n",
       "      <td>CA</td>\n",
       "      <td>Video_B</td>\n",
       "      <td>7000</td>\n",
       "      <td>700</td>\n",
       "    </tr>\n",
       "    <tr>\n",
       "      <th>8</th>\n",
       "      <td>2022-01-08</td>\n",
       "      <td>CA</td>\n",
       "      <td>Video_B</td>\n",
       "      <td>8000</td>\n",
       "      <td>800</td>\n",
       "    </tr>\n",
       "    <tr>\n",
       "      <th>9</th>\n",
       "      <td>2022-01-09</td>\n",
       "      <td>CA</td>\n",
       "      <td>Video_B</td>\n",
       "      <td>9000</td>\n",
       "      <td>900</td>\n",
       "    </tr>\n",
       "    <tr>\n",
       "      <th>10</th>\n",
       "      <td>2022-01-10</td>\n",
       "      <td>US</td>\n",
       "      <td>Video_B</td>\n",
       "      <td>1000</td>\n",
       "      <td>901</td>\n",
       "    </tr>\n",
       "  </tbody>\n",
       "</table>\n",
       "</div>"
      ],
      "text/plain": [
       "         date country    video  views  likes\n",
       "0  2022-01-01      US  Video_A   1000      1\n",
       "1  2022-01-01      CA  Video_B   1000    100\n",
       "2  2022-01-02      CA  Video_B   2000    200\n",
       "3  2022-01-03      CA  Video_B   3000    300\n",
       "4  2022-01-04      CA  Video_B   4000    400\n",
       "5  2022-01-05      CA  Video_B   5000    500\n",
       "6  2022-01-06      CA  Video_B   6000    600\n",
       "7  2022-01-07      CA  Video_B   7000    700\n",
       "8  2022-01-08      CA  Video_B   8000    800\n",
       "9  2022-01-09      CA  Video_B   9000    900\n",
       "10 2022-01-10      US  Video_B   1000    901"
      ]
     },
     "execution_count": 2,
     "metadata": {},
     "output_type": "execute_result"
    }
   ],
   "source": [
    "df = pd.read_csv('data2.csv', \n",
    "                 parse_dates=['date'],\n",
    "                 dayfirst=True,\n",
    "                )\n",
    "df"
   ]
  },
  {
   "cell_type": "markdown",
   "id": "3bc2facc",
   "metadata": {},
   "source": [
    "**In this dataset, the video in the last 10 lines for the US has 1000 views, although the same video for Canada on the previous day had 9000 views.\n",
    "Therefore, the views are divided by country. So we can keep the same video for different countries.**"
   ]
  },
  {
   "cell_type": "code",
   "execution_count": 3,
   "id": "0872e8d8",
   "metadata": {
    "ExecuteTime": {
     "end_time": "2022-05-13T13:27:09.370405Z",
     "start_time": "2022-05-13T13:27:09.345018Z"
    }
   },
   "outputs": [
    {
     "data": {
      "text/html": [
       "<div>\n",
       "<style scoped>\n",
       "    .dataframe tbody tr th:only-of-type {\n",
       "        vertical-align: middle;\n",
       "    }\n",
       "\n",
       "    .dataframe tbody tr th {\n",
       "        vertical-align: top;\n",
       "    }\n",
       "\n",
       "    .dataframe thead th {\n",
       "        text-align: right;\n",
       "    }\n",
       "</style>\n",
       "<table border=\"1\" class=\"dataframe\">\n",
       "  <thead>\n",
       "    <tr style=\"text-align: right;\">\n",
       "      <th></th>\n",
       "      <th>date</th>\n",
       "      <th>country</th>\n",
       "      <th>video</th>\n",
       "      <th>views</th>\n",
       "      <th>likes</th>\n",
       "    </tr>\n",
       "  </thead>\n",
       "  <tbody>\n",
       "    <tr>\n",
       "      <th>0</th>\n",
       "      <td>2022-01-01</td>\n",
       "      <td>US</td>\n",
       "      <td>Video_A</td>\n",
       "      <td>1000</td>\n",
       "      <td>1</td>\n",
       "    </tr>\n",
       "    <tr>\n",
       "      <th>9</th>\n",
       "      <td>2022-01-09</td>\n",
       "      <td>CA</td>\n",
       "      <td>Video_B</td>\n",
       "      <td>9000</td>\n",
       "      <td>900</td>\n",
       "    </tr>\n",
       "    <tr>\n",
       "      <th>10</th>\n",
       "      <td>2022-01-10</td>\n",
       "      <td>US</td>\n",
       "      <td>Video_B</td>\n",
       "      <td>1000</td>\n",
       "      <td>901</td>\n",
       "    </tr>\n",
       "  </tbody>\n",
       "</table>\n",
       "</div>"
      ],
      "text/plain": [
       "         date country    video  views  likes\n",
       "0  2022-01-01      US  Video_A   1000      1\n",
       "9  2022-01-09      CA  Video_B   9000    900\n",
       "10 2022-01-10      US  Video_B   1000    901"
      ]
     },
     "execution_count": 3,
     "metadata": {},
     "output_type": "execute_result"
    }
   ],
   "source": [
    "df_last = df.drop_duplicates(subset=['country', 'video'], keep='last')\n",
    "df_last"
   ]
  },
  {
   "cell_type": "markdown",
   "id": "b6cde084",
   "metadata": {},
   "source": [
    "**Summing up the likes and views by country**"
   ]
  },
  {
   "cell_type": "code",
   "execution_count": 4,
   "id": "9d4b45dc",
   "metadata": {
    "ExecuteTime": {
     "end_time": "2022-05-13T13:27:09.385668Z",
     "start_time": "2022-05-13T13:27:09.374251Z"
    }
   },
   "outputs": [
    {
     "data": {
      "text/html": [
       "<div>\n",
       "<style scoped>\n",
       "    .dataframe tbody tr th:only-of-type {\n",
       "        vertical-align: middle;\n",
       "    }\n",
       "\n",
       "    .dataframe tbody tr th {\n",
       "        vertical-align: top;\n",
       "    }\n",
       "\n",
       "    .dataframe thead th {\n",
       "        text-align: right;\n",
       "    }\n",
       "</style>\n",
       "<table border=\"1\" class=\"dataframe\">\n",
       "  <thead>\n",
       "    <tr style=\"text-align: right;\">\n",
       "      <th></th>\n",
       "      <th>views</th>\n",
       "      <th>likes</th>\n",
       "    </tr>\n",
       "    <tr>\n",
       "      <th>country</th>\n",
       "      <th></th>\n",
       "      <th></th>\n",
       "    </tr>\n",
       "  </thead>\n",
       "  <tbody>\n",
       "    <tr>\n",
       "      <th>CA</th>\n",
       "      <td>9000</td>\n",
       "      <td>900</td>\n",
       "    </tr>\n",
       "    <tr>\n",
       "      <th>US</th>\n",
       "      <td>2000</td>\n",
       "      <td>902</td>\n",
       "    </tr>\n",
       "  </tbody>\n",
       "</table>\n",
       "</div>"
      ],
      "text/plain": [
       "         views  likes\n",
       "country              \n",
       "CA        9000    900\n",
       "US        2000    902"
      ]
     },
     "execution_count": 4,
     "metadata": {},
     "output_type": "execute_result"
    }
   ],
   "source": [
    "df_group = df_last.groupby(by=['country']).agg('sum')\n",
    "df_group"
   ]
  },
  {
   "cell_type": "markdown",
   "id": "e0ff989d",
   "metadata": {},
   "source": [
    "**Calculate the ratio of likes to views by country.**"
   ]
  },
  {
   "cell_type": "code",
   "execution_count": 5,
   "id": "10f2793a",
   "metadata": {
    "ExecuteTime": {
     "end_time": "2022-05-13T13:27:09.401549Z",
     "start_time": "2022-05-13T13:27:09.386575Z"
    }
   },
   "outputs": [
    {
     "data": {
      "text/html": [
       "<div>\n",
       "<style scoped>\n",
       "    .dataframe tbody tr th:only-of-type {\n",
       "        vertical-align: middle;\n",
       "    }\n",
       "\n",
       "    .dataframe tbody tr th {\n",
       "        vertical-align: top;\n",
       "    }\n",
       "\n",
       "    .dataframe thead th {\n",
       "        text-align: right;\n",
       "    }\n",
       "</style>\n",
       "<table border=\"1\" class=\"dataframe\">\n",
       "  <thead>\n",
       "    <tr style=\"text-align: right;\">\n",
       "      <th></th>\n",
       "      <th>views</th>\n",
       "      <th>likes</th>\n",
       "      <th>like / view</th>\n",
       "    </tr>\n",
       "    <tr>\n",
       "      <th>country</th>\n",
       "      <th></th>\n",
       "      <th></th>\n",
       "      <th></th>\n",
       "    </tr>\n",
       "  </thead>\n",
       "  <tbody>\n",
       "    <tr>\n",
       "      <th>CA</th>\n",
       "      <td>9000</td>\n",
       "      <td>900</td>\n",
       "      <td>0.100</td>\n",
       "    </tr>\n",
       "    <tr>\n",
       "      <th>US</th>\n",
       "      <td>2000</td>\n",
       "      <td>902</td>\n",
       "      <td>0.451</td>\n",
       "    </tr>\n",
       "  </tbody>\n",
       "</table>\n",
       "</div>"
      ],
      "text/plain": [
       "         views  likes  like / view\n",
       "country                           \n",
       "CA        9000    900        0.100\n",
       "US        2000    902        0.451"
      ]
     },
     "execution_count": 5,
     "metadata": {},
     "output_type": "execute_result"
    }
   ],
   "source": [
    "df_group['like / view'] = df_group['likes'] / df_group['views']\n",
    "df_group"
   ]
  },
  {
   "cell_type": "code",
   "execution_count": null,
   "id": "d8b3b274",
   "metadata": {},
   "outputs": [],
   "source": []
  }
 ],
 "metadata": {
  "kernelspec": {
   "display_name": "Python 3 (ipykernel)",
   "language": "python",
   "name": "python3"
  },
  "language_info": {
   "codemirror_mode": {
    "name": "ipython",
    "version": 3
   },
   "file_extension": ".py",
   "mimetype": "text/x-python",
   "name": "python",
   "nbconvert_exporter": "python",
   "pygments_lexer": "ipython3",
   "version": "3.9.7"
  },
  "toc": {
   "base_numbering": 1,
   "nav_menu": {},
   "number_sections": false,
   "sideBar": true,
   "skip_h1_title": true,
   "title_cell": "Table of Contents",
   "title_sidebar": "Contents",
   "toc_cell": false,
   "toc_position": {},
   "toc_section_display": true,
   "toc_window_display": false
  },
  "varInspector": {
   "cols": {
    "lenName": 16,
    "lenType": 16,
    "lenVar": 40
   },
   "kernels_config": {
    "python": {
     "delete_cmd_postfix": "",
     "delete_cmd_prefix": "del ",
     "library": "var_list.py",
     "varRefreshCmd": "print(var_dic_list())"
    },
    "r": {
     "delete_cmd_postfix": ") ",
     "delete_cmd_prefix": "rm(",
     "library": "var_list.r",
     "varRefreshCmd": "cat(var_dic_list()) "
    }
   },
   "types_to_exclude": [
    "module",
    "function",
    "builtin_function_or_method",
    "instance",
    "_Feature"
   ],
   "window_display": false
  }
 },
 "nbformat": 4,
 "nbformat_minor": 5
}
