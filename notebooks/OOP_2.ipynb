{
 "cells": [
  {
   "cell_type": "markdown",
   "metadata": {},
   "source": [
    "---\n",
    "Рабочие материалы по курсу \"ООП на Python от egoroff_channel\"\n",
    "\n",
    "Часть 2\n",
    "  \n",
    "https://stepik.org/course/72969\n",
    "\n",
    "Канал: https://www.youtube.com/channel/UCMcC_43zGHttf9bY-xJOTwA\n",
    " \n",
    "---"
   ]
  },
  {
   "cell_type": "markdown",
   "metadata": {},
   "source": [
    "# Магические методы. Double underscore (dunder) methods\n",
    "\n",
    "## Магические методы. Методы `__str__` и `__repr__`\n",
    "\n",
    "Магический метод - это специальный метод который начинается и заканчивается 2-мя нижними подчёркиваниями. Называется - дандер методы. Их особенность в том что у каждого есть определённый функционали и они вызываются автоматически в определённый момент времени. Например метод `__init__` вызывается сразу после создания объекта. Он отвечает за инициализацию. \n",
    "\n",
    "Оба метода `__str__` и `__repr__` отвечают за текстовое отображение объекта в системе.\n",
    "- `__repr__` отвечает за то как он отображаетсяв системе, т.е. то, как его видят разработчики.\n",
    "- `__str__` отвечает за то как объект будет отображён в случае если к нему применить такие функции как `__str__` или `print`. Т.е. `__str__` отвечает за то, как увидят объект пользователи.\n",
    "\n",
    "Посмотрим как будут отображаться львы внутри системы если оба этих метода будут необъявленными. Такая информация тяжело воспринимается. То же самое мы получим воспользовавшись функцией принт или str."
   ]
  },
  {
   "cell_type": "code",
   "execution_count": 20,
   "metadata": {},
   "outputs": [
    {
     "data": {
      "text/plain": [
       "<__main__.Lion at 0x24301467288>"
      ]
     },
     "execution_count": 20,
     "metadata": {},
     "output_type": "execute_result"
    }
   ],
   "source": [
    "class Lion:\n",
    "    def __init__(self, name):\n",
    "        self.name = name\n",
    "        \n",
    "q = Lion('Bob')\n",
    "q"
   ]
  },
  {
   "cell_type": "code",
   "execution_count": 21,
   "metadata": {},
   "outputs": [
    {
     "name": "stdout",
     "output_type": "stream",
     "text": [
      "<__main__.Lion object at 0x0000024301467288>\n"
     ]
    },
    {
     "data": {
      "text/plain": [
       "'<__main__.Lion object at 0x0000024301467288>'"
      ]
     },
     "execution_count": 21,
     "metadata": {},
     "output_type": "execute_result"
    }
   ],
   "source": [
    "print(q)\n",
    "str(q)"
   ]
  },
  {
   "cell_type": "markdown",
   "metadata": {},
   "source": [
    "Чтобы сделать вывод более понятным помогают эти 2 метода. Добавив repr переменная s уже отображается совершенно в другом виде. А также проставилось имя. "
   ]
  },
  {
   "cell_type": "code",
   "execution_count": 22,
   "metadata": {},
   "outputs": [
    {
     "data": {
      "text/plain": [
       "The object Lion - Simba"
      ]
     },
     "execution_count": 22,
     "metadata": {},
     "output_type": "execute_result"
    }
   ],
   "source": [
    "class Lion:\n",
    "    def __init__(self, name):\n",
    "        self.name = name\n",
    "        \n",
    "    def __repr__(self):\n",
    "        return f'The object Lion - {self.name}'\n",
    "    \n",
    "s = Lion('Simba')\n",
    "s"
   ]
  },
  {
   "cell_type": "markdown",
   "metadata": {},
   "source": [
    "Добавим метод для пользователей str. Теперь когда обращаемся к объекту напрямую - срабатывает repr. А если вызываем через print или str - срабатывает метод str. "
   ]
  },
  {
   "cell_type": "code",
   "execution_count": 24,
   "metadata": {},
   "outputs": [
    {
     "name": "stdout",
     "output_type": "stream",
     "text": [
      "Lion - Vasya\n"
     ]
    },
    {
     "data": {
      "text/plain": [
       "The object Lion - Vasya"
      ]
     },
     "execution_count": 24,
     "metadata": {},
     "output_type": "execute_result"
    }
   ],
   "source": [
    "class Lion:\n",
    "    def __init__(self, name):\n",
    "        self.name = name\n",
    "        \n",
    "    def __repr__(self):\n",
    "        return f'The object Lion - {self.name}'\n",
    "    \n",
    "    def __str__(self):\n",
    "        return f'Lion - {self.name}'\n",
    "    \n",
    "w = Lion('Vasya')\n",
    "print(w)\n",
    "str(w)\n",
    "w"
   ]
  },
  {
   "cell_type": "markdown",
   "metadata": {},
   "source": [
    "**Задача 1**\n",
    "\n",
    "Создайте класс Person, у которого есть:\n",
    "\n",
    "1. конструктор `__init__`, принимающий 3 аргумента: name, surname, gender. Атрибут gender может принимать только 2 значения: \"male\" и \"female\", по умолчанию \"male\". Если в атрибут gender передается любое другое значение, печатать сообщение: \"Не знаю, что вы имели ввиду? Пусть это будет мальчик!\"\n",
    "2. переопределить метод `__str__` следующим образом: \n",
    " - если объект - мужчина (атрибут gender = \"male\"), возвращать строку \"Гражданин <Фамилия> <Имя>\n",
    " - если объект - женщина (атрибут gender = \"female\"), возвращать строку \"Гражданка <Фамилия> <Имя>\n",
    "\n",
    "``` python\n",
    "p1 = Person('Chuck', 'Norris')\n",
    "print(p1) # печатает \"Гражданин Norris Chuck\"\n",
    "p2 = Person('Mila', 'Kunis', 'female')\n",
    "print(p2) # печатает \"Гражданка Kunis Mila\"\n",
    "```"
   ]
  },
  {
   "cell_type": "code",
   "execution_count": 49,
   "metadata": {},
   "outputs": [
    {
     "name": "stdout",
     "output_type": "stream",
     "text": [
      "Гражданин Norris Chuck\n",
      "Гражданка Kunis Mila\n"
     ]
    }
   ],
   "source": [
    "class Person:\n",
    "    def __init__(self, name, surname, gender='male'):\n",
    "        self.name = name\n",
    "        self.surname = surname\n",
    "        if gender not in ('male', 'female'):\n",
    "            print(\"Не знаю, что вы имели ввиду? Пусть это будет мальчик!\")\n",
    "            self.gender = 'male'\n",
    "        else:\n",
    "            self.gender = gender\n",
    "        \n",
    "    def __str__(self):\n",
    "        if self.gender == 'male':\n",
    "            return f'Гражданин {self.surname} {self.name}'\n",
    "        else:\n",
    "            return f'Гражданка {self.surname} {self.name}'\n",
    "        \n",
    "p1 = Person('Chuck', 'Norris')\n",
    "print(p1) # печатает \"Гражданин Norris Chuck\"\n",
    "p2 = Person('Mila', 'Kunis', 'female')\n",
    "print(p2) # печатает \"Гражданка Kunis Mila\""
   ]
  },
  {
   "cell_type": "markdown",
   "metadata": {},
   "source": [
    "**Задача 2**\n",
    "\n",
    "Создайте класс Vector, который хранит в себе вектор целых чисел.  У класса Vector есть:\n",
    "\n",
    "1. конструктор `__init__`, принимающий произвольное количество аргументов. Среди всех переданных аргументов необходимо оставить только целые числа и сохранить их в атрибут values в виде списка;\n",
    "2. переопределить метод `__str__` так, чтобы экземпляр класса Vector выводился следующим образом: \n",
    " - \"Вектор(<value1>, <value2>, <value3>, ...)\", если вектор не пустой. При этом значения должны быть упорядочены по возрастанию;\n",
    " - \"Пустой вектор\", если наш вектор не хранит в себе значения\n",
    "\n",
    "``` python\n",
    "v1 = Vector(1,2,3)\n",
    "print(v1) # печатает \"Вектор(1, 2, 3)\"\n",
    "v2 = Vector()\n",
    "print(v2) # печатает \"Пустой вектор\"\n",
    "```"
   ]
  },
  {
   "cell_type": "code",
   "execution_count": 83,
   "metadata": {},
   "outputs": [
    {
     "name": "stdout",
     "output_type": "stream",
     "text": [
      "Вектор(1, 2, 3)\n",
      "Пустой вектор\n",
      "Вектор(3, 4, 5)\n"
     ]
    }
   ],
   "source": [
    "class Vector:\n",
    "    def __init__(self, *args):\n",
    "        args_list = []\n",
    "        for arg in args:\n",
    "            if isinstance(arg, int):\n",
    "                args_list.append(arg)\n",
    "        self.values = args_list\n",
    "    \n",
    "    def __str__(self):\n",
    "        if len(self.values) > 0:\n",
    "            self.values.sort()\n",
    "            self.values = tuple(self.values)\n",
    "            return f'Вектор{\"\".join(str(self.values))}'\n",
    "        else:\n",
    "            return 'Пустой вектор'\n",
    "\n",
    "v1 = Vector(1,2,3)\n",
    "print(v1) # печатает \"Вектор(1, 2, 3)\"\n",
    "v2 = Vector()\n",
    "print(v2) # печатает \"Пустой вектор\"\n",
    "v3 = Vector(5, 3, 4)\n",
    "print(v3) # печатает \"Вектор(1, 2, 3)\""
   ]
  },
  {
   "cell_type": "markdown",
   "metadata": {},
   "source": [
    "## Магические методы `__len__` и `__abs__`\n",
    "\n",
    "В питоне - всё объект. Не все объекты поддерживают функцию len и abs."
   ]
  },
  {
   "cell_type": "code",
   "execution_count": 1,
   "metadata": {},
   "outputs": [
    {
     "name": "stdout",
     "output_type": "stream",
     "text": [
      "6\n"
     ]
    },
    {
     "ename": "TypeError",
     "evalue": "object of type 'int' has no len()",
     "output_type": "error",
     "traceback": [
      "\u001b[1;31m---------------------------------------------------------------------------\u001b[0m",
      "\u001b[1;31mTypeError\u001b[0m                                 Traceback (most recent call last)",
      "\u001b[1;32m<ipython-input-1-0edd13d404e0>\u001b[0m in \u001b[0;36m<module>\u001b[1;34m\u001b[0m\n\u001b[0;32m      1\u001b[0m \u001b[0mprint\u001b[0m\u001b[1;33m(\u001b[0m\u001b[0mlen\u001b[0m\u001b[1;33m(\u001b[0m\u001b[1;34m'jdkfhf'\u001b[0m\u001b[1;33m)\u001b[0m\u001b[1;33m)\u001b[0m\u001b[1;33m\u001b[0m\u001b[1;33m\u001b[0m\u001b[0m\n\u001b[1;32m----> 2\u001b[1;33m \u001b[0mprint\u001b[0m\u001b[1;33m(\u001b[0m\u001b[0mlen\u001b[0m\u001b[1;33m(\u001b[0m\u001b[1;36m78\u001b[0m\u001b[1;33m)\u001b[0m\u001b[1;33m)\u001b[0m\u001b[1;33m\u001b[0m\u001b[1;33m\u001b[0m\u001b[0m\n\u001b[0m",
      "\u001b[1;31mTypeError\u001b[0m: object of type 'int' has no len()"
     ]
    }
   ],
   "source": [
    "print(len('jdkfhf'))\n",
    "print(len(78))"
   ]
  },
  {
   "cell_type": "code",
   "execution_count": 2,
   "metadata": {},
   "outputs": [
    {
     "name": "stdout",
     "output_type": "stream",
     "text": [
      "45.8\n"
     ]
    },
    {
     "ename": "TypeError",
     "evalue": "bad operand type for abs(): 'str'",
     "output_type": "error",
     "traceback": [
      "\u001b[1;31m---------------------------------------------------------------------------\u001b[0m",
      "\u001b[1;31mTypeError\u001b[0m                                 Traceback (most recent call last)",
      "\u001b[1;32m<ipython-input-2-2aa9368c3977>\u001b[0m in \u001b[0;36m<module>\u001b[1;34m\u001b[0m\n\u001b[0;32m      1\u001b[0m \u001b[0mprint\u001b[0m\u001b[1;33m(\u001b[0m\u001b[0mabs\u001b[0m\u001b[1;33m(\u001b[0m\u001b[1;33m-\u001b[0m\u001b[1;36m45.8\u001b[0m\u001b[1;33m)\u001b[0m\u001b[1;33m)\u001b[0m\u001b[1;33m\u001b[0m\u001b[1;33m\u001b[0m\u001b[0m\n\u001b[1;32m----> 2\u001b[1;33m \u001b[0mprint\u001b[0m\u001b[1;33m(\u001b[0m\u001b[0mabs\u001b[0m\u001b[1;33m(\u001b[0m\u001b[1;34m'hf'\u001b[0m\u001b[1;33m)\u001b[0m\u001b[1;33m)\u001b[0m\u001b[1;33m\u001b[0m\u001b[1;33m\u001b[0m\u001b[0m\n\u001b[0m",
      "\u001b[1;31mTypeError\u001b[0m: bad operand type for abs(): 'str'"
     ]
    }
   ],
   "source": [
    "print(abs(-45.8))\n",
    "print(abs('hf'))"
   ]
  },
  {
   "cell_type": "markdown",
   "metadata": {},
   "source": [
    "Это происходит потому что у стрк в реализации есть магический метод len, а у чисел - нет. И наоборот."
   ]
  },
  {
   "cell_type": "code",
   "execution_count": 3,
   "metadata": {},
   "outputs": [
    {
     "data": {
      "text/plain": [
       "3"
      ]
     },
     "execution_count": 3,
     "metadata": {},
     "output_type": "execute_result"
    }
   ],
   "source": [
    "'ret'.__len__()"
   ]
  },
  {
   "cell_type": "code",
   "execution_count": 6,
   "metadata": {},
   "outputs": [
    {
     "data": {
      "text/plain": [
       "78"
      ]
     },
     "execution_count": 6,
     "metadata": {},
     "output_type": "execute_result"
    }
   ],
   "source": [
    "# нужно оборачивать в скобки потому что питон относит точку к 78\n",
    "(78).__abs__()"
   ]
  },
  {
   "cell_type": "markdown",
   "metadata": {},
   "source": [
    "И мы хотим чтобы у класс было такое же поведение."
   ]
  },
  {
   "cell_type": "code",
   "execution_count": 7,
   "metadata": {},
   "outputs": [
    {
     "ename": "TypeError",
     "evalue": "object of type 'Person' has no len()",
     "output_type": "error",
     "traceback": [
      "\u001b[1;31m---------------------------------------------------------------------------\u001b[0m",
      "\u001b[1;31mTypeError\u001b[0m                                 Traceback (most recent call last)",
      "\u001b[1;32m<ipython-input-7-9250a8789c7e>\u001b[0m in \u001b[0;36m<module>\u001b[1;34m\u001b[0m\n\u001b[0;32m      5\u001b[0m \u001b[1;33m\u001b[0m\u001b[0m\n\u001b[0;32m      6\u001b[0m \u001b[0ma\u001b[0m \u001b[1;33m=\u001b[0m \u001b[0mPerson\u001b[0m\u001b[1;33m(\u001b[0m\u001b[1;34m'fdf'\u001b[0m\u001b[1;33m,\u001b[0m \u001b[1;34m'rew'\u001b[0m\u001b[1;33m)\u001b[0m\u001b[1;33m\u001b[0m\u001b[1;33m\u001b[0m\u001b[0m\n\u001b[1;32m----> 7\u001b[1;33m \u001b[0mlen\u001b[0m\u001b[1;33m(\u001b[0m\u001b[0ma\u001b[0m\u001b[1;33m)\u001b[0m\u001b[1;33m\u001b[0m\u001b[1;33m\u001b[0m\u001b[0m\n\u001b[0m",
      "\u001b[1;31mTypeError\u001b[0m: object of type 'Person' has no len()"
     ]
    }
   ],
   "source": [
    "class Person:\n",
    "    def __init__(self, name, surname):\n",
    "        self.name = name\n",
    "        self.surname = surname\n",
    "        \n",
    "a = Person('fdf', 'rew')\n",
    "len(a)"
   ]
  },
  {
   "cell_type": "markdown",
   "metadata": {},
   "source": [
    "Определим функию len внутри класса:"
   ]
  },
  {
   "cell_type": "code",
   "execution_count": 8,
   "metadata": {},
   "outputs": [
    {
     "data": {
      "text/plain": [
       "6"
      ]
     },
     "execution_count": 8,
     "metadata": {},
     "output_type": "execute_result"
    }
   ],
   "source": [
    "class Person:\n",
    "    def __init__(self, name, surname):\n",
    "        self.name = name\n",
    "        self.surname = surname\n",
    "        \n",
    "    def __len__(self):\n",
    "        return len(self.name + self.surname)\n",
    "        \n",
    "b = Person('fdf', 'rew')\n",
    "len(b)"
   ]
  },
  {
   "cell_type": "markdown",
   "metadata": {},
   "source": [
    "Реализуем метод abs"
   ]
  },
  {
   "cell_type": "code",
   "execution_count": 11,
   "metadata": {},
   "outputs": [
    {
     "data": {
      "text/plain": [
       "4"
      ]
     },
     "execution_count": 11,
     "metadata": {},
     "output_type": "execute_result"
    }
   ],
   "source": [
    "class Otrezok:\n",
    "    def __init__(self, point1, point2):\n",
    "        self.x1 = point1\n",
    "        self.x2 = point2\n",
    "    \n",
    "    # реалиуем нахождение длины отрезка\n",
    "    def __len__(self):\n",
    "        return self.x2 - self.x1\n",
    "\n",
    "t = Otrezok(5, 9)\n",
    "len(t)"
   ]
  },
  {
   "cell_type": "markdown",
   "metadata": {},
   "source": [
    "Но если первая точка больше второй, то получается отрицательная длина:"
   ]
  },
  {
   "cell_type": "code",
   "execution_count": 12,
   "metadata": {},
   "outputs": [
    {
     "ename": "ValueError",
     "evalue": "__len__() should return >= 0",
     "output_type": "error",
     "traceback": [
      "\u001b[1;31m---------------------------------------------------------------------------\u001b[0m",
      "\u001b[1;31mValueError\u001b[0m                                Traceback (most recent call last)",
      "\u001b[1;32m<ipython-input-12-45430c428f33>\u001b[0m in \u001b[0;36m<module>\u001b[1;34m\u001b[0m\n\u001b[0;32m      9\u001b[0m \u001b[1;33m\u001b[0m\u001b[0m\n\u001b[0;32m     10\u001b[0m \u001b[0mt\u001b[0m \u001b[1;33m=\u001b[0m \u001b[0mOtrezok\u001b[0m\u001b[1;33m(\u001b[0m\u001b[1;36m10\u001b[0m\u001b[1;33m,\u001b[0m \u001b[1;36m9\u001b[0m\u001b[1;33m)\u001b[0m\u001b[1;33m\u001b[0m\u001b[1;33m\u001b[0m\u001b[0m\n\u001b[1;32m---> 11\u001b[1;33m \u001b[0mlen\u001b[0m\u001b[1;33m(\u001b[0m\u001b[0mt\u001b[0m\u001b[1;33m)\u001b[0m\u001b[1;33m\u001b[0m\u001b[1;33m\u001b[0m\u001b[0m\n\u001b[0m",
      "\u001b[1;31mValueError\u001b[0m: __len__() should return >= 0"
     ]
    }
   ],
   "source": [
    "class Otrezok:\n",
    "    def __init__(self, point1, point2):\n",
    "        self.x1 = point1\n",
    "        self.x2 = point2\n",
    "    \n",
    "    # реалиуем нахождение длины отрезка\n",
    "    def __len__(self):\n",
    "        return self.x2 - self.x1\n",
    "\n",
    "t = Otrezok(10, 9)\n",
    "len(t)"
   ]
  },
  {
   "cell_type": "markdown",
   "metadata": {},
   "source": [
    "Чтобы избавиться от минуса используем функцию abs."
   ]
  },
  {
   "cell_type": "code",
   "execution_count": 14,
   "metadata": {},
   "outputs": [
    {
     "name": "stdout",
     "output_type": "stream",
     "text": [
      "1\n",
      "1\n"
     ]
    }
   ],
   "source": [
    "class Otrezok:\n",
    "    def __init__(self, point1, point2):\n",
    "        self.x1 = point1\n",
    "        self.x2 = point2\n",
    "    \n",
    "    # реалиуем нахождение длины отрезка\n",
    "    def __len__(self):\n",
    "        return abs(self) # эта запись воспринимается питоном как self.__abs__()\n",
    "\n",
    "    def __abs__(self):\n",
    "        return abs(self.x2 - self.x1)\n",
    "    \n",
    "q = Otrezok(10, 9)\n",
    "print(len(q))\n",
    "w = Otrezok(9, 10)\n",
    "print(len(w))"
   ]
  },
  {
   "cell_type": "markdown",
   "metadata": {},
   "source": [
    "Когда пишешь abs(self.x2 - self.x1), то метод _abs_ будет вызываться у числа, а здесь показано, что один магический метод может вызывать другой."
   ]
  },
  {
   "cell_type": "markdown",
   "metadata": {},
   "source": [
    "## Магические методы `__add__`, `__mul__`, `__sub__` и `__truediv__`\n",
    "\n",
    "https://www.youtube.com/watch?v=o1fUy3mnEQE"
   ]
  },
  {
   "cell_type": "code",
   "execution_count": 17,
   "metadata": {},
   "outputs": [
    {
     "name": "stdout",
     "output_type": "stream",
     "text": [
      "__add__ call\n"
     ]
    },
    {
     "data": {
      "text/plain": [
       "912"
      ]
     },
     "execution_count": 17,
     "metadata": {},
     "output_type": "execute_result"
    }
   ],
   "source": [
    "class BankAccount:\n",
    "\n",
    "    def __init__(self, name, balance):\n",
    "        self.name = name\n",
    "        self.balance = balance\n",
    "    \n",
    "    def __add__(self, other):\n",
    "        print('__add__ call')\n",
    "        if isinstance(other, BankAccount):\n",
    "            return self.balance + other.balance\n",
    "        if isinstance(other, (int, float)):\n",
    "            return self.balance + other\n",
    "        raise NotImplemented\n",
    "        \n",
    "    def __radd__(self, other):\n",
    "        print('__radd__ call')\n",
    "        return self + other\n",
    "    \n",
    "t = BankAccount('Tod', 900)\n",
    "t + 12"
   ]
  },
  {
   "cell_type": "code",
   "execution_count": 18,
   "metadata": {},
   "outputs": [
    {
     "name": "stdout",
     "output_type": "stream",
     "text": [
      "__radd__ call\n",
      "__add__ call\n"
     ]
    },
    {
     "data": {
      "text/plain": [
       "912"
      ]
     },
     "execution_count": 18,
     "metadata": {},
     "output_type": "execute_result"
    }
   ],
   "source": [
    "12 + t"
   ]
  },
  {
   "cell_type": "markdown",
   "metadata": {},
   "source": [
    "Реализуем умножение"
   ]
  },
  {
   "cell_type": "code",
   "execution_count": 19,
   "metadata": {},
   "outputs": [
    {
     "name": "stdout",
     "output_type": "stream",
     "text": [
      "__mul__ call\n"
     ]
    },
    {
     "data": {
      "text/plain": [
       "2700"
      ]
     },
     "execution_count": 19,
     "metadata": {},
     "output_type": "execute_result"
    }
   ],
   "source": [
    "class BankAccount:\n",
    "\n",
    "    def __init__(self, name, balance):\n",
    "        self.name = name\n",
    "        self.balance = balance\n",
    "    \n",
    "    def __add__(self, other):\n",
    "        print('__add__ call')\n",
    "        if isinstance(other, BankAccount):\n",
    "            return self.balance + other.balance\n",
    "        if isinstance(other, (int, float)):\n",
    "            return self.balance + other\n",
    "        raise NotImplemented\n",
    "    \n",
    "    def __mul__(self, other):\n",
    "        print('__mul__ call')\n",
    "        if isinstance(other, BankAccount):\n",
    "            return self.balance * other.balance\n",
    "        if isinstance(other, (int, float)):\n",
    "            return self.balance * other\n",
    "        if isinstance(other, str):\n",
    "            return self.name + other\n",
    "        raise NotImplemented\n",
    "    \n",
    "    def __radd__(self, other):\n",
    "        print('__radd__ call')\n",
    "        return self + other\n",
    "    \n",
    "r = BankAccount('Tod', 900)\n",
    "r * 3"
   ]
  },
  {
   "cell_type": "code",
   "execution_count": 20,
   "metadata": {},
   "outputs": [
    {
     "name": "stdout",
     "output_type": "stream",
     "text": [
      "__mul__ call\n"
     ]
    },
    {
     "data": {
      "text/plain": [
       "'Todttt'"
      ]
     },
     "execution_count": 20,
     "metadata": {},
     "output_type": "execute_result"
    }
   ],
   "source": [
    "r * 'ttt'"
   ]
  },
  {
   "cell_type": "markdown",
   "metadata": {},
   "source": [
    "Т.е. с помощью магичских методов мы може реализовать поведение того, как ы хотим складывать наши объекты."
   ]
  },
  {
   "cell_type": "code",
   "execution_count": 60,
   "metadata": {},
   "outputs": [
    {
     "name": "stdout",
     "output_type": "stream",
     "text": [
      "new_obj init\n"
     ]
    },
    {
     "data": {
      "text/plain": [
       "2788146579080"
      ]
     },
     "execution_count": 60,
     "metadata": {},
     "output_type": "execute_result"
    }
   ],
   "source": [
    "class BankAccount:\n",
    "\n",
    "    def __init__(self, name, balance):\n",
    "        print('new_obj init')\n",
    "        self.name = name\n",
    "        self.balance = balance\n",
    "    \n",
    "    def __repr__(self):\n",
    "        return f'Клиент {self.name} с балансом {self.balance}'\n",
    "    \n",
    "    def __add__(self, other):\n",
    "        print('__add__ call')\n",
    "        if isinstance(other, BankAccount):\n",
    "            return self.balance + other.balance\n",
    "        if isinstance(other, (int, float)):\n",
    "            return BankAccount(self.name, self.balance + other)\n",
    "        raise NotImplemented\n",
    "\n",
    "t = BankAccount('Tod', 900)\n",
    "id(t)"
   ]
  },
  {
   "cell_type": "code",
   "execution_count": 61,
   "metadata": {},
   "outputs": [
    {
     "name": "stdout",
     "output_type": "stream",
     "text": [
      "__add__ call\n",
      "new_obj init\n"
     ]
    },
    {
     "data": {
      "text/plain": [
       "Клиент Tod с балансом 930"
      ]
     },
     "execution_count": 61,
     "metadata": {},
     "output_type": "execute_result"
    }
   ],
   "source": [
    "t + 30"
   ]
  },
  {
   "cell_type": "code",
   "execution_count": 25,
   "metadata": {},
   "outputs": [
    {
     "name": "stdout",
     "output_type": "stream",
     "text": [
      "__add__ call\n",
      "new_obj init\n"
     ]
    },
    {
     "data": {
      "text/plain": [
       "Клиент Tod с балансом 940"
      ]
     },
     "execution_count": 25,
     "metadata": {},
     "output_type": "execute_result"
    }
   ],
   "source": [
    "d = t + 40\n",
    "d"
   ]
  },
  {
   "cell_type": "code",
   "execution_count": 26,
   "metadata": {},
   "outputs": [
    {
     "data": {
      "text/plain": [
       "2788146319880"
      ]
     },
     "execution_count": 26,
     "metadata": {},
     "output_type": "execute_result"
    }
   ],
   "source": [
    "id(d)"
   ]
  },
  {
   "cell_type": "markdown",
   "metadata": {},
   "source": [
    "**Задача**\n",
    "\n",
    "Вспомним нашего приятеля с предыдущих уроков: класс Vector. \n",
    "\n",
    "Ваша задача создать класс Vector, который хранит в себе вектор целых чисел.  У класса Vector есть:\n",
    "\n",
    "1. конструктор `__init__`, принимающий произвольное количество аргументов. Среди всех переданных аргументов необходимо оставить только целые числа и сохранить их в атрибут values в виде списка. Причем значения должны хранится в порядке неубывания; \n",
    "2. переопределить метод `__str__` так, чтобы экземпляр класса Vector выводился следующим образом: \n",
    " - \"Вектор(<value1>, <value2>, <value3>, ...)\", если вектор не пустой. При этом значения должны быть упорядочены по возрастанию;\n",
    " - \"Пустой вектор\", если наш вектор не хранит в себе значения\n",
    "3. переопределить метод `__add__` так, чтобы экземпляр класса Vector мог складываться\n",
    " - с целым числом, в результате должен получиться новый Vector, у которого каждый элемент атрибута values увеличен на число\n",
    " - с другим вектором такой же длины. В результате должен получиться новый Vector, состоящий из суммы элементов, расположенных на одинаковых местах. Если длины векторов различаются, выведите сообщение \"Сложение векторов разной длины недопустимо\";\n",
    " - В случае, если вектор складывается с другим типом(не числом и не вектором), нужны вывести сообщение \"Вектор нельзя сложить с <значением>\"\n",
    "4. переопределить метод `__mul__` так, чтобы экземпляр класса Vector мог умножаться\n",
    " - на целое число. В результате должен получиться новый Vector, у которого каждый элемент атрибута values умножен на переданное число;\n",
    " - на другой вектор такой же длины. В результате должен получиться новый Vector, состоящий из произведения элементов, расположенных на одинаковых местах. Если длины векторов различаются, выведите сообщение \"Умножение векторов разной длины недопустимо\";\n",
    " - В случае, если вектор умножается с другим типом(не числом и не вектором), нужны вывести сообщение \"Вектор нельзя умножать с <значением>\";\n",
    "\n",
    "``` python\n",
    "v1 = Vector(1,2,3)\n",
    "print(v1) # печатает \"Вектор(1, 2, 3)\"\n",
    "\n",
    "v2 = Vector(3,4,5)\n",
    "print(v2) # печатает \"Вектор(3, 4, 5)\"\n",
    "v3 = v1 + v2\n",
    "print(v3) # печатает \"Вектор(4, 6, 8)\"\n",
    "v4 = v3 + 5\n",
    "print(v4) # печатает \"Вектор(9, 11, 13)\"\n",
    "v5 = v1 * 2\n",
    "print(v5) # печатает \"Вектор(2, 4, 6)\"\n",
    "v5 + 'hi' # печатает \"Вектор нельзя сложить с hi\"\n",
    "```\n",
    "Посмотреть решение https://youtu.be/jLtQwMUipTI"
   ]
  },
  {
   "cell_type": "markdown",
   "metadata": {},
   "source": [
    "Когда мы вставляем объект (например список) в экземпляр класса, то получается двойная вложенность - мы вставляем не каждый элемент списка, а весь список целиком. Чтобы этого избежать, нужно применить оператор распаковки - `*`. Тогда  все элемнты списка вставяться как отдельные значения."
   ]
  },
  {
   "cell_type": "code",
   "execution_count": 1,
   "metadata": {},
   "outputs": [
    {
     "name": "stdout",
     "output_type": "stream",
     "text": [
      "Вектор(1, 2, 3)\n"
     ]
    },
    {
     "ename": "TypeError",
     "evalue": "__str__ returned non-string (type NoneType)",
     "output_type": "error",
     "traceback": [
      "\u001b[1;31m---------------------------------------------------------------------------\u001b[0m",
      "\u001b[1;31mTypeError\u001b[0m                                 Traceback (most recent call last)",
      "\u001b[1;32m<ipython-input-1-82fe3bfe44d8>\u001b[0m in \u001b[0;36m<module>\u001b[1;34m\u001b[0m\n\u001b[0;32m     54\u001b[0m \u001b[1;33m\u001b[0m\u001b[0m\n\u001b[0;32m     55\u001b[0m \u001b[0mv1\u001b[0m \u001b[1;33m=\u001b[0m \u001b[0mVector\u001b[0m\u001b[1;33m(\u001b[0m\u001b[1;36m1\u001b[0m\u001b[1;33m,\u001b[0m\u001b[1;36m2\u001b[0m\u001b[1;33m,\u001b[0m\u001b[1;36m3\u001b[0m\u001b[1;33m)\u001b[0m\u001b[1;33m\u001b[0m\u001b[1;33m\u001b[0m\u001b[0m\n\u001b[1;32m---> 56\u001b[1;33m \u001b[0mprint\u001b[0m\u001b[1;33m(\u001b[0m\u001b[0mv1\u001b[0m\u001b[1;33m)\u001b[0m \u001b[1;31m# печатает \"Вектор(1, 2, 3)\"\u001b[0m\u001b[1;33m\u001b[0m\u001b[1;33m\u001b[0m\u001b[0m\n\u001b[0m\u001b[0;32m     57\u001b[0m \u001b[0mv2\u001b[0m \u001b[1;33m=\u001b[0m \u001b[0mVector\u001b[0m\u001b[1;33m(\u001b[0m\u001b[1;36m3\u001b[0m\u001b[1;33m,\u001b[0m\u001b[1;36m4\u001b[0m\u001b[1;33m,\u001b[0m\u001b[1;36m5\u001b[0m\u001b[1;33m)\u001b[0m\u001b[1;33m\u001b[0m\u001b[1;33m\u001b[0m\u001b[0m\n\u001b[0;32m     58\u001b[0m \u001b[0mprint\u001b[0m\u001b[1;33m(\u001b[0m\u001b[0mv2\u001b[0m\u001b[1;33m)\u001b[0m \u001b[1;31m# печатает \"Вектор(3, 4, 5)\"\u001b[0m\u001b[1;33m\u001b[0m\u001b[1;33m\u001b[0m\u001b[0m\n",
      "\u001b[1;31mTypeError\u001b[0m: __str__ returned non-string (type NoneType)"
     ]
    }
   ],
   "source": [
    "class Vector:\n",
    "    \n",
    "    def __init__(self, *args):\n",
    "        self.values = sorted(args)\n",
    "    \n",
    "    def __str__(self):\n",
    "        if self.values:\n",
    "            b = [str(i) for i in self.values]\n",
    "            print(f'Вектор({\", \".join(b)})')\n",
    "        else:\n",
    "            print(f'Пустой вектор')\n",
    "        \n",
    "    def __add__(self, other):\n",
    "        # складываем вектор и число\n",
    "        if isinstance(other, int):\n",
    "            sum_vector = []\n",
    "            for pos in range(len(self.values)):\n",
    "                sum_vector.append(self.values[pos] + other)\n",
    "            return Vector(*sum_vector)\n",
    "        # складываем вектора\n",
    "        if isinstance(other, Vector):\n",
    "            if len(self.values) == len(other.values):\n",
    "                sum_vector = []\n",
    "                for pos in range(len(self.values)):\n",
    "                    sum_vector.append(self.values[pos] + other.values[pos])\n",
    "                return Vector(*sum_vector)  # sum_vector - Это список. если вставлять его как есть, то список вставиться как 1 единый объект,\n",
    "                # т.е.получиться внутренняя вложенность. нам же надо передать не целый список, а каждый объект списка по отдельности.\n",
    "                # Для этого ставим оператор распаковки - *.\n",
    "            else:\n",
    "                print(f'Сложение векторов разной длины недопустимо')\n",
    "        else:\n",
    "            print(f'Вектор нельзя сложить с {other}')\n",
    "\n",
    "    def __mul__(self, other):\n",
    "        if isinstance(other, int):\n",
    "            mul_vector = []\n",
    "            for pos in range(len(self.values)):\n",
    "                mul_vector.append(self.values[pos] * other)\n",
    "            return Vector(*mul_vector)\n",
    "\n",
    "        if isinstance(other, Vector):\n",
    "            if len(self.values) == len(other.values):\n",
    "                mul_vector = []\n",
    "                for pos in range(len(self.values)):\n",
    "                    mul_vector.append(self.values[pos] * other.values[pos])\n",
    "                return Vector(*mul_vector)  # sum_vector - Это список. если вставлять его как есть, то список вставиться как 1 единый объект,\n",
    "                # т.е.получиться внутренняя вложенность. нам же надо передать не целый список, а каждый объект списка по отдельности.\n",
    "                # Для этого ставим оператор распаковки - *.\n",
    "            else:\n",
    "                print(f'Умножение векторов разной длины недопустимо')\n",
    "        else:\n",
    "            print(f'Вектор нельзя умножать с {other}')\n",
    "        \n",
    "        \n",
    "v1 = Vector(1,2,3)\n",
    "print(v1) # печатает \"Вектор(1, 2, 3)\"\n",
    "v2 = Vector(3,4,5)\n",
    "print(v2) # печатает \"Вектор(3, 4, 5)\"\n",
    "v3 = v1 + v2\n",
    "print(v3) # печатает \"Вектор(4, 6, 8)\"\n",
    "v4 = v3 + 5\n",
    "print(v4) # печатает \"Вектор(9, 11, 13)\"\n",
    "v5 = v1 * 2\n",
    "print(v5) # печатает \"Вектор(2, 4, 6)\"\n",
    "v5 + 'hi' # печатает \"Вектор нельзя сложить с hi\""
   ]
  },
  {
   "cell_type": "code",
   "execution_count": 11,
   "metadata": {},
   "outputs": [
    {
     "name": "stdout",
     "output_type": "stream",
     "text": [
      "Вектор(1, 2, 3)\n",
      "Вектор(3, 4, 5)\n",
      "Вектор(4, 6, 8)\n",
      "Вектор(9, 11, 13)\n",
      "Вектор(2, 4, 6)\n",
      "Вектор нельзя сложить с hi\n"
     ]
    }
   ],
   "source": [
    "class Vector:\n",
    "    \n",
    "    def __init__(self, *args):\n",
    "        arg_list = []\n",
    "        for arg in args:\n",
    "            if isinstance(arg, int):\n",
    "                arg_list.append(arg)\n",
    "        self.values = sorted(arg_list)\n",
    "    \n",
    "    def __str__(self):\n",
    "        if self.values:\n",
    "            b = [str(i) for i in self.values]\n",
    "            return f'Вектор({\", \".join(b)})'\n",
    "        else:\n",
    "            return f'Пустой вектор'\n",
    "        \n",
    "    def __add__(self, other):\n",
    "        # складываем вектор и число\n",
    "        if isinstance(other, int):\n",
    "            sum_vector = []\n",
    "            for pos in range(len(self.values)):\n",
    "                sum_vector.append(self.values[pos] + other)\n",
    "            return Vector(*sum_vector)\n",
    "        # складываем вектора\n",
    "        if isinstance(other, Vector):\n",
    "            if len(self.values) == len(other.values):\n",
    "                sum_vector = []\n",
    "                for pos in range(len(self.values)):\n",
    "                    sum_vector.append(self.values[pos] + other.values[pos])\n",
    "                return Vector(*sum_vector)  # sum_vector - Это список. если вставлять его как есть, то список вставиться как 1 единый объект,\n",
    "                # т.е.получиться внутренняя вложенность. нам же надо передать не целый список, а каждый объект списка по отдельности.\n",
    "                # Для этого ставим оператор распаковки - *.\n",
    "            else:\n",
    "                return f'Сложение векторов разной длины недопустимо'\n",
    "        else:\n",
    "            print(f'Вектор нельзя сложить с {other}')\n",
    "\n",
    "    def __mul__(self, other):\n",
    "        if isinstance(other, int):\n",
    "            mul_vector = []\n",
    "            for pos in range(len(self.values)):\n",
    "                mul_vector.append(self.values[pos] * other)\n",
    "            return Vector(*mul_vector)\n",
    "\n",
    "        if isinstance(other, Vector):\n",
    "            if len(self.values) == len(other.values):\n",
    "                mul_vector = []\n",
    "                for pos in range(len(self.values)):\n",
    "                    mul_vector.append(self.values[pos] * other.values[pos])\n",
    "                return Vector(*mul_vector)  # sum_vector - Это список. если вставлять его как есть, то список вставиться как 1 единый объект,\n",
    "                # т.е.получиться внутренняя вложенность. нам же надо передать не целый список, а каждый объект списка по отдельности.\n",
    "                # Для этого ставим оператор распаковки - *.\n",
    "            else:\n",
    "                return f'Умножение векторов разной длины недопустимо'\n",
    "        else:\n",
    "            print(f'Вектор нельзя умножать с {other}')\n",
    "\n",
    "            \n",
    "v1 = Vector(1,2,3)\n",
    "print(v1) # печатает \"Вектор(1, 2, 3)\"\n",
    "v2 = Vector(3,4,5)\n",
    "print(v2) # печатает \"Вектор(3, 4, 5)\"\n",
    "v3 = v1 + v2\n",
    "print(v3) # печатает \"Вектор(4, 6, 8)\"\n",
    "v4 = v3 + 5\n",
    "print(v4) # печатает \"Вектор(9, 11, 13)\"\n",
    "v5 = v1 * 2\n",
    "print(v5) # печатает \"Вектор(2, 4, 6)\"\n",
    "v5 + 'hi' # печатает \"Вектор нельзя сложить с hi\""
   ]
  },
  {
   "cell_type": "markdown",
   "metadata": {},
   "source": [
    "## Специальные методы сравнения объектов классов\n",
    "\n",
    "Магические методы сравнения разберём на примере сравнения прямоугольников:\n",
    "\n",
    "`__eq__` - отвечает за ==\n",
    "\n",
    "`__ne__` - отвечает за !=\n",
    "\n",
    "`__lt__` - отвечает за <\n",
    "\n",
    "`__le__` - отвечает за <=\n",
    "\n",
    "`__gt__` - отвечает за >\n",
    "\n",
    "`__ge__` - отвечает за >=\n",
    "\n",
    "https://www.youtube.com/watch?v=f9NfpPihYFE"
   ]
  },
  {
   "cell_type": "code",
   "execution_count": 9,
   "metadata": {},
   "outputs": [
    {
     "name": "stdout",
     "output_type": "stream",
     "text": [
      "__eq__ call\n",
      "True\n",
      "__eq__ call\n",
      "__lt__ call\n",
      "False\n",
      "__eq__ call\n",
      "False\n",
      "__eq__ call\n",
      "True\n",
      "__eq__ call\n",
      "__lt__ call\n",
      "True\n"
     ]
    }
   ],
   "source": [
    "class Rectangle:\n",
    "    \n",
    "    def __init__(self, a, b):\n",
    "        self.a = a\n",
    "        self.b = b\n",
    "    \n",
    "    @property\n",
    "    def area(self):\n",
    "        return self.a * self.b\n",
    "        \n",
    "    def __eq__(self, other):\n",
    "        print('__eq__ call')\n",
    "        if isinstance(other, Rectangle):\n",
    "            return self.a == other.a and self.b == other.b\n",
    "    \n",
    "    def __lt__(self, other):\n",
    "        print('__lt__ call')\n",
    "        if isinstance(other, Rectangle):\n",
    "            return self.area < other.area\n",
    "        elif isinstance(other, (int, float)):\n",
    "            return self.area < other\n",
    "        \n",
    "    def __le__(self, other):\n",
    "        return self == other or self < other\n",
    "\n",
    "r = Rectangle(4, 5)\n",
    "d = Rectangle(4, 5)\n",
    "print( r <= d)\n",
    "w = Rectangle(1, 2)\n",
    "print( r <= w)\n",
    "print(r == w)\n",
    "print(r != w)\n",
    "print(r >= w)"
   ]
  },
  {
   "cell_type": "markdown",
   "metadata": {},
   "source": [
    "## Магические методы `__eq__` и `__hash__`\n",
    "\n",
    "https://www.youtube.com/watch?v=KT5rFbhRAMQ\n",
    "\n",
    "`== сравнивает объекты по id` т.е. по адресам ячейки памяти!\n",
    "\n",
    "Хэш можно найти у неизменяемых объектов - числа, строки, кортежи. Хэш нельзя найти у изменяемых объектов, например списков. Поэтому объекты в Питоне бывают unhashable - не поддерживающими операцию хэш и hashable. Hashable объекты используются в словарях и во множествах в качестве ключей."
   ]
  },
  {
   "cell_type": "code",
   "execution_count": 10,
   "metadata": {},
   "outputs": [
    {
     "name": "stdout",
     "output_type": "stream",
     "text": [
      "True\n",
      "False\n",
      "p1 id =  2021954405256\n",
      "p2 id =  2021954406088\n"
     ]
    }
   ],
   "source": [
    "class Point:\n",
    "    pass\n",
    "\n",
    "p1 = Point()\n",
    "print(isinstance(p1, object))\n",
    "\n",
    "p2 = Point()\n",
    "print(p1 == p2)\n",
    "print('p1 id = ', id(p1))\n",
    "print('p2 id = ', id(p2))"
   ]
  },
  {
   "cell_type": "markdown",
   "metadata": {},
   "source": [
    "В то же время с листами всё по другому:"
   ]
  },
  {
   "cell_type": "code",
   "execution_count": 12,
   "metadata": {},
   "outputs": [
    {
     "name": "stdout",
     "output_type": "stream",
     "text": [
      "c == d:  True\n",
      "c is d:  False\n"
     ]
    }
   ],
   "source": [
    "c = [1, 2]\n",
    "d = [1, 2]\n",
    "e = c\n",
    "\n",
    "print('c == d: ', c == d)\n",
    "print('c is d: ', c is d)"
   ]
  },
  {
   "cell_type": "markdown",
   "metadata": {},
   "source": [
    "Наши экземпляры поддерживают хэш."
   ]
  },
  {
   "cell_type": "code",
   "execution_count": 22,
   "metadata": {},
   "outputs": [
    {
     "data": {
      "text/plain": [
       "-9223371910482622212"
      ]
     },
     "execution_count": 22,
     "metadata": {},
     "output_type": "execute_result"
    }
   ],
   "source": [
    "class Point:\n",
    "    \n",
    "    def __init__(self, x, y):\n",
    "        self.x = x\n",
    "        self.y = y\n",
    "\n",
    "p1 = Point(1, 2)\n",
    "p1.__hash__()"
   ]
  },
  {
   "cell_type": "markdown",
   "metadata": {},
   "source": [
    "!!! прописан не весь код. Весь код в видео !!!"
   ]
  },
  {
   "cell_type": "markdown",
   "metadata": {},
   "source": [
    "## Магический метод `__bool__`\n",
    "\n",
    "Любое значение является объектов. Каждый объект можно отнести к одному из 2-х значений - True или False. Для того чтобы это узнать нужно вызвать функцию `bool(obj)`\n",
    "`bool` от любого непустого знаения = True. Среди чисел только одно пустое значение - ноль.\n",
    "\n",
    "`bool(1) = True`\n",
    "\n",
    "`bool(obj) = True`\n",
    "\n",
    "`bool(0) = False`"
   ]
  },
  {
   "cell_type": "code",
   "execution_count": 25,
   "metadata": {},
   "outputs": [
    {
     "name": "stdout",
     "output_type": "stream",
     "text": [
      "True\n",
      "True\n",
      "False\n"
     ]
    }
   ],
   "source": [
    "print(bool('r'))\n",
    "print(bool(' '))\n",
    "print(bool(''))"
   ]
  },
  {
   "cell_type": "code",
   "execution_count": 27,
   "metadata": {},
   "outputs": [
    {
     "name": "stdout",
     "output_type": "stream",
     "text": [
      "call __bool__\n",
      "True\n",
      "call __bool__\n",
      "False\n",
      "call __bool__\n",
      "hello\n"
     ]
    }
   ],
   "source": [
    "class Point:\n",
    "    \n",
    "    def __init__(self, x, y):\n",
    "        self.x = x\n",
    "        self.y = y\n",
    "        \n",
    "    def __len__(self):\n",
    "        print('call __len__')\n",
    "        return abs(self.x - self.y)\n",
    "    \n",
    "    def __bool__(self):\n",
    "        print('call __bool__')\n",
    "        return self.x != 0 or self.y != 0\n",
    "    \n",
    "print(bool(Point(-3,0)))\n",
    "print(bool(Point(0,0)))\n",
    "p3 = Point(2, 3)\n",
    "if p3:\n",
    "    print('hello')"
   ]
  },
  {
   "cell_type": "markdown",
   "metadata": {},
   "source": [
    "**Задание 1**\n",
    "\n",
    "Создайте класс City, у которого есть:\n",
    "\n",
    "1. конструктор `__init__`, принимающий единственный аргумент - название города. Вам необходимо сохранить его в качестве атрибута экземпляра name, причем вам нужно преобразовать переданное имя города таким образом, чтобы первая буква каждого слова была заглавной, а остальные оказались строчными (пример \"new york\" - > \"New York\")\n",
    "2. переопределить метод `__str__` таким образом, чтобы он возвращал имя города\n",
    "3. переопределить метод `__bool__` так, чтобы он возвращал False ,если название города заканчивается на любую гласную букву латинского алфавита (a, e, i, o, u), в противном случае True\n",
    "\n",
    "``` python\n",
    "p1 = City('new york')\n",
    "print(p1)  # печатает \"New York\"\n",
    "print(bool(p1))  # печатает \"True\"\n",
    "p2 = City('SaN frANCISco')\n",
    "print(p2)  # печатает \"San Francisco\"\n",
    "print(p2 == True)  # печатает \"False\"\n",
    "```"
   ]
  },
  {
   "cell_type": "code",
   "execution_count": 51,
   "metadata": {},
   "outputs": [
    {
     "name": "stdout",
     "output_type": "stream",
     "text": [
      "New York\n",
      "True\n",
      "San Francisco\n",
      "False\n"
     ]
    }
   ],
   "source": [
    "class City:\n",
    "    \n",
    "    def __init__(self, name):\n",
    "        name_list = []\n",
    "        for i in name.split(' '):\n",
    "            name_list.append(i.capitalize())\n",
    "        self.name = ' '.join(name_list)\n",
    "        \n",
    "    def __str__(self):\n",
    "        return self.name\n",
    "    \n",
    "    def __bool__(self):\n",
    "        return self.name[-1] not in ('a', 'e', 'i', 'o', 'u')\n",
    "        \n",
    "p1 = City('new york')\n",
    "print(p1)  # печатает \"New York\"\n",
    "print(bool(p1))  # печатает \"True\"\n",
    "p2 = City('SaN frANCISco')\n",
    "print(p2)  # печатает \"San Francisco\"\n",
    "print(p2 == True)  # печатает \"False\""
   ]
  },
  {
   "cell_type": "markdown",
   "metadata": {},
   "source": [
    "**Задание 2**\n",
    "\n",
    "Сейчас вам нужно создать класс Quadrilateral (четырехугольник), в котором есть:\n",
    "\n",
    "1. конструктор `__init__`. Он должен сохранять в экземпляр класса два атрибута: width и height. При этом в сам метод `__init__` может передаваться один аргумент(тогда в width и height присваивать это одно одинаковое значение, тем самым делать квадрат), либо два аргумента( первый идет в атрибут width, второй - в height)\n",
    "2. переопределить метод `__str__` следующим образом: \n",
    " - если width и height одинаковые, возвращать строку \"Куб размером <width>х<height>\n",
    " - в противном случае, возвращать строку \"Прямоугольник размером <width>х<height>\n",
    "3. переопределить метод __bool__ так, чтобы он возвращал True, если объект является кубом, и False в противном случае\n",
    "\n",
    "``` python\n",
    "q1 = Quadrilateral(10)\n",
    "print(q1)  # печатает \"Куб размером 10х10\"\n",
    "print(bool(q1))  # печатает \"True\"\n",
    "q2 = Quadrilateral(3, 5)\n",
    "print(q2)  # печатает \"Прямоугольник размером 3х5\"\n",
    "print(q2 == True)  # печатает \"False\"\n",
    "```"
   ]
  },
  {
   "cell_type": "code",
   "execution_count": 67,
   "metadata": {},
   "outputs": [
    {
     "name": "stdout",
     "output_type": "stream",
     "text": [
      "Куб размером 10х10\n"
     ]
    },
    {
     "ename": "TypeError",
     "evalue": "__str__ returned non-string (type NoneType)",
     "output_type": "error",
     "traceback": [
      "\u001b[1;31m---------------------------------------------------------------------------\u001b[0m",
      "\u001b[1;31mTypeError\u001b[0m                                 Traceback (most recent call last)",
      "\u001b[1;32m<ipython-input-67-6638b58ba2d2>\u001b[0m in \u001b[0;36m<module>\u001b[1;34m\u001b[0m\n\u001b[0;32m     25\u001b[0m \u001b[1;33m\u001b[0m\u001b[0m\n\u001b[0;32m     26\u001b[0m \u001b[0mq1\u001b[0m \u001b[1;33m=\u001b[0m \u001b[0mQuadrilateral\u001b[0m\u001b[1;33m(\u001b[0m\u001b[1;36m10\u001b[0m\u001b[1;33m)\u001b[0m\u001b[1;33m\u001b[0m\u001b[1;33m\u001b[0m\u001b[0m\n\u001b[1;32m---> 27\u001b[1;33m \u001b[0mprint\u001b[0m\u001b[1;33m(\u001b[0m\u001b[0mq1\u001b[0m\u001b[1;33m)\u001b[0m  \u001b[1;31m# печатает \"Куб размером 10х10\"\u001b[0m\u001b[1;33m\u001b[0m\u001b[1;33m\u001b[0m\u001b[0m\n\u001b[0m\u001b[0;32m     28\u001b[0m \u001b[0mprint\u001b[0m\u001b[1;33m(\u001b[0m\u001b[0mbool\u001b[0m\u001b[1;33m(\u001b[0m\u001b[0mq1\u001b[0m\u001b[1;33m)\u001b[0m\u001b[1;33m)\u001b[0m  \u001b[1;31m# печатает \"True\"\u001b[0m\u001b[1;33m\u001b[0m\u001b[1;33m\u001b[0m\u001b[0m\n\u001b[0;32m     29\u001b[0m \u001b[0mq2\u001b[0m \u001b[1;33m=\u001b[0m \u001b[0mQuadrilateral\u001b[0m\u001b[1;33m(\u001b[0m\u001b[1;36m3\u001b[0m\u001b[1;33m,\u001b[0m \u001b[1;36m5\u001b[0m\u001b[1;33m)\u001b[0m\u001b[1;33m\u001b[0m\u001b[1;33m\u001b[0m\u001b[0m\n",
      "\u001b[1;31mTypeError\u001b[0m: __str__ returned non-string (type NoneType)"
     ]
    }
   ],
   "source": [
    "class Quadrilateral:\n",
    "    \n",
    "    def __init__(self, width, *args):\n",
    "        self.width = width\n",
    "        if args:\n",
    "            self.height = args\n",
    "        else:\n",
    "            self.height = width\n",
    "        #self.height = args if args else self.height = width\n",
    "            \n",
    "        \n",
    "    def __str__(self):\n",
    "        if self.width == self.height:\n",
    "            print(f'Куб размером {self.width}х{self.height}')\n",
    "        else:\n",
    "            print(f'Прямоугольник размером {self.width}х{self.height}')\n",
    "        \n",
    "    def __bool__(self):\n",
    "        print('call __bool__')\n",
    "        if self.width == self.height:\n",
    "            return True\n",
    "        else:\n",
    "            return False\n",
    "\n",
    "\n",
    "q1 = Quadrilateral(10)\n",
    "print(q1)  # печатает \"Куб размером 10х10\"\n",
    "print(bool(q1))  # печатает \"True\"\n",
    "q2 = Quadrilateral(3, 5)\n",
    "print(q2)  # печатает \"Прямоугольник размером 3х5\"\n",
    "print(q2 == True)  # печатает \"False\""
   ]
  }
 ],
 "metadata": {
  "kernelspec": {
   "display_name": "Python 3",
   "language": "python",
   "name": "python3"
  },
  "language_info": {
   "codemirror_mode": {
    "name": "ipython",
    "version": 3
   },
   "file_extension": ".py",
   "mimetype": "text/x-python",
   "name": "python",
   "nbconvert_exporter": "python",
   "pygments_lexer": "ipython3",
   "version": "3.7.7"
  },
  "toc": {
   "base_numbering": 1,
   "nav_menu": {},
   "number_sections": true,
   "sideBar": true,
   "skip_h1_title": false,
   "title_cell": "Table of Contents",
   "title_sidebar": "Contents",
   "toc_cell": false,
   "toc_position": {},
   "toc_section_display": true,
   "toc_window_display": false
  },
  "varInspector": {
   "cols": {
    "lenName": 16,
    "lenType": 16,
    "lenVar": 40
   },
   "kernels_config": {
    "python": {
     "delete_cmd_postfix": "",
     "delete_cmd_prefix": "del ",
     "library": "var_list.py",
     "varRefreshCmd": "print(var_dic_list())"
    },
    "r": {
     "delete_cmd_postfix": ") ",
     "delete_cmd_prefix": "rm(",
     "library": "var_list.r",
     "varRefreshCmd": "cat(var_dic_list()) "
    }
   },
   "types_to_exclude": [
    "module",
    "function",
    "builtin_function_or_method",
    "instance",
    "_Feature"
   ],
   "window_display": false
  }
 },
 "nbformat": 4,
 "nbformat_minor": 4
}
