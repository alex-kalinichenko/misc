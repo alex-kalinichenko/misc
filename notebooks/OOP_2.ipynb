{
 "cells": [
  {
   "cell_type": "markdown",
   "metadata": {},
   "source": [
    "---\n",
    "Рабочие материалы по курсу \"ООП на Python от egoroff_channel\"\n",
    "\n",
    "Часть 2\n",
    "  \n",
    "https://stepik.org/course/72969\n",
    "\n",
    "Канал: https://www.youtube.com/channel/UCMcC_43zGHttf9bY-xJOTwA\n",
    " \n",
    "---"
   ]
  },
  {
   "cell_type": "markdown",
   "metadata": {},
   "source": [
    "# Магические методы. Double underscore (dunder) methods\n",
    "\n",
    "## Магические методы. Методы `__str__` и `__repr__`\n",
    "\n",
    "Магический метод - это специальный метод который начинается и заканчивается 2-мя нижними подчёркиваниями. Называется - дандер методы. Их особенность в том что у каждого есть определённый функционали и они вызываются автоматически в определённый момент времени. Например метод `__init__` вызывается сразу после создания объекта. Он отвечает за инициализацию. \n",
    "\n",
    "Оба метода `__str__` и `__repr__` отвечают за текстовое отображение объекта в системе.\n",
    "- `__repr__` отвечает за то как он отображаетсяв системе, т.е. то, как его видят разработчики.\n",
    "- `__str__` отвечает за то как объект будет отображён в случае если к нему применить такие функции как `__str__` или `print`. Т.е. `__str__` отвечает за то, как увидят объект пользователи.\n",
    "\n",
    "Посмотрим как будут отображаться львы внутри системы если оба этих метода будут необъявленными. Такая информация тяжело воспринимается. То же самое мы получим воспользовавшись функцией принт или str."
   ]
  },
  {
   "cell_type": "code",
   "execution_count": 20,
   "metadata": {},
   "outputs": [
    {
     "data": {
      "text/plain": [
       "<__main__.Lion at 0x24301467288>"
      ]
     },
     "execution_count": 20,
     "metadata": {},
     "output_type": "execute_result"
    }
   ],
   "source": [
    "class Lion:\n",
    "    def __init__(self, name):\n",
    "        self.name = name\n",
    "        \n",
    "q = Lion('Bob')\n",
    "q"
   ]
  },
  {
   "cell_type": "code",
   "execution_count": 21,
   "metadata": {},
   "outputs": [
    {
     "name": "stdout",
     "output_type": "stream",
     "text": [
      "<__main__.Lion object at 0x0000024301467288>\n"
     ]
    },
    {
     "data": {
      "text/plain": [
       "'<__main__.Lion object at 0x0000024301467288>'"
      ]
     },
     "execution_count": 21,
     "metadata": {},
     "output_type": "execute_result"
    }
   ],
   "source": [
    "print(q)\n",
    "str(q)"
   ]
  },
  {
   "cell_type": "markdown",
   "metadata": {},
   "source": [
    "Чтобы сделать вывод более понятным помогают эти 2 метода. Добавив repr переменная s уже отображается совершенно в другом виде. А также проставилось имя. "
   ]
  },
  {
   "cell_type": "code",
   "execution_count": 22,
   "metadata": {},
   "outputs": [
    {
     "data": {
      "text/plain": [
       "The object Lion - Simba"
      ]
     },
     "execution_count": 22,
     "metadata": {},
     "output_type": "execute_result"
    }
   ],
   "source": [
    "class Lion:\n",
    "    def __init__(self, name):\n",
    "        self.name = name\n",
    "        \n",
    "    def __repr__(self):\n",
    "        return f'The object Lion - {self.name}'\n",
    "    \n",
    "s = Lion('Simba')\n",
    "s"
   ]
  },
  {
   "cell_type": "markdown",
   "metadata": {},
   "source": [
    "Добавим метод для пользователей str. Теперь когда обращаемся к объекту напрямую - срабатывает repr. А если вызываем через print или str - срабатывает метод str. "
   ]
  },
  {
   "cell_type": "code",
   "execution_count": 24,
   "metadata": {},
   "outputs": [
    {
     "name": "stdout",
     "output_type": "stream",
     "text": [
      "Lion - Vasya\n"
     ]
    },
    {
     "data": {
      "text/plain": [
       "The object Lion - Vasya"
      ]
     },
     "execution_count": 24,
     "metadata": {},
     "output_type": "execute_result"
    }
   ],
   "source": [
    "class Lion:\n",
    "    def __init__(self, name):\n",
    "        self.name = name\n",
    "        \n",
    "    def __repr__(self):\n",
    "        return f'The object Lion - {self.name}'\n",
    "    \n",
    "    def __str__(self):\n",
    "        return f'Lion - {self.name}'\n",
    "    \n",
    "w = Lion('Vasya')\n",
    "print(w)\n",
    "str(w)\n",
    "w"
   ]
  },
  {
   "cell_type": "markdown",
   "metadata": {},
   "source": [
    "**Задача 1**\n",
    "\n",
    "Создайте класс Person, у которого есть:\n",
    "\n",
    "1. конструктор `__init__`, принимающий 3 аргумента: name, surname, gender. Атрибут gender может принимать только 2 значения: \"male\" и \"female\", по умолчанию \"male\". Если в атрибут gender передается любое другое значение, печатать сообщение: \"Не знаю, что вы имели ввиду? Пусть это будет мальчик!\"\n",
    "2. переопределить метод `__str__` следующим образом: \n",
    " - если объект - мужчина (атрибут gender = \"male\"), возвращать строку \"Гражданин <Фамилия> <Имя>\n",
    " - если объект - женщина (атрибут gender = \"female\"), возвращать строку \"Гражданка <Фамилия> <Имя>\n",
    "\n",
    "``` python\n",
    "p1 = Person('Chuck', 'Norris')\n",
    "print(p1) # печатает \"Гражданин Norris Chuck\"\n",
    "p2 = Person('Mila', 'Kunis', 'female')\n",
    "print(p2) # печатает \"Гражданка Kunis Mila\"\n",
    "```"
   ]
  },
  {
   "cell_type": "code",
   "execution_count": 49,
   "metadata": {},
   "outputs": [
    {
     "name": "stdout",
     "output_type": "stream",
     "text": [
      "Гражданин Norris Chuck\n",
      "Гражданка Kunis Mila\n"
     ]
    }
   ],
   "source": [
    "class Person:\n",
    "    def __init__(self, name, surname, gender='male'):\n",
    "        self.name = name\n",
    "        self.surname = surname\n",
    "        if gender not in ('male', 'female'):\n",
    "            print(\"Не знаю, что вы имели ввиду? Пусть это будет мальчик!\")\n",
    "            self.gender = 'male'\n",
    "        else:\n",
    "            self.gender = gender\n",
    "        \n",
    "    def __str__(self):\n",
    "        if self.gender == 'male':\n",
    "            return f'Гражданин {self.surname} {self.name}'\n",
    "        else:\n",
    "            return f'Гражданка {self.surname} {self.name}'\n",
    "        \n",
    "p1 = Person('Chuck', 'Norris')\n",
    "print(p1) # печатает \"Гражданин Norris Chuck\"\n",
    "p2 = Person('Mila', 'Kunis', 'female')\n",
    "print(p2) # печатает \"Гражданка Kunis Mila\""
   ]
  },
  {
   "cell_type": "markdown",
   "metadata": {},
   "source": [
    "**Задача 2**\n",
    "\n",
    "Создайте класс Vector, который хранит в себе вектор целых чисел.  У класса Vector есть:\n",
    "\n",
    "1. конструктор `__init__`, принимающий произвольное количество аргументов. Среди всех переданных аргументов необходимо оставить только целые числа и сохранить их в атрибут values в виде списка;\n",
    "2. переопределить метод `__str__` так, чтобы экземпляр класса Vector выводился следующим образом: \n",
    " - \"Вектор(<value1>, <value2>, <value3>, ...)\", если вектор не пустой. При этом значения должны быть упорядочены по возрастанию;\n",
    " - \"Пустой вектор\", если наш вектор не хранит в себе значения\n",
    "\n",
    "``` python\n",
    "v1 = Vector(1,2,3)\n",
    "print(v1) # печатает \"Вектор(1, 2, 3)\"\n",
    "v2 = Vector()\n",
    "print(v2) # печатает \"Пустой вектор\"\n",
    "```"
   ]
  },
  {
   "cell_type": "code",
   "execution_count": 83,
   "metadata": {},
   "outputs": [
    {
     "name": "stdout",
     "output_type": "stream",
     "text": [
      "Вектор(1, 2, 3)\n",
      "Пустой вектор\n",
      "Вектор(3, 4, 5)\n"
     ]
    }
   ],
   "source": [
    "class Vector:\n",
    "    def __init__(self, *args):\n",
    "        args_list = []\n",
    "        for arg in args:\n",
    "            if isinstance(arg, int):\n",
    "                args_list.append(arg)\n",
    "        self.values = args_list\n",
    "    \n",
    "    def __str__(self):\n",
    "        if len(self.values) > 0:\n",
    "            self.values.sort()\n",
    "            self.values = tuple(self.values)\n",
    "            return f'Вектор{\"\".join(str(self.values))}'\n",
    "        else:\n",
    "            return 'Пустой вектор'\n",
    "\n",
    "v1 = Vector(1,2,3)\n",
    "print(v1) # печатает \"Вектор(1, 2, 3)\"\n",
    "v2 = Vector()\n",
    "print(v2) # печатает \"Пустой вектор\"\n",
    "v3 = Vector(5, 3, 4)\n",
    "print(v3) # печатает \"Вектор(1, 2, 3)\""
   ]
  },
  {
   "cell_type": "markdown",
   "metadata": {},
   "source": [
    "## Магические методы `__len__` и `__abs__`\n",
    "\n",
    "В питоне - всё объект. Не все объекты поддерживают функцию len и abs."
   ]
  },
  {
   "cell_type": "code",
   "execution_count": 1,
   "metadata": {},
   "outputs": [
    {
     "name": "stdout",
     "output_type": "stream",
     "text": [
      "6\n"
     ]
    },
    {
     "ename": "TypeError",
     "evalue": "object of type 'int' has no len()",
     "output_type": "error",
     "traceback": [
      "\u001b[1;31m---------------------------------------------------------------------------\u001b[0m",
      "\u001b[1;31mTypeError\u001b[0m                                 Traceback (most recent call last)",
      "\u001b[1;32m<ipython-input-1-0edd13d404e0>\u001b[0m in \u001b[0;36m<module>\u001b[1;34m\u001b[0m\n\u001b[0;32m      1\u001b[0m \u001b[0mprint\u001b[0m\u001b[1;33m(\u001b[0m\u001b[0mlen\u001b[0m\u001b[1;33m(\u001b[0m\u001b[1;34m'jdkfhf'\u001b[0m\u001b[1;33m)\u001b[0m\u001b[1;33m)\u001b[0m\u001b[1;33m\u001b[0m\u001b[1;33m\u001b[0m\u001b[0m\n\u001b[1;32m----> 2\u001b[1;33m \u001b[0mprint\u001b[0m\u001b[1;33m(\u001b[0m\u001b[0mlen\u001b[0m\u001b[1;33m(\u001b[0m\u001b[1;36m78\u001b[0m\u001b[1;33m)\u001b[0m\u001b[1;33m)\u001b[0m\u001b[1;33m\u001b[0m\u001b[1;33m\u001b[0m\u001b[0m\n\u001b[0m",
      "\u001b[1;31mTypeError\u001b[0m: object of type 'int' has no len()"
     ]
    }
   ],
   "source": [
    "print(len('jdkfhf'))\n",
    "print(len(78))"
   ]
  },
  {
   "cell_type": "code",
   "execution_count": 2,
   "metadata": {},
   "outputs": [
    {
     "name": "stdout",
     "output_type": "stream",
     "text": [
      "45.8\n"
     ]
    },
    {
     "ename": "TypeError",
     "evalue": "bad operand type for abs(): 'str'",
     "output_type": "error",
     "traceback": [
      "\u001b[1;31m---------------------------------------------------------------------------\u001b[0m",
      "\u001b[1;31mTypeError\u001b[0m                                 Traceback (most recent call last)",
      "\u001b[1;32m<ipython-input-2-2aa9368c3977>\u001b[0m in \u001b[0;36m<module>\u001b[1;34m\u001b[0m\n\u001b[0;32m      1\u001b[0m \u001b[0mprint\u001b[0m\u001b[1;33m(\u001b[0m\u001b[0mabs\u001b[0m\u001b[1;33m(\u001b[0m\u001b[1;33m-\u001b[0m\u001b[1;36m45.8\u001b[0m\u001b[1;33m)\u001b[0m\u001b[1;33m)\u001b[0m\u001b[1;33m\u001b[0m\u001b[1;33m\u001b[0m\u001b[0m\n\u001b[1;32m----> 2\u001b[1;33m \u001b[0mprint\u001b[0m\u001b[1;33m(\u001b[0m\u001b[0mabs\u001b[0m\u001b[1;33m(\u001b[0m\u001b[1;34m'hf'\u001b[0m\u001b[1;33m)\u001b[0m\u001b[1;33m)\u001b[0m\u001b[1;33m\u001b[0m\u001b[1;33m\u001b[0m\u001b[0m\n\u001b[0m",
      "\u001b[1;31mTypeError\u001b[0m: bad operand type for abs(): 'str'"
     ]
    }
   ],
   "source": [
    "print(abs(-45.8))\n",
    "print(abs('hf'))"
   ]
  },
  {
   "cell_type": "markdown",
   "metadata": {},
   "source": [
    "Это происходит потому что у стрк в реализации есть магический метод len, а у чисел - нет. И наоборот."
   ]
  },
  {
   "cell_type": "code",
   "execution_count": 3,
   "metadata": {},
   "outputs": [
    {
     "data": {
      "text/plain": [
       "3"
      ]
     },
     "execution_count": 3,
     "metadata": {},
     "output_type": "execute_result"
    }
   ],
   "source": [
    "'ret'.__len__()"
   ]
  },
  {
   "cell_type": "code",
   "execution_count": 6,
   "metadata": {},
   "outputs": [
    {
     "data": {
      "text/plain": [
       "78"
      ]
     },
     "execution_count": 6,
     "metadata": {},
     "output_type": "execute_result"
    }
   ],
   "source": [
    "# нужно оборачивать в скобки потому что питон относит точку к 78\n",
    "(78).__abs__()"
   ]
  },
  {
   "cell_type": "markdown",
   "metadata": {},
   "source": [
    "И мы хотим чтобы у класс было такое же поведение."
   ]
  },
  {
   "cell_type": "code",
   "execution_count": 7,
   "metadata": {},
   "outputs": [
    {
     "ename": "TypeError",
     "evalue": "object of type 'Person' has no len()",
     "output_type": "error",
     "traceback": [
      "\u001b[1;31m---------------------------------------------------------------------------\u001b[0m",
      "\u001b[1;31mTypeError\u001b[0m                                 Traceback (most recent call last)",
      "\u001b[1;32m<ipython-input-7-9250a8789c7e>\u001b[0m in \u001b[0;36m<module>\u001b[1;34m\u001b[0m\n\u001b[0;32m      5\u001b[0m \u001b[1;33m\u001b[0m\u001b[0m\n\u001b[0;32m      6\u001b[0m \u001b[0ma\u001b[0m \u001b[1;33m=\u001b[0m \u001b[0mPerson\u001b[0m\u001b[1;33m(\u001b[0m\u001b[1;34m'fdf'\u001b[0m\u001b[1;33m,\u001b[0m \u001b[1;34m'rew'\u001b[0m\u001b[1;33m)\u001b[0m\u001b[1;33m\u001b[0m\u001b[1;33m\u001b[0m\u001b[0m\n\u001b[1;32m----> 7\u001b[1;33m \u001b[0mlen\u001b[0m\u001b[1;33m(\u001b[0m\u001b[0ma\u001b[0m\u001b[1;33m)\u001b[0m\u001b[1;33m\u001b[0m\u001b[1;33m\u001b[0m\u001b[0m\n\u001b[0m",
      "\u001b[1;31mTypeError\u001b[0m: object of type 'Person' has no len()"
     ]
    }
   ],
   "source": [
    "class Person:\n",
    "    def __init__(self, name, surname):\n",
    "        self.name = name\n",
    "        self.surname = surname\n",
    "        \n",
    "a = Person('fdf', 'rew')\n",
    "len(a)"
   ]
  },
  {
   "cell_type": "markdown",
   "metadata": {},
   "source": [
    "Определим функию len внутри класса:"
   ]
  },
  {
   "cell_type": "code",
   "execution_count": 8,
   "metadata": {},
   "outputs": [
    {
     "data": {
      "text/plain": [
       "6"
      ]
     },
     "execution_count": 8,
     "metadata": {},
     "output_type": "execute_result"
    }
   ],
   "source": [
    "class Person:\n",
    "    def __init__(self, name, surname):\n",
    "        self.name = name\n",
    "        self.surname = surname\n",
    "        \n",
    "    def __len__(self):\n",
    "        return len(self.name + self.surname)\n",
    "        \n",
    "b = Person('fdf', 'rew')\n",
    "len(b)"
   ]
  },
  {
   "cell_type": "markdown",
   "metadata": {},
   "source": [
    "Реализуем метод abs"
   ]
  },
  {
   "cell_type": "code",
   "execution_count": 11,
   "metadata": {},
   "outputs": [
    {
     "data": {
      "text/plain": [
       "4"
      ]
     },
     "execution_count": 11,
     "metadata": {},
     "output_type": "execute_result"
    }
   ],
   "source": [
    "class Otrezok:\n",
    "    def __init__(self, point1, point2):\n",
    "        self.x1 = point1\n",
    "        self.x2 = point2\n",
    "    \n",
    "    # реалиуем нахождение длины отрезка\n",
    "    def __len__(self):\n",
    "        return self.x2 - self.x1\n",
    "\n",
    "t = Otrezok(5, 9)\n",
    "len(t)"
   ]
  },
  {
   "cell_type": "markdown",
   "metadata": {},
   "source": [
    "Но если первая точка больше второй, то получается отрицательная длина:"
   ]
  },
  {
   "cell_type": "code",
   "execution_count": 12,
   "metadata": {},
   "outputs": [
    {
     "ename": "ValueError",
     "evalue": "__len__() should return >= 0",
     "output_type": "error",
     "traceback": [
      "\u001b[1;31m---------------------------------------------------------------------------\u001b[0m",
      "\u001b[1;31mValueError\u001b[0m                                Traceback (most recent call last)",
      "\u001b[1;32m<ipython-input-12-45430c428f33>\u001b[0m in \u001b[0;36m<module>\u001b[1;34m\u001b[0m\n\u001b[0;32m      9\u001b[0m \u001b[1;33m\u001b[0m\u001b[0m\n\u001b[0;32m     10\u001b[0m \u001b[0mt\u001b[0m \u001b[1;33m=\u001b[0m \u001b[0mOtrezok\u001b[0m\u001b[1;33m(\u001b[0m\u001b[1;36m10\u001b[0m\u001b[1;33m,\u001b[0m \u001b[1;36m9\u001b[0m\u001b[1;33m)\u001b[0m\u001b[1;33m\u001b[0m\u001b[1;33m\u001b[0m\u001b[0m\n\u001b[1;32m---> 11\u001b[1;33m \u001b[0mlen\u001b[0m\u001b[1;33m(\u001b[0m\u001b[0mt\u001b[0m\u001b[1;33m)\u001b[0m\u001b[1;33m\u001b[0m\u001b[1;33m\u001b[0m\u001b[0m\n\u001b[0m",
      "\u001b[1;31mValueError\u001b[0m: __len__() should return >= 0"
     ]
    }
   ],
   "source": [
    "class Otrezok:\n",
    "    def __init__(self, point1, point2):\n",
    "        self.x1 = point1\n",
    "        self.x2 = point2\n",
    "    \n",
    "    # реалиуем нахождение длины отрезка\n",
    "    def __len__(self):\n",
    "        return self.x2 - self.x1\n",
    "\n",
    "t = Otrezok(10, 9)\n",
    "len(t)"
   ]
  },
  {
   "cell_type": "markdown",
   "metadata": {},
   "source": [
    "Чтобы избавиться от минуса используем функцию abs."
   ]
  },
  {
   "cell_type": "code",
   "execution_count": 14,
   "metadata": {},
   "outputs": [
    {
     "name": "stdout",
     "output_type": "stream",
     "text": [
      "1\n",
      "1\n"
     ]
    }
   ],
   "source": [
    "class Otrezok:\n",
    "    def __init__(self, point1, point2):\n",
    "        self.x1 = point1\n",
    "        self.x2 = point2\n",
    "    \n",
    "    # реалиуем нахождение длины отрезка\n",
    "    def __len__(self):\n",
    "        return abs(self) # эта запись воспринимается питоном как self.__abs__()\n",
    "\n",
    "    def __abs__(self):\n",
    "        return abs(self.x2 - self.x1)\n",
    "    \n",
    "q = Otrezok(10, 9)\n",
    "print(len(q))\n",
    "w = Otrezok(9, 10)\n",
    "print(len(w))"
   ]
  },
  {
   "cell_type": "markdown",
   "metadata": {},
   "source": [
    "Когда пишешь abs(self.x2 - self.x1), то метод _abs_ будет вызываться у числа, а здесь показано, что один магический метод может вызывать другой."
   ]
  },
  {
   "cell_type": "markdown",
   "metadata": {},
   "source": [
    "## Магические методы `__add__`, `__mul__`, `__sub__` и `__truediv__`\n",
    "\n",
    "https://www.youtube.com/watch?v=o1fUy3mnEQE"
   ]
  },
  {
   "cell_type": "code",
   "execution_count": 17,
   "metadata": {},
   "outputs": [
    {
     "name": "stdout",
     "output_type": "stream",
     "text": [
      "__add__ call\n"
     ]
    },
    {
     "data": {
      "text/plain": [
       "912"
      ]
     },
     "execution_count": 17,
     "metadata": {},
     "output_type": "execute_result"
    }
   ],
   "source": [
    "class BankAccount:\n",
    "\n",
    "    def __init__(self, name, balance):\n",
    "        self.name = name\n",
    "        self.balance = balance\n",
    "    \n",
    "    def __add__(self, other):\n",
    "        print('__add__ call')\n",
    "        if isinstance(other, BankAccount):\n",
    "            return self.balance + other.balance\n",
    "        if isinstance(other, (int, float)):\n",
    "            return self.balance + other\n",
    "        raise NotImplemented\n",
    "        \n",
    "    def __radd__(self, other):\n",
    "        print('__radd__ call')\n",
    "        return self + other\n",
    "    \n",
    "t = BankAccount('Tod', 900)\n",
    "t + 12"
   ]
  },
  {
   "cell_type": "code",
   "execution_count": 18,
   "metadata": {},
   "outputs": [
    {
     "name": "stdout",
     "output_type": "stream",
     "text": [
      "__radd__ call\n",
      "__add__ call\n"
     ]
    },
    {
     "data": {
      "text/plain": [
       "912"
      ]
     },
     "execution_count": 18,
     "metadata": {},
     "output_type": "execute_result"
    }
   ],
   "source": [
    "12 + t"
   ]
  },
  {
   "cell_type": "markdown",
   "metadata": {},
   "source": [
    "Реализуем умножение"
   ]
  },
  {
   "cell_type": "code",
   "execution_count": 19,
   "metadata": {},
   "outputs": [
    {
     "name": "stdout",
     "output_type": "stream",
     "text": [
      "__mul__ call\n"
     ]
    },
    {
     "data": {
      "text/plain": [
       "2700"
      ]
     },
     "execution_count": 19,
     "metadata": {},
     "output_type": "execute_result"
    }
   ],
   "source": [
    "class BankAccount:\n",
    "\n",
    "    def __init__(self, name, balance):\n",
    "        self.name = name\n",
    "        self.balance = balance\n",
    "    \n",
    "    def __add__(self, other):\n",
    "        print('__add__ call')\n",
    "        if isinstance(other, BankAccount):\n",
    "            return self.balance + other.balance\n",
    "        if isinstance(other, (int, float)):\n",
    "            return self.balance + other\n",
    "        raise NotImplemented\n",
    "    \n",
    "    def __mul__(self, other):\n",
    "        print('__mul__ call')\n",
    "        if isinstance(other, BankAccount):\n",
    "            return self.balance * other.balance\n",
    "        if isinstance(other, (int, float)):\n",
    "            return self.balance * other\n",
    "        if isinstance(other, str):\n",
    "            return self.name + other\n",
    "        raise NotImplemented\n",
    "    \n",
    "    def __radd__(self, other):\n",
    "        print('__radd__ call')\n",
    "        return self + other\n",
    "    \n",
    "r = BankAccount('Tod', 900)\n",
    "r * 3"
   ]
  },
  {
   "cell_type": "code",
   "execution_count": 20,
   "metadata": {},
   "outputs": [
    {
     "name": "stdout",
     "output_type": "stream",
     "text": [
      "__mul__ call\n"
     ]
    },
    {
     "data": {
      "text/plain": [
       "'Todttt'"
      ]
     },
     "execution_count": 20,
     "metadata": {},
     "output_type": "execute_result"
    }
   ],
   "source": [
    "r * 'ttt'"
   ]
  },
  {
   "cell_type": "markdown",
   "metadata": {},
   "source": [
    "Т.е. с помощью магичских методов мы може реализовать поведение того, как ы хотим складывать наши объекты."
   ]
  },
  {
   "cell_type": "code",
   "execution_count": 60,
   "metadata": {},
   "outputs": [
    {
     "name": "stdout",
     "output_type": "stream",
     "text": [
      "new_obj init\n"
     ]
    },
    {
     "data": {
      "text/plain": [
       "2788146579080"
      ]
     },
     "execution_count": 60,
     "metadata": {},
     "output_type": "execute_result"
    }
   ],
   "source": [
    "class BankAccount:\n",
    "\n",
    "    def __init__(self, name, balance):\n",
    "        print('new_obj init')\n",
    "        self.name = name\n",
    "        self.balance = balance\n",
    "    \n",
    "    def __repr__(self):\n",
    "        return f'Клиент {self.name} с балансом {self.balance}'\n",
    "    \n",
    "    def __add__(self, other):\n",
    "        print('__add__ call')\n",
    "        if isinstance(other, BankAccount):\n",
    "            return self.balance + other.balance\n",
    "        if isinstance(other, (int, float)):\n",
    "            return BankAccount(self.name, self.balance + other)\n",
    "        raise NotImplemented\n",
    "\n",
    "t = BankAccount('Tod', 900)\n",
    "id(t)"
   ]
  },
  {
   "cell_type": "code",
   "execution_count": 61,
   "metadata": {},
   "outputs": [
    {
     "name": "stdout",
     "output_type": "stream",
     "text": [
      "__add__ call\n",
      "new_obj init\n"
     ]
    },
    {
     "data": {
      "text/plain": [
       "Клиент Tod с балансом 930"
      ]
     },
     "execution_count": 61,
     "metadata": {},
     "output_type": "execute_result"
    }
   ],
   "source": [
    "t + 30"
   ]
  },
  {
   "cell_type": "code",
   "execution_count": 25,
   "metadata": {},
   "outputs": [
    {
     "name": "stdout",
     "output_type": "stream",
     "text": [
      "__add__ call\n",
      "new_obj init\n"
     ]
    },
    {
     "data": {
      "text/plain": [
       "Клиент Tod с балансом 940"
      ]
     },
     "execution_count": 25,
     "metadata": {},
     "output_type": "execute_result"
    }
   ],
   "source": [
    "d = t + 40\n",
    "d"
   ]
  },
  {
   "cell_type": "code",
   "execution_count": 26,
   "metadata": {},
   "outputs": [
    {
     "data": {
      "text/plain": [
       "2788146319880"
      ]
     },
     "execution_count": 26,
     "metadata": {},
     "output_type": "execute_result"
    }
   ],
   "source": [
    "id(d)"
   ]
  },
  {
   "cell_type": "markdown",
   "metadata": {},
   "source": [
    "**Задача**\n",
    "\n",
    "Вспомним нашего приятеля с предыдущих уроков: класс Vector. \n",
    "\n",
    "Ваша задача создать класс Vector, который хранит в себе вектор целых чисел.  У класса Vector есть:\n",
    "\n",
    "1. конструктор `__init__`, принимающий произвольное количество аргументов. Среди всех переданных аргументов необходимо оставить только целые числа и сохранить их в атрибут values в виде списка. Причем значения должны хранится в порядке неубывания; \n",
    "2. переопределить метод `__str__` так, чтобы экземпляр класса Vector выводился следующим образом: \n",
    " - \"Вектор(<value1>, <value2>, <value3>, ...)\", если вектор не пустой. При этом значения должны быть упорядочены по возрастанию;\n",
    " - \"Пустой вектор\", если наш вектор не хранит в себе значения\n",
    "3. переопределить метод `__add__` так, чтобы экземпляр класса Vector мог складываться\n",
    " - с целым числом, в результате должен получиться новый Vector, у которого каждый элемент атрибута values увеличен на число\n",
    " - с другим вектором такой же длины. В результате должен получиться новый Vector, состоящий из суммы элементов, расположенных на одинаковых местах. Если длины векторов различаются, выведите сообщение \"Сложение векторов разной длины недопустимо\";\n",
    " - В случае, если вектор складывается с другим типом(не числом и не вектором), нужны вывести сообщение \"Вектор нельзя сложить с <значением>\"\n",
    "4. переопределить метод `__mul__` так, чтобы экземпляр класса Vector мог умножаться\n",
    " - на целое число. В результате должен получиться новый Vector, у которого каждый элемент атрибута values умножен на переданное число;\n",
    " - на другой вектор такой же длины. В результате должен получиться новый Vector, состоящий из произведения элементов, расположенных на одинаковых местах. Если длины векторов различаются, выведите сообщение \"Умножение векторов разной длины недопустимо\";\n",
    " - В случае, если вектор умножается с другим типом(не числом и не вектором), нужны вывести сообщение \"Вектор нельзя умножать с <значением>\";\n",
    "\n",
    "``` python\n",
    "v1 = Vector(1,2,3)\n",
    "print(v1) # печатает \"Вектор(1, 2, 3)\"\n",
    "\n",
    "v2 = Vector(3,4,5)\n",
    "print(v2) # печатает \"Вектор(3, 4, 5)\"\n",
    "v3 = v1 + v2\n",
    "print(v3) # печатает \"Вектор(4, 6, 8)\"\n",
    "v4 = v3 + 5\n",
    "print(v4) # печатает \"Вектор(9, 11, 13)\"\n",
    "v5 = v1 * 2\n",
    "print(v5) # печатает \"Вектор(2, 4, 6)\"\n",
    "v5 + 'hi' # печатает \"Вектор нельзя сложить с hi\"\n",
    "```\n",
    "Посмотреть решение https://youtu.be/jLtQwMUipTI"
   ]
  },
  {
   "cell_type": "markdown",
   "metadata": {},
   "source": [
    "Когда мы вставляем объект (например список) в экземпляр класса, то получается двойная вложенность - мы вставляем не каждый элемент списка, а весь список целиком. Чтобы этого избежать, нужно применить оператор распаковки - `*`. Тогда  все элемнты списка вставяться как отдельные значения."
   ]
  },
  {
   "cell_type": "code",
   "execution_count": 1,
   "metadata": {},
   "outputs": [
    {
     "name": "stdout",
     "output_type": "stream",
     "text": [
      "Вектор(1, 2, 3)\n"
     ]
    },
    {
     "ename": "TypeError",
     "evalue": "__str__ returned non-string (type NoneType)",
     "output_type": "error",
     "traceback": [
      "\u001b[1;31m---------------------------------------------------------------------------\u001b[0m",
      "\u001b[1;31mTypeError\u001b[0m                                 Traceback (most recent call last)",
      "\u001b[1;32m<ipython-input-1-82fe3bfe44d8>\u001b[0m in \u001b[0;36m<module>\u001b[1;34m\u001b[0m\n\u001b[0;32m     54\u001b[0m \u001b[1;33m\u001b[0m\u001b[0m\n\u001b[0;32m     55\u001b[0m \u001b[0mv1\u001b[0m \u001b[1;33m=\u001b[0m \u001b[0mVector\u001b[0m\u001b[1;33m(\u001b[0m\u001b[1;36m1\u001b[0m\u001b[1;33m,\u001b[0m\u001b[1;36m2\u001b[0m\u001b[1;33m,\u001b[0m\u001b[1;36m3\u001b[0m\u001b[1;33m)\u001b[0m\u001b[1;33m\u001b[0m\u001b[1;33m\u001b[0m\u001b[0m\n\u001b[1;32m---> 56\u001b[1;33m \u001b[0mprint\u001b[0m\u001b[1;33m(\u001b[0m\u001b[0mv1\u001b[0m\u001b[1;33m)\u001b[0m \u001b[1;31m# печатает \"Вектор(1, 2, 3)\"\u001b[0m\u001b[1;33m\u001b[0m\u001b[1;33m\u001b[0m\u001b[0m\n\u001b[0m\u001b[0;32m     57\u001b[0m \u001b[0mv2\u001b[0m \u001b[1;33m=\u001b[0m \u001b[0mVector\u001b[0m\u001b[1;33m(\u001b[0m\u001b[1;36m3\u001b[0m\u001b[1;33m,\u001b[0m\u001b[1;36m4\u001b[0m\u001b[1;33m,\u001b[0m\u001b[1;36m5\u001b[0m\u001b[1;33m)\u001b[0m\u001b[1;33m\u001b[0m\u001b[1;33m\u001b[0m\u001b[0m\n\u001b[0;32m     58\u001b[0m \u001b[0mprint\u001b[0m\u001b[1;33m(\u001b[0m\u001b[0mv2\u001b[0m\u001b[1;33m)\u001b[0m \u001b[1;31m# печатает \"Вектор(3, 4, 5)\"\u001b[0m\u001b[1;33m\u001b[0m\u001b[1;33m\u001b[0m\u001b[0m\n",
      "\u001b[1;31mTypeError\u001b[0m: __str__ returned non-string (type NoneType)"
     ]
    }
   ],
   "source": [
    "class Vector:\n",
    "    \n",
    "    def __init__(self, *args):\n",
    "        self.values = sorted(args)\n",
    "    \n",
    "    def __str__(self):\n",
    "        if self.values:\n",
    "            b = [str(i) for i in self.values]\n",
    "            print(f'Вектор({\", \".join(b)})')\n",
    "        else:\n",
    "            print(f'Пустой вектор')\n",
    "        \n",
    "    def __add__(self, other):\n",
    "        # складываем вектор и число\n",
    "        if isinstance(other, int):\n",
    "            sum_vector = []\n",
    "            for pos in range(len(self.values)):\n",
    "                sum_vector.append(self.values[pos] + other)\n",
    "            return Vector(*sum_vector)\n",
    "        # складываем вектора\n",
    "        if isinstance(other, Vector):\n",
    "            if len(self.values) == len(other.values):\n",
    "                sum_vector = []\n",
    "                for pos in range(len(self.values)):\n",
    "                    sum_vector.append(self.values[pos] + other.values[pos])\n",
    "                return Vector(*sum_vector)  # sum_vector - Это список. если вставлять его как есть, то список вставиться как 1 единый объект,\n",
    "                # т.е.получиться внутренняя вложенность. нам же надо передать не целый список, а каждый объект списка по отдельности.\n",
    "                # Для этого ставим оператор распаковки - *.\n",
    "            else:\n",
    "                print(f'Сложение векторов разной длины недопустимо')\n",
    "        else:\n",
    "            print(f'Вектор нельзя сложить с {other}')\n",
    "\n",
    "    def __mul__(self, other):\n",
    "        if isinstance(other, int):\n",
    "            mul_vector = []\n",
    "            for pos in range(len(self.values)):\n",
    "                mul_vector.append(self.values[pos] * other)\n",
    "            return Vector(*mul_vector)\n",
    "\n",
    "        if isinstance(other, Vector):\n",
    "            if len(self.values) == len(other.values):\n",
    "                mul_vector = []\n",
    "                for pos in range(len(self.values)):\n",
    "                    mul_vector.append(self.values[pos] * other.values[pos])\n",
    "                return Vector(*mul_vector)  # sum_vector - Это список. если вставлять его как есть, то список вставиться как 1 единый объект,\n",
    "                # т.е.получиться внутренняя вложенность. нам же надо передать не целый список, а каждый объект списка по отдельности.\n",
    "                # Для этого ставим оператор распаковки - *.\n",
    "            else:\n",
    "                print(f'Умножение векторов разной длины недопустимо')\n",
    "        else:\n",
    "            print(f'Вектор нельзя умножать с {other}')\n",
    "        \n",
    "        \n",
    "v1 = Vector(1,2,3)\n",
    "print(v1) # печатает \"Вектор(1, 2, 3)\"\n",
    "v2 = Vector(3,4,5)\n",
    "print(v2) # печатает \"Вектор(3, 4, 5)\"\n",
    "v3 = v1 + v2\n",
    "print(v3) # печатает \"Вектор(4, 6, 8)\"\n",
    "v4 = v3 + 5\n",
    "print(v4) # печатает \"Вектор(9, 11, 13)\"\n",
    "v5 = v1 * 2\n",
    "print(v5) # печатает \"Вектор(2, 4, 6)\"\n",
    "v5 + 'hi' # печатает \"Вектор нельзя сложить с hi\""
   ]
  },
  {
   "cell_type": "code",
   "execution_count": 11,
   "metadata": {},
   "outputs": [
    {
     "name": "stdout",
     "output_type": "stream",
     "text": [
      "Вектор(1, 2, 3)\n",
      "Вектор(3, 4, 5)\n",
      "Вектор(4, 6, 8)\n",
      "Вектор(9, 11, 13)\n",
      "Вектор(2, 4, 6)\n",
      "Вектор нельзя сложить с hi\n"
     ]
    }
   ],
   "source": [
    "class Vector:\n",
    "    \n",
    "    def __init__(self, *args):\n",
    "        arg_list = []\n",
    "        for arg in args:\n",
    "            if isinstance(arg, int):\n",
    "                arg_list.append(arg)\n",
    "        self.values = sorted(arg_list)\n",
    "    \n",
    "    def __str__(self):\n",
    "        if self.values:\n",
    "            b = [str(i) for i in self.values]\n",
    "            return f'Вектор({\", \".join(b)})'\n",
    "        else:\n",
    "            return f'Пустой вектор'\n",
    "        \n",
    "    def __add__(self, other):\n",
    "        # складываем вектор и число\n",
    "        if isinstance(other, int):\n",
    "            sum_vector = []\n",
    "            for pos in range(len(self.values)):\n",
    "                sum_vector.append(self.values[pos] + other)\n",
    "            return Vector(*sum_vector)\n",
    "        # складываем вектора\n",
    "        if isinstance(other, Vector):\n",
    "            if len(self.values) == len(other.values):\n",
    "                sum_vector = []\n",
    "                for pos in range(len(self.values)):\n",
    "                    sum_vector.append(self.values[pos] + other.values[pos])\n",
    "                return Vector(*sum_vector)  # sum_vector - Это список. если вставлять его как есть, то список вставиться как 1 единый объект,\n",
    "                # т.е.получиться внутренняя вложенность. нам же надо передать не целый список, а каждый объект списка по отдельности.\n",
    "                # Для этого ставим оператор распаковки - *.\n",
    "            else:\n",
    "                return f'Сложение векторов разной длины недопустимо'\n",
    "        else:\n",
    "            print(f'Вектор нельзя сложить с {other}')\n",
    "\n",
    "    def __mul__(self, other):\n",
    "        if isinstance(other, int):\n",
    "            mul_vector = []\n",
    "            for pos in range(len(self.values)):\n",
    "                mul_vector.append(self.values[pos] * other)\n",
    "            return Vector(*mul_vector)\n",
    "\n",
    "        if isinstance(other, Vector):\n",
    "            if len(self.values) == len(other.values):\n",
    "                mul_vector = []\n",
    "                for pos in range(len(self.values)):\n",
    "                    mul_vector.append(self.values[pos] * other.values[pos])\n",
    "                return Vector(*mul_vector)  # sum_vector - Это список. если вставлять его как есть, то список вставиться как 1 единый объект,\n",
    "                # т.е.получиться внутренняя вложенность. нам же надо передать не целый список, а каждый объект списка по отдельности.\n",
    "                # Для этого ставим оператор распаковки - *.\n",
    "            else:\n",
    "                return f'Умножение векторов разной длины недопустимо'\n",
    "        else:\n",
    "            print(f'Вектор нельзя умножать с {other}')\n",
    "\n",
    "            \n",
    "v1 = Vector(1,2,3)\n",
    "print(v1) # печатает \"Вектор(1, 2, 3)\"\n",
    "v2 = Vector(3,4,5)\n",
    "print(v2) # печатает \"Вектор(3, 4, 5)\"\n",
    "v3 = v1 + v2\n",
    "print(v3) # печатает \"Вектор(4, 6, 8)\"\n",
    "v4 = v3 + 5\n",
    "print(v4) # печатает \"Вектор(9, 11, 13)\"\n",
    "v5 = v1 * 2\n",
    "print(v5) # печатает \"Вектор(2, 4, 6)\"\n",
    "v5 + 'hi' # печатает \"Вектор нельзя сложить с hi\""
   ]
  },
  {
   "cell_type": "markdown",
   "metadata": {},
   "source": [
    "## Специальные методы сравнения объектов классов\n",
    "\n",
    "Магические методы сравнения разберём на примере сравнения прямоугольников:\n",
    "\n",
    "`__eq__` - отвечает за ==\n",
    "\n",
    "`__ne__` - отвечает за !=\n",
    "\n",
    "`__lt__` - отвечает за <\n",
    "\n",
    "`__le__` - отвечает за <=\n",
    "\n",
    "`__gt__` - отвечает за >\n",
    "\n",
    "`__ge__` - отвечает за >=\n",
    "\n",
    "https://www.youtube.com/watch?v=f9NfpPihYFE"
   ]
  },
  {
   "cell_type": "code",
   "execution_count": 9,
   "metadata": {},
   "outputs": [
    {
     "name": "stdout",
     "output_type": "stream",
     "text": [
      "__eq__ call\n",
      "True\n",
      "__eq__ call\n",
      "__lt__ call\n",
      "False\n",
      "__eq__ call\n",
      "False\n",
      "__eq__ call\n",
      "True\n",
      "__eq__ call\n",
      "__lt__ call\n",
      "True\n"
     ]
    }
   ],
   "source": [
    "class Rectangle:\n",
    "    \n",
    "    def __init__(self, a, b):\n",
    "        self.a = a\n",
    "        self.b = b\n",
    "    \n",
    "    @property\n",
    "    def area(self):\n",
    "        return self.a * self.b\n",
    "        \n",
    "    def __eq__(self, other):\n",
    "        print('__eq__ call')\n",
    "        if isinstance(other, Rectangle):\n",
    "            return self.a == other.a and self.b == other.b\n",
    "    \n",
    "    def __lt__(self, other):\n",
    "        print('__lt__ call')\n",
    "        if isinstance(other, Rectangle):\n",
    "            return self.area < other.area\n",
    "        elif isinstance(other, (int, float)):\n",
    "            return self.area < other\n",
    "        \n",
    "    def __le__(self, other):\n",
    "        return self == other or self < other\n",
    "\n",
    "r = Rectangle(4, 5)\n",
    "d = Rectangle(4, 5)\n",
    "print( r <= d)\n",
    "w = Rectangle(1, 2)\n",
    "print( r <= w)\n",
    "print(r == w)\n",
    "print(r != w)\n",
    "print(r >= w)"
   ]
  },
  {
   "cell_type": "markdown",
   "metadata": {},
   "source": [
    "## Магические методы `__eq__` и `__hash__`\n",
    "\n",
    "https://www.youtube.com/watch?v=KT5rFbhRAMQ\n",
    "\n",
    "`== сравнивает объекты по id` т.е. по адресам ячейки памяти!\n",
    "\n",
    "Хэш можно найти у неизменяемых объектов - числа, строки, кортежи. Хэш нельзя найти у изменяемых объектов, например списков. Поэтому объекты в Питоне бывают unhashable - не поддерживающими операцию хэш и hashable. Hashable объекты используются в словарях и во множествах в качестве ключей."
   ]
  },
  {
   "cell_type": "code",
   "execution_count": 10,
   "metadata": {},
   "outputs": [
    {
     "name": "stdout",
     "output_type": "stream",
     "text": [
      "True\n",
      "False\n",
      "p1 id =  2021954405256\n",
      "p2 id =  2021954406088\n"
     ]
    }
   ],
   "source": [
    "class Point:\n",
    "    pass\n",
    "\n",
    "p1 = Point()\n",
    "print(isinstance(p1, object))\n",
    "\n",
    "p2 = Point()\n",
    "print(p1 == p2)\n",
    "print('p1 id = ', id(p1))\n",
    "print('p2 id = ', id(p2))"
   ]
  },
  {
   "cell_type": "markdown",
   "metadata": {},
   "source": [
    "В то же время с листами всё по другому:"
   ]
  },
  {
   "cell_type": "code",
   "execution_count": 12,
   "metadata": {},
   "outputs": [
    {
     "name": "stdout",
     "output_type": "stream",
     "text": [
      "c == d:  True\n",
      "c is d:  False\n"
     ]
    }
   ],
   "source": [
    "c = [1, 2]\n",
    "d = [1, 2]\n",
    "e = c\n",
    "\n",
    "print('c == d: ', c == d)\n",
    "print('c is d: ', c is d)"
   ]
  },
  {
   "cell_type": "markdown",
   "metadata": {},
   "source": [
    "Наши экземпляры поддерживают хэш."
   ]
  },
  {
   "cell_type": "code",
   "execution_count": 22,
   "metadata": {},
   "outputs": [
    {
     "data": {
      "text/plain": [
       "-9223371910482622212"
      ]
     },
     "execution_count": 22,
     "metadata": {},
     "output_type": "execute_result"
    }
   ],
   "source": [
    "class Point:\n",
    "    \n",
    "    def __init__(self, x, y):\n",
    "        self.x = x\n",
    "        self.y = y\n",
    "\n",
    "p1 = Point(1, 2)\n",
    "p1.__hash__()"
   ]
  },
  {
   "cell_type": "markdown",
   "metadata": {},
   "source": [
    "!!! прописан не весь код. Весь код в видео !!!"
   ]
  },
  {
   "cell_type": "markdown",
   "metadata": {},
   "source": [
    "## Магический метод `__bool__`\n",
    "\n",
    "Любое значение является объектов. Каждый объект можно отнести к одному из 2-х значений - True или False. Для того чтобы это узнать нужно вызвать функцию `bool(obj)`\n",
    "`bool` от любого непустого знаения = True. Среди чисел только одно пустое значение - ноль.\n",
    "\n",
    "`bool(1) = True`\n",
    "\n",
    "`bool(obj) = True`\n",
    "\n",
    "`bool(0) = False`"
   ]
  },
  {
   "cell_type": "code",
   "execution_count": 25,
   "metadata": {},
   "outputs": [
    {
     "name": "stdout",
     "output_type": "stream",
     "text": [
      "True\n",
      "True\n",
      "False\n"
     ]
    }
   ],
   "source": [
    "print(bool('r'))\n",
    "print(bool(' '))\n",
    "print(bool(''))"
   ]
  },
  {
   "cell_type": "code",
   "execution_count": 27,
   "metadata": {},
   "outputs": [
    {
     "name": "stdout",
     "output_type": "stream",
     "text": [
      "call __bool__\n",
      "True\n",
      "call __bool__\n",
      "False\n",
      "call __bool__\n",
      "hello\n"
     ]
    }
   ],
   "source": [
    "class Point:\n",
    "    \n",
    "    def __init__(self, x, y):\n",
    "        self.x = x\n",
    "        self.y = y\n",
    "        \n",
    "    def __len__(self):\n",
    "        print('call __len__')\n",
    "        return abs(self.x - self.y)\n",
    "    \n",
    "    def __bool__(self):\n",
    "        print('call __bool__')\n",
    "        return self.x != 0 or self.y != 0\n",
    "    \n",
    "print(bool(Point(-3,0)))\n",
    "print(bool(Point(0,0)))\n",
    "p3 = Point(2, 3)\n",
    "if p3:\n",
    "    print('hello')"
   ]
  },
  {
   "cell_type": "markdown",
   "metadata": {},
   "source": [
    "**Задание 1**\n",
    "\n",
    "Создайте класс City, у которого есть:\n",
    "\n",
    "1. конструктор `__init__`, принимающий единственный аргумент - название города. Вам необходимо сохранить его в качестве атрибута экземпляра name, причем вам нужно преобразовать переданное имя города таким образом, чтобы первая буква каждого слова была заглавной, а остальные оказались строчными (пример \"new york\" - > \"New York\")\n",
    "2. переопределить метод `__str__` таким образом, чтобы он возвращал имя города\n",
    "3. переопределить метод `__bool__` так, чтобы он возвращал False ,если название города заканчивается на любую гласную букву латинского алфавита (a, e, i, o, u), в противном случае True\n",
    "\n",
    "``` python\n",
    "p1 = City('new york')\n",
    "print(p1)  # печатает \"New York\"\n",
    "print(bool(p1))  # печатает \"True\"\n",
    "p2 = City('SaN frANCISco')\n",
    "print(p2)  # печатает \"San Francisco\"\n",
    "print(p2 == True)  # печатает \"False\"\n",
    "```"
   ]
  },
  {
   "cell_type": "code",
   "execution_count": 51,
   "metadata": {},
   "outputs": [
    {
     "name": "stdout",
     "output_type": "stream",
     "text": [
      "New York\n",
      "True\n",
      "San Francisco\n",
      "False\n"
     ]
    }
   ],
   "source": [
    "class City:\n",
    "    \n",
    "    def __init__(self, name):\n",
    "        name_list = []\n",
    "        for i in name.split(' '):\n",
    "            name_list.append(i.capitalize())\n",
    "        self.name = ' '.join(name_list)\n",
    "        \n",
    "    def __str__(self):\n",
    "        return self.name\n",
    "    \n",
    "    def __bool__(self):\n",
    "        return self.name[-1] not in ('a', 'e', 'i', 'o', 'u')\n",
    "        \n",
    "p1 = City('new york')\n",
    "print(p1)  # печатает \"New York\"\n",
    "print(bool(p1))  # печатает \"True\"\n",
    "p2 = City('SaN frANCISco')\n",
    "print(p2)  # печатает \"San Francisco\"\n",
    "print(p2 == True)  # печатает \"False\""
   ]
  },
  {
   "cell_type": "markdown",
   "metadata": {},
   "source": [
    "**Задание 2**\n",
    "\n",
    "Сейчас вам нужно создать класс Quadrilateral (четырехугольник), в котором есть:\n",
    "\n",
    "1. конструктор `__init__`. Он должен сохранять в экземпляр класса два атрибута: width и height. При этом в сам метод `__init__` может передаваться один аргумент(тогда в width и height присваивать это одно одинаковое значение, тем самым делать квадрат), либо два аргумента( первый идет в атрибут width, второй - в height)\n",
    "2. переопределить метод `__str__` следующим образом: \n",
    " - если width и height одинаковые, возвращать строку \"Куб размером <width>х<height>\n",
    " - в противном случае, возвращать строку \"Прямоугольник размером <width>х<height>\n",
    "3. переопределить метод __bool__ так, чтобы он возвращал True, если объект является кубом, и False в противном случае\n",
    "\n",
    "``` python\n",
    "q1 = Quadrilateral(10)\n",
    "print(q1)  # печатает \"Куб размером 10х10\"\n",
    "print(bool(q1))  # печатает \"True\"\n",
    "q2 = Quadrilateral(3, 5)\n",
    "print(q2)  # печатает \"Прямоугольник размером 3х5\"\n",
    "print(q2 == True)  # печатает \"False\"\n",
    "```"
   ]
  },
  {
   "cell_type": "markdown",
   "metadata": {},
   "source": [
    "В `*args` храняться значеня в виде кортежа!"
   ]
  },
  {
   "cell_type": "code",
   "execution_count": 7,
   "metadata": {},
   "outputs": [
    {
     "name": "stdout",
     "output_type": "stream",
     "text": [
      "Куб размером 10х10\n",
      "True\n",
      "Прямоугольник размером 3х5\n",
      "False\n"
     ]
    }
   ],
   "source": [
    "class Quadrilateral:\n",
    "    \n",
    "    def __init__(self, width, *args):\n",
    "        self.width = width\n",
    "        #print('args= ', type(args), args)\n",
    "        if args:\n",
    "            self.height = args[0]\n",
    "        else:\n",
    "            self.height = width\n",
    "#         self.height = args if args else self.height = width\n",
    "        #print(type(self.height), self.height)\n",
    "        \n",
    "    def __str__(self):\n",
    "        if self.width == self.height or self == True:\n",
    "            return f'Куб размером {self.width}х{self.height}'\n",
    "        else:\n",
    "            return f'Прямоугольник размером {self.width}х{str(self.height)}'\n",
    "        \n",
    "    def __bool__(self):\n",
    "        #print('call __bool__')\n",
    "        if self.width == self.height:\n",
    "            return True\n",
    "        else:\n",
    "            return False\n",
    "\n",
    "\n",
    "q1 = Quadrilateral(10)\n",
    "print(q1)  # печатает \"Куб размером 10х10\"\n",
    "print(bool(q1))  # печатает \"True\"\n",
    "q2 = Quadrilateral(3, 5)\n",
    "print(q2)  # печатает \"Прямоугольник размером 3х5\"\n",
    "print(q2 == True)  # печатает \"False\""
   ]
  },
  {
   "cell_type": "markdown",
   "metadata": {},
   "source": [
    "## Магический метод `__call__`\n",
    "\n",
    "Магический метод `__call__` подразумевает под собой вызов. В питоне этот оператор обозначается () двумя круглыми скобками и применяется не ко всем объектам. \n",
    "\n",
    "Класс можно вызвать. Можно сохранить в переменную. А экзампляры класса не вызываемые (not callable).\n",
    "\n",
    "При помощи этого метода мы можем избавиться от замыкания."
   ]
  },
  {
   "cell_type": "code",
   "execution_count": 9,
   "metadata": {},
   "outputs": [
    {
     "name": "stdout",
     "output_type": "stream",
     "text": [
      "init object <__main__.Counter object at 0x0000024E0C098FC8>\n",
      "наш атрибут вызывался 1 раз\n",
      "None\n",
      "наш атрибут вызывался 2 раз\n",
      "None\n",
      "наш атрибут вызывался 3 раз\n",
      "None\n"
     ]
    }
   ],
   "source": [
    "class Counter:\n",
    "    def __init__(self):\n",
    "        self.counter = 0\n",
    "        print('init object', self)\n",
    "        \n",
    "    def __call__(self, *args, **kwargs):\n",
    "        self.counter += 1\n",
    "        print(f'наш атрибут вызывался {self.counter} раз')\n",
    "    \n",
    "c = Counter()\n",
    "print(c())\n",
    "print(c())\n",
    "print(c())"
   ]
  },
  {
   "cell_type": "markdown",
   "metadata": {},
   "source": [
    "Реализуем через метод `__call__` замыкание.\n",
    "\n",
    "В `*args` храняться значеня в виде кортежа!"
   ]
  },
  {
   "cell_type": "code",
   "execution_count": 12,
   "metadata": {},
   "outputs": [
    {
     "name": "stdout",
     "output_type": "stream",
     "text": [
      "init object <__main__.Counter object at 0x0000024E0C027588>\n",
      "0\n",
      "0\n",
      "наш атрибут вызывался 1 раз\n",
      "None\n",
      "12\n",
      "3\n",
      "наш атрибут вызывался 2 раз\n",
      "None\n",
      "3.0\n"
     ]
    }
   ],
   "source": [
    "class Counter:\n",
    "    def __init__(self):\n",
    "        self.counter = 0\n",
    "        self.summa = 0\n",
    "        self.length = 0\n",
    "        print('init object', self)\n",
    "        \n",
    "    def __call__(self, *args, **kwargs):\n",
    "        self.counter += 1\n",
    "        self.summa += sum(args)\n",
    "        self.length += len(args)\n",
    "        print(f'наш атрибут вызывался {self.counter} раз')\n",
    "        \n",
    "    def average(self):\n",
    "        return self.summa / self.length\n",
    "    \n",
    "q = Counter()\n",
    "print(q.counter)\n",
    "print(q.summa)\n",
    "print(q(3, 4, 5))\n",
    "print(q.summa)\n",
    "print(q.length) # передали 3 элемента\n",
    "print(q(1, 2))\n",
    "print(q.average())"
   ]
  },
  {
   "cell_type": "markdown",
   "metadata": {},
   "source": [
    "А теперь реализуем использование магического методо `__call__` в качестве декоратора.\n",
    "\n",
    "Класс Timer будет замерять сколько по времени будет работать функция, которую мы будем декорировать.\n",
    "\n",
    "Мы могли бы задекорировать факториал повесив на него декоратор вот так:\n",
    "``` python\n",
    "@Timer\n",
    "def fact(n):\n",
    "    pr = 1\n",
    "    for i in range(1, n + 1):\n",
    "        pt += 1\n",
    "    return pr\n",
    "```\n",
    "но мы сделаем по другому. Мы сделаем это прямым вызовом: функия факториал равна вызову функции таймер, куда передаётся функция факториал. Что происходит: мы вызываем класс Timer и у него запуститься функия `__init__`, которая сохранит атрибут который мы передаём в атрибут self.fn и при этом слздасться объект класса Timer, который уже сохраниться по нашему имени fact. Т.е. теперь у нас здесь храниться уже не функция, а объект класса Timer. \n",
    "\n",
    "И у таймера есть функция `__call__` (), т.е. мы можем передать значение "
   ]
  },
  {
   "cell_type": "code",
   "execution_count": 18,
   "metadata": {},
   "outputs": [
    {
     "name": "stdout",
     "output_type": "stream",
     "text": [
      "<__main__.Timer object at 0x0000024E0C0E84C8>\n",
      "Вызывается функция fact\n",
      "Функция отработала за 3.440000000409782e-05\n"
     ]
    },
    {
     "data": {
      "text/plain": [
       "5040"
      ]
     },
     "execution_count": 18,
     "metadata": {},
     "output_type": "execute_result"
    }
   ],
   "source": [
    "from time import perf_counter\n",
    "\n",
    "class Timer:\n",
    "    def __init__(self, func):\n",
    "        self.fn = func\n",
    "        \n",
    "    def __call__(self, *args, **kwargs):\n",
    "        start = perf_counter()\n",
    "        print(f'Вызывается функция {self.fn.__name__}')\n",
    "        result = self.fn(*args, **kwargs)\n",
    "        finish = perf_counter()\n",
    "        print(f'Функция отработала за {finish - start}')\n",
    "        return result\n",
    "    \n",
    "# факториал\n",
    "def fact(n):\n",
    "    pr = 1\n",
    "    for i in range(1, n + 1):\n",
    "        pr *= i\n",
    "    return pr\n",
    "\n",
    "# Фибоначчи\n",
    "def fib(n):\n",
    "    if n <= 2:\n",
    "        return 1\n",
    "    return fib(n - 1) + fib(n - 2)\n",
    "\n",
    "fact = Timer(fact)\n",
    "print(fact)\n",
    "fact(7)"
   ]
  },
  {
   "cell_type": "markdown",
   "metadata": {},
   "source": [
    "А теперь через декоратор:"
   ]
  },
  {
   "cell_type": "code",
   "execution_count": 20,
   "metadata": {},
   "outputs": [
    {
     "name": "stdout",
     "output_type": "stream",
     "text": [
      "Вызывается функция fact\n",
      "Функция отработала за 6.08000000283937e-05\n"
     ]
    },
    {
     "data": {
      "text/plain": [
       "5040"
      ]
     },
     "execution_count": 20,
     "metadata": {},
     "output_type": "execute_result"
    }
   ],
   "source": [
    "# факториал\n",
    "@Timer\n",
    "def fact(n):\n",
    "    pr = 1\n",
    "    for i in range(1, n + 1):\n",
    "        pr *= i\n",
    "    return pr\n",
    "\n",
    "fact(7)"
   ]
  },
  {
   "cell_type": "markdown",
   "metadata": {},
   "source": [
    "Фибоначчи можно задекорировать вот таким образом:"
   ]
  },
  {
   "cell_type": "code",
   "execution_count": null,
   "metadata": {},
   "outputs": [],
   "source": [
    "# Фибоначчи\n",
    "def fib(n):\n",
    "    if n <= 2:\n",
    "        return 1\n",
    "    return fib(n - 1) + fib(n - 2)\n",
    "\n",
    "fib = Timer(fib)\n",
    "fib(20)"
   ]
  },
  {
   "cell_type": "markdown",
   "metadata": {},
   "source": [
    "Проблема в том, что выводятся выводы для реккурсивных вызовов функции. и мы не видим конечный результат за сколько отработала функция. Это из-за того что мы целиком задекорировали нашу функцию fib. Т.е. она задекорирована на всех уровнях. А нам нужно декорировать не целиком функцию fib, а задекорировать только её вызов.\n",
    "\n",
    "Для этого вызовем таймер, декорируем функию fib и тут сразу же передаём аргумент (например посчитать от 7). Задекорированная функция fib отработала и вернула результат."
   ]
  },
  {
   "cell_type": "code",
   "execution_count": 24,
   "metadata": {},
   "outputs": [
    {
     "name": "stdout",
     "output_type": "stream",
     "text": [
      "Вызывается функция fib\n",
      "Функция отработала за 6.070000017643906e-05\n"
     ]
    },
    {
     "data": {
      "text/plain": [
       "13"
      ]
     },
     "execution_count": 24,
     "metadata": {},
     "output_type": "execute_result"
    }
   ],
   "source": [
    "# Фибоначчи\n",
    "def fib(n):\n",
    "    if n <= 2:\n",
    "        return 1\n",
    "    return fib(n - 1) + fib(n - 2)\n",
    "\n",
    "Timer(fib)(7)"
   ]
  },
  {
   "cell_type": "markdown",
   "metadata": {},
   "source": [
    "Но если вызовем fib(7), она не изменила своё поведение. Т.е. функция fib до конца не задекорирована, задекорирован её вызов. Сама функция fib всё ещё указывает на саму себя. "
   ]
  },
  {
   "cell_type": "code",
   "execution_count": 25,
   "metadata": {},
   "outputs": [
    {
     "data": {
      "text/plain": [
       "13"
      ]
     },
     "execution_count": 25,
     "metadata": {},
     "output_type": "execute_result"
    }
   ],
   "source": [
    "fib(7)"
   ]
  },
  {
   "cell_type": "code",
   "execution_count": 26,
   "metadata": {},
   "outputs": [
    {
     "data": {
      "text/plain": [
       "<function __main__.fib(n)>"
      ]
     },
     "execution_count": 26,
     "metadata": {},
     "output_type": "execute_result"
    }
   ],
   "source": [
    "fib"
   ]
  },
  {
   "cell_type": "markdown",
   "metadata": {},
   "source": [
    "И при помощи такого вызова `Timer(fib)(20)` мы можен например узнать сколько будет число Фибоначчи 20."
   ]
  },
  {
   "cell_type": "code",
   "execution_count": 28,
   "metadata": {},
   "outputs": [
    {
     "name": "stdout",
     "output_type": "stream",
     "text": [
      "Вызывается функция fib\n",
      "Функция отработала за 33.734752299999855\n"
     ]
    },
    {
     "data": {
      "text/plain": [
       "102334155"
      ]
     },
     "execution_count": 28,
     "metadata": {},
     "output_type": "execute_result"
    }
   ],
   "source": [
    "Timer(fib)(40)"
   ]
  },
  {
   "cell_type": "markdown",
   "metadata": {},
   "source": [
    "## Полиморфизм в Python\n",
    "\n",
    "Иллюстрации проблемы, которую решает полиморфизм здесь: https://www.youtube.com/watch?v=aEOSBkzNImw\n",
    "\n",
    "Полиморфизм - это возможность работы с разными объектами путём использования одного и того же метода (по названиям).\n",
    "\n",
    "**Полиморфизм - это способность функции обрабатывать данные разных типов**"
   ]
  },
  {
   "cell_type": "code",
   "execution_count": 4,
   "metadata": {},
   "outputs": [],
   "source": [
    "class Rectangle:\n",
    "    \n",
    "    def __init__(self, a, b):\n",
    "        self.a = a\n",
    "        self.b = b\n",
    "        \n",
    "    def get_area(self):\n",
    "        return self.a * self.b\n",
    "\n",
    "class Square:\n",
    "    def __init__(self, a):\n",
    "        self.a = a\n",
    "        \n",
    "    def get_area(self):\n",
    "        return self.a ** 2\n",
    "    \n",
    "class Circle:\n",
    "    def __init__(self, r):\n",
    "        self.r = r\n",
    "        \n",
    "    def get_area(self):\n",
    "        return 3.14 * self.r ** 2"
   ]
  },
  {
   "cell_type": "markdown",
   "metadata": {},
   "source": [
    "Сам Питон определяет у какого объекта он будет вызывать метод get_area. Т.е. когда поступит прямоуголник, он пойдёт в класс прямоугольника и вызовет у него этот метод."
   ]
  },
  {
   "cell_type": "code",
   "execution_count": 6,
   "metadata": {},
   "outputs": [
    {
     "name": "stdout",
     "output_type": "stream",
     "text": [
      "12\n",
      "60\n",
      "25\n",
      "4\n",
      "28.26\n",
      "12.56\n"
     ]
    }
   ],
   "source": [
    "rect1 = Rectangle(3, 4)\n",
    "rect2 = Rectangle(12, 5)\n",
    "sq1 = Square(5)\n",
    "sq2 = Square(2)\n",
    "cir1 = Circle(3)\n",
    "cir2 = Circle(2)\n",
    "\n",
    "figures = [rect1, rect2, sq1, sq2, cir1, cir2]\n",
    "for figure in figures:\n",
    "    print(figure.get_area())"
   ]
  },
  {
   "cell_type": "markdown",
   "metadata": {},
   "source": [
    "В этом и заключается полиморфизм - мы используем один и тот же метод, но при этом добиваемся разного поведения и оно будет зависеть от самого класса.\n",
    "\n",
    "Также полиморфного поведения мы можем добиться с помощью магических методов."
   ]
  },
  {
   "cell_type": "code",
   "execution_count": 7,
   "metadata": {},
   "outputs": [
    {
     "name": "stdout",
     "output_type": "stream",
     "text": [
      "Rectangle 3x4 12\n",
      "Rectangle 12x5 60\n",
      "Square 5x5 25\n",
      "Square 2x2 4\n",
      "Circle radius=3 28.26\n",
      "Circle radius=2 12.56\n"
     ]
    }
   ],
   "source": [
    "class Rectangle:\n",
    "    \n",
    "    def __init__(self, a, b):\n",
    "        self.a = a\n",
    "        self.b = b\n",
    "    \n",
    "    def __str__(self):\n",
    "        return f'Rectangle {self.a}x{self.b}'\n",
    "        \n",
    "    def get_area(self):\n",
    "        return self.a * self.b\n",
    "\n",
    "class Square:\n",
    "    def __init__(self, a):\n",
    "        self.a = a\n",
    "        \n",
    "    def __str__(self):\n",
    "        return f'Square {self.a}x{self.a}'\n",
    "    \n",
    "    def get_area(self):\n",
    "        return self.a ** 2\n",
    "    \n",
    "class Circle:\n",
    "    def __init__(self, r):\n",
    "        self.r = r\n",
    "    \n",
    "    def __str__(self):\n",
    "        return f'Circle radius={self.r}'\n",
    "    \n",
    "    def get_area(self):\n",
    "        return 3.14 * self.r ** 2\n",
    "    \n",
    "rect1 = Rectangle(3, 4)\n",
    "rect2 = Rectangle(12, 5)\n",
    "sq1 = Square(5)\n",
    "sq2 = Square(2)\n",
    "cir1 = Circle(3)\n",
    "cir2 = Circle(2)\n",
    "\n",
    "figures = [rect1, rect2, sq1, sq2, cir1, cir2]\n",
    "for figure in figures:\n",
    "    print(figure, figure.get_area())"
   ]
  },
  {
   "cell_type": "markdown",
   "metadata": {},
   "source": [
    "## Методы `__getitem__` , `__setitem__` и `__delitem__`\n",
    "\n",
    "Видео с объяснением проблемы: https://www.youtube.com/watch?v=pcmiKELchnE\n",
    "\n",
    "Метод `__getitem__` необходим для того чтоы обращаться к классу как к списку - по индексу. Этом ожно добавть с помощью метода `__getitem__`. "
   ]
  },
  {
   "cell_type": "code",
   "execution_count": 9,
   "metadata": {},
   "outputs": [
    {
     "data": {
      "text/plain": [
       "3"
      ]
     },
     "execution_count": 9,
     "metadata": {},
     "output_type": "execute_result"
    }
   ],
   "source": [
    "class Vector:\n",
    "    \n",
    "    def __init__(self, *args):\n",
    "        self.values = list(args)\n",
    "        \n",
    "    def __repr__(self):\n",
    "        return str(self.values)\n",
    "    \n",
    "    # item по сути подразумевает собой индекс\n",
    "    def __getitem__(self, item):\n",
    "        # обработка возможной ошибки, что item вне допустимого интервала\n",
    "        if 0 <= item < len (self.values):\n",
    "            return self.values[item]\n",
    "        else:\n",
    "            raise IndexError('Индекс за границами нашей коллекции')\n",
    "            \n",
    "v3 = Vector(4, 3, 54, 3, 43, 2)\n",
    "v3[1]"
   ]
  },
  {
   "cell_type": "markdown",
   "metadata": {},
   "source": [
    "К списка по индексу мы можем не только обращаться по индексу, но и присваивать новые значения. Но если мы попробуем изменить значение у нашего акземпляра, будет ошибка. Для того, чтобы добавить такое поведение нужен метод `__setitem__`"
   ]
  },
  {
   "cell_type": "code",
   "execution_count": 13,
   "metadata": {},
   "outputs": [
    {
     "name": "stdout",
     "output_type": "stream",
     "text": [
      "7\n"
     ]
    },
    {
     "data": {
      "text/plain": [
       "[4, 6, 100, 7, 5, 4]"
      ]
     },
     "execution_count": 13,
     "metadata": {},
     "output_type": "execute_result"
    }
   ],
   "source": [
    "class Vector:\n",
    "    \n",
    "    def __init__(self, *args):\n",
    "        self.values = list(args)\n",
    "        \n",
    "    def __repr__(self):\n",
    "        return str(self.values)\n",
    "    \n",
    "    # item по сути подразумевает собой индекс\n",
    "    def __getitem__(self, item):\n",
    "        # обработка возможной ошибки, что item вне допустимого интервала\n",
    "        if 0 <= item < len (self.values):\n",
    "            return self.values[item]\n",
    "        else:\n",
    "            raise IndexError('Индекс за границами нашей коллекции')\n",
    "            \n",
    "    def __setitem__(self, key, value):\n",
    "        if 0 <= key < len(self.values):\n",
    "            self.values[key] = value\n",
    "        else:\n",
    "            raise IndexError('Индекс за границами нашей коллекции')\n",
    "    \n",
    "v5 = Vector(4, 6, 7, 7, 5, 4)\n",
    "print(v5[2])\n",
    "v5[2] = 100\n",
    "v5"
   ]
  },
  {
   "cell_type": "markdown",
   "metadata": {},
   "source": [
    "Метод `__delitem__` вызывается в тот момент, когда вы хотите удалить инекс (если он есть) из коллекции. "
   ]
  },
  {
   "cell_type": "code",
   "execution_count": 15,
   "metadata": {},
   "outputs": [
    {
     "name": "stdout",
     "output_type": "stream",
     "text": [
      "[4, 100, 43]\n"
     ]
    },
    {
     "data": {
      "text/plain": [
       "[4, 43]"
      ]
     },
     "execution_count": 15,
     "metadata": {},
     "output_type": "execute_result"
    }
   ],
   "source": [
    "a = [4, 100, 43]\n",
    "print(a)\n",
    "del a[1]\n",
    "a"
   ]
  },
  {
   "cell_type": "code",
   "execution_count": 16,
   "metadata": {},
   "outputs": [
    {
     "name": "stdout",
     "output_type": "stream",
     "text": [
      "[5, 34, 43]\n"
     ]
    },
    {
     "data": {
      "text/plain": [
       "[5, 34]"
      ]
     },
     "execution_count": 16,
     "metadata": {},
     "output_type": "execute_result"
    }
   ],
   "source": [
    "class Vector:\n",
    "    \n",
    "    def __init__(self, *args):\n",
    "        self.values = list(args)\n",
    "        \n",
    "    def __repr__(self):\n",
    "        return str(self.values)\n",
    "    \n",
    "    # item по сути подразумевает собой индекс\n",
    "    def __getitem__(self, item):\n",
    "        # обработка возможной ошибки, что item вне допустимого интервала\n",
    "        if 0 <= item < len (self.values):\n",
    "            return self.values[item]\n",
    "        else:\n",
    "            raise IndexError('Индекс за границами нашей коллекции')\n",
    "            \n",
    "    def __setitem__(self, key, value):\n",
    "        if 0 <= key < len(self.values):\n",
    "            self.values[key] = value\n",
    "        else:\n",
    "            raise IndexError('Индекс за границами нашей коллекции')\n",
    "    \n",
    "    def __delitem__(self, key):\n",
    "        if 0 <= key < len(self.values):\n",
    "            del self.values[key]\n",
    "        else:\n",
    "            raise IndexError('Индекс за границами нашей коллекции')\n",
    "    \n",
    "v6 = Vector(5, 34, 43)\n",
    "print(v6)\n",
    "del v6[2]\n",
    "v6"
   ]
  },
  {
   "cell_type": "markdown",
   "metadata": {},
   "source": [
    "Поменяем индексацию так, чтобы она была не с нуля, а с единицы  помощью изменения метода `__getitem__`.\n",
    "\n",
    "А с помощью метода `__setitem__` сделаем разреженный массив, т.е. когда некоторые значения попущены (т.е. мы их заполняем фиктивными элементами. А потом, когда эти значения появятся, мы их запишем в список."
   ]
  },
  {
   "cell_type": "code",
   "execution_count": 19,
   "metadata": {},
   "outputs": [
    {
     "name": "stdout",
     "output_type": "stream",
     "text": [
      "Индексация с нуля\n",
      "[65, 32, 32, 34]\n",
      "34 \n",
      "\n",
      "Разряженная матрица\n"
     ]
    },
    {
     "data": {
      "text/plain": [
       "[1, 2, 3, 0, 0, 0, 0, 0, 0, 100]"
      ]
     },
     "execution_count": 19,
     "metadata": {},
     "output_type": "execute_result"
    }
   ],
   "source": [
    "class Vector:\n",
    "    \n",
    "    def __init__(self, *args):\n",
    "        self.values = list(args)\n",
    "        \n",
    "    def __repr__(self):\n",
    "        return str(self.values)\n",
    "    \n",
    "    # item по сути подразумевает собой индекс\n",
    "    def __getitem__(self, item):\n",
    "        # обработка возможной ошибки, что item вне допустимого интервала\n",
    "        if 1 <= item <= len (self.values): # поменяли не только 0 на 1, но и < на <=\n",
    "            return self.values[item - 1]\n",
    "        else:\n",
    "            raise IndexError('Индекс за границами нашей коллекции')\n",
    "            \n",
    "    def __setitem__(self, key, value):\n",
    "        if 1 <= key <= len(self.values):\n",
    "            self.values[key - 1] = value\n",
    "        elif key > len(self.values):\n",
    "            diff = key - len(self.values)\n",
    "            self.values.extend([0] * diff)\n",
    "            self.values[key - 1] = value\n",
    "        else:\n",
    "            raise IndexError('Индекс за границами нашей коллекции')\n",
    "    \n",
    "    def __delitem__(self, key):\n",
    "        if 0 <= key < len(self.values):\n",
    "            del self.values[key]\n",
    "        else:\n",
    "            raise IndexError('Индекс за границами нашей коллекции')\n",
    "            \n",
    "print('Индексация с нуля')\n",
    "v7 = Vector(65, 32, 32, 34)\n",
    "print(v7)\n",
    "print(v7[4], '\\n')\n",
    "\n",
    "print('Разряженная массив')\n",
    "v9 = Vector(1, 2, 3)\n",
    "v9[10] = 100\n",
    "v9"
   ]
  },
  {
   "cell_type": "markdown",
   "metadata": {},
   "source": [
    "## Магические методы `__iter__` и `__next__`\n",
    "\n",
    "При помощи этих методов экземпляры класса смогут итерироваться. Или другими словами, экземпляры класса смогут обходиться с помощью цикла `for`.\n",
    "\n",
    "Пример того как итерируются списки: Питон создаёт итератор (его можно сделать при помощи функции `iter`. Итератор представляет собой коллекцию, элементы которого можно поочерёдно обойти. Объоди происходит путём вызова функции `next`. При помощи каждого вызова функции `next` мы получаем следующий элемент. Как только итератор подойдёт к концу мы получим ошибку stop iteration."
   ]
  },
  {
   "cell_type": "code",
   "execution_count": 24,
   "metadata": {},
   "outputs": [
    {
     "name": "stdout",
     "output_type": "stream",
     "text": [
      "[1, 2, 3]\n",
      "<list_iterator object at 0x00000224F28B29C8>\n",
      "1\n",
      "2\n",
      "3\n"
     ]
    }
   ],
   "source": [
    "a = [1, 2, 3]\n",
    "b = iter(a)\n",
    "print(a)\n",
    "print(b)\n",
    "print(next(b))\n",
    "print(next(b))\n",
    "print(next(b))\n",
    "#print(next(b))"
   ]
  },
  {
   "cell_type": "markdown",
   "metadata": {},
   "source": [
    "Далее мы обходить не можем, потму что итератор, это такая коллекция которая обходиться один раз. Поэтому если мы хотим вновь пройти по этой коллекции, нужно создать новый итератор. Создать его можно путём магического слова `__iter__`. И далее вызывать магический метод `__next__`."
   ]
  },
  {
   "cell_type": "code",
   "execution_count": 22,
   "metadata": {},
   "outputs": [
    {
     "data": {
      "text/plain": [
       "<list_iterator at 0x224f1823188>"
      ]
     },
     "execution_count": 22,
     "metadata": {},
     "output_type": "execute_result"
    }
   ],
   "source": [
    "c = a.__iter__()\n",
    "c"
   ]
  },
  {
   "cell_type": "code",
   "execution_count": 23,
   "metadata": {},
   "outputs": [
    {
     "data": {
      "text/plain": [
       "1"
      ]
     },
     "execution_count": 23,
     "metadata": {},
     "output_type": "execute_result"
    }
   ],
   "source": [
    "c.__next__()"
   ]
  },
  {
   "cell_type": "markdown",
   "metadata": {},
   "source": [
    "Т.е. каждый раз когда мы какую либо коллекцию обходим циклом for за сценой питон превращает это всё в итератор и этому итератору вызывается функция `__next__`. В конце вызывается исключение StopIteration, но цикл for обрабатывает это исключение, поэтому эту ошибку мы не видим.\n",
    "\n",
    "Задача: сделать класс итерируемый.\n",
    "\n",
    "1 способ (не самый очевидный) с помощью getitem. Если в классе реализован метод getitem, питон воспользуется им при обходе коллекции:"
   ]
  },
  {
   "cell_type": "code",
   "execution_count": 31,
   "metadata": {},
   "outputs": [
    {
     "name": "stdout",
     "output_type": "stream",
     "text": [
      "I\n",
      "g\n",
      "o\n",
      "r\n"
     ]
    }
   ],
   "source": [
    "class Student:\n",
    "    \n",
    "    def __init__(self, name, surname, marks):\n",
    "        self.name = name\n",
    "        self.surname = surname\n",
    "        self.marks = marks\n",
    "        \n",
    "    def __getitem__ (self, item):\n",
    "        return self.name[item]\n",
    "    \n",
    "igor = Student('Igor', 'Nikolaev', [3, 4, 5, 6, 3])\n",
    "for i in igor:\n",
    "    print(i)"
   ]
  },
  {
   "cell_type": "code",
   "execution_count": 32,
   "metadata": {},
   "outputs": [
    {
     "name": "stdout",
     "output_type": "stream",
     "text": [
      "3\n",
      "4\n",
      "5\n",
      "6\n",
      "3\n"
     ]
    }
   ],
   "source": [
    "class Student:\n",
    "    \n",
    "    def __init__(self, name, surname, marks):\n",
    "        self.name = name\n",
    "        self.surname = surname\n",
    "        self.marks = marks\n",
    "        \n",
    "    def __getitem__ (self, item):\n",
    "        return self.marks[item]\n",
    "    \n",
    "igor = Student('Igor', 'Nikolaev', [3, 4, 5, 6, 3])\n",
    "for i in igor:\n",
    "    print(i)"
   ]
  },
  {
   "cell_type": "markdown",
   "metadata": {},
   "source": [
    "Но данный метод не является овновным. Главный метод с помошью iter. Если мы добавим iter и оставим getitemб питон не будет смотреть на marks в getitem и не будет отерировать оценки, а будет сомтреть только iter и итерировать то что в этом методе потому что getitem отвечает за другое - он реализует обращение по индексу."
   ]
  },
  {
   "cell_type": "code",
   "execution_count": 33,
   "metadata": {},
   "outputs": [
    {
     "name": "stdout",
     "output_type": "stream",
     "text": [
      "call iter\n",
      "I\n",
      "g\n",
      "o\n",
      "r\n"
     ]
    }
   ],
   "source": [
    "class Student:\n",
    "    \n",
    "    def __init__(self, name, surname, marks):\n",
    "        self.name = name\n",
    "        self.surname = surname\n",
    "        self.marks = marks\n",
    "        \n",
    "    def __getitem__ (self, item):\n",
    "        return self.marks[item]\n",
    "    \n",
    "    def __iter__(self):\n",
    "        print('call iter')\n",
    "        return iter(self.name)\n",
    "    \n",
    "igor = Student('Igor', 'Nikolaev', [3, 4, 5, 6, 3])\n",
    "for i in igor:\n",
    "    print(i)"
   ]
  },
  {
   "cell_type": "markdown",
   "metadata": {},
   "source": [
    "Но метод iter вызывается внутри метода str. И если мы в методе iter возвращаем см класс (self), то нам нужен метод next."
   ]
  },
  {
   "cell_type": "code",
   "execution_count": 35,
   "metadata": {},
   "outputs": [
    {
     "name": "stdout",
     "output_type": "stream",
     "text": [
      "call iter\n",
      "I\n",
      "g\n",
      "o\n",
      "r\n"
     ]
    }
   ],
   "source": [
    "class Student:\n",
    "    \n",
    "    def __init__(self, name, surname, marks):\n",
    "        self.name = name\n",
    "        self.surname = surname\n",
    "        self.marks = marks\n",
    "        \n",
    "    def __getitem__ (self, item):\n",
    "        return self.marks[item]\n",
    "    \n",
    "    def __iter__(self):\n",
    "        print('call iter')\n",
    "        self.index = 0\n",
    "        return self\n",
    "    \n",
    "    def __next__(self):\n",
    "        if self.index >= len(self.name):\n",
    "            raise StopIteration\n",
    "        letter = self.name[self.index]\n",
    "        self.index += 1\n",
    "        return letter\n",
    "    \n",
    "igor = Student('Igor', 'Nikolaev', [3, 4, 5, 6, 3])\n",
    "for i in igor:\n",
    "    print(i)"
   ]
  },
  {
   "cell_type": "code",
   "execution_count": 37,
   "metadata": {},
   "outputs": [
    {
     "name": "stdout",
     "output_type": "stream",
     "text": [
      "call iter\n",
      "call next marks\n",
      "3\n",
      "call next marks\n",
      "4\n",
      "call next marks\n",
      "5\n",
      "call next marks\n",
      "6\n",
      "call next marks\n",
      "3\n",
      "call next marks\n"
     ]
    }
   ],
   "source": [
    "class Mark:\n",
    "    def __init__(self, values):\n",
    "        self.value = values\n",
    "        self.index = 0\n",
    "        \n",
    "    def __iter__(self):\n",
    "        return self\n",
    "    \n",
    "    def __next__(self):\n",
    "        print('call next marks')\n",
    "        if self.index >= len(self.value):\n",
    "            self.index = 0\n",
    "            raise StopIteration\n",
    "        letter = self.value[self.index]\n",
    "        self.index += 1\n",
    "        return letter\n",
    "\n",
    "class Student:\n",
    "    \n",
    "    def __init__(self, name, surname, marks):\n",
    "        self.name = name\n",
    "        self.surname = surname\n",
    "        self.marks = marks\n",
    "        \n",
    "    def __getitem__ (self, item):\n",
    "        return self.marks[item]\n",
    "    \n",
    "    def __iter__(self):\n",
    "        print('call iter')\n",
    "        self.index = 0\n",
    "        return iter(self.marks)\n",
    "    \n",
    "    def __next__(self):\n",
    "        print('call next students')\n",
    "        if self.index >= len(self.name):\n",
    "            raise StopIteration\n",
    "        letter = self.name[self.index]\n",
    "        self.index += 1\n",
    "        return letter\n",
    "\n",
    "m = Mark([3, 4, 5, 6, 3])\n",
    "igor = Student('Igor', 'Nikolaev', m)\n",
    "for i in igor:\n",
    "    print(i)"
   ]
  },
  {
   "cell_type": "markdown",
   "metadata": {},
   "source": [
    "# Принцип наследования в ООП\n",
    "\n",
    "В примере ниже классы изолированы. Доктор может лечить, а архитектор строить. Но доктор не может строить, а архитектор лечить."
   ]
  },
  {
   "cell_type": "code",
   "execution_count": 40,
   "metadata": {},
   "outputs": [
    {
     "name": "stdout",
     "output_type": "stream",
     "text": [
      "Я могу лечить\n",
      "None\n",
      "Я могу построить здание\n",
      "None\n"
     ]
    }
   ],
   "source": [
    "class Doctor:\n",
    "    \n",
    "    def can_walk(self):\n",
    "        print('Я могу ходить')\n",
    "    \n",
    "    def can_cure(self):\n",
    "        print('Я могу лечить')\n",
    "\n",
    "class Architect:\n",
    "    \n",
    "    def can_walk(self):\n",
    "        print('Я могу ходить')\n",
    "        \n",
    "    def can_build(self):\n",
    "        print('Я могу построить здание')\n",
    "\n",
    "d = Doctor()\n",
    "print(d.can_cure())\n",
    "a = Architect()\n",
    "print(a.can_build())"
   ]
  },
  {
   "cell_type": "markdown",
   "metadata": {},
   "source": [
    "А что может их объединять? Они являются людьми и, например, могут ходить. Добавляем и видим, что налицо дублирование кода. а что если мы добавим ещё методов и все они будут дублироваться. А если мы добавим ещё классов? Тогда дублирование увеличить ещё больше. Тогда на помощь придёт принцип наследования. Он заключается в следующе: одинаковое поведение мы можем вынести в базовый класс, который будет родителем. А чтобы они наследовали, в скобках нужно указать от какого класса мы наследуемся.\n",
    "\n",
    "Тогда **подкласс унаследует все атрибуты и методы** родительского класса. Они добавяться к подклассам.\n",
    "\n",
    "Получается класс Доктор расширяет (*extend*) функционал класса Person.\n",
    "\n",
    "В питоне существует функция для проверки является ли один класс подклассом другого. Взаимосвязь между классами иерархичная."
   ]
  },
  {
   "cell_type": "code",
   "execution_count": 48,
   "metadata": {},
   "outputs": [
    {
     "name": "stdout",
     "output_type": "stream",
     "text": [
      "Я могу лечить\n",
      "None\n",
      "Я могу ходить\n",
      "None\n",
      "Я могу дышать\n",
      "None\n",
      "Я могу построить здание\n",
      "None\n",
      "Я могу ходить\n",
      "None\n",
      "Я могу дышать\n",
      "None\n",
      "True\n",
      "False\n",
      "True\n",
      "True\n"
     ]
    }
   ],
   "source": [
    "class Person: # parent\n",
    "    \n",
    "    def can_breathe(self):\n",
    "        print('Я могу дышать')\n",
    "        \n",
    "    def can_walk(self):\n",
    "        print('Я могу ходить')\n",
    "\n",
    "class Doctor(Person): # subclass\n",
    "    \n",
    "    def can_cure(self):\n",
    "        print('Я могу лечить')\n",
    "\n",
    "class Architect(Person): # subclass\n",
    "        \n",
    "    def can_build(self):\n",
    "        print('Я могу построить здание')\n",
    "\n",
    "d = Doctor()\n",
    "print(d.can_cure())\n",
    "print(d.can_walk())\n",
    "print(d.can_breathe())\n",
    "a = Architect()\n",
    "print(a.can_build())\n",
    "print(a.can_walk())\n",
    "print(a.can_breathe())\n",
    "\n",
    "print(issubclass(Doctor, Person))\n",
    "print(issubclass(Person, Doctor))\n",
    "\n",
    "print(isinstance(d, Doctor))\n",
    "print(isinstance(d, Person)) # работает и для родительского класса"
   ]
  },
  {
   "cell_type": "markdown",
   "metadata": {},
   "source": [
    "**Задача**\n",
    "\n",
    "Ваша задача создать пустые классы Venicle Car Plane Boat RaceCar, которые находятся в следующей иерархии:"
   ]
  },
  {
   "cell_type": "code",
   "execution_count": 111,
   "metadata": {},
   "outputs": [],
   "source": [
    "class Vehicle:\n",
    "    pass\n",
    "\n",
    "class Car(Vehicle):\n",
    "    pass\n",
    "\n",
    "class Plane(Vehicle):\n",
    "    pass\n",
    "\n",
    "class Boat(Vehicle):\n",
    "    pass\n",
    "\n",
    "class RaceCar(Car):\n",
    "    pass"
   ]
  },
  {
   "cell_type": "markdown",
   "metadata": {},
   "source": [
    "## Наследование от object и от других встроенных типов\n",
    "\n",
    "В питоне всё является объектом. Класс целое - подкласс класса объекта. Каждый встроенный тип является классом и они являются подклассом самого объекта. Люой класс в питоне наследуется от объекта. "
   ]
  },
  {
   "cell_type": "code",
   "execution_count": 115,
   "metadata": {},
   "outputs": [
    {
     "name": "stdout",
     "output_type": "stream",
     "text": [
      "True\n",
      "True\n",
      "True\n"
     ]
    }
   ],
   "source": [
    "print(isinstance(34, object))\n",
    "print(isinstance(int, object))\n",
    "print(issubclass(int, object))"
   ]
  },
  {
   "cell_type": "markdown",
   "metadata": {},
   "source": [
    "Если мы создаём класс и не наследуемся от другого класс, то мы наследуемся от класса объект."
   ]
  },
  {
   "cell_type": "code",
   "execution_count": 116,
   "metadata": {},
   "outputs": [
    {
     "data": {
      "text/plain": [
       "True"
      ]
     },
     "execution_count": 116,
     "metadata": {},
     "output_type": "execute_result"
    }
   ],
   "source": [
    "class Person:\n",
    "    pass\n",
    "\n",
    "issubclass(Person, object)"
   ]
  },
  {
   "cell_type": "markdown",
   "metadata": {},
   "source": [
    "Зная это посмотрим на класс объект - к каким функциям и методам мы можем обращаться."
   ]
  },
  {
   "cell_type": "code",
   "execution_count": 117,
   "metadata": {},
   "outputs": [
    {
     "data": {
      "text/plain": [
       "['__class__',\n",
       " '__delattr__',\n",
       " '__dir__',\n",
       " '__doc__',\n",
       " '__eq__',\n",
       " '__format__',\n",
       " '__ge__',\n",
       " '__getattribute__',\n",
       " '__gt__',\n",
       " '__hash__',\n",
       " '__init__',\n",
       " '__init_subclass__',\n",
       " '__le__',\n",
       " '__lt__',\n",
       " '__ne__',\n",
       " '__new__',\n",
       " '__reduce__',\n",
       " '__reduce_ex__',\n",
       " '__repr__',\n",
       " '__setattr__',\n",
       " '__sizeof__',\n",
       " '__str__',\n",
       " '__subclasshook__']"
      ]
     },
     "execution_count": 117,
     "metadata": {},
     "output_type": "execute_result"
    }
   ],
   "source": [
    "dir(object)"
   ]
  },
  {
   "cell_type": "markdown",
   "metadata": {},
   "source": [
    "У класса Person будет наследовать все те же методы.\n",
    "\n",
    "Мы можем унследоваться от другого типа, например от списка. И видим, что пустой список и от t и от list(). И он унаследовал все функции и методы списков (прибавить, отсортировать...). Но типом переменной t является не список, а MyList!"
   ]
  },
  {
   "cell_type": "code",
   "execution_count": 120,
   "metadata": {},
   "outputs": [
    {
     "name": "stdout",
     "output_type": "stream",
     "text": [
      "[]\n",
      "[]\n",
      "[78]\n",
      "<class '__main__.MyList'>\n"
     ]
    }
   ],
   "source": [
    "class MyList(list):\n",
    "    pass\n",
    "\n",
    "t = MyList()\n",
    "print(t)\n",
    "print(list())\n",
    "t.append(78)\n",
    "print(t)\n",
    "print(type(t))"
   ]
  },
  {
   "cell_type": "markdown",
   "metadata": {},
   "source": [
    "**Задание**\n",
    "\n",
    "Создайте класс NewInt, который унаследован от целого типа int, то есть мы будем унаследовать поведение целых чисел и значит экземплярам нашего класса будут поддерживать те же операции, что и целые числа.\n",
    "\n",
    "Дополнительно в классе NewInt нужно создать:\n",
    "\n",
    "- метод repeat, который принимает одно целое положительное число n (по умолчанию равное 2), обозначающее сколько раз нужно продублировать данное число. Метод repeat должен возвращать новое число, продублированное n раз (см пример ниже);\n",
    "- метод to_bin, который возвращает двоичное представление числа в виде числа (может пригодиться функция bin)\n",
    "\n",
    "``` python\n",
    "a = NewInt(9)\n",
    "print(a.repeat())  # печатает число 99\n",
    "d = NewInt(a + 5)\n",
    "print(d.repeat(3)) # печатает число 141414\n",
    "b = NewInt(NewInt(7) * NewInt(5))\n",
    "print(b.to_bin()) # печатает 100011 - двоичное представление числа 35\n",
    "\n",
    "# Кстати, как вы думаете, что вернет данный вызов NewInt() ?\n",
    "```\n",
    "Разбор https://www.youtube.com/watch?v=XxnC8DPjjoc"
   ]
  },
  {
   "cell_type": "code",
   "execution_count": 131,
   "metadata": {},
   "outputs": [
    {
     "name": "stdout",
     "output_type": "stream",
     "text": [
      "99\n",
      "141414\n",
      "100011\n"
     ]
    },
    {
     "data": {
      "text/plain": [
       "0"
      ]
     },
     "execution_count": 131,
     "metadata": {},
     "output_type": "execute_result"
    }
   ],
   "source": [
    "class NewInt(int):\n",
    "    \n",
    "    def repeat(self, n=2):\n",
    "        return int(str(self) * n)\n",
    "    \n",
    "    def to_bin(self):\n",
    "        return int(bin(self)[2:])\n",
    "\n",
    "a = NewInt(9)\n",
    "print(a.repeat())  # печатает число 99\n",
    "d = NewInt(a + 5)\n",
    "print(d.repeat(3)) # печатает число 141414\n",
    "b = NewInt(NewInt(7) * NewInt(5))\n",
    "print(b.to_bin()) # печатает 100011 - двоичное представление числа 35\n",
    "NewInt()"
   ]
  },
  {
   "cell_type": "markdown",
   "metadata": {},
   "source": [
    "## Переопределение методов в Python\n",
    "\n"
   ]
  },
  {
   "cell_type": "code",
   "execution_count": 134,
   "metadata": {},
   "outputs": [
    {
     "name": "stdout",
     "output_type": "stream",
     "text": [
      "Доктор дышит\n",
      "None\n",
      "Человек дышит\n",
      "None\n",
      "adam adam\n"
     ]
    }
   ],
   "source": [
    "class Person:\n",
    "    \n",
    "    name = 'adam'\n",
    "    \n",
    "    def breathe(self):\n",
    "        print('Человек дышит')\n",
    "        \n",
    "    def walk(self):\n",
    "        print('Человек идёт')\n",
    "\n",
    "class Doctor(Person):\n",
    "    \n",
    "    def breathe(self):\n",
    "        print('Доктор дышит')\n",
    "\n",
    "\n",
    "d = Doctor()\n",
    "p = Person()\n",
    "print(d.breathe())\n",
    "print(p.breathe())\n",
    "print(p.name, d.name)"
   ]
  },
  {
   "cell_type": "code",
   "execution_count": 145,
   "metadata": {},
   "outputs": [
    {
     "name": "stdout",
     "output_type": "stream",
     "text": [
      "init Person\n",
      "init Person\n",
      "Adam John\n",
      "<__main__.Person object at 0x00000224F3662888> <__main__.Doctor object at 0x00000224F3662D48>\n"
     ]
    }
   ],
   "source": [
    "class Person:\n",
    "    \n",
    "    def __init__(self, name):\n",
    "        print('init Person')\n",
    "        self.name = name\n",
    "    \n",
    "    def breathe(self):\n",
    "        print('Человек дышит')\n",
    "        \n",
    "    def walk(self):\n",
    "        print('Человек идёт')\n",
    "\n",
    "class Doctor(Person):\n",
    "    \n",
    "    name = 'ivan'\n",
    "    def breathe(self):\n",
    "        print('Доктор дышит')\n",
    "\n",
    "\n",
    "d = Doctor('John')\n",
    "p = Person('Adam')\n",
    "print(p.name, d.name)\n",
    "print(p, d)"
   ]
  },
  {
   "cell_type": "markdown",
   "metadata": {},
   "source": [
    "Оба экземпляра в коде выше вызывают метод init.\n",
    "\n",
    "В примере ниже мы переопределили str у доктора, поэтому Person выводится как обычно."
   ]
  },
  {
   "cell_type": "code",
   "execution_count": 143,
   "metadata": {},
   "outputs": [
    {
     "name": "stdout",
     "output_type": "stream",
     "text": [
      "init Person\n",
      "init Person\n",
      "Adam John\n",
      "<__main__.Person object at 0x00000224F36804C8>\n",
      "Doctor John\n"
     ]
    }
   ],
   "source": [
    "class Person:\n",
    "    \n",
    "    def __init__(self, name):\n",
    "        print('init Person')\n",
    "        self.name = name\n",
    "    \n",
    "    def breathe(self):\n",
    "        print('Человек дышит')\n",
    "        \n",
    "    def walk(self):\n",
    "        print('Человек идёт')\n",
    "\n",
    "class Doctor(Person):\n",
    "    \n",
    "    def breathe(self):\n",
    "        print('Доктор дышит')\n",
    "\n",
    "    def __str__(self):\n",
    "        return f'Doctor {self.name}'\n",
    "\n",
    "d = Doctor('John')\n",
    "p = Person('Adam')\n",
    "print(p.name, d.name)\n",
    "print(p)\n",
    "print(d)"
   ]
  },
  {
   "cell_type": "markdown",
   "metadata": {},
   "source": [
    "А сейчас переопределим метод str у Person и поменятеся вывод и Person и Doctor."
   ]
  },
  {
   "cell_type": "code",
   "execution_count": 142,
   "metadata": {},
   "outputs": [
    {
     "name": "stdout",
     "output_type": "stream",
     "text": [
      "init Person\n",
      "init Person\n",
      "Adam John\n",
      "Doctor Adam\n",
      "Doctor John\n"
     ]
    }
   ],
   "source": [
    "class Person:\n",
    "    \n",
    "    def __init__(self, name):\n",
    "        print('init Person')\n",
    "        self.name = name\n",
    "    \n",
    "    def breathe(self):\n",
    "        print('Человек дышит')\n",
    "        \n",
    "    def walk(self):\n",
    "        print('Человек идёт')\n",
    "        \n",
    "    def __str__(self):\n",
    "        return f'Doctor {self.name}'\n",
    "\n",
    "class Doctor(Person):\n",
    "    \n",
    "    def breathe(self):\n",
    "        print('Доктор дышит')\n",
    "\n",
    "d = Doctor('John')\n",
    "p = Person('Adam')\n",
    "print(p.name, d.name)\n",
    "print(p)\n",
    "print(d)"
   ]
  },
  {
   "cell_type": "markdown",
   "metadata": {},
   "source": [
    "Переопределяем str как должно быть:"
   ]
  },
  {
   "cell_type": "code",
   "execution_count": 141,
   "metadata": {},
   "outputs": [
    {
     "name": "stdout",
     "output_type": "stream",
     "text": [
      "init Person\n",
      "init Person\n",
      "Person Adam\n",
      "Doctor John\n"
     ]
    }
   ],
   "source": [
    "class Person:\n",
    "    \n",
    "    def __init__(self, name):\n",
    "        print('init Person')\n",
    "        self.name = name\n",
    "    \n",
    "    def breathe(self):\n",
    "        print('Человек дышит')\n",
    "        \n",
    "    def walk(self):\n",
    "        print('Человек идёт')\n",
    "        \n",
    "    def __str__(self):\n",
    "        return f'Person {self.name}'\n",
    "\n",
    "class Doctor(Person):\n",
    "    \n",
    "    def breathe(self):\n",
    "        print('Доктор дышит')\n",
    "        \n",
    "    def __str__(self):\n",
    "        return f'Doctor {self.name}'\n",
    "\n",
    "d = Doctor('John')\n",
    "p = Person('Adam')\n",
    "print(p)\n",
    "print(d)"
   ]
  },
  {
   "cell_type": "markdown",
   "metadata": {},
   "source": [
    "Сделаем комбинацию 3-х методов - т.е. вызов одних методос из других методов. Обратим внимание как методы ищутсяв классе, а потом в родительскомк классе."
   ]
  },
  {
   "cell_type": "code",
   "execution_count": 147,
   "metadata": {},
   "outputs": [
    {
     "name": "stdout",
     "output_type": "stream",
     "text": [
      "Человек дышит\n",
      "Человек идёт\n",
      "Человек спит\n",
      "None\n",
      "Доктор дышит\n",
      "Человек идёт\n",
      "Человек спит\n",
      "None\n"
     ]
    }
   ],
   "source": [
    "class Person:\n",
    "    \n",
    "    def __init__(self, name):\n",
    "        self.name = name\n",
    "    \n",
    "    def breathe(self):\n",
    "        print('Человек дышит')\n",
    "        \n",
    "    def walk(self):\n",
    "        print('Человек идёт')\n",
    "        \n",
    "    def sleep(self):\n",
    "        print('Человек спит')\n",
    "        \n",
    "    def combo(self):\n",
    "        self.breathe()\n",
    "        self.walk()\n",
    "        self.sleep()\n",
    "        \n",
    "    def __str__(self):\n",
    "        return f'Person {self.name}'\n",
    "\n",
    "class Doctor(Person):\n",
    "    \n",
    "    def breathe(self):\n",
    "        print('Доктор дышит')\n",
    "        \n",
    "    def __str__(self):\n",
    "        return f'Doctor {self.name}'\n",
    "\n",
    "d = Doctor('John')\n",
    "p = Person('Adam')\n",
    "print(p.combo())\n",
    "print(d.combo())"
   ]
  },
  {
   "cell_type": "markdown",
   "metadata": {},
   "source": [
    "## Расширение (extending) класса в Python\n",
    "\n",
    "Extending - это создание такого атрибута или метода, котрого нет у родительского класса.\n",
    "\n",
    "https://www.youtube.com/watch?v=EYfg7OUQNog"
   ]
  },
  {
   "cell_type": "code",
   "execution_count": 5,
   "metadata": {},
   "outputs": [
    {
     "name": "stdout",
     "output_type": "stream",
     "text": [
      "Человек дышит\n",
      "None\n",
      "----------\n",
      "Доктор дышит\n",
      "Доктор идёт\n",
      "Доктор спит\n",
      "None\n"
     ]
    }
   ],
   "source": [
    "class Person:\n",
    "    \n",
    "    def breathe(self):  # расширение\n",
    "        print('Человек дышит')\n",
    "        \n",
    "    def sleep(self):\n",
    "        print('Человек спит')\n",
    "        \n",
    "    def combo(self):\n",
    "        self.breathe()\n",
    "        if hasattr(self, 'walk'):\n",
    "            self.walk()\n",
    "        self.sleep()    \n",
    "    \n",
    "class Doctor(Person):\n",
    "    \n",
    "    def breathe(self):   # переопределение - создание метода с таким же названием как и в родительском классе\n",
    "        print('Доктор дышит')\n",
    "        \n",
    "    def sleep(self):\n",
    "        print('Доктор спит')\n",
    "        \n",
    "    def walk(self):\n",
    "        print('Доктор идёт')\n",
    "\n",
    "p = Person()\n",
    "print(p.breathe())\n",
    "print('-' * 10)\n",
    "d = Doctor()\n",
    "print(d.combo())"
   ]
  }
 ],
 "metadata": {
  "kernelspec": {
   "display_name": "Python 3",
   "language": "python",
   "name": "python3"
  },
  "language_info": {
   "codemirror_mode": {
    "name": "ipython",
    "version": 3
   },
   "file_extension": ".py",
   "mimetype": "text/x-python",
   "name": "python",
   "nbconvert_exporter": "python",
   "pygments_lexer": "ipython3",
   "version": "3.7.7"
  },
  "toc": {
   "base_numbering": 1,
   "nav_menu": {},
   "number_sections": true,
   "sideBar": true,
   "skip_h1_title": false,
   "title_cell": "Table of Contents",
   "title_sidebar": "Contents",
   "toc_cell": false,
   "toc_position": {},
   "toc_section_display": true,
   "toc_window_display": false
  },
  "varInspector": {
   "cols": {
    "lenName": 16,
    "lenType": 16,
    "lenVar": 40
   },
   "kernels_config": {
    "python": {
     "delete_cmd_postfix": "",
     "delete_cmd_prefix": "del ",
     "library": "var_list.py",
     "varRefreshCmd": "print(var_dic_list())"
    },
    "r": {
     "delete_cmd_postfix": ") ",
     "delete_cmd_prefix": "rm(",
     "library": "var_list.r",
     "varRefreshCmd": "cat(var_dic_list()) "
    }
   },
   "types_to_exclude": [
    "module",
    "function",
    "builtin_function_or_method",
    "instance",
    "_Feature"
   ],
   "window_display": false
  }
 },
 "nbformat": 4,
 "nbformat_minor": 4
}
