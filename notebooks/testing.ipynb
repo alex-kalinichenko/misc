{
 "cells": [
  {
   "cell_type": "markdown",
   "metadata": {},
   "source": [
    "**В58. Какой результат выводит данный код:**"
   ]
  },
  {
   "cell_type": "code",
   "execution_count": 1,
   "metadata": {
    "ExecuteTime": {
     "end_time": "2021-11-06T23:38:25.310714Z",
     "start_time": "2021-11-06T23:38:25.269740Z"
    }
   },
   "outputs": [
    {
     "data": {
      "text/plain": [
       "([10, 'a'], [123], [10, 'a'])"
      ]
     },
     "execution_count": 1,
     "metadata": {},
     "output_type": "execute_result"
    }
   ],
   "source": [
    "def extendList(val, list=[]):\n",
    "    list.append(val)\n",
    "    return list\n",
    "list1 = extendList(10)\n",
    "list2 = extendList(123,[])\n",
    "list3 = extendList('a')\n",
    "list1, list2, list3"
   ]
  },
  {
   "cell_type": "markdown",
   "metadata": {},
   "source": [
    "Возможный, но неверный ответ: `([10], [123], [‘a’])`\n",
    "\n",
    "В функции есть аргумент `list=[]`, который не запускается в нулевом значении при каждом вызове этой функции. Когда мы первый раз определяем функцию, она создает новый список. Затем, каждый раз, когда мы вызываем данную функцию без аргумента-списка, она использует один и тот же список. Питон исполняет выражения, которые имеют нулевые значения, при определении функции, а не при вызове функции.\n",
    "\n",
    "Проверим в какой ячейке памяти хранятся объекты list1 и list2"
   ]
  },
  {
   "cell_type": "code",
   "execution_count": 2,
   "metadata": {
    "ExecuteTime": {
     "end_time": "2021-11-06T23:38:42.581073Z",
     "start_time": "2021-11-06T23:38:42.565844Z"
    }
   },
   "outputs": [
    {
     "data": {
      "text/plain": [
       "(2223596880320, 2223596880320)"
      ]
     },
     "execution_count": 2,
     "metadata": {},
     "output_type": "execute_result"
    }
   ],
   "source": [
    "id(list1), id(list3)"
   ]
  },
  {
   "cell_type": "markdown",
   "metadata": {},
   "source": [
    "Вывод - айдишники объектов одинаковы. Это значит, что list1 и list2 ссылается на одну и ту же ячейку памяти, а значит - это один объект."
   ]
  },
  {
   "cell_type": "code",
   "execution_count": 3,
   "metadata": {
    "ExecuteTime": {
     "end_time": "2022-06-04T16:07:00.927666Z",
     "start_time": "2022-06-04T16:07:00.910401Z"
    }
   },
   "outputs": [
    {
     "name": "stdout",
     "output_type": "stream",
     "text": [
      "<b><i>hello habr</i></b>\n"
     ]
    }
   ],
   "source": [
    "def makebold(fn):\n",
    "    def wrapped():\n",
    "        return \"<b>\" + fn() + \"</b>\"\n",
    "    return wrapped\n",
    " \n",
    "def makeitalic(fn):\n",
    "    def wrapped():\n",
    "        return \"<i>\" + fn() + \"</i>\"\n",
    "    return wrapped\n",
    " \n",
    "@makebold\n",
    "@makeitalic\n",
    "def hello():\n",
    "    return \"hello habr\"\n",
    " \n",
    "print(hello()) ## выведет <b><i>hello habr</i></b>"
   ]
  },
  {
   "cell_type": "code",
   "execution_count": 5,
   "metadata": {
    "ExecuteTime": {
     "end_time": "2022-06-04T16:15:41.266105Z",
     "start_time": "2022-06-04T16:15:41.250303Z"
    }
   },
   "outputs": [
    {
     "name": "stdout",
     "output_type": "stream",
     "text": [
      "Да!\n",
      "Я делаю что-то ещё, перед тем как вызвать функцию, которую ты мне передал\n",
      "Да!\n"
     ]
    }
   ],
   "source": [
    "def shout(word=\"да\"):\n",
    "    return word.capitalize()+\"!\"\n",
    " \n",
    "print(shout())\n",
    "# выведет: 'Да!'\n",
    " \n",
    "# Так как функция - это объект, вы связать её с переменнной,\n",
    "# как и любой другой объект\n",
    "scream = shout\n",
    "\n",
    "def doSomethingBefore(func):\n",
    "    print(\"Я делаю что-то ещё, перед тем как вызвать функцию, которую ты мне передал\")\n",
    "    print(func())\n",
    "\n",
    "\n",
    "doSomethingBefore(scream)\n",
    "#выведет:\n",
    "# Я делаю что-то ещё, перед тем как вызвать функцию, которую ты мне передал\n",
    "# Да!"
   ]
  },
  {
   "cell_type": "code",
   "execution_count": 3,
   "metadata": {
    "ExecuteTime": {
     "end_time": "2022-06-06T08:01:52.458809Z",
     "start_time": "2022-06-06T08:01:52.415209Z"
    }
   },
   "outputs": [
    {
     "name": "stdout",
     "output_type": "stream",
     "text": [
      "19492\n",
      "17984\n",
      "False\n"
     ]
    }
   ],
   "source": [
    "import win32gui,win32process,os\n",
    "\n",
    "focus_window_pid = win32process.GetWindowThreadProcessId(win32gui.GetForegroundWindow())[1]\n",
    "current_process_pid = os.getppid()\n",
    "\n",
    "print(focus_window_pid)\n",
    "print(current_process_pid)\n",
    "\n",
    "print(focus_window_pid == current_process_pid)"
   ]
  },
  {
   "cell_type": "code",
   "execution_count": null,
   "metadata": {},
   "outputs": [],
   "source": []
  },
  {
   "cell_type": "code",
   "execution_count": null,
   "metadata": {},
   "outputs": [],
   "source": []
  },
  {
   "cell_type": "code",
   "execution_count": null,
   "metadata": {},
   "outputs": [],
   "source": []
  }
 ],
 "metadata": {
  "kernelspec": {
   "display_name": "Python 3 (ipykernel)",
   "language": "python",
   "name": "python3"
  },
  "language_info": {
   "codemirror_mode": {
    "name": "ipython",
    "version": 3
   },
   "file_extension": ".py",
   "mimetype": "text/x-python",
   "name": "python",
   "nbconvert_exporter": "python",
   "pygments_lexer": "ipython3",
   "version": "3.9.7"
  },
  "toc": {
   "base_numbering": 1,
   "nav_menu": {},
   "number_sections": false,
   "sideBar": true,
   "skip_h1_title": false,
   "title_cell": "Table of Contents",
   "title_sidebar": "Contents",
   "toc_cell": false,
   "toc_position": {},
   "toc_section_display": true,
   "toc_window_display": false
  },
  "varInspector": {
   "cols": {
    "lenName": 16,
    "lenType": 16,
    "lenVar": 40
   },
   "kernels_config": {
    "python": {
     "delete_cmd_postfix": "",
     "delete_cmd_prefix": "del ",
     "library": "var_list.py",
     "varRefreshCmd": "print(var_dic_list())"
    },
    "r": {
     "delete_cmd_postfix": ") ",
     "delete_cmd_prefix": "rm(",
     "library": "var_list.r",
     "varRefreshCmd": "cat(var_dic_list()) "
    }
   },
   "position": {
    "height": "291px",
    "left": "1164px",
    "right": "20px",
    "top": "120px",
    "width": "396px"
   },
   "types_to_exclude": [
    "module",
    "function",
    "builtin_function_or_method",
    "instance",
    "_Feature"
   ],
   "window_display": false
  }
 },
 "nbformat": 4,
 "nbformat_minor": 4
}
