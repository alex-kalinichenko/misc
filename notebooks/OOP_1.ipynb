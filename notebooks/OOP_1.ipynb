{
 "cells": [
  {
   "cell_type": "markdown",
   "metadata": {},
   "source": [
    "---\n",
    "Рабочие материалы по курсу \"ООП на Python от egoroff_channel\"\n",
    "\n",
    "Часть 1\n",
    "\n",
    "https://stepik.org/course/72969\n",
    "\n",
    "Канал: https://www.youtube.com/channel/UCMcC_43zGHttf9bY-xJOTwA\n",
    " \n",
    "---"
   ]
  },
  {
   "cell_type": "markdown",
   "metadata": {},
   "source": [
    "# Введение в классы"
   ]
  },
  {
   "cell_type": "markdown",
   "metadata": {},
   "source": [
    "## Классы, объекты, экземпляры"
   ]
  },
  {
   "cell_type": "markdown",
   "metadata": {},
   "source": [
    "Объект - это контейнер, состоящий из:\n",
    "1. Данных и состояния\n",
    "2. Поведения (это метод объекта)\n",
    "\n",
    "Класс может содержать:\n",
    "1. данные, называемые *атрибутами* - существительные т.к. хранят данные\n",
    "2. методы, или *функции* - глаголы"
   ]
  },
  {
   "cell_type": "code",
   "execution_count": 1,
   "metadata": {},
   "outputs": [],
   "source": [
    "# создадим класс. Имя класс обязательно с большой буквы.\n",
    "class Car:\n",
    "    pass"
   ]
  },
  {
   "cell_type": "code",
   "execution_count": 2,
   "metadata": {},
   "outputs": [],
   "source": [
    "# создадим объект класса. Объект создается путем вызова класса по его имени.\n",
    "# При этом после имени класса обязательно ставятся скобки. То есть класс вызывается подобно функции.\n",
    "# Однако в случае вызова класса происходит не выполнение его тела, как это происходило бы при вызове функции,\n",
    "# а создается объект. Поскольку в программном коде важно не потерять ссылку на только что созданный объект,\n",
    "# то обычно его связывают с переменной. Поэтому создание объекта чаще всего выглядит так:\n",
    "a = Car()"
   ]
  },
  {
   "cell_type": "code",
   "execution_count": 3,
   "metadata": {},
   "outputs": [
    {
     "data": {
      "text/plain": [
       "__main__.Car"
      ]
     },
     "execution_count": 3,
     "metadata": {},
     "output_type": "execute_result"
    }
   ],
   "source": [
    "# проверим тип оюъекта - \n",
    "type(a)"
   ]
  },
  {
   "cell_type": "code",
   "execution_count": 12,
   "metadata": {},
   "outputs": [
    {
     "name": "stdout",
     "output_type": "stream",
     "text": [
      "True\n",
      "False\n"
     ]
    },
    {
     "data": {
      "text/plain": [
       "True"
      ]
     },
     "execution_count": 12,
     "metadata": {},
     "output_type": "execute_result"
    }
   ],
   "source": [
    "# функция проверяет принадлежит ли объект какому то классу\n",
    "print(isinstance(4, int))\n",
    "print(isinstance(4.5, int))\n",
    "isinstance(Car, object)"
   ]
  },
  {
   "cell_type": "markdown",
   "metadata": {},
   "source": [
    "## Атрибуты класса\n",
    "\n",
    "В этом разделе приводятся функции для действий с атрибутами классов, а не экземпляров!!!\n",
    "\n",
    "Действия с атрибутами чаще всего совершаются через точку. Через функцции (`getattr`, `setattr`) гораздо реже."
   ]
  },
  {
   "cell_type": "code",
   "execution_count": 8,
   "metadata": {},
   "outputs": [],
   "source": [
    "# создание класса с атрибутами\n",
    "class Person:\n",
    "    name = 'Ivan'\n",
    "    age = 30"
   ]
  },
  {
   "cell_type": "code",
   "execution_count": 9,
   "metadata": {},
   "outputs": [
    {
     "data": {
      "text/plain": [
       "'Ivan'"
      ]
     },
     "execution_count": 9,
     "metadata": {},
     "output_type": "execute_result"
    }
   ],
   "source": [
    "# обращение к атрибуту экземляра  - через точку\n",
    "Person.name"
   ]
  },
  {
   "cell_type": "code",
   "execution_count": 10,
   "metadata": {},
   "outputs": [
    {
     "data": {
      "text/plain": [
       "mappingproxy({'__module__': '__main__',\n",
       "              'name': 'Ivan',\n",
       "              'age': 30,\n",
       "              '__dict__': <attribute '__dict__' of 'Person' objects>,\n",
       "              '__weakref__': <attribute '__weakref__' of 'Person' objects>,\n",
       "              '__doc__': None})"
      ]
     },
     "execution_count": 10,
     "metadata": {},
     "output_type": "execute_result"
    }
   ],
   "source": [
    "# чтобы посмотреть все имеющиеся атрибуты нужно использовать магической переменной __dict__\n",
    "Person.__dict__"
   ]
  },
  {
   "cell_type": "code",
   "execution_count": 13,
   "metadata": {},
   "outputs": [
    {
     "data": {
      "text/plain": [
       "'Ivan'"
      ]
     },
     "execution_count": 13,
     "metadata": {},
     "output_type": "execute_result"
    }
   ],
   "source": [
    "# также обращаться к атрибутам можно через getattr. Значение атрибута указывать строкой!\n",
    "getattr(Person, 'name')"
   ]
  },
  {
   "cell_type": "code",
   "execution_count": 14,
   "metadata": {},
   "outputs": [
    {
     "data": {
      "text/plain": [
       "100"
      ]
     },
     "execution_count": 14,
     "metadata": {},
     "output_type": "execute_result"
    }
   ],
   "source": [
    "# 3-й параметр - что возвращать в случае если такого атрибута нет\n",
    "getattr(Person, 'x', 100)"
   ]
  },
  {
   "cell_type": "code",
   "execution_count": 15,
   "metadata": {},
   "outputs": [
    {
     "data": {
      "text/plain": [
       "'Misha'"
      ]
     },
     "execution_count": 15,
     "metadata": {},
     "output_type": "execute_result"
    }
   ],
   "source": [
    "# изменение атрибута\n",
    "Person.name = 'Misha'\n",
    "Person.name"
   ]
  },
  {
   "cell_type": "code",
   "execution_count": 16,
   "metadata": {},
   "outputs": [
    {
     "data": {
      "text/plain": [
       "mappingproxy({'__module__': '__main__',\n",
       "              'name': 'Misha',\n",
       "              'age': 30,\n",
       "              '__dict__': <attribute '__dict__' of 'Person' objects>,\n",
       "              '__weakref__': <attribute '__weakref__' of 'Person' objects>,\n",
       "              '__doc__': None,\n",
       "              'x': 100})"
      ]
     },
     "execution_count": 16,
     "metadata": {},
     "output_type": "execute_result"
    }
   ],
   "source": [
    "# если переопределить атрибут, которого не было, Питон динамически создаст этот атрибут\n",
    "Person.x = 100\n",
    "Person.__dict__"
   ]
  },
  {
   "cell_type": "code",
   "execution_count": 20,
   "metadata": {},
   "outputs": [
    {
     "data": {
      "text/plain": [
       "200"
      ]
     },
     "execution_count": 20,
     "metadata": {},
     "output_type": "execute_result"
    }
   ],
   "source": [
    "# устанавливать значения атрибута можно командой setattr. У неё 3 параметра: объект, имя, значение\n",
    "setattr(Person, 'x', 200)\n",
    "Person.x"
   ]
  },
  {
   "cell_type": "code",
   "execution_count": 23,
   "metadata": {},
   "outputs": [
    {
     "data": {
      "text/plain": [
       "500"
      ]
     },
     "execution_count": 23,
     "metadata": {},
     "output_type": "execute_result"
    }
   ],
   "source": [
    "setattr(Person, 'y', 500)\n",
    "Person.y"
   ]
  },
  {
   "cell_type": "code",
   "execution_count": 40,
   "metadata": {},
   "outputs": [
    {
     "ename": "AttributeError",
     "evalue": "type object 'Person' has no attribute 'x'",
     "output_type": "error",
     "traceback": [
      "\u001b[1;31m---------------------------------------------------------------------------\u001b[0m",
      "\u001b[1;31mAttributeError\u001b[0m                            Traceback (most recent call last)",
      "\u001b[1;32m<ipython-input-40-7d63047ac84d>\u001b[0m in \u001b[0;36m<module>\u001b[1;34m\u001b[0m\n\u001b[0;32m      1\u001b[0m \u001b[1;31m# обращение к несуществующему атрибуты вызовет ошибку AttributeError\u001b[0m\u001b[1;33m\u001b[0m\u001b[1;33m\u001b[0m\u001b[1;33m\u001b[0m\u001b[0m\n\u001b[1;32m----> 2\u001b[1;33m \u001b[0mPerson\u001b[0m\u001b[1;33m.\u001b[0m\u001b[0mx\u001b[0m\u001b[1;33m\u001b[0m\u001b[1;33m\u001b[0m\u001b[0m\n\u001b[0m",
      "\u001b[1;31mAttributeError\u001b[0m: type object 'Person' has no attribute 'x'"
     ]
    }
   ],
   "source": [
    "# обращение к несуществующему атрибуты вызовет ошибку AttributeError\n",
    "Person.x"
   ]
  },
  {
   "cell_type": "code",
   "execution_count": 21,
   "metadata": {},
   "outputs": [
    {
     "data": {
      "text/plain": [
       "mappingproxy({'__module__': '__main__',\n",
       "              'name': 'Misha',\n",
       "              'age': 30,\n",
       "              '__dict__': <attribute '__dict__' of 'Person' objects>,\n",
       "              '__weakref__': <attribute '__weakref__' of 'Person' objects>,\n",
       "              '__doc__': None})"
      ]
     },
     "execution_count": 21,
     "metadata": {},
     "output_type": "execute_result"
    }
   ],
   "source": [
    "# чтобы удалить атрибут внутри словаря\n",
    "del Person.x\n",
    "Person.__dict__"
   ]
  },
  {
   "cell_type": "code",
   "execution_count": 25,
   "metadata": {},
   "outputs": [
    {
     "data": {
      "text/plain": [
       "mappingproxy({'__module__': '__main__',\n",
       "              'name': 'Misha',\n",
       "              'age': 30,\n",
       "              '__dict__': <attribute '__dict__' of 'Person' objects>,\n",
       "              '__weakref__': <attribute '__weakref__' of 'Person' objects>,\n",
       "              '__doc__': None})"
      ]
     },
     "execution_count": 25,
     "metadata": {},
     "output_type": "execute_result"
    }
   ],
   "source": [
    "# встроеная функция для удаления атрибута\n",
    "delattr(Person, 'y')\n",
    "Person.__dict__"
   ]
  },
  {
   "cell_type": "markdown",
   "metadata": {},
   "source": [
    "Узнаем теперь как действия с атрибутами классов влияют на экземпляры."
   ]
  },
  {
   "cell_type": "code",
   "execution_count": 26,
   "metadata": {},
   "outputs": [],
   "source": [
    "class Person:\n",
    "    name = 'Ivan'\n",
    "    age = 30"
   ]
  },
  {
   "cell_type": "code",
   "execution_count": 27,
   "metadata": {},
   "outputs": [
    {
     "data": {
      "text/plain": [
       "<__main__.Person at 0x2222d8483c8>"
      ]
     },
     "execution_count": 27,
     "metadata": {},
     "output_type": "execute_result"
    }
   ],
   "source": [
    "# если вызвать класс (оператор вызова - это поставить 2 круглые скобки в конце), то результат вызова вернёт нам экземпляр класса\n",
    "Person()"
   ]
  },
  {
   "cell_type": "code",
   "execution_count": 31,
   "metadata": {},
   "outputs": [
    {
     "data": {
      "text/plain": [
       "(<__main__.Person at 0x2222d834ac8>, <__main__.Person at 0x2222d834908>)"
      ]
     },
     "execution_count": 31,
     "metadata": {},
     "output_type": "execute_result"
    }
   ],
   "source": [
    "# экземпляр класса можно сохранять в переменную\n",
    "a = Person()\n",
    "b = Person()\n",
    "a, b"
   ]
  },
  {
   "cell_type": "code",
   "execution_count": 33,
   "metadata": {},
   "outputs": [
    {
     "data": {
      "text/plain": [
       "mappingproxy({'__module__': '__main__',\n",
       "              'name': 'Ivan',\n",
       "              'age': 30,\n",
       "              '__dict__': <attribute '__dict__' of 'Person' objects>,\n",
       "              '__weakref__': <attribute '__weakref__' of 'Person' objects>,\n",
       "              '__doc__': None})"
      ]
     },
     "execution_count": 33,
     "metadata": {},
     "output_type": "execute_result"
    }
   ],
   "source": [
    "a.__class__.__dict__"
   ]
  },
  {
   "cell_type": "code",
   "execution_count": 34,
   "metadata": {},
   "outputs": [
    {
     "data": {
      "text/plain": [
       "mappingproxy({'__module__': '__main__',\n",
       "              'name': 'Ivan',\n",
       "              'age': 30,\n",
       "              '__dict__': <attribute '__dict__' of 'Person' objects>,\n",
       "              '__weakref__': <attribute '__weakref__' of 'Person' objects>,\n",
       "              '__doc__': None,\n",
       "              'z': 100})"
      ]
     },
     "execution_count": 34,
     "metadata": {},
     "output_type": "execute_result"
    }
   ],
   "source": [
    "# если теперь мы добавим к классу атрибут, то и экземпляра добавиться атрибут. То же самое и с удалением атрибутов.\n",
    "Person.z = 100\n",
    "a.__class__.__dict__"
   ]
  },
  {
   "cell_type": "code",
   "execution_count": 36,
   "metadata": {},
   "outputs": [
    {
     "data": {
      "text/plain": [
       "(mappingproxy({'__module__': '__main__',\n",
       "               'name': 'Ivan',\n",
       "               'age': 30,\n",
       "               '__dict__': <attribute '__dict__' of 'Person' objects>,\n",
       "               '__weakref__': <attribute '__weakref__' of 'Person' objects>,\n",
       "               '__doc__': None,\n",
       "               'z': 100}),\n",
       " mappingproxy({'__module__': '__main__',\n",
       "               'name': 'Ivan',\n",
       "               'age': 30,\n",
       "               '__dict__': <attribute '__dict__' of 'Person' objects>,\n",
       "               '__weakref__': <attribute '__weakref__' of 'Person' objects>,\n",
       "               '__doc__': None,\n",
       "               'z': 100}))"
      ]
     },
     "execution_count": 36,
     "metadata": {},
     "output_type": "execute_result"
    }
   ],
   "source": [
    "# но если зоздать атрибут только у экземпляра, то изменение коснётся только этого конкретного экземпляра\n",
    "a.b = 200\n",
    "a.__class__.__dict__ , b.__class__.__dict__"
   ]
  },
  {
   "cell_type": "code",
   "execution_count": 38,
   "metadata": {},
   "outputs": [
    {
     "data": {
      "text/plain": [
       "({'b': 200}, {})"
      ]
     },
     "execution_count": 38,
     "metadata": {},
     "output_type": "execute_result"
    }
   ],
   "source": [
    "a.__dict__, b.__dict__"
   ]
  },
  {
   "cell_type": "code",
   "execution_count": null,
   "metadata": {},
   "outputs": [],
   "source": [
    "# Вам необходимо создать класс Cat и внутри него два атрибута: name со значением 'Матроскин' и color со значением 'black'\n",
    "# После этого создайте экземпляр класса и сохраните его в переменную my_cat\n",
    "class Cat:\n",
    "    name = 'Матроскин'\n",
    "    color = 'black'\n",
    "\n",
    "my_cat = Cat()"
   ]
  },
  {
   "cell_type": "markdown",
   "metadata": {},
   "source": [
    "## Атрибуты экземпляра класса"
   ]
  },
  {
   "cell_type": "code",
   "execution_count": 42,
   "metadata": {},
   "outputs": [
    {
     "data": {
      "text/plain": [
       "__main__.Car"
      ]
     },
     "execution_count": 42,
     "metadata": {},
     "output_type": "execute_result"
    }
   ],
   "source": [
    "# создадим класс\n",
    "class Car:\n",
    "    model = 'BMW'\n",
    "    engine = 1.6\n",
    "\n",
    "# имеем доступ к классу\n",
    "Car"
   ]
  },
  {
   "cell_type": "code",
   "execution_count": 43,
   "metadata": {},
   "outputs": [
    {
     "data": {
      "text/plain": [
       "<__main__.Car at 0x2222d827ac8>"
      ]
     },
     "execution_count": 43,
     "metadata": {},
     "output_type": "execute_result"
    }
   ],
   "source": [
    "# вызовем класс\n",
    "Car()"
   ]
  },
  {
   "cell_type": "code",
   "execution_count": 44,
   "metadata": {},
   "outputs": [
    {
     "data": {
      "text/plain": [
       "mappingproxy({'__module__': '__main__',\n",
       "              'model': 'BMW',\n",
       "              'engine': 1.6,\n",
       "              '__dict__': <attribute '__dict__' of 'Car' objects>,\n",
       "              '__weakref__': <attribute '__weakref__' of 'Car' objects>,\n",
       "              '__doc__': None})"
      ]
     },
     "execution_count": 44,
     "metadata": {},
     "output_type": "execute_result"
    }
   ],
   "source": [
    "# создадим 2 экземпляра машины\n",
    "a1 = Car()\n",
    "a2 = Car()\n",
    "\n",
    "# посмотрим атрибуты класса\n",
    "Car.__dict__"
   ]
  },
  {
   "cell_type": "code",
   "execution_count": 45,
   "metadata": {},
   "outputs": [
    {
     "data": {
      "text/plain": [
       "{}"
      ]
     },
     "execution_count": 45,
     "metadata": {},
     "output_type": "execute_result"
    }
   ],
   "source": [
    "# у экземпляров класса также можно посмотреть атрибуты, они будут пустые.\n",
    "a1.__dict__"
   ]
  },
  {
   "cell_type": "code",
   "execution_count": 47,
   "metadata": {},
   "outputs": [
    {
     "data": {
      "text/plain": [
       "({'seat': 4},\n",
       " {},\n",
       " mappingproxy({'__module__': '__main__',\n",
       "               'model': 'BMW',\n",
       "               'engine': 1.6,\n",
       "               '__dict__': <attribute '__dict__' of 'Car' objects>,\n",
       "               '__weakref__': <attribute '__weakref__' of 'Car' objects>,\n",
       "               '__doc__': None}))"
      ]
     },
     "execution_count": 47,
     "metadata": {},
     "output_type": "execute_result"
    }
   ],
   "source": [
    "# создаём новый атрибут экземеляра. он появлятеся только в его атрибутах\n",
    "a1.seat = 4\n",
    "a1.__dict__, a2.__dict__, Car.__dict__"
   ]
  },
  {
   "cell_type": "code",
   "execution_count": 48,
   "metadata": {},
   "outputs": [
    {
     "data": {
      "text/plain": [
       "('Lada', 'BMW', 'BMW')"
      ]
     },
     "execution_count": 48,
     "metadata": {},
     "output_type": "execute_result"
    }
   ],
   "source": [
    "# изменим значение атрибута экземпляра и проверим какие атрибуты у экземпляров и у класса\n",
    "a1.model = 'Lada'\n",
    "a1.model, a2.model, Car.model"
   ]
  },
  {
   "cell_type": "markdown",
   "metadata": {},
   "source": [
    "Каждый экземпляр класса представляет собой пространство имён. Экземпляр входит в класс. Имена атрибутов экземпляра и класса могут совпадать. В начале при обращении к атрибуту, ищется атрибут внутри экземпляра. Если таковой есть - он возвращается. Если нет, проверяется наличие атрибута у класса и возвращается он."
   ]
  },
  {
   "cell_type": "code",
   "execution_count": 49,
   "metadata": {},
   "outputs": [
    {
     "data": {
      "text/plain": [
       "80"
      ]
     },
     "execution_count": 49,
     "metadata": {},
     "output_type": "execute_result"
    }
   ],
   "source": [
    "# Создадим атрибут у второго экземпляра\n",
    "a2.size = 80\n",
    "a2.size"
   ]
  },
  {
   "cell_type": "code",
   "execution_count": 50,
   "metadata": {},
   "outputs": [
    {
     "data": {
      "text/plain": [
       "mappingproxy({'__module__': '__main__',\n",
       "              'model': 'BMW',\n",
       "              'engine': 1.6,\n",
       "              '__dict__': <attribute '__dict__' of 'Car' objects>,\n",
       "              '__weakref__': <attribute '__weakref__' of 'Car' objects>,\n",
       "              '__doc__': None})"
      ]
     },
     "execution_count": 50,
     "metadata": {},
     "output_type": "execute_result"
    }
   ],
   "source": [
    "# но атрибут по прежнему есть только у экземлпяра\n",
    "Car.__dict__"
   ]
  },
  {
   "cell_type": "markdown",
   "metadata": {},
   "source": [
    "Принцип атрибутов класса и экземпляра очень похожа на локальные и глобальные переменные внутри функции. Т.е. если создать атрибут внутри экземпляра - это будет локальная переменная - она будет видна только в этом экземпляре класса.\n",
    "\n",
    "Если мы удалим занчение атрибута из экземпляра, то если в классе есть такой атрибут, то его значение возмётся из класса."
   ]
  },
  {
   "cell_type": "markdown",
   "metadata": {},
   "source": [
    "## Функции как атрибут класса"
   ]
  },
  {
   "cell_type": "code",
   "execution_count": 52,
   "metadata": {},
   "outputs": [],
   "source": [
    "# создадим класс. Внутри класса можно создавать не только переменные (называющиеся атрибутами), но и функции.\n",
    "class Car:\n",
    "    model = 'BMW'\n",
    "    engine = 1.6\n",
    "    \n",
    "    def drive():\n",
    "        print(\"Let's go\")"
   ]
  },
  {
   "cell_type": "code",
   "execution_count": 53,
   "metadata": {},
   "outputs": [
    {
     "data": {
      "text/plain": [
       "mappingproxy({'__module__': '__main__',\n",
       "              'model': 'BMW',\n",
       "              'engine': 1.6,\n",
       "              'drive': <function __main__.Car.drive()>,\n",
       "              '__dict__': <attribute '__dict__' of 'Car' objects>,\n",
       "              '__weakref__': <attribute '__weakref__' of 'Car' objects>,\n",
       "              '__doc__': None})"
      ]
     },
     "execution_count": 53,
     "metadata": {},
     "output_type": "execute_result"
    }
   ],
   "source": [
    "# Посмотрим что храниться внутри класса.\n",
    "Car.__dict__"
   ]
  },
  {
   "cell_type": "code",
   "execution_count": 54,
   "metadata": {},
   "outputs": [
    {
     "name": "stdout",
     "output_type": "stream",
     "text": [
      "Let's go\n"
     ]
    }
   ],
   "source": [
    "# Т.к. в классе есть функция, мы можем к ней обращаться\n",
    "# () - круглые скобки означают вызов функции.\n",
    "Car.drive()"
   ]
  },
  {
   "cell_type": "code",
   "execution_count": 55,
   "metadata": {},
   "outputs": [
    {
     "data": {
      "text/plain": [
       "<function __main__.Car.drive()>"
      ]
     },
     "execution_count": 55,
     "metadata": {},
     "output_type": "execute_result"
    }
   ],
   "source": [
    "#Если скобки не поставить, мы просто обратимся к объекту, который храниться по этому имени\n",
    "Car.drive"
   ]
  },
  {
   "cell_type": "code",
   "execution_count": 56,
   "metadata": {},
   "outputs": [
    {
     "data": {
      "text/plain": [
       "<function __main__.Car.drive()>"
      ]
     },
     "execution_count": 56,
     "metadata": {},
     "output_type": "execute_result"
    }
   ],
   "source": [
    "# Также вызвать функцию можно через getattr\n",
    "getattr(Car, 'drive')"
   ]
  },
  {
   "cell_type": "code",
   "execution_count": 57,
   "metadata": {},
   "outputs": [
    {
     "name": "stdout",
     "output_type": "stream",
     "text": [
      "Let's go\n"
     ]
    }
   ],
   "source": [
    "# но после образения к атрибуту нужно поставить (), т.е. сделать вызов функции\n",
    "getattr(Car, 'drive')()"
   ]
  },
  {
   "cell_type": "code",
   "execution_count": 58,
   "metadata": {},
   "outputs": [],
   "source": [
    "# До этого функция вызывалась через класс. Попробуем вызвать её через экземпляр класса\n",
    "a = Car()"
   ]
  },
  {
   "cell_type": "code",
   "execution_count": 60,
   "metadata": {},
   "outputs": [
    {
     "data": {
      "text/plain": [
       "{}"
      ]
     },
     "execution_count": 60,
     "metadata": {},
     "output_type": "execute_result"
    }
   ],
   "source": [
    "# посмотрим есть ли функция\n",
    "a.__dict__"
   ]
  },
  {
   "cell_type": "markdown",
   "metadata": {},
   "source": [
    "её здесь нет и это логично: все атрибуты созданные в классе не находятся в пространстве имён экземпляра класса. Но мы можем к нему обращаться."
   ]
  },
  {
   "cell_type": "code",
   "execution_count": 61,
   "metadata": {},
   "outputs": [
    {
     "data": {
      "text/plain": [
       "<bound method Car.drive of <__main__.Car object at 0x000002222D747548>>"
      ]
     },
     "execution_count": 61,
     "metadata": {},
     "output_type": "execute_result"
    }
   ],
   "source": [
    "# Попробуем сделать это без вызова функции\n",
    "a.drive"
   ]
  },
  {
   "cell_type": "code",
   "execution_count": 62,
   "metadata": {},
   "outputs": [
    {
     "ename": "TypeError",
     "evalue": "drive() takes 0 positional arguments but 1 was given",
     "output_type": "error",
     "traceback": [
      "\u001b[1;31m---------------------------------------------------------------------------\u001b[0m",
      "\u001b[1;31mTypeError\u001b[0m                                 Traceback (most recent call last)",
      "\u001b[1;32m<ipython-input-62-354dce288373>\u001b[0m in \u001b[0;36m<module>\u001b[1;34m\u001b[0m\n\u001b[0;32m      1\u001b[0m \u001b[1;31m# Нам выдаёт, что это bound method, а при вызове Car.drive писалось что это функция.\u001b[0m\u001b[1;33m\u001b[0m\u001b[1;33m\u001b[0m\u001b[1;33m\u001b[0m\u001b[0m\n\u001b[0;32m      2\u001b[0m \u001b[1;31m# При попытке вызвать функцию через экземпляр, получим ошибку\u001b[0m\u001b[1;33m\u001b[0m\u001b[1;33m\u001b[0m\u001b[1;33m\u001b[0m\u001b[0m\n\u001b[1;32m----> 3\u001b[1;33m \u001b[0ma\u001b[0m\u001b[1;33m.\u001b[0m\u001b[0mdrive\u001b[0m\u001b[1;33m(\u001b[0m\u001b[1;33m)\u001b[0m\u001b[1;33m\u001b[0m\u001b[1;33m\u001b[0m\u001b[0m\n\u001b[0m",
      "\u001b[1;31mTypeError\u001b[0m: drive() takes 0 positional arguments but 1 was given"
     ]
    }
   ],
   "source": [
    "# Нам выдаёт, что это bound method, а при вызове Car.drive писалось что это функция.\n",
    "a.drive()"
   ]
  },
  {
   "cell_type": "markdown",
   "metadata": {},
   "source": [
    "При попытке вызвать функцию через экземпляр, получим ошибку, а мы ему ничего не передавали.\n",
    "\n",
    "При таком определении функции внутри класса, мы може вызвать функцию от самого класса, но не можем вызвать от экземпляра класса. Это может создавать большие проблемы. Данная реализация функции внутри класса не принята.\n",
    "\n",
    "Если вы хотите написать функцию, которую можно вызывать как от класса так и от экземпляра, нужно воспользоваться специальным декоратором ```@staticmethod```.\n",
    "\n"
   ]
  },
  {
   "cell_type": "code",
   "execution_count": 63,
   "metadata": {},
   "outputs": [],
   "source": [
    "class Car:\n",
    "    model = 'BMW'\n",
    "    engine = 1.6\n",
    "    @staticmethod\n",
    "    def drive():\n",
    "        print(\"Let's go\")"
   ]
  },
  {
   "cell_type": "code",
   "execution_count": 64,
   "metadata": {},
   "outputs": [
    {
     "name": "stdout",
     "output_type": "stream",
     "text": [
      "Let's go\n"
     ]
    }
   ],
   "source": [
    "# теперь можно спокойно вызывать функцию от самого класса\n",
    "Car.drive()"
   ]
  },
  {
   "cell_type": "code",
   "execution_count": 65,
   "metadata": {},
   "outputs": [
    {
     "name": "stdout",
     "output_type": "stream",
     "text": [
      "Let's go\n"
     ]
    }
   ],
   "source": [
    "# и также от экземпляра - без ошибок\n",
    "b = Car()\n",
    "b.drive()"
   ]
  },
  {
   "cell_type": "markdown",
   "metadata": {},
   "source": [
    "# Методы и свойства"
   ]
  },
  {
   "cell_type": "markdown",
   "metadata": {},
   "source": [
    "## Методы экземпляра. Аргумент self"
   ]
  },
  {
   "cell_type": "code",
   "execution_count": 1,
   "metadata": {},
   "outputs": [],
   "source": [
    "# Воспроизведём ошибку\n",
    "class Cat:\n",
    "    def hello():\n",
    "        print(\"Hello world from kitty\")"
   ]
  },
  {
   "cell_type": "code",
   "execution_count": 2,
   "metadata": {},
   "outputs": [
    {
     "name": "stdout",
     "output_type": "stream",
     "text": [
      "Hello world from kitty\n"
     ]
    }
   ],
   "source": [
    "# нет рпоблем когда обращаемся к функции через класс\n",
    "Cat.hello()"
   ]
  },
  {
   "cell_type": "code",
   "execution_count": 3,
   "metadata": {},
   "outputs": [
    {
     "ename": "TypeError",
     "evalue": "hello() takes 0 positional arguments but 1 was given",
     "output_type": "error",
     "traceback": [
      "\u001b[1;31m---------------------------------------------------------------------------\u001b[0m",
      "\u001b[1;31mTypeError\u001b[0m                                 Traceback (most recent call last)",
      "\u001b[1;32m<ipython-input-3-be0945edff6d>\u001b[0m in \u001b[0;36m<module>\u001b[1;34m\u001b[0m\n\u001b[0;32m      1\u001b[0m \u001b[1;31m# но если мы создаём экземпляр и вызовем функцию от него, то получим ошибку\u001b[0m\u001b[1;33m\u001b[0m\u001b[1;33m\u001b[0m\u001b[1;33m\u001b[0m\u001b[0m\n\u001b[0;32m      2\u001b[0m \u001b[0mbob\u001b[0m \u001b[1;33m=\u001b[0m \u001b[0mCat\u001b[0m\u001b[1;33m(\u001b[0m\u001b[1;33m)\u001b[0m\u001b[1;33m\u001b[0m\u001b[1;33m\u001b[0m\u001b[0m\n\u001b[1;32m----> 3\u001b[1;33m \u001b[0mbob\u001b[0m\u001b[1;33m.\u001b[0m\u001b[0mhello\u001b[0m\u001b[1;33m(\u001b[0m\u001b[1;33m)\u001b[0m\u001b[1;33m\u001b[0m\u001b[1;33m\u001b[0m\u001b[0m\n\u001b[0m",
      "\u001b[1;31mTypeError\u001b[0m: hello() takes 0 positional arguments but 1 was given"
     ]
    }
   ],
   "source": [
    "# но если мы создаём экземпляр и вызовем функцию от него, то получим ошибку\n",
    "bob = Cat()\n",
    "bob.hello()"
   ]
  },
  {
   "cell_type": "code",
   "execution_count": 4,
   "metadata": {},
   "outputs": [
    {
     "data": {
      "text/plain": [
       "(<function __main__.Cat.hello()>,\n",
       " <bound method Cat.hello of <__main__.Cat object at 0x0000022D811C6A08>>)"
      ]
     },
     "execution_count": 4,
     "metadata": {},
     "output_type": "execute_result"
    }
   ],
   "source": [
    "# когда мы обращаемся к функции, но без вызова (без()) или к функции, но от экземпляра, то получим 2 разных объекта:\n",
    "# 1. это функция, 2. это метод\n",
    "Cat.hello, bob.hello"
   ]
  },
  {
   "cell_type": "markdown",
   "metadata": {},
   "source": [
    "__Метод отличается от функции__ тем, что \n",
    "1. метод - эта та же самая функция, но объявленная внутри класса.\n",
    "2. метод привязан к конкретному объекту. Функция не связана ни с кем, и её можно вызывать отдельно.\n",
    "Это означает что нельзя просто вызвать функцию вот так ```hello()```. Функцию нужно вызывать какому-то объекту: ```bob.hello()```\n",
    "3. При вызове метода, тот объект с которым он связан, будет автоматически вставляться в аргумент метода.\n",
    "\n",
    "Именно с этим и связна предыдущая ошибка: ```hello() takes 0 positional arguments but 1 was given```\n",
    "Функция не принимали никаких аргументов, но Питон пишет, что был передан 1 аргумент. Этим аргументом будет тот объект, у которого был вызван метод (в нашем случае ```bob.hello()```).\n",
    "\n",
    "Чтобы в этом убедиться, попишем в функции приём произвольного количества аргументов ```*args```. А в ```print``` посмотрим что же мы передали в качестве аргумента."
   ]
  },
  {
   "cell_type": "code",
   "execution_count": 5,
   "metadata": {},
   "outputs": [],
   "source": [
    "class Cat:\n",
    "    def hello(*args):\n",
    "        print(\"Hello world from kitty\", args)"
   ]
  },
  {
   "cell_type": "code",
   "execution_count": 6,
   "metadata": {},
   "outputs": [
    {
     "name": "stdout",
     "output_type": "stream",
     "text": [
      "Hello world from kitty (<__main__.Cat object at 0x0000022D810B4A88>,)\n"
     ]
    }
   ],
   "source": [
    "jim = Cat()\n",
    "jim.hello()"
   ]
  },
  {
   "cell_type": "markdown",
   "metadata": {},
   "source": [
    "Видим, что выводиться объект принадлежащий классу Cat: ```(<__main__.Cat object at 0x0000022D810B4A88>,```. Значене ```0x0000022D810B4A88``` - это адрес памяти, где находится объект. По жим значениям мы видим, что это один и тот же объект."
   ]
  },
  {
   "cell_type": "code",
   "execution_count": 7,
   "metadata": {},
   "outputs": [
    {
     "data": {
      "text/plain": [
       "<__main__.Cat at 0x22d810b4a88>"
      ]
     },
     "execution_count": 7,
     "metadata": {},
     "output_type": "execute_result"
    }
   ],
   "source": [
    "jim"
   ]
  },
  {
   "cell_type": "markdown",
   "metadata": {},
   "source": [
    "**Метод обязательно связывается с объектом, к которому он был вызван**. Например метод ```sort```"
   ]
  },
  {
   "cell_type": "code",
   "execution_count": 9,
   "metadata": {},
   "outputs": [
    {
     "data": {
      "text/plain": [
       "[3, 4, 5]"
      ]
     },
     "execution_count": 9,
     "metadata": {},
     "output_type": "execute_result"
    }
   ],
   "source": [
    "a = [5, 3, 4]\n",
    "a.sort()\n",
    "a"
   ]
  },
  {
   "cell_type": "markdown",
   "metadata": {},
   "source": [
    "Через объект, который попадает первым аргументом внутрь метода, мы можем получать доступ например к атрибутам класса.\n",
    "\n",
    "Продемонстрируем это. Создадим породу для всех кошек."
   ]
  },
  {
   "cell_type": "code",
   "execution_count": 11,
   "metadata": {},
   "outputs": [],
   "source": [
    "class Cat:\n",
    "    breed = 'pers'\n",
    "    def hello(*args):\n",
    "        print(\"Hello world from kitty\", args)\n",
    "    \n",
    "    # instance - это экземпляр класса, который будет лететь 1-м обязательным аргументом при вызове метода.\n",
    "    # instance мы обязаны написать если пишем метод \n",
    "    def show_breed(instance):\n",
    "        # обращаемся к инстансу-объекту, у которого был вызван метод и узнаём его породу\n",
    "        print(f'my breed is {instance.breed}')"
   ]
  },
  {
   "cell_type": "code",
   "execution_count": 12,
   "metadata": {},
   "outputs": [
    {
     "name": "stdout",
     "output_type": "stream",
     "text": [
      "my breed is pers\n"
     ]
    }
   ],
   "source": [
    "# создаём кота и вызываем у него метод show_breed. Аргументы никакие не передаём. В инстанс автоматически прилетит сам walt\n",
    "walt = Cat()\n",
    "walt.show_breed()"
   ]
  },
  {
   "cell_type": "code",
   "execution_count": 13,
   "metadata": {},
   "outputs": [
    {
     "name": "stdout",
     "output_type": "stream",
     "text": [
      "my breed is siam\n"
     ]
    }
   ],
   "source": [
    "# изменим породу. Но этим мы изменим атрибут не класса, а экземпляра.\n",
    "walt.breed = 'siam'\n",
    "walt.show_breed()"
   ]
  },
  {
   "cell_type": "markdown",
   "metadata": {},
   "source": [
    "Создадим метод для показа имени"
   ]
  },
  {
   "cell_type": "code",
   "execution_count": 15,
   "metadata": {},
   "outputs": [
    {
     "data": {
      "text/plain": [
       "'MARY'"
      ]
     },
     "execution_count": 15,
     "metadata": {},
     "output_type": "execute_result"
    }
   ],
   "source": [
    "mary = Cat()\n",
    "mary.show_name = 'MARY'\n",
    "mary.show_name"
   ]
  },
  {
   "cell_type": "code",
   "execution_count": 19,
   "metadata": {},
   "outputs": [],
   "source": [
    "class Cat:\n",
    "    breed = 'pers'\n",
    "    def hello(*args):\n",
    "        print(\"Hello world from kitty\", args)\n",
    "    \n",
    "    def show_breed(instance):\n",
    "        print(f'my breed is {instance.breed}')\n",
    "        \n",
    "    def show_name(instance):\n",
    "        # проверка того, что у экземпляра есть имя\n",
    "        if hasattr(instance, \"name\"):\n",
    "            print(f'my name is {instance.name}')\n",
    "        else:\n",
    "            print('nothing')"
   ]
  },
  {
   "cell_type": "code",
   "execution_count": 20,
   "metadata": {},
   "outputs": [
    {
     "name": "stdout",
     "output_type": "stream",
     "text": [
      "nothing\n"
     ]
    }
   ],
   "source": [
    "mary = Cat()\n",
    "mary.show_name()"
   ]
  },
  {
   "cell_type": "code",
   "execution_count": 21,
   "metadata": {},
   "outputs": [
    {
     "name": "stdout",
     "output_type": "stream",
     "text": [
      "my name is www\n"
     ]
    }
   ],
   "source": [
    "mary.name = 'www'\n",
    "mary.show_name()"
   ]
  },
  {
   "cell_type": "markdown",
   "metadata": {},
   "source": [
    "Работать с атрибутами не очень удобно, потому что для вывода на экран их вначале нужно создать.\n",
    "\n",
    "Для того чтобы создать атрибуты можно тоже воспользоваться методом. Вместо ```self``` пишем любое значение. Это 1-й атрибут который будет принимать объект от которого вызван метод.\n",
    "\n",
    "Независимо от имени (instanse, koshka) сюда придёт наш объект. Но после объекта можно перечислить параметры, которые вы хотите, чтобы метод принял. Например примем 1 аргумент `value`.\n",
    "\n",
    "А кошке в качестве атрибута name присвоим параметр (`value`), который будет поступать из метода."
   ]
  },
  {
   "cell_type": "code",
   "execution_count": 22,
   "metadata": {},
   "outputs": [],
   "source": [
    "class Cat:\n",
    "    breed = 'pers'\n",
    "    def hello(*args):\n",
    "        print(\"Hello world from kitty\", args)\n",
    "    \n",
    "    def show_breed(instance):\n",
    "        print(f'my breed is {instance.breed}')\n",
    "        \n",
    "    def show_name(instance):\n",
    "        # проверка того, что у экземпляра есть имя\n",
    "        if hasattr(instance, \"name\"):\n",
    "            print(f'my name is {instance.name}')\n",
    "        else:\n",
    "            print('nothing')\n",
    "    \n",
    "    def set_value(koshka, value): # вместо self - любое значение (здесь koshka). Value - параметр прилетающий вместе с объектом\n",
    "        koshka.name = value # параметр прилетевший с объектом присваиваем атрибуту name"
   ]
  },
  {
   "cell_type": "code",
   "execution_count": 27,
   "metadata": {},
   "outputs": [
    {
     "name": "stdout",
     "output_type": "stream",
     "text": [
      "my breed is pers\n",
      "nothing\n"
     ]
    },
    {
     "ename": "AttributeError",
     "evalue": "'Cat' object has no attribute 'name'",
     "output_type": "error",
     "traceback": [
      "\u001b[1;31m---------------------------------------------------------------------------\u001b[0m",
      "\u001b[1;31mAttributeError\u001b[0m                            Traceback (most recent call last)",
      "\u001b[1;32m<ipython-input-27-242cc3f2bc92>\u001b[0m in \u001b[0;36m<module>\u001b[1;34m\u001b[0m\n\u001b[0;32m      3\u001b[0m \u001b[0mtom\u001b[0m\u001b[1;33m.\u001b[0m\u001b[0mshow_breed\u001b[0m\u001b[1;33m(\u001b[0m\u001b[1;33m)\u001b[0m\u001b[1;33m\u001b[0m\u001b[1;33m\u001b[0m\u001b[0m\n\u001b[0;32m      4\u001b[0m \u001b[0mtom\u001b[0m\u001b[1;33m.\u001b[0m\u001b[0mshow_name\u001b[0m\u001b[1;33m(\u001b[0m\u001b[1;33m)\u001b[0m\u001b[1;33m\u001b[0m\u001b[1;33m\u001b[0m\u001b[0m\n\u001b[1;32m----> 5\u001b[1;33m \u001b[0mtom\u001b[0m\u001b[1;33m.\u001b[0m\u001b[0mname\u001b[0m\u001b[1;33m\u001b[0m\u001b[1;33m\u001b[0m\u001b[0m\n\u001b[0m",
      "\u001b[1;31mAttributeError\u001b[0m: 'Cat' object has no attribute 'name'"
     ]
    }
   ],
   "source": [
    "# создаём Тома. У него есть порода, но нет имени\n",
    "tom = Cat()\n",
    "tom.show_breed()\n",
    "tom.show_name()\n",
    "tom.name"
   ]
  },
  {
   "cell_type": "markdown",
   "metadata": {},
   "source": [
    "Воспользуемся методом set_value. 1-й параметр, который отвечает за кошку, мы не передаём - в него автоматически попадёт Том, потому что мы именно у него вызываем метод. а 2-м параметром мы хотим передать его имя.\n",
    "\n",
    "Теперь мы сможем к нему бращаться через точку."
   ]
  },
  {
   "cell_type": "code",
   "execution_count": 29,
   "metadata": {},
   "outputs": [
    {
     "data": {
      "text/plain": [
       "'Tom'"
      ]
     },
     "execution_count": 29,
     "metadata": {},
     "output_type": "execute_result"
    }
   ],
   "source": [
    "tom.set_value('Tom')\n",
    "tom.name"
   ]
  },
  {
   "cell_type": "code",
   "execution_count": 30,
   "metadata": {},
   "outputs": [
    {
     "name": "stdout",
     "output_type": "stream",
     "text": [
      "my name is Tom\n"
     ]
    }
   ],
   "source": [
    "tom.show_name()"
   ]
  },
  {
   "cell_type": "code",
   "execution_count": 31,
   "metadata": {},
   "outputs": [
    {
     "ename": "TypeError",
     "evalue": "set_value() missing 1 required positional argument: 'value'",
     "output_type": "error",
     "traceback": [
      "\u001b[1;31m---------------------------------------------------------------------------\u001b[0m",
      "\u001b[1;31mTypeError\u001b[0m                                 Traceback (most recent call last)",
      "\u001b[1;32m<ipython-input-31-5c6528eb9bee>\u001b[0m in \u001b[0;36m<module>\u001b[1;34m\u001b[0m\n\u001b[0;32m      1\u001b[0m \u001b[1;31m# вызывать метод без аргументов теперь нельзя, потому что мы прописали, что функция должна принимать 1 аргумент\u001b[0m\u001b[1;33m\u001b[0m\u001b[1;33m\u001b[0m\u001b[1;33m\u001b[0m\u001b[0m\n\u001b[1;32m----> 2\u001b[1;33m \u001b[0mtom\u001b[0m\u001b[1;33m.\u001b[0m\u001b[0mset_value\u001b[0m\u001b[1;33m(\u001b[0m\u001b[1;33m)\u001b[0m\u001b[1;33m\u001b[0m\u001b[1;33m\u001b[0m\u001b[0m\n\u001b[0m",
      "\u001b[1;31mTypeError\u001b[0m: set_value() missing 1 required positional argument: 'value'"
     ]
    }
   ],
   "source": [
    "# вызывать метод без аргументов теперь нельзя, потому что мы прописали, что функция должна принимать 1 аргумент\n",
    "tom.set_value()"
   ]
  },
  {
   "cell_type": "markdown",
   "metadata": {},
   "source": [
    "Пропишем ещё один аргумент - возраст и присвоим ему значение по умолчанию."
   ]
  },
  {
   "cell_type": "code",
   "execution_count": 33,
   "metadata": {},
   "outputs": [],
   "source": [
    "class Cat:\n",
    "    breed = 'pers'\n",
    "    def hello(*args):\n",
    "        print(\"Hello world from kitty\", args)\n",
    "    \n",
    "    def show_breed(instance):\n",
    "        print(f'my breed is {instance.breed}')\n",
    "        \n",
    "    def show_name(instance):\n",
    "        # проверка того, что у экземпляра есть имя\n",
    "        if hasattr(instance, \"name\"):\n",
    "            print(f'my name is {instance.name}')\n",
    "        else:\n",
    "            print('nothing')\n",
    "    \n",
    "    def set_value(koshka, value, age=0):\n",
    "        koshka.name = value\n",
    "        koshka.age = age\n",
    "        # имена age совпадают. но правый age - это аргумент из фугкции (где age=0)\n",
    "        # а левый (где koshka.age) - атрибут класса koshka"
   ]
  },
  {
   "cell_type": "code",
   "execution_count": 34,
   "metadata": {},
   "outputs": [
    {
     "data": {
      "text/plain": [
       "0"
      ]
     },
     "execution_count": 34,
     "metadata": {},
     "output_type": "execute_result"
    }
   ],
   "source": [
    "# создадим Джерри без передачи 2-го параметра\n",
    "jerry = Cat()\n",
    "jerry.set_value('Jerry')\n",
    "jerry.age"
   ]
  },
  {
   "cell_type": "code",
   "execution_count": 35,
   "metadata": {},
   "outputs": [
    {
     "data": {
      "text/plain": [
       "15"
      ]
     },
     "execution_count": 35,
     "metadata": {},
     "output_type": "execute_result"
    }
   ],
   "source": [
    "# если хотим передать другой возраст\n",
    "jerry.set_value('Jery', 15)\n",
    "jerry.age"
   ]
  },
  {
   "cell_type": "markdown",
   "metadata": {},
   "source": [
    "```self``` - это общепринятое название объекта, у которого был вызван метод. В 1-м случае мы указывали instance, во втором koshka. В принципе, можно давать любое название. Но в Питоне принято, тот объект, от которого был вызван метод называть self-ом. Поэтому преименуем в self. Именно поэтому PyCharm первым аргументом в скобках автоматически вставляет self - он напоминает, что 1-м аргументом должен прилететь объект у которого бдет вызван метод."
   ]
  },
  {
   "cell_type": "code",
   "execution_count": 70,
   "metadata": {},
   "outputs": [],
   "source": [
    "class Cat:\n",
    "    breed = 'pers'\n",
    "    def hello(*args):\n",
    "        print(\"Hello world from kitty\", args)\n",
    "    \n",
    "    def show_breed(self):\n",
    "        print(f'my breed is {self.breed}')\n",
    "        \n",
    "    def show_name(self):\n",
    "        # проверка того, что у экземпляра есть имя\n",
    "        if hasattr(self, \"name\"):\n",
    "            print(f'my name is {self.name}')\n",
    "        else:\n",
    "            print('nothing')\n",
    "    \n",
    "    def set_value(self, value, age=0):\n",
    "        self.name = value\n",
    "        self.age = age"
   ]
  },
  {
   "cell_type": "code",
   "execution_count": 73,
   "metadata": {},
   "outputs": [
    {
     "name": "stdout",
     "output_type": "stream",
     "text": [
      "nothing\n"
     ]
    }
   ],
   "source": [
    "barsik = Cat()\n",
    "# ещё один способ вызывать экземпляр\n",
    "Cat.show_name(barsik)"
   ]
  },
  {
   "cell_type": "markdown",
   "metadata": {},
   "source": [
    "**Задание 1**\n",
    "\n",
    "Создайте класс Lion. В нем должен быть метод roar, который печатает на экран \"Rrrrrrr!!!\"\n",
    "\n",
    "Пример работы с классом Lion\n",
    "\n",
    "``` python\n",
    "simba = Lion()\n",
    "simba.roar() # печатает Rrrrrrr!!!\n",
    "```"
   ]
  },
  {
   "cell_type": "code",
   "execution_count": 37,
   "metadata": {},
   "outputs": [],
   "source": [
    "class Lion:\n",
    "    def roar(self):\n",
    "        print('Rrrrrrr!!!')"
   ]
  },
  {
   "cell_type": "code",
   "execution_count": 38,
   "metadata": {},
   "outputs": [
    {
     "name": "stdout",
     "output_type": "stream",
     "text": [
      "Rrrrrrr!!!\n"
     ]
    }
   ],
   "source": [
    "simba = Lion()\n",
    "simba.roar()"
   ]
  },
  {
   "cell_type": "markdown",
   "metadata": {},
   "source": [
    "**Задание 2**\n",
    "\n",
    "Создайте класс Counter, экземпляры которого будут подсчитывать внутри себя значения.\n",
    "\n",
    "В классе Counter нужно определить метод start_from, который принимает один необязательный аргумент - значение, с которого начинается подсчет, по умолчанию равно 0\n",
    "\n",
    "Также нужно создать метод increment, который увеличивает счетчик на 1.\n",
    "\n",
    "Затем необходимо создать метод display, который печатает фразу \"Текущее значение счетчика = <value>\" и метод reset,  который обнуляет экземпляр счетчика\n",
    "\n",
    "Пример работы с классом Counter\n",
    "\n",
    "``` python\n",
    "c1 = Counter()\n",
    "c1.start_from()\n",
    "c1.increment()\n",
    "c1.display() # печатает \"Текущее значение счетчика = 1\"\n",
    "c1.increment()\n",
    "c1.display() # печатает \"Текущее значение счетчика = 2\"\n",
    "c1.reset()\n",
    "c1.display() # печатает \"Текущее значение счетчика = 0\"\n",
    "\n",
    "c2 = Counter()\n",
    "c2.start_from(3)\n",
    "c2.display() # печатает \"Текущее значение счетчика = 3\"\n",
    "c2.increment()\n",
    "c2.display() # печатает \"Текущее значение счетчика = 4\"\n",
    "```"
   ]
  },
  {
   "cell_type": "code",
   "execution_count": 42,
   "metadata": {},
   "outputs": [],
   "source": [
    "class Counter:\n",
    "    def start_from(self, start_from=0):\n",
    "        self.i = start_from\n",
    "        \n",
    "    def increment(self):\n",
    "        self.i += 1\n",
    "        \n",
    "    def display(self):\n",
    "        print(f\"Текущее значение счетчика = {self.i}\")\n",
    "        \n",
    "    def reset(self):\n",
    "        self.i = 0"
   ]
  },
  {
   "cell_type": "code",
   "execution_count": 43,
   "metadata": {},
   "outputs": [
    {
     "name": "stdout",
     "output_type": "stream",
     "text": [
      "Текущее значение счетчика = 1\n",
      "Текущее значение счетчика = 2\n",
      "Текущее значение счетчика = 0\n"
     ]
    }
   ],
   "source": [
    "c1 = Counter()\n",
    "c1.start_from()\n",
    "c1.increment()\n",
    "c1.display() # печатает \"Текущее значение счетчика = 1\"\n",
    "c1.increment()\n",
    "c1.display() # печатает \"Текущее значение счетчика = 2\"\n",
    "c1.reset()\n",
    "c1.display() # печатает \"Текущее значение счетчика = 0\""
   ]
  },
  {
   "cell_type": "code",
   "execution_count": 44,
   "metadata": {},
   "outputs": [
    {
     "name": "stdout",
     "output_type": "stream",
     "text": [
      "Текущее значение счетчика = 3\n",
      "Текущее значение счетчика = 4\n"
     ]
    }
   ],
   "source": [
    "c2 = Counter()\n",
    "c2.start_from(3)\n",
    "c2.display() # печатает \"Текущее значение счетчика = 3\"\n",
    "c2.increment()\n",
    "c2.display() # печатает \"Текущее значение счетчика = 4\""
   ]
  },
  {
   "cell_type": "markdown",
   "metadata": {},
   "source": [
    "**Задание 3**\n",
    "\n",
    "Создайте класс Point. У этого класса должны быть\n",
    "\n",
    "- метод ```set_coordinates```, который принимает координаты по x и по y, и сохраняет их в экземпляр класса соответственно в атрибуты x и y \n",
    "- метод ```get_distance```, который обязательно принимает экземпляр класса Point и возвращает расстояние между двумя точками по теореме Пифагора. В случае, если в данный метод передается не экземпляр класса Point необходимо вывести сообщение \"Передана не точка\"\n",
    "\n",
    "Пример работы с классом Point\n",
    "\n",
    "``` python\n",
    "p1 = Point()\n",
    "p2 = Point()\n",
    "p1.set_coordinates(1, 2)\n",
    "p2.set_coordinates(4, 6)\n",
    "d = p1.get_distance(p2) # вернёт 5.0\n",
    "p1.get_distance(10) # Распечатает \"Передана не точка\"\n",
    "```"
   ]
  },
  {
   "cell_type": "code",
   "execution_count": 319,
   "metadata": {},
   "outputs": [
    {
     "name": "stdout",
     "output_type": "stream",
     "text": [
      "5.0\n",
      "Передана не точка\n"
     ]
    }
   ],
   "source": [
    "class Point:\n",
    "    def set_coordinates(self, x, y):\n",
    "        self.x = x\n",
    "        self.y = y\n",
    "    \n",
    "    def get_distance(self, another):\n",
    "        # проверяем отношение объекта к классу через isinstance(объект, класс)\n",
    "        if isinstance(another, Point):\n",
    "            print(((self.x - another.x) ** 2 + (self.y - another.y) ** 2) ** (1 / 2))  # можно вместо print - return\n",
    "        else:\n",
    "            print('Передана не точка')\n",
    "            \n",
    "        \n",
    "p1 = Point()\n",
    "p2 = Point()\n",
    "p1.set_coordinates(1, 2)\n",
    "p2.set_coordinates(4, 6)\n",
    "d = p1.get_distance(p2) # вернёт 5.0\n",
    "#print(d)\n",
    "p1.get_distance(10) # Распечатает \"Передана не точка\""
   ]
  },
  {
   "cell_type": "code",
   "execution_count": 313,
   "metadata": {},
   "outputs": [
    {
     "data": {
      "text/plain": [
       "({'x': 1, 'y': 2}, {'x': 4, 'y': 6})"
      ]
     },
     "execution_count": 313,
     "metadata": {},
     "output_type": "execute_result"
    }
   ],
   "source": [
    "p1.__dict__, p2.__dict__"
   ]
  },
  {
   "cell_type": "markdown",
   "metadata": {},
   "source": [
    "## Инициализация объекта. Метод init"
   ]
  },
  {
   "cell_type": "markdown",
   "metadata": {},
   "source": [
    "Для создания атрибута необходимо вызывать метод. Это не совсем удобно. Это решают с помощью магических методов.\n",
    "\n",
    "Магический метод в Питоне - это метод у которого в начале и в конце 2 подчёркивания.\n",
    "\n",
    "Вторая особенность магических методов - каждый из них срабатывает в определённый момент. Например ```__init__``` срабатывает после создания объекта (и после создания пространства имён - т.е. мы уже можем обращаться к атрибутам объекта). Новые объекты создаёт магический метод ```__new__```"
   ]
  },
  {
   "cell_type": "code",
   "execution_count": 125,
   "metadata": {},
   "outputs": [],
   "source": [
    "class Cat:\n",
    "    breed = 'Pers'\n",
    "    \n",
    "    def set_value(self, value, age=0):\n",
    "        self.name = value\n",
    "        self.age = age\n",
    "        \n",
    "    def __init__(self):\n",
    "        print('hello')"
   ]
  },
  {
   "cell_type": "code",
   "execution_count": 128,
   "metadata": {},
   "outputs": [
    {
     "name": "stdout",
     "output_type": "stream",
     "text": [
      "hello\n"
     ]
    },
    {
     "data": {
      "text/plain": [
       "<__main__.Cat at 0x22d81739dc8>"
      ]
     },
     "execution_count": 128,
     "metadata": {},
     "output_type": "execute_result"
    }
   ],
   "source": [
    "# после создания экземпляра срабатывает __init__\n",
    "Cat()"
   ]
  },
  {
   "cell_type": "code",
   "execution_count": 129,
   "metadata": {},
   "outputs": [
    {
     "name": "stdout",
     "output_type": "stream",
     "text": [
      "hello\n"
     ]
    }
   ],
   "source": [
    "tom = Cat()"
   ]
  },
  {
   "cell_type": "markdown",
   "metadata": {},
   "source": [
    "Добавим в класс вывод объекта self"
   ]
  },
  {
   "cell_type": "code",
   "execution_count": 130,
   "metadata": {},
   "outputs": [],
   "source": [
    "class Cat:\n",
    "    breed = 'Pers'\n",
    "    \n",
    "    def set_value(self, value, age=0):\n",
    "        self.name = value\n",
    "        self.age = age\n",
    "        \n",
    "    def __init__(self):\n",
    "        print('hello new object is ', self)"
   ]
  },
  {
   "cell_type": "markdown",
   "metadata": {},
   "source": [
    "Видим, что один и тот же адрес."
   ]
  },
  {
   "cell_type": "code",
   "execution_count": 131,
   "metadata": {},
   "outputs": [
    {
     "name": "stdout",
     "output_type": "stream",
     "text": [
      "hello new object is  <__main__.Cat object at 0x0000022D816D2BC8>\n"
     ]
    }
   ],
   "source": [
    "tom = Cat()"
   ]
  },
  {
   "cell_type": "code",
   "execution_count": 132,
   "metadata": {},
   "outputs": [
    {
     "data": {
      "text/plain": [
       "<__main__.Cat at 0x22d816d2bc8>"
      ]
     },
     "execution_count": 132,
     "metadata": {},
     "output_type": "execute_result"
    }
   ],
   "source": [
    "tom"
   ]
  },
  {
   "cell_type": "markdown",
   "metadata": {},
   "source": [
    "Пространство имён - это атрибуты экземпляра, которые можно посмотреть командой ```__dict__```\n",
    "\n",
    "Метод ```__init__``` нужен для инициализации и заполнения переменных какими-либо значениями."
   ]
  },
  {
   "cell_type": "code",
   "execution_count": 133,
   "metadata": {},
   "outputs": [],
   "source": [
    "class Cat:\n",
    "    breed = 'Pers'\n",
    "    \n",
    "    def set_value(self, value, age=0):\n",
    "        self.name = value\n",
    "        self.age = age\n",
    "        \n",
    "    def __init__(self, name, breed, age, color):\n",
    "        print('hello new object is ', self, name, breed, age, color)"
   ]
  },
  {
   "cell_type": "markdown",
   "metadata": {},
   "source": [
    "Все значения атрибутов мы увидем в выводе и значит в функции init мы сможем ими воспользоваться."
   ]
  },
  {
   "cell_type": "code",
   "execution_count": 134,
   "metadata": {},
   "outputs": [
    {
     "name": "stdout",
     "output_type": "stream",
     "text": [
      "hello new object is  <__main__.Cat object at 0x0000022D816F31C8> Tom siam 40 black\n"
     ]
    },
    {
     "data": {
      "text/plain": [
       "<__main__.Cat at 0x22d816f31c8>"
      ]
     },
     "execution_count": 134,
     "metadata": {},
     "output_type": "execute_result"
    }
   ],
   "source": [
    "Cat('Tom', 'siam', 40, 'black')"
   ]
  },
  {
   "cell_type": "code",
   "execution_count": 139,
   "metadata": {},
   "outputs": [],
   "source": [
    "class Cat:\n",
    "    \n",
    "    def set_value(self, value, age=0):\n",
    "        self.name = value\n",
    "        self.age = age\n",
    "        \n",
    "    def __init__(self, name, breed='pers', age=1, color='white'):\n",
    "        print('hello new object is ', self, name, breed, age, color)\n",
    "        self.name = name \n",
    "        self.breed = breed\n",
    "        self.age = age\n",
    "        self.color = color\n",
    "# слева от равно - имена атрибутов | справа - входящие аргументы функции"
   ]
  },
  {
   "cell_type": "code",
   "execution_count": 136,
   "metadata": {},
   "outputs": [
    {
     "name": "stdout",
     "output_type": "stream",
     "text": [
      "hello new object is  <__main__.Cat object at 0x0000022D8170C9C8> walt pers 1 white\n"
     ]
    }
   ],
   "source": [
    "# можно передать 1 параметр, т.к. только он обязательный\n",
    "walt = Cat('walt')"
   ]
  },
  {
   "cell_type": "markdown",
   "metadata": {},
   "source": [
    "Экземпляр уже имеет 4 атрибуты, котрые мы проставили в момент инициализации. 3 атрибута взялись по умолчанию."
   ]
  },
  {
   "cell_type": "code",
   "execution_count": 137,
   "metadata": {},
   "outputs": [
    {
     "data": {
      "text/plain": [
       "{'name': 'walt', 'breed': 'pers', 'age': 1, 'color': 'white'}"
      ]
     },
     "execution_count": 137,
     "metadata": {},
     "output_type": "execute_result"
    }
   ],
   "source": [
    "walt.__dict__"
   ]
  },
  {
   "cell_type": "code",
   "execution_count": 138,
   "metadata": {},
   "outputs": [
    {
     "name": "stdout",
     "output_type": "stream",
     "text": [
      "hello new object is  <__main__.Cat object at 0x0000022D816E4B08> Kelly pers 40 white\n"
     ]
    }
   ],
   "source": [
    "# создадим ещё одну кошку\n",
    "kelly = Cat('Kelly', age=40)"
   ]
  },
  {
   "cell_type": "markdown",
   "metadata": {},
   "source": [
    "Теперь отпала необходимость в методе set_value. Но при создании экземпляра класса нужно обязательно передавать один аргусент - имя."
   ]
  },
  {
   "cell_type": "code",
   "execution_count": 140,
   "metadata": {},
   "outputs": [],
   "source": [
    "class Cat:\n",
    "        \n",
    "    def __init__(self, name, breed='pers', age=1, color='white'):\n",
    "        print('hello new object is ', self, name, breed, age, color)\n",
    "        self.name = name \n",
    "        self.breed = breed\n",
    "        self.age = age\n",
    "        self.color = color"
   ]
  },
  {
   "cell_type": "code",
   "execution_count": 141,
   "metadata": {},
   "outputs": [
    {
     "name": "stdout",
     "output_type": "stream",
     "text": [
      "hello new object is  <__main__.Cat object at 0x0000022D816D0C48> walt pers 1 white\n"
     ]
    }
   ],
   "source": [
    "walt = Cat('walt')"
   ]
  },
  {
   "cell_type": "markdown",
   "metadata": {},
   "source": [
    "**Задание 1**\n",
    "\n",
    "Создайте класс Laptop, у которого есть:\n",
    "\n",
    "конструктор __init__, принимающий 3 аргумента: brand, model, price . Также во время инициализации необходимо создать атрибут laptop_name - строковое значение, вида ```\"<brand> <model>\"```\n",
    "\n",
    "``` python\n",
    "hp = Laptop('hp', '15-bw0xx', 57000)\n",
    "print(hp.laptop_name) # выводит \"hp 15-bw0xx\"\n",
    "```\n",
    "И затем создайте 2 экземпляра класса Laptop и сохраните их в переменные laptop1 и laptop2."
   ]
  },
  {
   "cell_type": "code",
   "execution_count": 161,
   "metadata": {},
   "outputs": [],
   "source": [
    "class Laptop:\n",
    "    def __init__(self, brand, model, price):\n",
    "        self.brand = brand\n",
    "        self.model = model\n",
    "        self.price = price\n",
    "        self.laptop_name = f\"{brand} {model}\""
   ]
  },
  {
   "cell_type": "code",
   "execution_count": 162,
   "metadata": {},
   "outputs": [],
   "source": [
    "laptop1 = Laptop('hp', '15-bw0xx', 57000)"
   ]
  },
  {
   "cell_type": "code",
   "execution_count": 163,
   "metadata": {},
   "outputs": [],
   "source": [
    "laptop2 = Laptop('dell', '17-bw0xx', 67000)"
   ]
  },
  {
   "cell_type": "code",
   "execution_count": 164,
   "metadata": {},
   "outputs": [
    {
     "name": "stdout",
     "output_type": "stream",
     "text": [
      "hp 15-bw0xx\n"
     ]
    }
   ],
   "source": [
    "hp = Laptop('hp', '15-bw0xx', 57000)\n",
    "print(hp.laptop_name) # выводит \"hp 15-bw0xx\""
   ]
  },
  {
   "cell_type": "markdown",
   "metadata": {},
   "source": [
    "**Задача 3**\n",
    "\n",
    "Создайте класс SoccerPlayer, у которого есть:\n",
    "\n",
    "1. конструктор ```__init__```, принимающий 2 аргумента: name, surname. Также во время инициализации необходимо создать 2 атрибута экземпляра: **goals** и **assists** - общее количество голов и передач игрока, изначально оба значения должны быть 0\n",
    "2. метод **score**, который принимает количество голов, забитых игроком, по умолчанию данное значение равно единице. Метод должен увеличить общее количество забитых голов игрока на переданное значение;\n",
    "3. метод **make_assist**, который принимает количество передач, сделанных игроком за матч, по умолчанию данное значение равно единице. Метод должен увеличить общее количество сделанных передач игроком на переданное значение;\n",
    "4. метод **statistics**, который вывод на экран статистику игрока в виде:\n",
    "<Фамилия> <Имя> - голы: <goals>, передачи: <assists>\n",
    "\n",
    "``` python\n",
    "leo = SoccerPlayer('Leo', 'Messi')\n",
    "leo.score(700)\n",
    "leo.make_assist(500)\n",
    "leo.statistics() # выводит \"Messi Leo - голы: 700, передачи: 500\"\n",
    "kokorin = SoccerPlayer('Alex', 'Kokorin')\n",
    "kokorin.score()\n",
    "kokorin.statistics() # выводит \"Kokorin Alex - голы: 1, передачи: 0\"\n",
    "```"
   ]
  },
  {
   "cell_type": "code",
   "execution_count": 284,
   "metadata": {},
   "outputs": [
    {
     "name": "stdout",
     "output_type": "stream",
     "text": [
      "Messi Leo - голы: 700, передачи: 500\n",
      "Kokorin Alex - голы: 1, передачи: 0\n"
     ]
    }
   ],
   "source": [
    "class SoccerPlayer:\n",
    "    def __init__(self, name, surname):\n",
    "        self.name = name\n",
    "        self.surname = surname\n",
    "        self.goals = 0\n",
    "        self.assists = 0\n",
    "        \n",
    "    def score(self, goals=1):\n",
    "        self.goals += goals\n",
    "    \n",
    "    def make_assist(self, assists=1):\n",
    "        self.assists += assists\n",
    "    \n",
    "    def statistics(self):\n",
    "        print(f'{self.surname} {self.name} - голы: {self.goals}, передачи: {self.assists}')\n",
    "        \n",
    "        \n",
    "leo = SoccerPlayer('Leo', 'Messi')\n",
    "leo.score(700)\n",
    "leo.make_assist(500)\n",
    "leo.statistics() # выводит \"Messi Leo - голы: 700, передачи: 500\"\n",
    "kokorin = SoccerPlayer('Alex', 'Kokorin')\n",
    "kokorin.score()\n",
    "kokorin.statistics() # выводит \"Kokorin Alex - голы: 1, передачи: 0\""
   ]
  },
  {
   "cell_type": "markdown",
   "metadata": {},
   "source": [
    "**Задача 3**\n",
    "Создайте класс Zebra, внутри которого есть метод ```which_stripe```, который поочередно печатает фразы \"Полоска белая\", \"Полоска черная\", начиная именно с фразы \"Полоска белая\"\n",
    "\n",
    "Пример работы с классом Zebra\n",
    "\n",
    "``` python\n",
    "z1 = Zebra()\n",
    "z1.which_stripe() # печатает \"Полоска белая\"\n",
    "z1.which_stripe() # печатает \"Полоска черная\"\n",
    "z1.which_stripe() # печатает \"Полоска белая\"\n",
    "\n",
    "z2 = Zebra()\n",
    "z2.which_stripe() # печатает \"Полоска белая\"\n",
    "```"
   ]
  },
  {
   "cell_type": "code",
   "execution_count": 283,
   "metadata": {},
   "outputs": [
    {
     "name": "stdout",
     "output_type": "stream",
     "text": [
      "Полоска белая\n",
      "Полоска черная\n",
      "Полоска белая\n",
      "Полоска белая\n"
     ]
    }
   ],
   "source": [
    "class Zebra:\n",
    "    def __init__(self, stripe=1):\n",
    "        self.stripe = stripe\n",
    "    \n",
    "    def which_stripe(self):\n",
    "        self.stripe += 1\n",
    "        if self.stripe % 2 == 0:\n",
    "            print(\"Полоска белая\")\n",
    "        else:\n",
    "            print(\"Полоска черная\")\n",
    "        \n",
    "\n",
    "z1 = Zebra()\n",
    "z1.which_stripe() # печатает \"Полоска белая\"\n",
    "z1.which_stripe() # печатает \"Полоска черная\"\n",
    "z1.which_stripe() # печатает \"Полоска белая\"\n",
    "\n",
    "z2 = Zebra()\n",
    "z2.which_stripe() # печатает \"Полоска белая\""
   ]
  },
  {
   "cell_type": "markdown",
   "metadata": {},
   "source": [
    "**Задача 4**\n",
    "\n",
    "Создайте класс Person, у которого есть:\n",
    "\n",
    "1. конструктор ```__init__```, принимающий 3 аргумента: first_name, last_name, age. \n",
    "2. метод ```full_name```, который возвращает строку в виде \"<Фамилия> <Имя>\"\n",
    "3. метод ```is_adult```, который возвращает True, если человек достиг 18 лет и False в противном случае;\n",
    "\n",
    "``` python\n",
    "p1 = Person('Jimi', 'Hendrix', 55)\n",
    "print(p1.full_name())  # выводит \"Hendrix Jimi\"\n",
    "print(p1.is_adult()) # выводит \"True\"\n",
    "```"
   ]
  },
  {
   "cell_type": "code",
   "execution_count": 292,
   "metadata": {},
   "outputs": [
    {
     "name": "stdout",
     "output_type": "stream",
     "text": [
      "Hendrix Jimi\n",
      "True\n"
     ]
    }
   ],
   "source": [
    "class Person:\n",
    "    def __init__(self, first_name, last_name, age):\n",
    "        self.first_name = first_name\n",
    "        self.last_name = last_name\n",
    "        self.age = age\n",
    "        \n",
    "    def full_name(self):\n",
    "        return f'{self.last_name} {self.first_name}'\n",
    "        \n",
    "    def is_adult(self):\n",
    "        return self.age >= 18     #    <=======================  !!!!!!!!!!!!!\n",
    "\n",
    "            \n",
    "p1 = Person('Jimi', 'Hendrix', 55)\n",
    "print(p1.full_name())  # выводит \"Hendrix Jimi\"\n",
    "print(p1.is_adult()) # выводит \"True\""
   ]
  },
  {
   "cell_type": "markdown",
   "metadata": {},
   "source": [
    "## Практика \"Создание класса и его методов\""
   ]
  },
  {
   "cell_type": "markdown",
   "metadata": {},
   "source": [
    "Можно вызывать метод из другого метода. Но так как метод привязан к объекту, его нужно вызывать после self.\n",
    "\n",
    "Ниже иллюстрирован принцип DRY - Do not Repeat Yourself."
   ]
  },
  {
   "cell_type": "code",
   "execution_count": 320,
   "metadata": {},
   "outputs": [
    {
     "name": "stdout",
     "output_type": "stream",
     "text": [
      "{'x': 4, 'y': 0}\n",
      "{'x': 4, 'y': 8}\n",
      "{'x': 0, 'y': 0}\n",
      "Точка с координатами (0,0)\n"
     ]
    }
   ],
   "source": [
    "class Point:\n",
    "    \n",
    "    def __init__(self, coord_x=0, coord_y=0):\n",
    "        self.move_to(coord_x, coord_y)   # <============ !!!!!\n",
    "        \n",
    "    def move_to(self, new_x, new_y):\n",
    "        self.x = new_x\n",
    "        self.y = new_y\n",
    "        \n",
    "    def go_home(self):\n",
    "        self.move_to(0, 0)   # <======  вызов метода из другого метода  ========= !!!!!\n",
    "        \n",
    "    def print_point(self):\n",
    "        print(f'Точка с координатами ({self.x},{self.y})')\n",
    "    \n",
    "p4 = Point(4)\n",
    "print(p4.__dict__)\n",
    "p4.move_to(4, 8)\n",
    "print(p4.__dict__)\n",
    "p4.go_home()\n",
    "print(p4.__dict__)\n",
    "p4.print_point()"
   ]
  },
  {
   "cell_type": "markdown",
   "metadata": {},
   "source": [
    "Создадим класс с атрибутами класса ()"
   ]
  },
  {
   "cell_type": "code",
   "execution_count": 324,
   "metadata": {},
   "outputs": [
    {
     "data": {
      "text/plain": [
       "[<__main__.Point at 0x22d827f17c8>, <__main__.Point at 0x22d827f1508>]"
      ]
     },
     "execution_count": 324,
     "metadata": {},
     "output_type": "execute_result"
    }
   ],
   "source": [
    "class Point:\n",
    "    \n",
    "    list_points = []  # атрибут всего класса: список точек, котрые создаются\n",
    "    \n",
    "    def __init__(self, coord_x=0, coord_y=0):\n",
    "        self.move_to(coord_x, coord_y)\n",
    "        Point.list_points.append(self)   # если не указывать через имя класса (Point.) атрибут не будет виден внутри функции \n",
    "        \n",
    "    def move_to(self, new_x, new_y):\n",
    "        self.x = new_x\n",
    "        self.y = new_y\n",
    "        \n",
    "    def go_home(self):\n",
    "        self.move_to(0, 0)   # <======  вызов метода из другого метода  ========= !!!!!\n",
    "        \n",
    "    def print_point(self):\n",
    "        print(f'Точка с координатами ({self.x},{self.y})')\n",
    "\n",
    "p11 = Point()\n",
    "Point.list_points\n",
    "p12 = Point(4, 5)\n",
    "Point.list_points"
   ]
  },
  {
   "cell_type": "code",
   "execution_count": 325,
   "metadata": {},
   "outputs": [
    {
     "data": {
      "text/plain": [
       "<__main__.Point at 0x22d827f1508>"
      ]
     },
     "execution_count": 325,
     "metadata": {},
     "output_type": "execute_result"
    }
   ],
   "source": [
    "# т.к. это лист, можно брать его срез и атрибуты\n",
    "Point.list_points[1]"
   ]
  },
  {
   "cell_type": "code",
   "execution_count": 326,
   "metadata": {},
   "outputs": [
    {
     "data": {
      "text/plain": [
       "4"
      ]
     },
     "execution_count": 326,
     "metadata": {},
     "output_type": "execute_result"
    }
   ],
   "source": [
    "# т.к. это лист, можно брать его срез и атрибуты\n",
    "Point.list_points[1].x"
   ]
  },
  {
   "cell_type": "markdown",
   "metadata": {},
   "source": [
    "**Задание**\n",
    "\n",
    "Создайте класс Dog, у которого есть:\n",
    "\n",
    "1. конструктор __init__, принимающий 2 аргумента: name, age. \n",
    "2. метод description, который возвращает строку в виде \"<name> is <age> years old\"\n",
    "3. метод speak принимающий один аргумент, который возвращает строку вида \"<name> says <sound>\";\n",
    "   \n",
    "``` python\n",
    "jack = Dog(\"Jack\", 4)\n",
    "\n",
    "print(jack.description()) # распечатает 'Jack is 4 years old'\n",
    "print(jack.speak(\"Woof Woof\")) # распечатает 'Jack says Woof Woof'\n",
    "print(jack.speak(\"Bow Wow\")) # распечатает 'Jack says Bow Wow'\n",
    "```"
   ]
  },
  {
   "cell_type": "code",
   "execution_count": 335,
   "metadata": {},
   "outputs": [
    {
     "name": "stdout",
     "output_type": "stream",
     "text": [
      "Jack is 4 years old\n",
      "Jack says Woof Woof\n",
      "Jack says Bow Wow\n"
     ]
    }
   ],
   "source": [
    "class Dog:\n",
    "    def __init__(self, name, age):\n",
    "        self.name = name\n",
    "        self.age = age\n",
    "        \n",
    "    def description(self):\n",
    "        return f'{self.name} is {self.age} years old'\n",
    "        \n",
    "    def speak(self, word):\n",
    "        self.word = word\n",
    "        return f'{self.name} says {self.word}'\n",
    "        \n",
    "jack = Dog(\"Jack\", 4)\n",
    "\n",
    "print(jack.description()) # распечатает 'Jack is 4 years old'\n",
    "print(jack.speak(\"Woof Woof\")) # распечатает 'Jack says Woof Woof'\n",
    "print(jack.speak(\"Bow Wow\")) # распечатает 'Jack says Bow Wow'"
   ]
  },
  {
   "cell_type": "markdown",
   "metadata": {},
   "source": [
    "## Моносостояние для экземпляров класса\n",
    "\n",
    "Как сделать так, чтобы у всех экземпляров класса было одинаковое состояние. Ткое состояние называется моносостоянием. Также оно называется **паттерн моносостояния**. Т.е. сделаем так, чтобы изменение атрибута одно экземпляра класса меняло бы арибуты всех других экземпляров."
   ]
  },
  {
   "cell_type": "code",
   "execution_count": 1,
   "metadata": {},
   "outputs": [
    {
     "data": {
      "text/plain": [
       "({'breed': 'pers', 'color': 'black'}, {'breed': 'pers', 'color': 'black'})"
      ]
     },
     "execution_count": 1,
     "metadata": {},
     "output_type": "execute_result"
    }
   ],
   "source": [
    "# Моносостояние всех экземпляров\n",
    "\n",
    "class Cat:\n",
    "    # создаём private переменную, которая будет словарём - изменяемым объектом\n",
    "    __shared_attr = {\n",
    "        'breed': 'pers',\n",
    "        'color': 'black'\n",
    "    }\n",
    "    # при каждой инициализации объекта метод __init__ будет подменять каждому экземпляру переменную __dict__\n",
    "    # а в качестве значений будем брать атрибут класса __shared_attr\n",
    "    def __init__(self):\n",
    "        self.__dict__ = Cat.__shared_attr\n",
    "        \n",
    "d = Cat()\n",
    "g = Cat()\n",
    "d.__dict__, g.__dict__"
   ]
  },
  {
   "cell_type": "markdown",
   "metadata": {},
   "source": [
    "Видим, что у обоих экземпляров одинаковые атрибуты. Теперь поменяем в одном и увидим, что атрибуты изменяться и у второго экземпляра."
   ]
  },
  {
   "cell_type": "code",
   "execution_count": 3,
   "metadata": {},
   "outputs": [
    {
     "data": {
      "text/plain": [
       "({'breed': 'siam', 'color': 'black'}, {'breed': 'siam', 'color': 'black'})"
      ]
     },
     "execution_count": 3,
     "metadata": {},
     "output_type": "execute_result"
    }
   ],
   "source": [
    "d.breed = 'siam'\n",
    "d.__dict__, g.__dict__"
   ]
  },
  {
   "cell_type": "markdown",
   "metadata": {},
   "source": [
    "Если создадим новый атрибут экземпляра, он также появиться у всех экземпляров класса."
   ]
  },
  {
   "cell_type": "code",
   "execution_count": 4,
   "metadata": {},
   "outputs": [
    {
     "data": {
      "text/plain": [
       "({'breed': 'siam', 'color': 'black', 'name': 'Bob'},\n",
       " {'breed': 'siam', 'color': 'black', 'name': 'Bob'})"
      ]
     },
     "execution_count": 4,
     "metadata": {},
     "output_type": "execute_result"
    }
   ],
   "source": [
    "d.name = 'Bob'\n",
    "d.__dict__, g.__dict__"
   ]
  },
  {
   "cell_type": "markdown",
   "metadata": {},
   "source": [
    "## Публичные, приватные, защищенные атрибуты и методы"
   ]
  },
  {
   "cell_type": "markdown",
   "metadata": {},
   "source": [
    "Создадим класс `BankAccount` который будет демонстрировать работу банка. Т.к. банковский аккаунт принадлежит банку, то у банка должен быть доступ ко всем атрибутам экземпляра т.е. к имени, балансу и номеру паспорта для того чтобы их менять и т.д. Это и наблюдается по факту - никаких ограничений нет."
   ]
  },
  {
   "cell_type": "code",
   "execution_count": 9,
   "metadata": {},
   "outputs": [
    {
     "name": "stdout",
     "output_type": "stream",
     "text": [
      "Обращение к методу экземпляра. Используя этот метод мы оказываемся внутри банка\n",
      "Т.е. мы имеем доступ к атрибутам и их выводим:\n",
      "Bob 100000 45484564654\n",
      "\n",
      "Пробуем обратиться к каждому из атрибутов извне банка - обращаемся к атрибутам клиентов\n",
      "Bob\n",
      "100000\n",
      "45484564654\n",
      "Это не совсем правильно потому что каждый клиент банка не хотел бы чтоы его данные были доступны вне банка\n",
      "Т.е. сейчас все данный публичные - с правом доступа Pablic - они доступны внутри класса и вне класса\n"
     ]
    }
   ],
   "source": [
    "# код внутри банка ==========================\n",
    "class BankAccount:\n",
    "    \n",
    "    def __init__(self, name, balance, passport):\n",
    "        self.name = name\n",
    "        self.balance = balance\n",
    "        self.passport = passport\n",
    "    \n",
    "    def print_data(self):\n",
    "        print(self.name, self.balance, self.passport)\n",
    "# код внутри банка ==========================\n",
    "\n",
    "# код снаружи банка =========================\n",
    "# открываем аккаунт на человека боб с балансом и номером паспорта\n",
    "account1 = BankAccount('Bob', 100000, 45484564654)\n",
    "\n",
    "print('Обращение к методу экземпляра. Используя этот метод мы оказываемся внутри банка')\n",
    "print('Т.е. мы имеем доступ к атрибутам и их выводим:')\n",
    "account1.print_data()\n",
    "\n",
    "print('\\nПробуем обратиться к каждому из атрибутов извне банка - обращаемся к атрибутам клиентов')\n",
    "print(account1.name)\n",
    "print(account1.balance)\n",
    "print(account1.passport)\n",
    "print('Это не совсем правильно потому что каждый клиент банка не хотел бы чтобы его данные были доступны вне банка')\n",
    "print('Т.е. сейчас все данный публичные - с правом доступа Pablic - они доступны внутри класса и вне класса')\n",
    "# код снаружи банка ========================="
   ]
  },
  {
   "cell_type": "markdown",
   "metadata": {},
   "source": [
    "Изменим уровень доступа, чтобы вне класса данные были не доступны.\n",
    "\n",
    "Чтобы это сделать, нужны защищённые и приватные методы.\n",
    "\n",
    "Чтобы сделать атрибут защищённым, нужно добавить _ нижнее подчёркивание в имени метода."
   ]
  },
  {
   "cell_type": "code",
   "execution_count": 10,
   "metadata": {},
   "outputs": [
    {
     "name": "stdout",
     "output_type": "stream",
     "text": [
      "Bob 100000 45484564654\n",
      "\n",
      "Пробуем обратиться к каждому из атрибутов извне банка - видим, что доступ по прежнему есть\n",
      "Bob\n",
      "100000\n",
      "45484564654\n"
     ]
    }
   ],
   "source": [
    "# код внутри банка ==========================\n",
    "class BankAccount:\n",
    "    \n",
    "    def __init__(self, name, balance, passport):\n",
    "        self._name = name\n",
    "        self._balance = balance\n",
    "        self._passport = passport\n",
    "    \n",
    "#     def print_public_data(self):\n",
    "#         print(self.name, self.balance, self.passport)\n",
    "\n",
    "    def print_protected_data(self):\n",
    "        print(self._name, self._balance, self._passport)\n",
    "# код внутри банка ==========================\n",
    "\n",
    "# код снаружи банка =========================\n",
    "# открываем аккаунт на человека боб с балансом и номером паспорта\n",
    "account1 = BankAccount('Bob', 100000, 45484564654)\n",
    "\n",
    "account1.print_protected_data()\n",
    "\n",
    "print('\\nПробуем обратиться к каждому из атрибутов извне банка - видим, что доступ по прежнему есть')\n",
    "print(account1._name)\n",
    "print(account1._balance)\n",
    "print(account1._passport)\n",
    "# код снаружи банка ========================="
   ]
  },
  {
   "cell_type": "markdown",
   "metadata": {},
   "source": [
    "Т.е. переменные с _ нижним подчёркиванием не решают нашу проблему. Так зечем они нужны? В Питоне принято ставить нижнее подчёркивание (обозначать, что данный атрибут protected) на уровне согласования - между разработчиками. Т.е. сам язык даёт доступ к этому атрибуту, но если вы видите это в коде, это означает, что данный атрибут лучше не использовать вне классов, т.е. он предназначен для нужд только внутри класса, хотя к нему и можно обратиться извне класса.\n",
    "\n",
    "Как же тогда ограничить доступ к атрибутам? На помощь приходят приватные переменные. Для этого нужно использовать __двойное подчёркивание"
   ]
  },
  {
   "cell_type": "code",
   "execution_count": 17,
   "metadata": {},
   "outputs": [
    {
     "name": "stdout",
     "output_type": "stream",
     "text": [
      "\n",
      "Видим, что доступ есть из класса:\n",
      "Bob 100000 45484564654\n",
      "\n",
      "Видим, что извне класса доступа нет:\n"
     ]
    },
    {
     "ename": "AttributeError",
     "evalue": "'BankAccount' object has no attribute '__name'",
     "output_type": "error",
     "traceback": [
      "\u001b[1;31m---------------------------------------------------------------------------\u001b[0m",
      "\u001b[1;31mAttributeError\u001b[0m                            Traceback (most recent call last)",
      "\u001b[1;32m<ipython-input-17-e69c161184b6>\u001b[0m in \u001b[0;36m<module>\u001b[1;34m\u001b[0m\n\u001b[0;32m     19\u001b[0m \u001b[1;33m\u001b[0m\u001b[0m\n\u001b[0;32m     20\u001b[0m \u001b[0mprint\u001b[0m\u001b[1;33m(\u001b[0m\u001b[1;34m'\\nВидим, что извне класса доступа нет:'\u001b[0m\u001b[1;33m)\u001b[0m\u001b[1;33m\u001b[0m\u001b[1;33m\u001b[0m\u001b[0m\n\u001b[1;32m---> 21\u001b[1;33m \u001b[0mprint\u001b[0m\u001b[1;33m(\u001b[0m\u001b[0maccount1\u001b[0m\u001b[1;33m.\u001b[0m\u001b[0m__name\u001b[0m\u001b[1;33m)\u001b[0m\u001b[1;33m\u001b[0m\u001b[1;33m\u001b[0m\u001b[0m\n\u001b[0m\u001b[0;32m     22\u001b[0m \u001b[0mprint\u001b[0m\u001b[1;33m(\u001b[0m\u001b[0maccount1\u001b[0m\u001b[1;33m.\u001b[0m\u001b[0m__balance\u001b[0m\u001b[1;33m)\u001b[0m\u001b[1;33m\u001b[0m\u001b[1;33m\u001b[0m\u001b[0m\n\u001b[0;32m     23\u001b[0m \u001b[0mprint\u001b[0m\u001b[1;33m(\u001b[0m\u001b[0maccount1\u001b[0m\u001b[1;33m.\u001b[0m\u001b[0m__passport\u001b[0m\u001b[1;33m)\u001b[0m\u001b[1;33m\u001b[0m\u001b[1;33m\u001b[0m\u001b[0m\n",
      "\u001b[1;31mAttributeError\u001b[0m: 'BankAccount' object has no attribute '__name'"
     ]
    }
   ],
   "source": [
    "# код внутри банка ==========================\n",
    "class BankAccount:\n",
    "    \n",
    "    def __init__(self, name, balance, passport):\n",
    "        self.__name = name\n",
    "        self.__balance = balance\n",
    "        self.__passport = passport\n",
    "        \n",
    "    def print_private_data(self):\n",
    "        print(self.__name, self.__balance, self.__passport)\n",
    "# код внутри банка ==========================\n",
    "\n",
    "# код снаружи банка =========================\n",
    "# открываем аккаунт на человека боб с балансом и номером паспорта\n",
    "account1 = BankAccount('Bob', 100000, 45484564654)\n",
    "\n",
    "print('\\nВидим, что доступ есть из класса т.е. через метод, когда мы просим банк распечатать данные')\n",
    "account1.print_private_data()\n",
    "\n",
    "print('\\nВидим, что извне класса доступа нет:')\n",
    "print(account1.__name)\n",
    "print(account1.__balance)\n",
    "print(account1.__passport)\n",
    "# код снаружи банка ========================="
   ]
  },
  {
   "cell_type": "markdown",
   "metadata": {},
   "source": [
    "Т.е. в данном примере выше с помощью метода происходит **сокрытие обработки защищённых атрибутов**. В программировании этот метод называется `инкапсуляция`. Т.е. мы предоставляем пользователю метод по работе с данными (метод `print_private_data`) и через этот метод пользователь может получить некий доступ  к азщищённым атрибутам. Какой именно доступ - решает программист. Но напрямую обратиться к защищённым атрибутам мы уже не можем. Тем саым мы эти данные *инкапсулируем* или *скрываем* в наш метод (или интерфейс). Инкапсулировать можно не только атрибуты, но и методы. Методы тоже могут начинаться с __двух нижних подчёркиваний. Тогда доступ к этому методу будет только внутри класса."
   ]
  },
  {
   "cell_type": "code",
   "execution_count": 20,
   "metadata": {},
   "outputs": [
    {
     "name": "stdout",
     "output_type": "stream",
     "text": [
      "\n",
      "Публичный метод доступ к которому есть и который вызывает приватный метод, сокрытый от пользователя\n",
      "Bob 100000 45484564654\n",
      "\n",
      "Приватный метод, доступа к которому нет\n"
     ]
    },
    {
     "ename": "AttributeError",
     "evalue": "'BankAccount' object has no attribute '__print_private_data'",
     "output_type": "error",
     "traceback": [
      "\u001b[1;31m---------------------------------------------------------------------------\u001b[0m",
      "\u001b[1;31mAttributeError\u001b[0m                            Traceback (most recent call last)",
      "\u001b[1;32m<ipython-input-20-0c2946b83c8d>\u001b[0m in \u001b[0;36m<module>\u001b[1;34m\u001b[0m\n\u001b[0;32m     24\u001b[0m \u001b[0maccount1\u001b[0m\u001b[1;33m.\u001b[0m\u001b[0mprint_public_data\u001b[0m\u001b[1;33m(\u001b[0m\u001b[1;33m)\u001b[0m\u001b[1;33m\u001b[0m\u001b[1;33m\u001b[0m\u001b[0m\n\u001b[0;32m     25\u001b[0m \u001b[0mprint\u001b[0m\u001b[1;33m(\u001b[0m\u001b[1;34m'\\nПриватный метод, доступа к которому нет'\u001b[0m\u001b[1;33m)\u001b[0m\u001b[1;33m\u001b[0m\u001b[1;33m\u001b[0m\u001b[0m\n\u001b[1;32m---> 26\u001b[1;33m \u001b[0maccount1\u001b[0m\u001b[1;33m.\u001b[0m\u001b[0m__print_private_data\u001b[0m\u001b[1;33m(\u001b[0m\u001b[1;33m)\u001b[0m\u001b[1;33m\u001b[0m\u001b[1;33m\u001b[0m\u001b[0m\n\u001b[0m\u001b[0;32m     27\u001b[0m \u001b[1;31m# код снаружи банка =========================\u001b[0m\u001b[1;33m\u001b[0m\u001b[1;33m\u001b[0m\u001b[1;33m\u001b[0m\u001b[0m\n",
      "\u001b[1;31mAttributeError\u001b[0m: 'BankAccount' object has no attribute '__print_private_data'"
     ]
    }
   ],
   "source": [
    "# сделаем метод print_private_data приватным\n",
    "# код внутри банка ==========================\n",
    "class BankAccount:\n",
    "    \n",
    "    def __init__(self, name, balance, passport):\n",
    "        self.__name = name\n",
    "        self.__balance = balance\n",
    "        self.__passport = passport\n",
    "    \n",
    "    # публичный метод, доступ к которому мы имеем\n",
    "    def print_public_data(self):\n",
    "        self.__print_private_data()\n",
    "    \n",
    "    # приватный метод\n",
    "    def __print_private_data(self):\n",
    "        print(self.__name, self.__balance, self.__passport)\n",
    "# код внутри банка ==========================\n",
    "\n",
    "# код снаружи банка =========================\n",
    "# открываем аккаунт на человека боб с балансом и номером паспорта\n",
    "account1 = BankAccount('Bob', 100000, 45484564654)\n",
    "\n",
    "print('\\nПубличный метод доступ к которому есть и который вызывает приватный метод, сокрытый от пользователя')\n",
    "account1.print_public_data()\n",
    "print('\\nПриватный метод, доступа к которому нет вызывает ошибку:')\n",
    "account1.__print_private_data()\n",
    "# код снаружи банка ========================="
   ]
  },
  {
   "cell_type": "markdown",
   "metadata": {},
   "source": [
    "Имеется возможность получить доступ к защищённым атрибутам и методам, но не напрямую. "
   ]
  },
  {
   "cell_type": "code",
   "execution_count": 22,
   "metadata": {},
   "outputs": [
    {
     "name": "stdout",
     "output_type": "stream",
     "text": [
      "\n",
      "Публичный метод доступ к которому есть и который вызывает приватный метод, сокрытый от пользователя\n",
      "Bob 100000 45484564654\n",
      "['_BankAccount__balance', '_BankAccount__name', '_BankAccount__passport', '_BankAccount__print_private_data', '__class__', '__delattr__', '__dict__', '__dir__', '__doc__', '__eq__', '__format__', '__ge__', '__getattribute__', '__gt__', '__hash__', '__init__', '__init_subclass__', '__le__', '__lt__', '__module__', '__ne__', '__new__', '__reduce__', '__reduce_ex__', '__repr__', '__setattr__', '__sizeof__', '__str__', '__subclasshook__', '__weakref__', 'print_public_data']\n"
     ]
    }
   ],
   "source": [
    "# посмотрим через функцию dir какие у нас есть атрибуты у объекта account1\n",
    "# код внутри банка ==========================\n",
    "class BankAccount:\n",
    "    \n",
    "    def __init__(self, name, balance, passport):\n",
    "        self.__name = name\n",
    "        self.__balance = balance\n",
    "        self.__passport = passport\n",
    "    \n",
    "    # публичный метод, доступ к которому мы имеем\n",
    "    def print_public_data(self):\n",
    "        self.__print_private_data()\n",
    "    \n",
    "    # приватный метод\n",
    "    def __print_private_data(self):\n",
    "        print(self.__name, self.__balance, self.__passport)\n",
    "# код внутри банка ==========================\n",
    "\n",
    "# код снаружи банка =========================\n",
    "# открываем аккаунт на человека боб с балансом и номером паспорта\n",
    "account1 = BankAccount('Bob', 100000, 45484564654)\n",
    "\n",
    "print('\\nПубличный метод доступ к которому есть и который вызывает приватный метод, сокрытый от пользователя')\n",
    "account1.print_public_data()\n",
    "\n",
    "# посмотрим через функцию dir какие у нас есть атрибуты у объекта account1\n",
    "print(dir(account1))\n",
    "# код снаружи банка ========================="
   ]
  },
  {
   "cell_type": "markdown",
   "metadata": {},
   "source": [
    "Мы видим, что атрибуты начинаются с нижнего подчёркивания, потом название класса, а потом название защищённого атрибута: '_BankAccount__balance', '_BankAccount__name', '_BankAccount__passport'.\n",
    "\n",
    "Т.е. мы можем получть доступ к защищённому методу если мы напишем `_BankAccount__print_private_data()`"
   ]
  },
  {
   "cell_type": "code",
   "execution_count": 25,
   "metadata": {},
   "outputs": [
    {
     "name": "stdout",
     "output_type": "stream",
     "text": [
      "\n",
      "Публичный метод доступ к которому есть и который вызывает приватный метод, сокрытый от пользователя\n",
      "Bob 100000 45484564654\n",
      "\n",
      "Получение доступа к скрытому методу\n",
      "Bob 100000 45484564654\n",
      "\n",
      "Доступ к защищённой переменной (должен быть завёрнут в print)\n",
      "100000\n"
     ]
    }
   ],
   "source": [
    "# посмотрим через функцию dir какие у нас есть атрибуты у объекта account1\n",
    "# код внутри банка ==========================\n",
    "class BankAccount:\n",
    "    \n",
    "    def __init__(self, name, balance, passport):\n",
    "        self.__name = name\n",
    "        self.__balance = balance\n",
    "        self.__passport = passport\n",
    "    \n",
    "    # публичный метод, доступ к которому мы имеем\n",
    "    def print_public_data(self):\n",
    "        self.__print_private_data()\n",
    "    \n",
    "    # приватный метод\n",
    "    def __print_private_data(self):\n",
    "        print(self.__name, self.__balance, self.__passport)\n",
    "# код внутри банка ==========================\n",
    "\n",
    "# код снаружи банка =========================\n",
    "# открываем аккаунт на человека боб с балансом и номером паспорта\n",
    "account1 = BankAccount('Bob', 100000, 45484564654)\n",
    "\n",
    "print('\\nПубличный метод доступ к которому есть и который вызывает приватный метод, сокрытый от пользователя')\n",
    "account1.print_public_data()\n",
    "print('\\nПолучение доступа к скрытому методу')\n",
    "account1._BankAccount__print_private_data()\n",
    "print('\\nДоступ к защищённой переменной (должен быть завёрнут в print)')\n",
    "print(account1._BankAccount__balance)\n",
    "# код снаружи банка ========================="
   ]
  },
  {
   "cell_type": "markdown",
   "metadata": {},
   "source": [
    "Т.е. такими механизмами нельзя полностью закрыть доступ к атрибутам внутри классов. Если мы видим одно или два подчёркивание  - значит этот атрибут или метод используется только внутри класса.\n",
    "\n",
    "Если же мы хотим защитить переменные от доступа, то в Питоне существует специальный модуль `accessify`. Внутри него существует 2 декоратора - protected и private."
   ]
  },
  {
   "cell_type": "markdown",
   "metadata": {},
   "source": [
    "## Геттеры и сеттеры, property атрибуты"
   ]
  },
  {
   "cell_type": "markdown",
   "metadata": {},
   "source": [
    "Допустим у нас еть класс банковского аккаунта у которого есть метод инициализации, который пердсталяет нашим экземплярам 2 атрибута - имя и баланс. Оба эти атрибута публичные - т.е. мы можем к ним обратиться вне нашего класса. Создадим экземпляр класса a. Теперь мы можем напрямую обратиться ко всем его атрибутам потому что они являются публичными. Также мы можем их менять. Например - поместить в баланс такую неправильную вещь как `hello`.\n",
    "\n",
    "Геттеры и сеттеры в других языках программирования нужны, чтобы получать доступ к private полям (свойствам). Просто принято, что для защиты данных, к полям (свойствам) классов применять private модификатор (т.е. инкапсулировать). Тут приходят геттеры и сеттеры, которые помогают получать доступ к private полям так, как пожелает этого разработчик программы."
   ]
  },
  {
   "cell_type": "code",
   "execution_count": 30,
   "metadata": {},
   "outputs": [
    {
     "name": "stdout",
     "output_type": "stream",
     "text": [
      "100\n",
      "Ivan\n",
      "hello\n"
     ]
    }
   ],
   "source": [
    "class BankAccount:\n",
    "    \n",
    "    def __init__(self, name, balance):\n",
    "        self.name = name\n",
    "        self.balance = balance\n",
    "        \n",
    "a = BankAccount('Ivan', 100)\n",
    "print(a.balance)\n",
    "print(a.name)\n",
    "\n",
    "a.balance = 'hello'\n",
    "print(a.balance)"
   ]
  },
  {
   "cell_type": "markdown",
   "metadata": {},
   "source": [
    "Есть 2 проблемы:\n",
    "1. Вне банка есть доступ к балансу\n",
    "2. В баланс можно поставить некорректные значения\n",
    "\n",
    "Т.е. нужно ограничить доступ к переменной баланса. Для этого есть защищённые и приватные переменные. Сделаем переменную защищённой, чтобы предоставить интерфйс для доступа к этой переменной. И здесь понадобятся методы `getter` - метод получения и `setter` - метод установки."
   ]
  },
  {
   "cell_type": "code",
   "execution_count": 37,
   "metadata": {},
   "outputs": [
    {
     "name": "stdout",
     "output_type": "stream",
     "text": [
      "100\n",
      "400\n"
     ]
    }
   ],
   "source": [
    "class BankAccount:\n",
    "    \n",
    "    def __init__(self, name, balance):\n",
    "        self.name = name\n",
    "        self.__balance = balance\n",
    "        \n",
    "    # метод для возврата значения приватного атрибута\n",
    "    def get_balance(self):\n",
    "        return self.__balance\n",
    "    # теперь невозможно обратиться к переменной __balance\n",
    "    # но можно пользоваться 2мя созданными методами\n",
    "    \n",
    "    # устанавливает значение\n",
    "    def set_balance(self, value):\n",
    "        self.__balance = value\n",
    "    \n",
    "b = BankAccount('Vasya', 100)\n",
    "\n",
    "# запрос баланса\n",
    "print(b.get_balance())\n",
    "# установка баланса\n",
    "b.set_balance(400)\n",
    "# запрос баланса\n",
    "print(b.get_balance())"
   ]
  },
  {
   "cell_type": "markdown",
   "metadata": {},
   "source": [
    "Но наш метод никак не решает проблему того что мы можем передать в значение баланса любую строку. Добавим для этого проверку. Если проверка не пройдена - вызываем исключение."
   ]
  },
  {
   "cell_type": "code",
   "execution_count": 38,
   "metadata": {},
   "outputs": [
    {
     "ename": "ValueError",
     "evalue": "Баланс должен быть числом",
     "output_type": "error",
     "traceback": [
      "\u001b[1;31m---------------------------------------------------------------------------\u001b[0m",
      "\u001b[1;31mValueError\u001b[0m                                Traceback (most recent call last)",
      "\u001b[1;32m<ipython-input-38-0909588ba8bd>\u001b[0m in \u001b[0;36m<module>\u001b[1;34m\u001b[0m\n\u001b[0;32m     18\u001b[0m \u001b[0mc\u001b[0m \u001b[1;33m=\u001b[0m \u001b[0mBankAccount\u001b[0m\u001b[1;33m(\u001b[0m\u001b[1;34m'Tanya'\u001b[0m\u001b[1;33m,\u001b[0m \u001b[1;36m200\u001b[0m\u001b[1;33m)\u001b[0m\u001b[1;33m\u001b[0m\u001b[1;33m\u001b[0m\u001b[0m\n\u001b[0;32m     19\u001b[0m \u001b[1;33m\u001b[0m\u001b[0m\n\u001b[1;32m---> 20\u001b[1;33m \u001b[0mc\u001b[0m\u001b[1;33m.\u001b[0m\u001b[0mset_balance\u001b[0m\u001b[1;33m(\u001b[0m\u001b[1;34m'hello'\u001b[0m\u001b[1;33m)\u001b[0m\u001b[1;33m\u001b[0m\u001b[1;33m\u001b[0m\u001b[0m\n\u001b[0m\u001b[0;32m     21\u001b[0m \u001b[1;31m# запрос баланса\u001b[0m\u001b[1;33m\u001b[0m\u001b[1;33m\u001b[0m\u001b[1;33m\u001b[0m\u001b[0m\n\u001b[0;32m     22\u001b[0m \u001b[0mprint\u001b[0m\u001b[1;33m(\u001b[0m\u001b[0mb\u001b[0m\u001b[1;33m.\u001b[0m\u001b[0mget_balance\u001b[0m\u001b[1;33m(\u001b[0m\u001b[1;33m)\u001b[0m\u001b[1;33m)\u001b[0m\u001b[1;33m\u001b[0m\u001b[1;33m\u001b[0m\u001b[0m\n",
      "\u001b[1;32m<ipython-input-38-0909588ba8bd>\u001b[0m in \u001b[0;36mset_balance\u001b[1;34m(self, value)\u001b[0m\n\u001b[0;32m     13\u001b[0m         \u001b[1;31m# проверка что ередаётся число. В тип обхекта для проверки передаём кортеж с типами\u001b[0m\u001b[1;33m\u001b[0m\u001b[1;33m\u001b[0m\u001b[1;33m\u001b[0m\u001b[0m\n\u001b[0;32m     14\u001b[0m         \u001b[1;32mif\u001b[0m \u001b[1;32mnot\u001b[0m \u001b[0misinstance\u001b[0m\u001b[1;33m(\u001b[0m\u001b[0mvalue\u001b[0m\u001b[1;33m,\u001b[0m \u001b[1;33m(\u001b[0m\u001b[0mint\u001b[0m\u001b[1;33m,\u001b[0m \u001b[0mfloat\u001b[0m\u001b[1;33m)\u001b[0m\u001b[1;33m)\u001b[0m\u001b[1;33m:\u001b[0m\u001b[1;33m\u001b[0m\u001b[1;33m\u001b[0m\u001b[0m\n\u001b[1;32m---> 15\u001b[1;33m             \u001b[1;32mraise\u001b[0m \u001b[0mValueError\u001b[0m\u001b[1;33m(\u001b[0m\u001b[1;34m'Баланс должен быть числом'\u001b[0m\u001b[1;33m)\u001b[0m\u001b[1;33m\u001b[0m\u001b[1;33m\u001b[0m\u001b[0m\n\u001b[0m\u001b[0;32m     16\u001b[0m         \u001b[0mself\u001b[0m\u001b[1;33m.\u001b[0m\u001b[0m__balance\u001b[0m \u001b[1;33m=\u001b[0m \u001b[0mvalue\u001b[0m\u001b[1;33m\u001b[0m\u001b[1;33m\u001b[0m\u001b[0m\n\u001b[0;32m     17\u001b[0m \u001b[1;33m\u001b[0m\u001b[0m\n",
      "\u001b[1;31mValueError\u001b[0m: Баланс должен быть числом"
     ]
    }
   ],
   "source": [
    "class BankAccount:\n",
    "    \n",
    "    def __init__(self, name, balance):\n",
    "        self.name = name\n",
    "        self.__balance = balance\n",
    "        \n",
    "    # метод для возврата значения приватного атрибута\n",
    "    def get_balance(self):\n",
    "        return self.__balance\n",
    "    \n",
    "    # устанавливает значение\n",
    "    def set_balance(self, value):\n",
    "        # проверка что ередаётся число. В тип обхекта для проверки передаём кортеж с типами\n",
    "        if not isinstance(value, (int, float)):\n",
    "            raise ValueError('Баланс должен быть числом')\n",
    "        self.__balance = value\n",
    "    \n",
    "c = BankAccount('Tanya', 200)\n",
    "\n",
    "c.set_balance('hello')\n",
    "# запрос баланса\n",
    "print(b.get_balance())"
   ]
  },
  {
   "cell_type": "markdown",
   "metadata": {},
   "source": [
    "Если мы хотим писать вот так `c.balance = ` то для этого есть property. Для этого внутри класса создадим имя нашего свойства."
   ]
  },
  {
   "cell_type": "code",
   "execution_count": 46,
   "metadata": {},
   "outputs": [
    {
     "name": "stdout",
     "output_type": "stream",
     "text": [
      "get balance\n",
      "400\n",
      "set balance\n",
      "get balance\n"
     ]
    },
    {
     "data": {
      "text/plain": [
       "777"
      ]
     },
     "execution_count": 46,
     "metadata": {},
     "output_type": "execute_result"
    }
   ],
   "source": [
    "class BankAccount:\n",
    "    \n",
    "    def __init__(self, name, balance):\n",
    "        self.name = name\n",
    "        self.__balance = balance\n",
    "        \n",
    "    # метод для возврата значения приватного атрибута\n",
    "    def get_balance(self):\n",
    "        # для того чтобы видеть что в момент обращения к свойству и в момент присваивания вызываются геттеры и сеттеры\n",
    "        print('get balance')\n",
    "        return self.__balance\n",
    "    \n",
    "    # устанавливает значение\n",
    "    def set_balance(self, value):\n",
    "        # для того чтобы видеть что в момент обращения к свойству и в момент присваивания вызываются геттеры и сеттеры\n",
    "        print('set balance')\n",
    "        # проверка что ередаётся число. В тип обхекта для проверки передаём кортеж с типами\n",
    "        if not isinstance(value, (int, float)):\n",
    "            raise ValueError('Баланс должен быть числом')\n",
    "        self.__balance = value\n",
    "        \n",
    "    # создаём свойство с именем balance\n",
    "    # внутри проставляем 2 атрибута: функция геттера и функция сеттера\n",
    "    # после = указываем имена функций, которые будут отвчать за получение и установу баланса\n",
    "    balance = property(fget=get_balance, fset=set_balance)\n",
    "    \n",
    "d = BankAccount('Misha', 400)\n",
    "\n",
    "# теперь нам доступно имя balance, но оно теперь не атрибут, а свойство\n",
    "# и когда мы будем обращаться к этому объекту, будет срабатывать геттер и метод get_balance вернёт защищённый атрибут\n",
    "# обращаясь таким образом к balance не как к методу, а как к атрибуту - не пишем две скобки ()\n",
    "print(d.balance)\n",
    "\n",
    "# также через свойство мы можем устанавливать значение\n",
    "d.balance = 777\n",
    "d.balance"
   ]
  },
  {
   "cell_type": "markdown",
   "metadata": {},
   "source": [
    "Создадим функцию адаления баланса"
   ]
  },
  {
   "cell_type": "code",
   "execution_count": 49,
   "metadata": {},
   "outputs": [
    {
     "name": "stdout",
     "output_type": "stream",
     "text": [
      "get balance\n",
      "400\n",
      "delete balance\n",
      "Не можем обращаться к атрибуту\n",
      "get balance\n"
     ]
    },
    {
     "ename": "AttributeError",
     "evalue": "'BankAccount' object has no attribute '_BankAccount__balance'",
     "output_type": "error",
     "traceback": [
      "\u001b[1;31m---------------------------------------------------------------------------\u001b[0m",
      "\u001b[1;31mAttributeError\u001b[0m                            Traceback (most recent call last)",
      "\u001b[1;32m<ipython-input-49-90710f15a133>\u001b[0m in \u001b[0;36m<module>\u001b[1;34m\u001b[0m\n\u001b[0;32m     31\u001b[0m \u001b[1;33m\u001b[0m\u001b[0m\n\u001b[0;32m     32\u001b[0m \u001b[0mprint\u001b[0m\u001b[1;33m(\u001b[0m\u001b[1;34m'Не можем обращаться к атрибуту'\u001b[0m\u001b[1;33m)\u001b[0m\u001b[1;33m\u001b[0m\u001b[1;33m\u001b[0m\u001b[0m\n\u001b[1;32m---> 33\u001b[1;33m \u001b[0mw\u001b[0m\u001b[1;33m.\u001b[0m\u001b[0mbalance\u001b[0m\u001b[1;33m\u001b[0m\u001b[1;33m\u001b[0m\u001b[0m\n\u001b[0m",
      "\u001b[1;32m<ipython-input-49-90710f15a133>\u001b[0m in \u001b[0;36mget_balance\u001b[1;34m(self)\u001b[0m\n\u001b[0;32m      7\u001b[0m     \u001b[1;32mdef\u001b[0m \u001b[0mget_balance\u001b[0m\u001b[1;33m(\u001b[0m\u001b[0mself\u001b[0m\u001b[1;33m)\u001b[0m\u001b[1;33m:\u001b[0m\u001b[1;33m\u001b[0m\u001b[1;33m\u001b[0m\u001b[0m\n\u001b[0;32m      8\u001b[0m         \u001b[0mprint\u001b[0m\u001b[1;33m(\u001b[0m\u001b[1;34m'get balance'\u001b[0m\u001b[1;33m)\u001b[0m\u001b[1;33m\u001b[0m\u001b[1;33m\u001b[0m\u001b[0m\n\u001b[1;32m----> 9\u001b[1;33m         \u001b[1;32mreturn\u001b[0m \u001b[0mself\u001b[0m\u001b[1;33m.\u001b[0m\u001b[0m__balance\u001b[0m\u001b[1;33m\u001b[0m\u001b[1;33m\u001b[0m\u001b[0m\n\u001b[0m\u001b[0;32m     10\u001b[0m \u001b[1;33m\u001b[0m\u001b[0m\n\u001b[0;32m     11\u001b[0m     \u001b[1;32mdef\u001b[0m \u001b[0mset_balance\u001b[0m\u001b[1;33m(\u001b[0m\u001b[0mself\u001b[0m\u001b[1;33m,\u001b[0m \u001b[0mvalue\u001b[0m\u001b[1;33m)\u001b[0m\u001b[1;33m:\u001b[0m\u001b[1;33m\u001b[0m\u001b[1;33m\u001b[0m\u001b[0m\n",
      "\u001b[1;31mAttributeError\u001b[0m: 'BankAccount' object has no attribute '_BankAccount__balance'"
     ]
    }
   ],
   "source": [
    "class BankAccount:\n",
    "    \n",
    "    def __init__(self, name, balance):\n",
    "        self.name = name\n",
    "        self.__balance = balance\n",
    "\n",
    "    def get_balance(self):\n",
    "        print('get balance')\n",
    "        return self.__balance\n",
    "    \n",
    "    def set_balance(self, value):\n",
    "        print('set balance')\n",
    "        if not isinstance(value, (int, float)):\n",
    "            raise ValueError('Баланс должен быть числом')\n",
    "        self.__balance = value\n",
    "        \n",
    "    def delete_balance(self):\n",
    "        print('delete balance')\n",
    "        # указываем какой атрибут мы хотим удалить\n",
    "        del self.__balance\n",
    "    \n",
    "    balance = property(fget=get_balance, fset=set_balance, fdel=delete_balance)\n",
    "    \n",
    "w = BankAccount('Misha', 400)\n",
    "\n",
    "\n",
    "print(w.balance)\n",
    "\n",
    "# удаляем атрибут\n",
    "del w.balance\n",
    "\n",
    "print('Не можем обращаться к атрибуту')\n",
    "w.balance"
   ]
  },
  {
   "cell_type": "code",
   "execution_count": 50,
   "metadata": {},
   "outputs": [
    {
     "name": "stdout",
     "output_type": "stream",
     "text": [
      "set balance\n",
      "get balance\n"
     ]
    },
    {
     "data": {
      "text/plain": [
       "896"
      ]
     },
     "execution_count": 50,
     "metadata": {},
     "output_type": "execute_result"
    }
   ],
   "source": [
    "# но если мы проинициализируем баланс - атрибут появиться\n",
    "w.balance = 896\n",
    "w.balance"
   ]
  },
  {
   "cell_type": "markdown",
   "metadata": {},
   "source": [
    "**Задание**\n",
    "\n",
    "Создайте класс UserMail, у которого есть:\n",
    "\n",
    "1. конструктор `__init__`, принимающий 2 аргумента: логин и почтовый адрес. Их необходимо сохранить в экземпляр как атрибуты `login` и `__email` (обратите внимание, защищенный атрибут)\n",
    "2. метод геттер `get_email`, которое возвращает защищенный атрибут `__email`;\n",
    "3. метод сеттер `set_email`, которое принимает в виде строки новую почту. Метод должен проверять, что в новой почте есть только один символ @ и после нее есть точка. Если данные условия выполняются, новая почта сохраняется в атрибут `__email`, в противном случае выведите сообщение \"Ошибочная почта\";\n",
    "4. создайте свойство `email`, у которого геттером будет метод `get_email`, а сеттером - метод `set_email`\n",
    "\n",
    "``` python\n",
    "k = UserMail('belosnezhka', 'prince@wait.you')\n",
    "print(k.email)  # prince@wait.you\n",
    "k.email = [1, 2, 3] # Ошибочная почта\n",
    "k.email = 'prince@still@.wait'  # Ошибочная почта\n",
    "k.email = 'prince@still.wait'\n",
    "print(k.email)  # prince@still.wait\n",
    "```\n",
    "\n",
    "Разбор решения https://youtu.be/mnZUufSXKDA"
   ]
  },
  {
   "cell_type": "code",
   "execution_count": 74,
   "metadata": {},
   "outputs": [
    {
     "name": "stdout",
     "output_type": "stream",
     "text": [
      "prince@wait.you\n",
      "Ошибочная почта\n",
      "Ошибочная почта\n",
      "prince@still.wait\n"
     ]
    }
   ],
   "source": [
    "class UserMail:\n",
    "    def __init__(self, login, email):\n",
    "        self.login = login\n",
    "        self.__email = email\n",
    "        \n",
    "    def get_email(self):\n",
    "        return self.__email\n",
    "    \n",
    "    def set_email(self, email):\n",
    "        \n",
    "        email_list = []\n",
    "        for s in email:\n",
    "            if s == '@' or s == '.':\n",
    "                email_list.append(s)\n",
    "        email_str = ''.join(email_list)\n",
    "        if len(email_list) != 2:\n",
    "            print(\"Ошибочная почта\")\n",
    "\n",
    "        elif email_str.find('@') != - 1 and email_str.find('.') != - 1 and \\\n",
    "                email_str.find('@') < email_str.find('.') and email_str[0] != email_str[1]:\n",
    "            self.__email = email\n",
    "        else:\n",
    "            print(\"Ошибочная почта\")\n",
    "            \n",
    "    email = property(fget=get_email, fset=set_email)\n",
    "        \n",
    "k = UserMail('belosnezhka', 'prince@wait.you')\n",
    "print(k.email)  # prince@wait.you\n",
    "k.email = [1, 2, 3] # Ошибочная почта\n",
    "k.email = 'prince@still@.wait'  # Ошибочная почта\n",
    "k.email = 'prince@still.wait'\n",
    "print(k.email)  # prince@still.wait"
   ]
  },
  {
   "cell_type": "code",
   "execution_count": 71,
   "metadata": {},
   "outputs": [
    {
     "name": "stdout",
     "output_type": "stream",
     "text": [
      "email_list ['@', '.']\n",
      "@.\n",
      "True\n",
      "email_list ['@', '@', '.']\n",
      "@@.\n",
      "Ошибочная почта\n",
      "email_list ['@']\n",
      "@\n",
      "Ошибочная почта\n",
      "email_list ['.']\n",
      ".\n",
      "Ошибочная почта\n",
      "email_list ['@', '@']\n",
      "@@\n",
      "Ошибочная почта\n",
      "email_list ['.', '.']\n",
      "..\n",
      "Ошибочная почта\n"
     ]
    }
   ],
   "source": [
    "def check(email):\n",
    "    email_list = []\n",
    "    for s in email:\n",
    "        if s == '@' or s =='.':\n",
    "            email_list.append(s)\n",
    "    print('email_list', email_list)\n",
    "    email_str = ''.join(email_list)\n",
    "    print(email_str)\n",
    "    if not len(email_list) == 2:\n",
    "        return f\"Ошибочная почта\"\n",
    "\n",
    "    elif email_str.find('@') != - 1 and email_str.find('.') != - 1 and \\\n",
    "            email_str.find('@') < email_str.find('.') and email_str[0] != email_str[1]:\n",
    "        return True\n",
    "    else:\n",
    "        return f\"Ошибочная почта\"\n",
    "print(check('gb1@wgb.ru'))\n",
    "print(check('1gb@@.ru'))\n",
    "print(check('gb1@tugb'))\n",
    "print(check('1gb.tgu'))\n",
    "print(check('gbdc@@tugb'))\n",
    "print(check('gb1..tugb'))"
   ]
  },
  {
   "cell_type": "markdown",
   "metadata": {},
   "source": [
    "### Замыкания (closures). Ч. 1\n",
    "\n",
    "https://www.youtube.com/watch?v=lA979PBb0TY"
   ]
  },
  {
   "cell_type": "code",
   "execution_count": 87,
   "metadata": {},
   "outputs": [
    {
     "name": "stdout",
     "output_type": "stream",
     "text": [
      "hello my friend\n"
     ]
    }
   ],
   "source": [
    "def main_func():\n",
    "    \n",
    "    def inner_func():\n",
    "        print('hello my friend')\n",
    "    \n",
    "    inner_func()\n",
    "    \n",
    "main_func()"
   ]
  },
  {
   "cell_type": "markdown",
   "metadata": {},
   "source": [
    "Т.к. return в функции отсутствует, вывод по умолчанию будет None.\n",
    "\n",
    "Уберём скобки и будем вызывать саму функцию. Тогда в b мы можем сохранять результат вызова функции. Т.е. b ссылается на inner_func, которая находится в main_func. Т.е. b является самой функцией и мы можем её вызывать. Это ключевое изменение поможет перейти к теме замыканий."
   ]
  },
  {
   "cell_type": "code",
   "execution_count": 110,
   "metadata": {},
   "outputs": [
    {
     "data": {
      "text/plain": [
       "<function __main__.main_func.<locals>.inner_func()>"
      ]
     },
     "execution_count": 110,
     "metadata": {},
     "output_type": "execute_result"
    }
   ],
   "source": [
    "def main_func():\n",
    "    \n",
    "    def inner_func():\n",
    "        print('hello my friend')\n",
    "    \n",
    "    return inner_func\n",
    "    \n",
    "b = main_func()\n",
    "b"
   ]
  },
  {
   "cell_type": "markdown",
   "metadata": {},
   "source": [
    "Замыкание - это когда функция пользуется переменными, которые не объявлены в её теле. Т.е. буде единая область видимости внешней и внутренней функции. Причём после того как функция `main_func` отработает, переменая name не будет удалена. В этом и есть смысл замыкания - внутренняя функция будет связана с переменной name (она также называется свободной переменной), которая не пропадёт, в отличае от обычных локальных переменных, которые после выполнения функции должны исчезнуть. "
   ]
  },
  {
   "cell_type": "code",
   "execution_count": 111,
   "metadata": {},
   "outputs": [
    {
     "name": "stdout",
     "output_type": "stream",
     "text": [
      "hello my friend Ivan\n"
     ]
    }
   ],
   "source": [
    "# добавим имя внутри вложенной функции\n",
    "def main_func():\n",
    "    name = 'Ivan'\n",
    "    def inner_func():\n",
    "        print('hello my friend', name)\n",
    "    \n",
    "    return inner_func\n",
    "    \n",
    "d = main_func()\n",
    "d()"
   ]
  },
  {
   "cell_type": "markdown",
   "metadata": {},
   "source": [
    "Это можно использовать следующим образом - например принимать в main_func какое-то значение.\n",
    "\n",
    "В примере ниже после выполнения у нас создаются 2 области видмости - в одной храниться name - Миша, в другой Вася. И они никак не влияют друг на друга. "
   ]
  },
  {
   "cell_type": "code",
   "execution_count": 115,
   "metadata": {},
   "outputs": [
    {
     "name": "stdout",
     "output_type": "stream",
     "text": [
      "hello my friend Misha\n",
      "hello my friend Vasya\n"
     ]
    }
   ],
   "source": [
    "def main_func(value):\n",
    "    name = value\n",
    "    def inner_func():\n",
    "        print('hello my friend', name)\n",
    "    \n",
    "    return inner_func\n",
    "    \n",
    "r = main_func('Misha')\n",
    "r()\n",
    "\n",
    "v = main_func('Vasya')\n",
    "v()"
   ]
  },
  {
   "cell_type": "code",
   "execution_count": 117,
   "metadata": {},
   "outputs": [
    {
     "name": "stdout",
     "output_type": "stream",
     "text": [
      "hello my friend Misha\n",
      "hello my friend Vasya\n"
     ]
    }
   ],
   "source": [
    "# можно убрать линюю строчку и заменить value на name - будет то же самое\n",
    "def main_func(name):\n",
    "    # name = value\n",
    "    def inner_func():\n",
    "        print('hello my friend', name)\n",
    "    \n",
    "    return inner_func\n",
    "    \n",
    "r = main_func('Misha')\n",
    "r()\n",
    "\n",
    "v = main_func('Vasya')\n",
    "v()"
   ]
  },
  {
   "cell_type": "markdown",
   "metadata": {},
   "source": [
    "Напишем функцию, которая будет принимать значение и значение будем прибавлять к чему то. Внешняя функция будет принимать значение и внутренняя. Функция будет возвращать результат сложения. И так как мы хотим создать замыкание, в `return` мы должны вернуть вложенную функцию, но без вызова ()."
   ]
  },
  {
   "cell_type": "code",
   "execution_count": 120,
   "metadata": {},
   "outputs": [
    {
     "data": {
      "text/plain": [
       "(7, 12)"
      ]
     },
     "execution_count": 120,
     "metadata": {},
     "output_type": "execute_result"
    }
   ],
   "source": [
    "def adder(value):\n",
    "    \n",
    "    def inner(a):\n",
    "        return value + a\n",
    "    return inner\n",
    "\n",
    "# передаём в функцию 2. В этот момент создался scope (область видимости) в которой value = 2. Этот scope сохранился в переменную a2\n",
    "a2 = adder(2)\n",
    "\n",
    "# Теперь каздый раз при вызове a2, тот парметр, который мы передаём сеёчас (он передаётся в функцию innner) будет складываться с 2.\n",
    "a2(5), a2(10)"
   ]
  },
  {
   "cell_type": "markdown",
   "metadata": {},
   "source": [
    "Как можно менять значения переменных? Создадим функцию которая бует считать сколько раз вызывается наша функция.\n",
    "\n",
    "`nonlocal` нужно написать, чтобы указать что мы ссылаемся именна переменную двумя строчками выше. И для того чтобы можно было эту переменную изменть в другой области видимости.\n",
    "\n",
    "Теперь каждый раз при вызове q() она у нас будет считать сколько раз вызывался именно этот экземпляр функции.\n",
    "\n",
    "Каждый экземпляр вызова этой функции будет хранить свою область видимости и своё значение переменной `count`. Это очень похоже на экземпляры классов. Через классы можно сделать тот же самый функционал и он будет гораздо более понятный, чем замыкание."
   ]
  },
  {
   "cell_type": "code",
   "execution_count": 125,
   "metadata": {},
   "outputs": [
    {
     "data": {
      "text/plain": [
       "(1, 2, 3, 1, 2, 3)"
      ]
     },
     "execution_count": 125,
     "metadata": {},
     "output_type": "execute_result"
    }
   ],
   "source": [
    "def counter():\n",
    "    count = 0\n",
    "    def inner():\n",
    "        nonlocal count\n",
    "        count += 1\n",
    "        return count\n",
    "    return inner\n",
    "\n",
    "q = counter()\n",
    "r = counter()\n",
    "q(), q(), q(), r(), r(), r()"
   ]
  },
  {
   "cell_type": "markdown",
   "metadata": {},
   "source": [
    "### Замыкания. Ч.2\n",
    "\n",
    "https://www.youtube.com/watch?v=vrkLShOYwI0"
   ]
  },
  {
   "cell_type": "markdown",
   "metadata": {},
   "source": [
    "Создадим функцию подсчёта средних значений. При каждом вызове число помещается в список и полсчитывается среднее арифметическое всех чисел в этой области видимости."
   ]
  },
  {
   "cell_type": "code",
   "execution_count": 129,
   "metadata": {},
   "outputs": [
    {
     "data": {
      "text/plain": [
       "(5.0, 7.5, 1.0, 1.5)"
      ]
     },
     "execution_count": 129,
     "metadata": {},
     "output_type": "execute_result"
    }
   ],
   "source": [
    "def average_numbers():\n",
    "    numbers = []\n",
    "    def inner(number):\n",
    "        numbers.append(number)\n",
    "        return sum(numbers) / len(numbers)\n",
    "    \n",
    "    return inner\n",
    "\n",
    "r1 = average_numbers()\n",
    "d1 = average_numbers()\n",
    "r1(5), r1(10), d1(1), d1(2)"
   ]
  },
  {
   "cell_type": "markdown",
   "metadata": {},
   "source": [
    "Вместо списка для хранения значений мы можем завести 2 свободные переменные. Переменные не храняться, а накапливается их сумма и количество."
   ]
  },
  {
   "cell_type": "code",
   "execution_count": 130,
   "metadata": {},
   "outputs": [
    {
     "data": {
      "text/plain": [
       "(5.0, 7.5)"
      ]
     },
     "execution_count": 130,
     "metadata": {},
     "output_type": "execute_result"
    }
   ],
   "source": [
    "def average_numbers():\n",
    "    summa = 0\n",
    "    count = 0\n",
    "    def inner(number):\n",
    "        nonlocal summa # нужно объявить переменную summa т.к.ниже мы её будем использовать в момент присвоения,\n",
    "        # но она не объявлена в функции/ nonlocal говорит что будет барться переменная из обласи выше\n",
    "        nonlocal count\n",
    "        summa = summa + number\n",
    "        count += 1\n",
    "        return summa / count   # Т.к. эти переменные мы хотим менять, они подчёркиваются\n",
    "    \n",
    "    return inner\n",
    "\n",
    "k = average_numbers()\n",
    "k(5), k(10)"
   ]
  },
  {
   "cell_type": "markdown",
   "metadata": {},
   "source": [
    "Функция, которая будет засекать сколько времени прошло с момента первого вызова функции."
   ]
  },
  {
   "cell_type": "code",
   "execution_count": 131,
   "metadata": {},
   "outputs": [],
   "source": [
    "from datetime import datetime\n",
    "\n",
    "def timer():\n",
    "    start = datetime.now()\n",
    "    \n",
    "    def inner():\n",
    "        \n",
    "        return datetime.now() - start\n",
    "    \n",
    "    return inner\n",
    "\n",
    "# Запуск\n",
    "r = timer()"
   ]
  },
  {
   "cell_type": "code",
   "execution_count": 132,
   "metadata": {},
   "outputs": [
    {
     "data": {
      "text/plain": [
       "datetime.timedelta(seconds=12, microseconds=472060)"
      ]
     },
     "execution_count": 132,
     "metadata": {},
     "output_type": "execute_result"
    }
   ],
   "source": [
    "# узнаём сколько прошло время\n",
    "r()"
   ]
  },
  {
   "cell_type": "code",
   "execution_count": 135,
   "metadata": {},
   "outputs": [],
   "source": [
    "# Другой вариант с лучшим выводом\n",
    "from datetime import datetime\n",
    "from time import perf_counter\n",
    "def timer():\n",
    "    start = perf_counter()\n",
    "    \n",
    "    def inner():\n",
    "        \n",
    "        return perf_counter() - start\n",
    "    \n",
    "    return inner\n",
    "\n",
    "# Запуск\n",
    "q = timer()"
   ]
  },
  {
   "cell_type": "code",
   "execution_count": 136,
   "metadata": {},
   "outputs": [
    {
     "data": {
      "text/plain": [
       "6.161967600004573"
      ]
     },
     "execution_count": 136,
     "metadata": {},
     "output_type": "execute_result"
    }
   ],
   "source": [
    "q()"
   ]
  },
  {
   "cell_type": "markdown",
   "metadata": {},
   "source": [
    "Создадим функцию, где в качестве передаваемого параметра будет приниматься функция.\n",
    "\n",
    "В 14 строчке мы вызываем каунтер и передаём ему функцию add. Она присваивается переменной func. В переменной q сохраниться замыкание, т.е. сюда вернётся функция иннер. и когда мы вызываем функцию иннер (т.е. печатаем q(10, 20)) параметры 10 и 20 запонятся в  `*args`. Увеличиваем счётчик , через найм говорим какая функция вызывалась и далее идёт вызов самой функции в строчке с первым return."
   ]
  },
  {
   "cell_type": "code",
   "execution_count": 139,
   "metadata": {},
   "outputs": [
    {
     "name": "stdout",
     "output_type": "stream",
     "text": [
      "Функция add вызывалась 1 раз\n",
      "30\n",
      "Функция add вызывалась 2 раз\n",
      "7\n"
     ]
    }
   ],
   "source": [
    "def add(a, b):\n",
    "    return a + b\n",
    "\n",
    "def counter(func):\n",
    "    count = 0\n",
    "    def inner(*args, **kwargs):\n",
    "        nonlocal count\n",
    "        count += 1\n",
    "        print(f'Функция {func.__name__} вызывалась {count} раз')\n",
    "        return func(*args, **kwargs)\n",
    "    \n",
    "    return inner\n",
    "\n",
    "q = counter(add)\n",
    "print(q(10, 20))\n",
    "print(q(4, 3))"
   ]
  },
  {
   "cell_type": "markdown",
   "metadata": {},
   "source": [
    "Можно создать например функцию перемножения и делать то же самое"
   ]
  },
  {
   "cell_type": "code",
   "execution_count": 140,
   "metadata": {},
   "outputs": [
    {
     "name": "stdout",
     "output_type": "stream",
     "text": [
      "Функция mult вызывалась 1 раз\n"
     ]
    },
    {
     "data": {
      "text/plain": [
       "108"
      ]
     },
     "execution_count": 140,
     "metadata": {},
     "output_type": "execute_result"
    }
   ],
   "source": [
    "def mult(a,b,c):\n",
    "    return a*b*c\n",
    "\n",
    "m = counter(mult)\n",
    "m(12,3,3)"
   ]
  },
  {
   "cell_type": "markdown",
   "metadata": {},
   "source": [
    "Ещё про замыкания: у Олега Молчанова https://www.youtube.com/watch?v=wKyUZY4-Dxc"
   ]
  },
  {
   "cell_type": "markdown",
   "metadata": {},
   "source": [
    "### Декораторы  ч. 1\n",
    "\n",
    "**Декоратор** - это функция, которая в качестве аргумента принимает другую функцию и возвращает функцию-замыкание. Декораторы нужны для расширения функционала переданной функции за счет обертки в замыкании.\n",
    "\n",
    "Зачем декораторы. Например, пишешь функцию логирования и навешиваешь ее декоратором только на тот код, который хочешь залогировать\n",
    "\n",
    "https://www.youtube.com/watch?v=Va-ovLxHmus"
   ]
  },
  {
   "cell_type": "markdown",
   "metadata": {},
   "source": [
    "Создадим функция, которая будет декоратором. По сути она будет замыканием, на вход она будет принимать другую функцию. внутри декоратора создаём вложенную функцию."
   ]
  },
  {
   "cell_type": "code",
   "execution_count": 142,
   "metadata": {},
   "outputs": [
    {
     "name": "stdout",
     "output_type": "stream",
     "text": [
      "<function decorator.<locals>.inner at 0x0000022901969E58>\n"
     ]
    }
   ],
   "source": [
    "# decorator\n",
    "def decorator(func):\n",
    "    \n",
    "    def inner():\n",
    "        print('start decorator...')\n",
    "        func()  # вызов функции которая передавалась внутрь замыкания\n",
    "        print('finish decorator...')\n",
    "    # чтобы замыкание получилось, нужно из функции декоратор вернуть вложенную функцию без вызова\n",
    "    return inner\n",
    "\n",
    "# создадим простую функцию для вызова\n",
    "def say():\n",
    "    print('hello world')\n",
    "    \n",
    "d = decorator(say)\n",
    "print(d)"
   ]
  },
  {
   "cell_type": "code",
   "execution_count": 143,
   "metadata": {},
   "outputs": [
    {
     "name": "stdout",
     "output_type": "stream",
     "text": [
      "start decorator...\n",
      "hello world\n",
      "finish decorator...\n"
     ]
    }
   ],
   "source": [
    "# в строчке выше видим, что в d храниться внутренняя функция иннер\n",
    "d()"
   ]
  },
  {
   "cell_type": "markdown",
   "metadata": {},
   "source": [
    "А что если мы хотим вызвать функцию say и получить ту же функциональность (т.е. вывод 3-х строчек star... hello stop...)?\n",
    "\n",
    "Т.е. мы хотим расширить функционал функции say, чтобы она делала больше чем она делает на самом деле за счёт вызова функции декоратор.\n",
    "\n",
    "У нас по сути всё есть для того чтобы создать декоратор. Единственное - мы должны подменить саму нашу функцию. Она у нас называется say. И мы должны для имени выбрать не какую-либо переменную (a, b, d...), а мыдолжны по имени say сохранить результаты вызова этой функции. Тогда после этого произойдёт то что мы хотели."
   ]
  },
  {
   "cell_type": "code",
   "execution_count": 145,
   "metadata": {},
   "outputs": [
    {
     "name": "stdout",
     "output_type": "stream",
     "text": [
      "start decorator...\n",
      "hello world\n",
      "finish decorator...\n"
     ]
    }
   ],
   "source": [
    "def decorator(func):\n",
    "    \n",
    "    def inner():\n",
    "        print('start decorator...')\n",
    "        func()  # вызов функции которая передавалась внутрь замыкания\n",
    "        print('finish decorator...')\n",
    "    # чтобы замыкание получилось, нужно из функции декоратор вернуть вложенную функцию без вызова\n",
    "    return inner\n",
    "\n",
    "# создадим простую функцию для вызова\n",
    "def say():\n",
    "    print('hello world')\n",
    "    \n",
    "say = decorator(say)\n",
    "say()"
   ]
  },
  {
   "cell_type": "markdown",
   "metadata": {},
   "source": [
    "Тут важно понимать, что в имени `say` храниться ссылка не на функцию:\n",
    "``` python\n",
    "def say():\n",
    "    print('hello world')\n",
    "```\n",
    "а на функцию `inner` которую мы вернули из декоратора. Это легко проверить:"
   ]
  },
  {
   "cell_type": "code",
   "execution_count": 146,
   "metadata": {},
   "outputs": [
    {
     "name": "stdout",
     "output_type": "stream",
     "text": [
      "<function decorator.<locals>.inner at 0x00000229018E18B8>\n"
     ]
    }
   ],
   "source": [
    "print(say)"
   ]
  },
  {
   "cell_type": "markdown",
   "metadata": {},
   "source": [
    "Усложним пример. Допустим мы хотим, чтобы функция принимала какие то аргументы"
   ]
  },
  {
   "cell_type": "code",
   "execution_count": 148,
   "metadata": {},
   "outputs": [
    {
     "name": "stdout",
     "output_type": "stream",
     "text": [
      "start decorator...\n",
      "hello Vasya\n",
      "finish decorator...\n"
     ]
    }
   ],
   "source": [
    "def decorator(func):\n",
    "    \n",
    "    def inner(n):\n",
    "        print('start decorator...')\n",
    "        func(n)  # вызов функции которая передавалась внутрь замыкания\n",
    "        print('finish decorator...')\n",
    "    # чтобы замыкание получилось, нужно из функции декоратор вернуть вложенную функцию без вызова\n",
    "    return inner\n",
    "\n",
    "# создадим простую функцию для вызова\n",
    "def say(name):\n",
    "    print('hello', name)\n",
    "    \n",
    "say = decorator(say)\n",
    "say('Vasya')"
   ]
  },
  {
   "cell_type": "markdown",
   "metadata": {},
   "source": [
    "Но если мы захотим доавить ещё аргументы, нам придётся их прописывать. Поэтому рекомендуется принять за правило прописывать аргументы через `*args` и `**kwargs`."
   ]
  },
  {
   "cell_type": "code",
   "execution_count": 150,
   "metadata": {},
   "outputs": [
    {
     "name": "stdout",
     "output_type": "stream",
     "text": [
      "start decorator...\n",
      "hello Vasya Ivanov 30\n",
      "finish decorator...\n"
     ]
    }
   ],
   "source": [
    "def decorator(func):\n",
    "    \n",
    "    def inner(*args, **kwargs):\n",
    "        print('start decorator...')\n",
    "        func(*args, **kwargs)  # вызов функции которая передавалась внутрь замыкания\n",
    "        print('finish decorator...')\n",
    "    # чтобы замыкание получилось, нужно из функции декоратор вернуть вложенную функцию без вызова\n",
    "    return inner\n",
    "\n",
    "# создадим простую функцию для вызова\n",
    "def say(name, surname, age):\n",
    "    print('hello', name, surname, age)\n",
    "    \n",
    "say = decorator(say)\n",
    "say('Vasya', 'Ivanov', 30)"
   ]
  },
  {
   "cell_type": "markdown",
   "metadata": {},
   "source": [
    "Пример использования нескольких декораторов. Представим, что мы работаем с html-документом, где есть теги. Мы сможем на одну функцию повесить несколько декораторов."
   ]
  },
  {
   "cell_type": "code",
   "execution_count": 154,
   "metadata": {},
   "outputs": [
    {
     "name": "stdout",
     "output_type": "stream",
     "text": [
      "<table>\n",
      "<h1>\n",
      "hello Vasya Ivanov 30\n",
      "</h1>\n",
      "</table>\n"
     ]
    }
   ],
   "source": [
    "def header(func):\n",
    "    \n",
    "    def inner(*args, **kwargs):\n",
    "        print('<h1>')\n",
    "        func(*args, **kwargs)\n",
    "        print('</h1>')\n",
    "\n",
    "    return inner\n",
    "\n",
    "def table(func):\n",
    "    \n",
    "    def inner(*args, **kwargs):\n",
    "        print('<table>')\n",
    "        func(*args, **kwargs)\n",
    "        print('</table>')\n",
    "\n",
    "    return inner\n",
    "\n",
    "def say(name, surname, age):\n",
    "    print('hello', name, surname, age)\n",
    "    \n",
    "say = table(header(say))\n",
    "say('Vasya', 'Ivanov', 30)"
   ]
  },
  {
   "cell_type": "markdown",
   "metadata": {},
   "source": [
    "Обратим внимание, что вывела функция. Здесь важен порядок. Первой вызвалась функция хеадер и она вернула нам функцию иннер. Мы получаем сообщение h1 hello Vasya h1. Этот результа будет передаваться внутрь функции тэйбл и он тем самым попадёт внутрь таблицы. Если поменять вызов функций местами, мы получим другой результат: h1 table hello Vasya table h1.\n",
    "\n",
    "Вообще, функции таким образом `say = table(header(say))` не декорируют, а декораторы навешивают при помощи значка @ и затем указывают имя декоратора."
   ]
  },
  {
   "cell_type": "code",
   "execution_count": 155,
   "metadata": {},
   "outputs": [
    {
     "name": "stdout",
     "output_type": "stream",
     "text": [
      "<h1>\n",
      "hello Vasya Ivanov 30\n",
      "</h1>\n"
     ]
    }
   ],
   "source": [
    "def header(func):\n",
    "    \n",
    "    def inner(*args, **kwargs):\n",
    "        print('<h1>')\n",
    "        func(*args, **kwargs)\n",
    "        print('</h1>')\n",
    "\n",
    "    return inner\n",
    "\n",
    "def table(func):\n",
    "    \n",
    "    def inner(*args, **kwargs):\n",
    "        print('<table>')\n",
    "        func(*args, **kwargs)\n",
    "        print('</table>')\n",
    "\n",
    "    return inner\n",
    "\n",
    "@header  # навешиваем декоратор: say = header(say) - в say сохраняем резльтат вызова header в котрый передаём функцию say\n",
    "def say(name, surname, age):\n",
    "    print('hello', name, surname, age)\n",
    "    \n",
    "# say = table(header(say))  # эта строчка нам не нужна\n",
    "say('Vasya', 'Ivanov', 30)"
   ]
  },
  {
   "cell_type": "markdown",
   "metadata": {},
   "source": [
    "Если навесить вместо декоратора `@header` декоратор `@table`, то это сообщение будет внутри тега table. и таким же образом можно невешать несколько декораторов. Такое декорирование принято использовать повсеместно."
   ]
  },
  {
   "cell_type": "code",
   "execution_count": 156,
   "metadata": {},
   "outputs": [
    {
     "name": "stdout",
     "output_type": "stream",
     "text": [
      "<h1>\n",
      "<table>\n",
      "hello Vasya Ivanov 30\n",
      "</table>\n",
      "</h1>\n"
     ]
    }
   ],
   "source": [
    "def header(func):\n",
    "    \n",
    "    def inner(*args, **kwargs):\n",
    "        print('<h1>')\n",
    "        func(*args, **kwargs)\n",
    "        print('</h1>')\n",
    "\n",
    "    return inner\n",
    "\n",
    "def table(func):\n",
    "    \n",
    "    def inner(*args, **kwargs):\n",
    "        print('<table>')\n",
    "        func(*args, **kwargs)\n",
    "        print('</table>')\n",
    "\n",
    "    return inner\n",
    "\n",
    "@header  # say = header(table(say))\n",
    "@table\n",
    "def say(name, surname, age):\n",
    "    print('hello', name, surname, age)\n",
    "    \n",
    "# say = table(header(say))  # эта строчка нам не нужна\n",
    "say('Vasya', 'Ivanov', 30)"
   ]
  },
  {
   "cell_type": "markdown",
   "metadata": {},
   "source": [
    "### Декораторы  ч. 2. Декоратор wraps\n",
    "\n",
    "https://www.youtube.com/watch?v=tj8EiBK8TeA\n",
    "\n",
    "Решим проблему связанную с потерей имени функции, которую мы декорируем. Нижн в выоде мы видим имя функции - say"
   ]
  },
  {
   "cell_type": "code",
   "execution_count": 160,
   "metadata": {},
   "outputs": [
    {
     "data": {
      "text/plain": [
       "'say'"
      ]
     },
     "execution_count": 160,
     "metadata": {},
     "output_type": "execute_result"
    }
   ],
   "source": [
    "def table(func):\n",
    "    \n",
    "    def inner(*args, **kwargs):\n",
    "        print('<table>')\n",
    "        func(*args, **kwargs)\n",
    "        print('</table>')\n",
    "\n",
    "    return inner\n",
    "\n",
    "def say():\n",
    "    print('hello')\n",
    "    \n",
    "say\n",
    "say.__name__"
   ]
  },
  {
   "cell_type": "markdown",
   "metadata": {},
   "source": [
    "Но после того, как мы её задекорируем, мы видим, что она теперь ссылается на функцию иннер. И тперь если спросить её имя - будет уже лежать функция иннер."
   ]
  },
  {
   "cell_type": "code",
   "execution_count": 161,
   "metadata": {},
   "outputs": [
    {
     "data": {
      "text/plain": [
       "'inner'"
      ]
     },
     "execution_count": 161,
     "metadata": {},
     "output_type": "execute_result"
    }
   ],
   "source": [
    "def table(func):\n",
    "    \n",
    "    def inner(*args, **kwargs):\n",
    "        print('<table>')\n",
    "        func(*args, **kwargs)\n",
    "        print('</table>')\n",
    "\n",
    "    return inner\n",
    "\n",
    "def say():\n",
    "    print('hello')\n",
    "    \n",
    "say = table(say)\n",
    "say.__name__"
   ]
  },
  {
   "cell_type": "markdown",
   "metadata": {},
   "source": [
    "Кроме имени теряется документация `__doc__`. Решить эту проблему можно двумя вариантами. Первый - сделать это всё вручную. "
   ]
  },
  {
   "cell_type": "code",
   "execution_count": 163,
   "metadata": {},
   "outputs": [
    {
     "data": {
      "text/plain": [
       "'say'"
      ]
     },
     "execution_count": 163,
     "metadata": {},
     "output_type": "execute_result"
    }
   ],
   "source": [
    "def table(func):\n",
    "    \n",
    "    def inner(*args, **kwargs):\n",
    "        print('<table>')\n",
    "        func(*args, **kwargs)\n",
    "        print('</table>')\n",
    "    \n",
    "    #делаем вне функци иннер\n",
    "    inner.__name__ = func.__name__\n",
    "    inner.__doc__ = func.__doc__\n",
    "    return inner\n",
    "\n",
    "def say():\n",
    "    print('hello')\n",
    "    \n",
    "say = table(say)\n",
    "say.__name__"
   ]
  },
  {
   "cell_type": "markdown",
   "metadata": {},
   "source": [
    "Второй способ - испольование декоратора `@wraps`. Его можно использовать из модуля functools. Этот декоратор вешается на функцию иннер и в качестве аргумента передаёте функцию, которую вы декорируете."
   ]
  },
  {
   "cell_type": "code",
   "execution_count": 165,
   "metadata": {},
   "outputs": [
    {
     "data": {
      "text/plain": [
       "'say'"
      ]
     },
     "execution_count": 165,
     "metadata": {},
     "output_type": "execute_result"
    }
   ],
   "source": [
    "from functools import wraps\n",
    "def table(func):\n",
    "    \n",
    "    @wraps(func)\n",
    "    def inner(*args, **kwargs):\n",
    "        print('<table>')\n",
    "        func(*args, **kwargs)\n",
    "        print('</table>')\n",
    "    \n",
    "    #делаем вне функци иннер\n",
    "    inner.__name__ = func.__name__\n",
    "    inner.__doc__ = func.__doc__\n",
    "    return inner\n",
    "\n",
    "def say():\n",
    "    print('hello')\n",
    "    \n",
    "say = table(say)\n",
    "say.__name__"
   ]
  },
  {
   "cell_type": "markdown",
   "metadata": {},
   "source": [
    "---\n",
    "### Объяснение декораторов с proglib\n",
    "---\n",
    "\n",
    "https://proglib.io/p/python-interview\n",
    "\n",
    "Смысл паттерна Декоратор заключается в том, что некоторая функция заворачивается в другую функцию, приобретая от нее новые возможности. Например, так можно вести логи, вводить пред- и постусловия, добавлять методы для классов.\n",
    "\n",
    "Декораторы в Python – это, по сути, синтаксический сахар. Для их обозначения используется символ @.\n",
    "\n",
    "Код ниже описывает обычный вариант приготовления сэндвича. Нужно взять что-нибудь мясное, обложить с двух сторон овощами и положить в булку."
   ]
  },
  {
   "cell_type": "code",
   "execution_count": 95,
   "metadata": {},
   "outputs": [
    {
     "name": "stdout",
     "output_type": "stream",
     "text": [
      "</''''''\\>\n",
      "#помидорка#\n",
      "--ветчина--\n",
      "~лист салата~\n",
      "<\\______/>\n"
     ]
    }
   ],
   "source": [
    "def bread(func):\n",
    "    def wrapper():\n",
    "        print(\"</''''''\\>\")\n",
    "        func()\n",
    "        print(\"<\\______/>\")\n",
    "    return wrapper\n",
    "\n",
    "def vegetables(func):\n",
    "    def wrapper():\n",
    "        print(\"#помидорка#\")\n",
    "        func()\n",
    "        print(\"~лист салата~\")\n",
    "    return wrapper\n",
    "\n",
    "def sandwich(food=\"--ветчина--\"):\n",
    "    print(food)\n",
    "\n",
    "sandwich = bread(vegetables(sandwich))\n",
    "sandwich()"
   ]
  },
  {
   "cell_type": "code",
   "execution_count": null,
   "metadata": {},
   "outputs": [],
   "source": [
    "Изначально функция sandwich только печатает начинку, а затем она становится полноценным бутербродом. То же самое можно сделать чуть проще:"
   ]
  },
  {
   "cell_type": "code",
   "execution_count": 96,
   "metadata": {},
   "outputs": [
    {
     "name": "stdout",
     "output_type": "stream",
     "text": [
      "</''''''\\>\n",
      "#помидорка#\n",
      "--ветчина--\n",
      "~лист салата~\n",
      "<\\______/>\n"
     ]
    }
   ],
   "source": [
    "# или проще\n",
    "@bread\n",
    "@vegetables\n",
    "def sandwich(food=\"--ветчина--\"):\n",
    "    print(food)\n",
    "\n",
    "sandwich()"
   ]
  },
  {
   "cell_type": "markdown",
   "metadata": {},
   "source": [
    "Вместо привычного синтаксиса вызова функции, используются два декоратора, которые оборачивают исходный сэндвич. Название остается прежним, но результат работы уже другой.\n",
    "\n",
    "Конец объяснения с proglib\n",
    "\n",
    "---"
   ]
  },
  {
   "cell_type": "markdown",
   "metadata": {},
   "source": [
    "## Декоратор Property"
   ]
  },
  {
   "cell_type": "markdown",
   "metadata": {},
   "source": [
    "Посмотрим, что из себя представляет проперти. В переменную х сохраним результат вызова проперти. Обраимся к х и увидим, что мы имеем экземпляр свойства. у х есть методы геттер, сеттер и делитер. "
   ]
  },
  {
   "cell_type": "code",
   "execution_count": 79,
   "metadata": {},
   "outputs": [
    {
     "name": "stdout",
     "output_type": "stream",
     "text": [
      "<property object at 0x0000022901939048>\n"
     ]
    },
    {
     "data": {
      "text/plain": [
       "<property at 0x22901939098>"
      ]
     },
     "execution_count": 79,
     "metadata": {},
     "output_type": "execute_result"
    }
   ],
   "source": [
    "class BankAccount:\n",
    "    \n",
    "    def __init__(self, name, balance):\n",
    "        self.name = name\n",
    "        self.__balance = balance\n",
    "\n",
    "    def get_balance(self):\n",
    "        print('get balance')\n",
    "        return self.__balance\n",
    "    \n",
    "    def set_balance(self, value):\n",
    "        print('set balance')\n",
    "        if not isinstance(value, (int, float)):\n",
    "            raise ValueError('Баланс должен быть числом')\n",
    "        self.__balance = value\n",
    "        \n",
    "    def delete_balance(self):\n",
    "        print('delete balance')\n",
    "        # указываем какой атрибут мы хотим удалить\n",
    "        del self.__balance\n",
    "    \n",
    "    balance = property(fget=get_balance, \n",
    "                       fset=set_balance, \n",
    "                       fdel=delete_balance)\n",
    "    \n",
    "# присвоим пременной свойство\n",
    "x = property()\n",
    "print(x)\n",
    "x.getter(90)"
   ]
  },
  {
   "cell_type": "markdown",
   "metadata": {},
   "source": [
    "Результат вызова метода `x.getter(90)` тоже свойство.\n",
    "\n",
    "А можно получить тот же самый функционал, только немного переписанный."
   ]
  },
  {
   "cell_type": "code",
   "execution_count": 83,
   "metadata": {},
   "outputs": [
    {
     "name": "stdout",
     "output_type": "stream",
     "text": [
      "get balance\n",
      "100\n",
      "set balance\n",
      "get balance\n"
     ]
    },
    {
     "data": {
      "text/plain": [
       "1000"
      ]
     },
     "execution_count": 83,
     "metadata": {},
     "output_type": "execute_result"
    }
   ],
   "source": [
    "class BankAccount:\n",
    "    \n",
    "    def __init__(self, name, balance):\n",
    "        self.name = name\n",
    "        self.__balance = balance\n",
    "\n",
    "    def get_balance(self):\n",
    "        print('get balance')\n",
    "        return self.__balance\n",
    "    \n",
    "    def set_balance(self, value):\n",
    "        print('set balance')\n",
    "        if not isinstance(value, (int, float)):\n",
    "            raise ValueError('Баланс должен быть числом')\n",
    "        self.__balance = value\n",
    "        \n",
    "    def delete_balance(self):\n",
    "        print('delete balance')\n",
    "        # указываем какой атрибут мы хотим удалить\n",
    "        del self.__balance\n",
    "    \n",
    "    my_balance = property()\n",
    "    my_balance = my_balance.getter(get_balance)\n",
    "    my_balance = my_balance.setter(set_balance)\n",
    "    my_balance = my_balance.deleter(delete_balance)\n",
    "    \n",
    "    \n",
    "a = BankAccount('Ivan', 100)\n",
    "print(a.my_balance)\n",
    "\n",
    "a.my_balance = 1000\n",
    "\n",
    "a.my_balance"
   ]
  },
  {
   "cell_type": "markdown",
   "metadata": {},
   "source": [
    "А теперь заменим 2 строчки одной - класс проперти может прнимать в себя сразу геттер и от этого ничего не измениться."
   ]
  },
  {
   "cell_type": "code",
   "execution_count": 85,
   "metadata": {},
   "outputs": [
    {
     "name": "stdout",
     "output_type": "stream",
     "text": [
      "get balance\n",
      "100\n",
      "set balance\n",
      "get balance\n"
     ]
    },
    {
     "data": {
      "text/plain": [
       "1000"
      ]
     },
     "execution_count": 85,
     "metadata": {},
     "output_type": "execute_result"
    }
   ],
   "source": [
    "class BankAccount:\n",
    "# ===============================================================\n",
    "# методы\n",
    "    def __init__(self, name, balance):\n",
    "        self.name = name\n",
    "        self.__balance = balance\n",
    "\n",
    "    def get_balance(self):\n",
    "        print('get balance')\n",
    "        return self.__balance\n",
    "    \n",
    "    def set_balance(self, value):\n",
    "        print('set balance')\n",
    "        if not isinstance(value, (int, float)):\n",
    "            raise ValueError('Баланс должен быть числом')\n",
    "        self.__balance = value\n",
    "        \n",
    "    def delete_balance(self):\n",
    "        print('delete balance')\n",
    "        # указываем какой атрибут мы хотим удалить\n",
    "        del self.__balance\n",
    "#   методы\n",
    "# ================================================================\n",
    "#   свойства\n",
    "    my_balance = property(get_balance)\n",
    "    # my_balance = my_balance.getter(get_balance) # удалили\n",
    "    my_balance = my_balance.setter(set_balance)\n",
    "    my_balance = my_balance.deleter(delete_balance)\n",
    "#   свойства\n",
    "# ===============================================================\n",
    "    \n",
    "a = BankAccount('Ivan', 100)\n",
    "print(a.my_balance)\n",
    "\n",
    "a.my_balance = 1000\n",
    "\n",
    "a.my_balance"
   ]
  },
  {
   "cell_type": "markdown",
   "metadata": {},
   "source": [
    "Но теперь мы столкнулись с такой проблемой, что у нас есть свойство которое исользует функционал трёх методов, но также мы имеем доступ к этим методам напрямую. Мы также можем их вызывать и получать баланс. Возникает вопрос: зачем нам нужна двойная функциональность?, которую мы можем использовать через методы, а можем через свойства.\n",
    "\n",
    "И мы бы хотели избавиться от двойной функциональности и пользоваться через свойства (my_balance). Для этого как раз понадобятся декораторы.\n",
    "\n",
    "Уберём лишние методы и переименуем наш метод в имя свойства. Чтобы создать декоратор, декорируем функцию свойством и результат возвращаем по тому же самому имени. Теперь метод является свойством в результате декорирования."
   ]
  },
  {
   "cell_type": "code",
   "execution_count": 167,
   "metadata": {},
   "outputs": [
    {
     "name": "stdout",
     "output_type": "stream",
     "text": [
      "get balance\n"
     ]
    },
    {
     "data": {
      "text/plain": [
       "200"
      ]
     },
     "execution_count": 167,
     "metadata": {},
     "output_type": "execute_result"
    }
   ],
   "source": [
    "class BankAccount:\n",
    "\n",
    "    def __init__(self, name, balance):\n",
    "        self.name = name\n",
    "        self.__balance = balance\n",
    "    \n",
    "    @property\n",
    "    def my_balance(self):  # <= переименовли по имени свойства\n",
    "        print('get balance')\n",
    "        return self.__balance\n",
    "    \n",
    "#     def set_balance(self, value):\n",
    "#         print('set balance')\n",
    "#         if not isinstance(value, (int, float)):\n",
    "#             raise ValueError('Баланс должен быть числом')\n",
    "#         self.__balance = value\n",
    "        \n",
    "#     def delete_balance(self):\n",
    "#         print('delete balance')\n",
    "#         # указываем какой атрибут мы хотим удалить\n",
    "#         del self.__balance\n",
    "\n",
    "    # декорируем функцию свойством и результат возвращаем по тому же самому имени.\n",
    "    # теперь метод является свойством в результате декорирования\n",
    "#    my_balance = property(my_balance)\n",
    "#     my_balance = my_balance.setter(set_balance)\n",
    "#     my_balance = my_balance.deleter(delete_balance)\n",
    "    \n",
    "b = BankAccount('Misha', 200)\n",
    "b.my_balance"
   ]
  },
  {
   "cell_type": "markdown",
   "metadata": {},
   "source": [
    "Т.к. my_balance является свойством, то у него есть метод сеттер. И в сеттер мы хотим передать функцию set_balance. В результате вызова мы вернём свойство и мы его хотим сохранить туда же. Но тогда возникнет проблема, что мы используем имя отличное от нашего свойства. Посмотрим на чём это скажеться"
   ]
  },
  {
   "cell_type": "code",
   "execution_count": 170,
   "metadata": {},
   "outputs": [
    {
     "name": "stdout",
     "output_type": "stream",
     "text": [
      "get balance\n"
     ]
    },
    {
     "data": {
      "text/plain": [
       "200"
      ]
     },
     "execution_count": 170,
     "metadata": {},
     "output_type": "execute_result"
    }
   ],
   "source": [
    "class BankAccount:\n",
    "\n",
    "    def __init__(self, name, balance):\n",
    "        self.name = name\n",
    "        self.__balance = balance\n",
    "    \n",
    "    @property\n",
    "    def my_balance(self):  # <= переименовли по имени свойства\n",
    "        print('get balance')\n",
    "        return self.__balance\n",
    "    \n",
    "    def set_balance(self, value):\n",
    "        print('set balance')\n",
    "        if not isinstance(value, (int, float)):\n",
    "            raise ValueError('Баланс должен быть числом')\n",
    "        self.__balance = value\n",
    "        \n",
    "#     def delete_balance(self):\n",
    "#         print('delete balance')\n",
    "#         # указываем какой атрибут мы хотим удалить\n",
    "#         del self.__balance\n",
    "\n",
    "    # декорируем функцию свойством и результат возвращаем по тому же самому имени.\n",
    "    # теперь метод является свойством в результате декорирования\n",
    "    my_balance = my_balance.setter(set_balance)\n",
    "#     my_balance = my_balance.setter(set_balance)\n",
    "#     my_balance = my_balance.deleter(delete_balance)\n",
    "    \n",
    "d = BankAccount('bob', 200)\n",
    "d.my_balance"
   ]
  },
  {
   "cell_type": "markdown",
   "metadata": {},
   "source": [
    "Геттер по прежнему работает. Сеттер тоже отрабатывает"
   ]
  },
  {
   "cell_type": "code",
   "execution_count": 171,
   "metadata": {},
   "outputs": [
    {
     "name": "stdout",
     "output_type": "stream",
     "text": [
      "set balance\n",
      "get balance\n"
     ]
    },
    {
     "data": {
      "text/plain": [
       "900"
      ]
     },
     "execution_count": 171,
     "metadata": {},
     "output_type": "execute_result"
    }
   ],
   "source": [
    "d.my_balance = 900\n",
    "d.my_balance"
   ]
  },
  {
   "cell_type": "markdown",
   "metadata": {},
   "source": [
    "Но по прежнему доступен метод set_balance потому что он не задекорирован - мы не сделали его свойством. Значит мы должны назватье set_balance таким же как и метод - my_balance. Но тогда у нас будет конфликт имён - имя свойства совпадает с именем функции. Для решения этотй проблемы после определения свойства сохрание его."
   ]
  },
  {
   "cell_type": "code",
   "execution_count": 172,
   "metadata": {},
   "outputs": [
    {
     "name": "stdout",
     "output_type": "stream",
     "text": [
      "get balance\n"
     ]
    },
    {
     "data": {
      "text/plain": [
       "900"
      ]
     },
     "execution_count": 172,
     "metadata": {},
     "output_type": "execute_result"
    }
   ],
   "source": [
    "class BankAccount:\n",
    "\n",
    "    def __init__(self, name, balance):\n",
    "        self.name = name\n",
    "        self.__balance = balance\n",
    "    \n",
    "    @property\n",
    "    def my_balance(self):  # <= переименовли по имени свойства\n",
    "        print('get balance')\n",
    "        return self.__balance\n",
    "    \n",
    "    # сохраняем свойство в переменную\n",
    "    my_property_balance = my_balance\n",
    "    \n",
    "    # функция с тем же именем перезатирает предыдущую\n",
    "    def my_balance(self, value):\n",
    "        print('set balance')\n",
    "        if not isinstance(value, (int, float)):\n",
    "            raise ValueError('Баланс должен быть числом')\n",
    "        self.__balance = value\n",
    "        \n",
    "    my_balance = my_property_balance.setter(my_balance)\n",
    "    \n",
    "q = BankAccount('Tanya', 900)\n",
    "q.my_balance"
   ]
  },
  {
   "cell_type": "markdown",
   "metadata": {},
   "source": [
    "Обращаемся к балансу. Можем установить туда новые значения. Но не можем обратиться к балансу как к функции."
   ]
  },
  {
   "cell_type": "code",
   "execution_count": 173,
   "metadata": {},
   "outputs": [
    {
     "name": "stdout",
     "output_type": "stream",
     "text": [
      "set balance\n"
     ]
    }
   ],
   "source": [
    "q.my_balance = 900"
   ]
  },
  {
   "cell_type": "code",
   "execution_count": 174,
   "metadata": {},
   "outputs": [
    {
     "name": "stdout",
     "output_type": "stream",
     "text": [
      "get balance\n"
     ]
    },
    {
     "ename": "TypeError",
     "evalue": "'int' object is not callable",
     "output_type": "error",
     "traceback": [
      "\u001b[1;31m---------------------------------------------------------------------------\u001b[0m",
      "\u001b[1;31mTypeError\u001b[0m                                 Traceback (most recent call last)",
      "\u001b[1;32m<ipython-input-174-d2a9540f6d2b>\u001b[0m in \u001b[0;36m<module>\u001b[1;34m\u001b[0m\n\u001b[1;32m----> 1\u001b[1;33m \u001b[0mq\u001b[0m\u001b[1;33m.\u001b[0m\u001b[0mmy_balance\u001b[0m\u001b[1;33m(\u001b[0m\u001b[1;33m)\u001b[0m\u001b[1;33m\u001b[0m\u001b[1;33m\u001b[0m\u001b[0m\n\u001b[0m",
      "\u001b[1;31mTypeError\u001b[0m: 'int' object is not callable"
     ]
    }
   ],
   "source": [
    "q.my_balance()"
   ]
  },
  {
   "cell_type": "markdown",
   "metadata": {},
   "source": [
    "Т.к. такое преобразование достаточно сложное, задекорируем."
   ]
  },
  {
   "cell_type": "code",
   "execution_count": 175,
   "metadata": {},
   "outputs": [
    {
     "name": "stdout",
     "output_type": "stream",
     "text": [
      "get balance\n"
     ]
    },
    {
     "data": {
      "text/plain": [
       "900"
      ]
     },
     "execution_count": 175,
     "metadata": {},
     "output_type": "execute_result"
    }
   ],
   "source": [
    "class BankAccount:\n",
    "\n",
    "    def __init__(self, name, balance):\n",
    "        self.name = name\n",
    "        self.__balance = balance\n",
    "    \n",
    "    @property\n",
    "    def my_balance(self):\n",
    "        print('get balance')\n",
    "        return self.__balance\n",
    "    \n",
    "    # сохраняем свойство в переменную\n",
    "    #my_property_balance = my_balance\n",
    "    \n",
    "    @my_balance.setter\n",
    "    def my_balance(self, value):\n",
    "        print('set balance')\n",
    "        if not isinstance(value, (int, float)):\n",
    "            raise ValueError('Баланс должен быть числом')\n",
    "        self.__balance = value\n",
    "        \n",
    "    #my_balance = my_property_balance.setter(my_balance)\n",
    "    \n",
    "p = BankAccount('Tod', 900)\n",
    "p.my_balance"
   ]
  },
  {
   "cell_type": "markdown",
   "metadata": {},
   "source": [
    "Теперь мы обращаемся к балансу и сохраняем в него новое значение. При этом не доступны никакие другие методы. Сеттеры и геттеры пропали. Осталось только свойство my_balance с которым мы работаем как с атрибутом, а не как с методами.\n",
    "\n",
    "Когда работаем со свойствами **геттеры и сеттеры называть одинаково**. Если вы дадите какое то другое имя, то мы не сможем установить значение, потому что нет такого свойства. И оно раюотает под этим именем и как сеттер и как геттер. "
   ]
  },
  {
   "cell_type": "markdown",
   "metadata": {},
   "source": [
    "**Задача**\n",
    "\n",
    "Создайте класс Money, у которого есть:\n",
    "\n",
    "1. конструктор `__init__`, принимающий 2 аргумента: `dollars`, `cents`. По входным аргументам вам необходимо создать атрибут экземпляра `total_cents`. \n",
    "2. свойство геттер `dollars`, которое возвращает количество имеющихся долларов;\n",
    "3. свойство сеттер `dollars`, которое принимает <ins>целое неотрицательное число</ins> - количество долларов и устанавливает при помощи него новое значение в атрибут экземпляра `total_cents`, при этом значение центов должно сохранятся. В случае, если в сеттер передано число, не удовлетворяющее условию, нужно печатать на экран сообщение \"Error dollars\";\n",
    "4. свойство геттер `cents`, которое возвращает количество имеющихся центов;\n",
    "5. свойство сеттер `cents`, которое принимает целое неотрицательное число меньшее 100 - количество центов и устанавливает при помощи него новое значение в атрибут экземпляра `total_cents`, при этом значение долларов должно сохранятся. В случае, если в сеттер передано число, не удовлетворяющее условию, нужно печатать на экран сообщение \"Error cents\";\n",
    "6. метод `__str__` ([информация по данному методу](https://stepik.org/lesson/361906/step/1?unit=346444)), который возвращает строку вида \"Ваше состояние составляет {dollars} долларов {cents} центов\". Для нахождения долларов и центов в методе __str__ пользуйтесь свойствами.\n",
    "\n",
    "В экземпляр класса кроме атрибута `total_cents` сохранять ничего не нужно!\n",
    "``` python\n",
    "Bill = Money(101, 99)\n",
    "print(Bill)  # Ваше состояние составляет 101 долларов 99 центов\n",
    "print(Bill.dollars, Bill.cents)  # 101 99\n",
    "Bill.dollars = 666\n",
    "print(Bill)  # Ваше состояние составляет 666 долларов 99 центов\n",
    "Bill.cents = 12\n",
    "print(Bill)  # Ваше состояние составляет 666 долларов 12 центов\n",
    "```\n",
    "Посмотреть решение https://youtu.be/FEbwKm5N3_k"
   ]
  },
  {
   "cell_type": "code",
   "execution_count": 92,
   "metadata": {},
   "outputs": [
    {
     "name": "stdout",
     "output_type": "stream",
     "text": [
      "Ваше состояние составляет 101 долларов 99 центов\n",
      "101 99\n",
      "Ваше состояние составляет 666 долларов 99 центов\n",
      "Ваше состояние составляет 666 долларов 12 центов\n"
     ]
    }
   ],
   "source": [
    "class Money:\n",
    "    def __init__(self, dollars, cents):\n",
    "        self.total_cents = dollars * 100 + cents\n",
    "    \n",
    "    @property\n",
    "    def dollars(self):\n",
    "        return self.total_cents // 100\n",
    "    \n",
    "    @property\n",
    "    def cents(self):\n",
    "        return self.total_cents % 100\n",
    "    \n",
    "    @dollars.setter\n",
    "    def dollars(self, value):\n",
    "        if not isinstance(value, int) or value < 0:\n",
    "            print('Error dollars')\n",
    "        else:\n",
    "            self.total_cents = value * 100 + self.total_cents % 100\n",
    "        \n",
    "    @cents.setter\n",
    "    def cents(self, value):\n",
    "        if not isinstance(value, int) or value < 0 or value >= 100:\n",
    "            print('Error cents')\n",
    "        else:\n",
    "            self.total_cents = (self.total_cents - self.total_cents % 100) + value\n",
    "        \n",
    "    def __str__(self):\n",
    "        return f'Ваше состояние составляет {self.dollars} долларов {self.cents} центов'\n",
    "\n",
    "Bill = Money(101, 99)\n",
    "print(Bill)  # Ваше состояние составляет 101 долларов 99 центов\n",
    "print(Bill.dollars, Bill.cents)  # 101 99\n",
    "Bill.dollars = 666\n",
    "print(Bill)  # Ваше состояние составляет 666 долларов 99 центов\n",
    "Bill.cents = 12\n",
    "print(Bill)  # Ваше состояние составляет 666 долларов 12 центов"
   ]
  },
  {
   "cell_type": "markdown",
   "metadata": {},
   "source": [
    "## Вычисляемые свойства\n",
    "\n",
    "Посмотрим как property можно использовать в качестве вычисляемых атрибутов.\n",
    "\n",
    "Задача. Представим, что у нас есть класс Квадрат в котором нужно узнать его площадь. На вход будем подавать сторону. "
   ]
  },
  {
   "cell_type": "code",
   "execution_count": 6,
   "metadata": {},
   "outputs": [
    {
     "data": {
      "text/plain": [
       "25"
      ]
     },
     "execution_count": 6,
     "metadata": {},
     "output_type": "execute_result"
    }
   ],
   "source": [
    "class Square:\n",
    "    def __init__(self, s):\n",
    "        self.side = s\n",
    "    \n",
    "    def area(self):\n",
    "        return self.side**2\n",
    "    \n",
    "a = Square(5)\n",
    "a.area()"
   ]
  },
  {
   "cell_type": "markdown",
   "metadata": {},
   "source": [
    "Давайте подумаем о том, что в ООП мы определяем атрибуты (по сути переменные) и методы (функции) . Если подумать, что собой представляет площадь, то это будт относиться к атрибуту - т.е. это будет переменной и мы не должны вызывать её как метод. Но с другой стороны мы можем изменить у квадрата сторону и тем самым площадь должна измениться. Т.е. площадь должна представлять собой свойство, причём вычисляемое и зависящее от размера. Перепишем квадрат по другому:"
   ]
  },
  {
   "cell_type": "code",
   "execution_count": 10,
   "metadata": {},
   "outputs": [
    {
     "data": {
      "text/plain": [
       "36"
      ]
     },
     "execution_count": 10,
     "metadata": {},
     "output_type": "execute_result"
    }
   ],
   "source": [
    "class Square:\n",
    "    def __init__(self, s):\n",
    "        self.side = s\n",
    "    \n",
    "    @property\n",
    "    def area(self):\n",
    "        return self.side ** 2\n",
    "    \n",
    "b = Square(6)\n",
    "b.area"
   ]
  },
  {
   "cell_type": "markdown",
   "metadata": {},
   "source": [
    "Теперь мы обращаемся к area не как к методу (со скобками), а как к свойству. При такой реализации это блее понятно. Т.е. мы обращаемся к переменной, но на самом деле вызывается свойство и оно вычисляемое!\n",
    "\n",
    "Но тут возникает другая проблема. Поле \n",
    "``` python\n",
    "    @property\n",
    "    def area(self):\n",
    "        return self.side ** 2\n",
    "```\n",
    "у нас вычисляемое. А представим, чт оразмер квадрата у нас никогда не изменяется т.е. как слздали со значение 6, так и будет. Но property всё время вычисляется раз за разом. Т.е. производятся одни и те же операции. в вдруг мы вычисляем не квадрат, а какую то большую сложную формулу? На неё всё время будет тратиться время. Поэтому не лучше ли запомнить этот результат и если мы его до этого посчитали, то вернуть страое значение, а не считать новое? \n",
    "\n",
    "Вот как это можно сделать. Создадим новую приватную переменную с изначальным значением None. Если значение = None, то мы её считаем. Пропишем calculate area, чтобы убедиться, что мы зайдём сюда только в первый раз."
   ]
  },
  {
   "cell_type": "code",
   "execution_count": 24,
   "metadata": {},
   "outputs": [
    {
     "name": "stdout",
     "output_type": "stream",
     "text": [
      "calculate area\n"
     ]
    },
    {
     "data": {
      "text/plain": [
       "36"
      ]
     },
     "execution_count": 24,
     "metadata": {},
     "output_type": "execute_result"
    }
   ],
   "source": [
    "class Square:\n",
    "    def __init__(self, s):\n",
    "        self.side = s\n",
    "        self.__area = None\n",
    "    \n",
    "    @property\n",
    "    def area(self):\n",
    "        if self.__area is None:\n",
    "            print('calculate area')\n",
    "            self.__area = self.side ** 2\n",
    "        return self.__area\n",
    "    \n",
    "c = Square(6)\n",
    "c.area"
   ]
  },
  {
   "cell_type": "markdown",
   "metadata": {},
   "source": [
    "После первого вызова мы видем, что значение вычислено. А во второй вызов мы в условие if не заходим, print не выводиться и мы получаем вычисленное значение. По сути мы закешировали значение и оно храниться в переменной `__area`."
   ]
  },
  {
   "cell_type": "code",
   "execution_count": 25,
   "metadata": {},
   "outputs": [
    {
     "data": {
      "text/plain": [
       "36"
      ]
     },
     "execution_count": 25,
     "metadata": {},
     "output_type": "execute_result"
    }
   ],
   "source": [
    "c.area"
   ]
  },
  {
   "cell_type": "markdown",
   "metadata": {},
   "source": [
    "Но появляется другая проблема. Если сторона поменяется, то площадь нет."
   ]
  },
  {
   "cell_type": "code",
   "execution_count": 27,
   "metadata": {},
   "outputs": [
    {
     "data": {
      "text/plain": [
       "36"
      ]
     },
     "execution_count": 27,
     "metadata": {},
     "output_type": "execute_result"
    }
   ],
   "source": [
    "c.side = 4\n",
    "c.area"
   ]
  },
  {
   "cell_type": "markdown",
   "metadata": {},
   "source": [
    "В случае если такое произойдёт, мы переменную `__area` сбросим на значение None. А присвоение side сделаем при помощи property. Для этого переменную side сделаем приватной. Затем создать @property которое называется side (потому что мы обращаемся по имени side). Тогда та функция будет геттером. И таким же образом создаём сеттер. Называем её так же и добавляем значение которое мы устанавливаем. В сеттере мы должны: 1. установить новое значение. 2. Значение сделать None. "
   ]
  },
  {
   "cell_type": "code",
   "execution_count": 28,
   "metadata": {},
   "outputs": [
    {
     "name": "stdout",
     "output_type": "stream",
     "text": [
      "calculate area\n"
     ]
    },
    {
     "data": {
      "text/plain": [
       "49"
      ]
     },
     "execution_count": 28,
     "metadata": {},
     "output_type": "execute_result"
    }
   ],
   "source": [
    "class Square:\n",
    "    def __init__(self, s):\n",
    "        self.side = s\n",
    "        self.__area = None\n",
    "    \n",
    "    @property\n",
    "    def side(self):\n",
    "        return self.__side\n",
    "    \n",
    "    @side.setter\n",
    "    def side(self, value):\n",
    "        self.__side = value\n",
    "        self.__area = None\n",
    "    \n",
    "    @property\n",
    "    def area(self):\n",
    "        if self.__area is None:\n",
    "            print('calculate area')\n",
    "            self.__area = self.side ** 2\n",
    "        return self.__area\n",
    "    \n",
    "d = Square(7)\n",
    "d.area"
   ]
  },
  {
   "cell_type": "code",
   "execution_count": 30,
   "metadata": {},
   "outputs": [
    {
     "name": "stdout",
     "output_type": "stream",
     "text": [
      "calculate area\n"
     ]
    },
    {
     "data": {
      "text/plain": [
       "9"
      ]
     },
     "execution_count": 30,
     "metadata": {},
     "output_type": "execute_result"
    }
   ],
   "source": [
    "d.side = 3\n",
    "d.area"
   ]
  },
  {
   "cell_type": "markdown",
   "metadata": {},
   "source": [
    "## Classmethod и staticmethod\n",
    "\n",
    "Продемонстрируем одну проблему. Создадим класс с методом, который печатает hello. Если обратиться к этой функции, но не вызывать её, то увидим, что мы просто ссылаемся на функцию, которая находится в нашем классе. "
   ]
  },
  {
   "cell_type": "code",
   "execution_count": 33,
   "metadata": {},
   "outputs": [
    {
     "data": {
      "text/plain": [
       "<function __main__.Example.hello()>"
      ]
     },
     "execution_count": 33,
     "metadata": {},
     "output_type": "execute_result"
    }
   ],
   "source": [
    "class Example:\n",
    "    def hello():\n",
    "        print('hello')\n",
    "    \n",
    "Example.hello"
   ]
  },
  {
   "cell_type": "markdown",
   "metadata": {},
   "source": [
    "И если вызвать функцию, как в строчке ниже - никаких ошибок мы не получим. Обратим внимание, что функцию мы вызываем от класса."
   ]
  },
  {
   "cell_type": "code",
   "execution_count": 34,
   "metadata": {},
   "outputs": [
    {
     "name": "stdout",
     "output_type": "stream",
     "text": [
      "hello\n"
     ]
    }
   ],
   "source": [
    "Example.hello()"
   ]
  },
  {
   "cell_type": "markdown",
   "metadata": {},
   "source": [
    "Но когда мы создём экземпляр. И уже через этот экземпляр пытаемся обратиться к функции без вызова, мы видим, что это представляет собой метод."
   ]
  },
  {
   "cell_type": "code",
   "execution_count": 35,
   "metadata": {},
   "outputs": [
    {
     "data": {
      "text/plain": [
       "<bound method Example.hello of <__main__.Example object at 0x000001BE08820308>>"
      ]
     },
     "execution_count": 35,
     "metadata": {},
     "output_type": "execute_result"
    }
   ],
   "source": [
    "p = Example()\n",
    "p.hello"
   ]
  },
  {
   "cell_type": "code",
   "execution_count": 36,
   "metadata": {},
   "outputs": [
    {
     "ename": "TypeError",
     "evalue": "hello() takes 0 positional arguments but 1 was given",
     "output_type": "error",
     "traceback": [
      "\u001b[1;31m---------------------------------------------------------------------------\u001b[0m",
      "\u001b[1;31mTypeError\u001b[0m                                 Traceback (most recent call last)",
      "\u001b[1;32m<ipython-input-36-775a38b8469f>\u001b[0m in \u001b[0;36m<module>\u001b[1;34m\u001b[0m\n\u001b[1;32m----> 1\u001b[1;33m \u001b[0mp\u001b[0m\u001b[1;33m.\u001b[0m\u001b[0mhello\u001b[0m\u001b[1;33m(\u001b[0m\u001b[1;33m)\u001b[0m\u001b[1;33m\u001b[0m\u001b[1;33m\u001b[0m\u001b[0m\n\u001b[0m",
      "\u001b[1;31mTypeError\u001b[0m: hello() takes 0 positional arguments but 1 was given"
     ]
    }
   ],
   "source": [
    "p.hello()"
   ]
  },
  {
   "cell_type": "markdown",
   "metadata": {},
   "source": [
    "А т.к. это метод, то при его вызове внутрь этого метода первым параметром будет передаваться сам экземпляр этого класса (в данном сдучае p). Но т.к. в функии мы не описали, что она принимает какие либо атрибуты, иы получаем ошибку: `hello() takes 0 positional arguments but 1 was given`.\n",
    "\n",
    "Получается проблема: если создать обычную функцию внутри класса, то мы може её вызвать от самого класса, но не можем от экземпляра:\n",
    "\n",
    "``` python\n",
    "✅ Example.hello() \n",
    "❌ p.hello()\n",
    "```\n",
    "\n",
    "Для того, чтобы вызывать от экземпляров, мы научились создавать методы. Назовём эту функцию instance_hello(). И теперь от экземпляра мы сможем вызывать функции (а точнее - метод)."
   ]
  },
  {
   "cell_type": "code",
   "execution_count": 37,
   "metadata": {},
   "outputs": [
    {
     "name": "stdout",
     "output_type": "stream",
     "text": [
      "instance_hello <__main__.Example object at 0x000001BE082CB388>\n"
     ]
    }
   ],
   "source": [
    "class Example:\n",
    "    \n",
    "    def hello():\n",
    "        print('hello')\n",
    "    \n",
    "    def instance_hello(self):\n",
    "        print(f'instance_hello {self}')\n",
    "        \n",
    "q = Example()\n",
    "q.instance_hello()"
   ]
  },
  {
   "cell_type": "markdown",
   "metadata": {},
   "source": [
    "Но теперь мы не можем вызывать метод от самого класса. Потому что когда мы вызываем от класса, то сама эта функция не будет првязана к этому классу и он не будет поступать в качестве обязательного параметра self. "
   ]
  },
  {
   "cell_type": "code",
   "execution_count": 38,
   "metadata": {},
   "outputs": [
    {
     "ename": "TypeError",
     "evalue": "instance_hello() missing 1 required positional argument: 'self'",
     "output_type": "error",
     "traceback": [
      "\u001b[1;31m---------------------------------------------------------------------------\u001b[0m",
      "\u001b[1;31mTypeError\u001b[0m                                 Traceback (most recent call last)",
      "\u001b[1;32m<ipython-input-38-8560c153e154>\u001b[0m in \u001b[0;36m<module>\u001b[1;34m\u001b[0m\n\u001b[1;32m----> 1\u001b[1;33m \u001b[0mExample\u001b[0m\u001b[1;33m.\u001b[0m\u001b[0minstance_hello\u001b[0m\u001b[1;33m(\u001b[0m\u001b[1;33m)\u001b[0m\u001b[1;33m\u001b[0m\u001b[1;33m\u001b[0m\u001b[0m\n\u001b[0m",
      "\u001b[1;31mTypeError\u001b[0m: instance_hello() missing 1 required positional argument: 'self'"
     ]
    }
   ],
   "source": [
    "Example.instance_hello()"
   ]
  },
  {
   "cell_type": "markdown",
   "metadata": {},
   "source": [
    "Получается, что:\n",
    "\n",
    "``` python\n",
    "class Example:\n",
    "    \n",
    "    def hello():             < = можем вызвать эту функцию  от класса, но не можем от инстанса\n",
    "        print('hello')\n",
    "    \n",
    "    def instance_hello(self):     < = можем вызвать функцию от инстанса, но не можем от класса\n",
    "        print(f'instance_hello {self}')\n",
    "```\n",
    "\n",
    "Отсюда вопрос: как создать внутри класса функци, которая может вызываться как от класса, так и от инстанса. Для этого нужно создать `staticmethod` и повесить соответствующий декоратор."
   ]
  },
  {
   "cell_type": "code",
   "execution_count": 39,
   "metadata": {},
   "outputs": [
    {
     "name": "stdout",
     "output_type": "stream",
     "text": [
      "static_hello\n"
     ]
    }
   ],
   "source": [
    "class Example:\n",
    "    \n",
    "    def hello():\n",
    "        print('hello')\n",
    "    \n",
    "    def instance_hello(self):\n",
    "        print(f'instance_hello {self}')\n",
    "        \n",
    "    @staticmethod\n",
    "    def static_hello(): # без аргументов\n",
    "        print('static_hello')\n",
    "        \n",
    "Example.static_hello()"
   ]
  },
  {
   "cell_type": "markdown",
   "metadata": {},
   "source": [
    "Теперь мы можем вызывать метод как от класса, так и от экземпляра. Т.е. когда мы создаём статик метод, он не привязывается ни к экземпляру, ни к классу."
   ]
  },
  {
   "cell_type": "code",
   "execution_count": 40,
   "metadata": {},
   "outputs": [
    {
     "name": "stdout",
     "output_type": "stream",
     "text": [
      "static_hello\n"
     ]
    }
   ],
   "source": [
    "y = Example()\n",
    "y.static_hello()"
   ]
  },
  {
   "cell_type": "markdown",
   "metadata": {},
   "source": [
    "Также `staticmethod` можно использовать, когда нужна функция, но мы хотим её реализовать именно внутри класса, а не выносить её вне класса.\n",
    "\n",
    "Теперь поговорим о `classmethod`. Чтобы его создать нужно по аналогии повесить декоратор `@classmethod` на функцию. В отличии от метода экземпляра, наш класс метод будет принимать первым параметром **класс**. Обычно эту переменную называть вот так: `cls`. "
   ]
  },
  {
   "cell_type": "code",
   "execution_count": 41,
   "metadata": {},
   "outputs": [
    {
     "name": "stdout",
     "output_type": "stream",
     "text": [
      "class_hello <class '__main__.Example'>\n"
     ]
    }
   ],
   "source": [
    "class Example:\n",
    "    \n",
    "    def hello():\n",
    "        print('hello')\n",
    "    \n",
    "    def instance_hello(self):\n",
    "        print(f'instance_hello {self}')\n",
    "        \n",
    "    @staticmethod\n",
    "    def static_hello(): # без аргументов\n",
    "        print('static_hello')\n",
    "        \n",
    "    @classmethod\n",
    "    def class_hello(cls):\n",
    "        print(f'class_hello {cls}')\n",
    "        \n",
    "Example.class_hello()"
   ]
  },
  {
   "cell_type": "code",
   "execution_count": 42,
   "metadata": {},
   "outputs": [
    {
     "name": "stdout",
     "output_type": "stream",
     "text": [
      "class_hello <class '__main__.Example'>\n"
     ]
    }
   ],
   "source": [
    "a = Example()\n",
    "a.class_hello()"
   ]
  },
  {
   "cell_type": "code",
   "execution_count": 43,
   "metadata": {},
   "outputs": [
    {
     "data": {
      "text/plain": [
       "__main__.Example"
      ]
     },
     "execution_count": 43,
     "metadata": {},
     "output_type": "execute_result"
    }
   ],
   "source": [
    "a.__class__"
   ]
  },
  {
   "cell_type": "markdown",
   "metadata": {},
   "source": [
    "Т.е. вызывается метод и от класса и от экземпляра. И обратите внимание, что при вызове от экземпляра всё равно в переменную прилетит название класса экземпляра. Т.е. питон сам определит, какой класс у экземпляра а и это значение он подставит в переменную `cls`. Это можно сделать по магической переменой `__class__`.\n",
    "\n",
    "Такие методы нужны когда вы хотите делать обработку не над экземплярами, а над целым классом вместе. Т.е. создаём декоратор @classmethod и через переменную `cls` нам доступен наш класс. "
   ]
  },
  {
   "cell_type": "markdown",
   "metadata": {},
   "source": [
    "**Задача**\n",
    "\n",
    "Создайте класс Robot, у которого есть:\n",
    "\n",
    "1. атрибут класса `population`. В этом атрибуте будет хранится общее количество роботов, изначально принимает значение 0;\n",
    "2. конструктор `__init__`, принимающий 1 аргумент name. Данный метод должен сохранять атрибут name и печатать сообщение вида \"Робот <name> был создан\". Помимо инициализации робота данный метод должен увеличивать популяцию роботов на единицу;\n",
    "3. метод `destroy`, должен уменьшать популяцию роботов на единицу и печатать сообщение вида \"Робот <name> был уничтожен\"\n",
    "4. метод `say_hello`, которой печатает сообщение вида \"Робот <name> приветствует тебя, особь человеческого рода\"\n",
    "5. метод класса  `how_many`, который печатает сообщение вида \"<population>, вот сколько нас еще осталось\"\n",
    "\n",
    "``` python\n",
    "r2 = Robot(\"R2-D2\") # печатает \"Робот R2-D2 был создан\"\n",
    "r2.say_hello() # печатает \"Робот R2-D2 приветствует тебя, особь человеческого рода\"\n",
    "Robot.how_many() # печатает \"1, вот сколько нас еще осталось\"\n",
    "r2.destroy() # печатает \"Робот R2-D2 был уничтожен\"\n",
    "```"
   ]
  },
  {
   "cell_type": "code",
   "execution_count": 141,
   "metadata": {},
   "outputs": [
    {
     "name": "stdout",
     "output_type": "stream",
     "text": [
      "Робот R2-D2 был создан\n",
      "Робот R2-D2 приветствует тебя, особь человеческого рода\n",
      "1, вот сколько нас еще осталось\n",
      "Робот R2-D2 был уничтожен\n",
      "0, вот сколько нас еще осталось\n"
     ]
    }
   ],
   "source": [
    "class Robot:\n",
    "    \n",
    "    population = 0\n",
    "    \n",
    "    def __init__(self, name):\n",
    "        self.name = name\n",
    "        Robot.population += 1\n",
    "        print(f'Робот {self.name} был создан')\n",
    "        \n",
    "    def destroy(self):\n",
    "        Robot.population -= 1\n",
    "        print(f'Робот {self.name} был уничтожен')\n",
    "        \n",
    "    def say_hello(self):\n",
    "        print(f'Робот {self.name} приветствует тебя, особь человеческого рода')\n",
    "    \n",
    "    @classmethod\n",
    "    def how_many(cls):\n",
    "        print(f'{cls.population}, вот сколько нас еще осталось')\n",
    "\n",
    "r2 = Robot(\"R2-D2\") # печатает \"Робот R2-D2 был создан\"\n",
    "r2.say_hello() # печатает \"Робот R2-D2 приветствует тебя, особь человеческого рода\"\n",
    "Robot.how_many() # печатает \"1, вот сколько нас еще осталось\"\n",
    "r2.destroy() # печатает \"Робот R2-D2 был уничтожен\"\n",
    "Robot.how_many() "
   ]
  },
  {
   "cell_type": "markdown",
   "metadata": {},
   "source": [
    "## Пространство имен класса\n",
    "\n",
    "Разберём пространство имён класса на следующем примере. В департаменте IT есть 3 питон разработчика, 3 Go и 2 React.\n",
    "\n",
    "Любой модуль в Питоне представляет собой программму. И также модуль представляет собой глобальное пространство имён. в нашем случае в это пространство имём входят 2 имнеи: DepartmentIT и it1.\n",
    "\n",
    "Но сам класс тоже образует соё пространство имён. В него будут входить 3 атрибута класса и 2 метода.\n",
    "\n",
    "Поговорим как работать с пространством имён, когда мы создаём какой-то метод.\n",
    "\n",
    "Создадим метод info который выводит количество разработчиков. Но имена не находяться. Когда мы создаём методы, хотя они и находятся внтури нашего класса, но им не доступны имена, находящиеся вэтом пространстве имён."
   ]
  },
  {
   "cell_type": "code",
   "execution_count": 1,
   "metadata": {},
   "outputs": [
    {
     "ename": "NameError",
     "evalue": "name 'python_dev' is not defined",
     "output_type": "error",
     "traceback": [
      "\u001b[1;31m---------------------------------------------------------------------------\u001b[0m",
      "\u001b[1;31mNameError\u001b[0m                                 Traceback (most recent call last)",
      "\u001b[1;32m<ipython-input-1-a449f5bdae98>\u001b[0m in \u001b[0;36m<module>\u001b[1;34m\u001b[0m\n\u001b[0;32m      8\u001b[0m \u001b[1;33m\u001b[0m\u001b[0m\n\u001b[0;32m      9\u001b[0m \u001b[0mit1\u001b[0m \u001b[1;33m=\u001b[0m \u001b[0mDepartmentIT\u001b[0m\u001b[1;33m(\u001b[0m\u001b[1;33m)\u001b[0m\u001b[1;33m\u001b[0m\u001b[1;33m\u001b[0m\u001b[0m\n\u001b[1;32m---> 10\u001b[1;33m \u001b[0mit1\u001b[0m\u001b[1;33m.\u001b[0m\u001b[0minfo\u001b[0m\u001b[1;33m(\u001b[0m\u001b[1;33m)\u001b[0m\u001b[1;33m\u001b[0m\u001b[1;33m\u001b[0m\u001b[0m\n\u001b[0m",
      "\u001b[1;32m<ipython-input-1-a449f5bdae98>\u001b[0m in \u001b[0;36minfo\u001b[1;34m(self)\u001b[0m\n\u001b[0;32m      5\u001b[0m \u001b[1;33m\u001b[0m\u001b[0m\n\u001b[0;32m      6\u001b[0m     \u001b[1;32mdef\u001b[0m \u001b[0minfo\u001b[0m\u001b[1;33m(\u001b[0m\u001b[0mself\u001b[0m\u001b[1;33m)\u001b[0m\u001b[1;33m:\u001b[0m\u001b[1;33m\u001b[0m\u001b[1;33m\u001b[0m\u001b[0m\n\u001b[1;32m----> 7\u001b[1;33m         \u001b[0mprint\u001b[0m\u001b[1;33m(\u001b[0m\u001b[0mpython_dev\u001b[0m\u001b[1;33m,\u001b[0m \u001b[0mgo_dev\u001b[0m\u001b[1;33m,\u001b[0m \u001b[0mreact_dev\u001b[0m\u001b[1;33m)\u001b[0m\u001b[1;33m\u001b[0m\u001b[1;33m\u001b[0m\u001b[0m\n\u001b[0m\u001b[0;32m      8\u001b[0m \u001b[1;33m\u001b[0m\u001b[0m\n\u001b[0;32m      9\u001b[0m \u001b[0mit1\u001b[0m \u001b[1;33m=\u001b[0m \u001b[0mDepartmentIT\u001b[0m\u001b[1;33m(\u001b[0m\u001b[1;33m)\u001b[0m\u001b[1;33m\u001b[0m\u001b[1;33m\u001b[0m\u001b[0m\n",
      "\u001b[1;31mNameError\u001b[0m: name 'python_dev' is not defined"
     ]
    }
   ],
   "source": [
    "class DepartmentIT:\n",
    "    python_dev = 4\n",
    "    go_dev = 3\n",
    "    react_dev = 2\n",
    "    \n",
    "    def info(self):\n",
    "        print(python_dev, go_dev, react_dev)\n",
    "        \n",
    "it1 = DepartmentIT()\n",
    "it1.info()"
   ]
  },
  {
   "cell_type": "markdown",
   "metadata": {},
   "source": [
    "А если сделать переменные глобальными, никакой ошибки не будет."
   ]
  },
  {
   "cell_type": "code",
   "execution_count": 2,
   "metadata": {},
   "outputs": [
    {
     "name": "stdout",
     "output_type": "stream",
     "text": [
      "1 1 1\n"
     ]
    }
   ],
   "source": [
    "python_dev = 1\n",
    "go_dev = 1\n",
    "react_dev = 1\n",
    "\n",
    "class DepartmentIT:\n",
    "    python_dev = 4\n",
    "    go_dev = 3\n",
    "    react_dev = 2\n",
    "    \n",
    "    def info(self):\n",
    "        print(python_dev, go_dev, react_dev)\n",
    "        \n",
    "it1 = DepartmentIT()\n",
    "it1.info()"
   ]
  },
  {
   "cell_type": "markdown",
   "metadata": {},
   "source": [
    "Как же можно внутри класса обратиться к этим атрибутам?\n",
    "\n",
    "Есть несколько вариантов:\n",
    "\n",
    "1. Можно обратиться через пространство имён self:"
   ]
  },
  {
   "cell_type": "code",
   "execution_count": 3,
   "metadata": {},
   "outputs": [
    {
     "name": "stdout",
     "output_type": "stream",
     "text": [
      "4 3 2\n"
     ]
    }
   ],
   "source": [
    "class DepartmentIT:\n",
    "    python_dev = 4\n",
    "    go_dev = 3\n",
    "    react_dev = 2\n",
    "    \n",
    "    def info(self):\n",
    "        print(self.python_dev, self.go_dev, self.react_dev)\n",
    "        \n",
    "it1 = DepartmentIT()\n",
    "it1.info()"
   ]
  },
  {
   "cell_type": "markdown",
   "metadata": {},
   "source": [
    "2. Обращаться напрямую к классу:"
   ]
  },
  {
   "cell_type": "code",
   "execution_count": 4,
   "metadata": {},
   "outputs": [
    {
     "name": "stdout",
     "output_type": "stream",
     "text": [
      "5 4 3\n"
     ]
    }
   ],
   "source": [
    "class DepartmentIT:\n",
    "    python_dev = 5\n",
    "    go_dev = 4\n",
    "    react_dev = 3\n",
    "    \n",
    "    def info2(self):\n",
    "        print(DepartmentIT.python_dev, DepartmentIT.go_dev, DepartmentIT.react_dev)\n",
    "        \n",
    "it1 = DepartmentIT()\n",
    "it1.info2()"
   ]
  },
  {
   "cell_type": "markdown",
   "metadata": {},
   "source": [
    "3. Создать свойства. Когда мы определяем свойство, в него поступает self - экземпляр класса. \n",
    "\n",
    "**Скобки нужно убрать, потому что это свойство!!!**"
   ]
  },
  {
   "cell_type": "code",
   "execution_count": 7,
   "metadata": {},
   "outputs": [
    {
     "name": "stdout",
     "output_type": "stream",
     "text": [
      "6 5 4\n"
     ]
    }
   ],
   "source": [
    "class DepartmentIT:\n",
    "    python_dev = 6\n",
    "    go_dev = 5\n",
    "    react_dev = 4\n",
    "    \n",
    "    @property\n",
    "    def info_property(self):\n",
    "        print(self.python_dev, self.go_dev, self.react_dev)\n",
    "        \n",
    "it1 = DepartmentIT()\n",
    "it1.info_property"
   ]
  },
  {
   "cell_type": "markdown",
   "metadata": {},
   "source": [
    "4. Можно создать класс-метод"
   ]
  },
  {
   "cell_type": "code",
   "execution_count": 11,
   "metadata": {},
   "outputs": [
    {
     "name": "stdout",
     "output_type": "stream",
     "text": [
      "7 6 5\n"
     ]
    }
   ],
   "source": [
    "class DepartmentIT:\n",
    "    python_dev = 7\n",
    "    go_dev = 6\n",
    "    react_dev = 5\n",
    "    \n",
    "    @classmethod\n",
    "    def info_class(cls):\n",
    "        print(cls.python_dev, cls.go_dev, cls.react_dev)\n",
    "        \n",
    "it1 = DepartmentIT()\n",
    "it1.info_class()"
   ]
  },
  {
   "cell_type": "markdown",
   "metadata": {},
   "source": [
    "5. Можно статик-метод. Статик-метод ничего у нас не принимает: и экземпляра, ни класса. Поэтому здесь нужно напрямую обращаться к экземпляру класса."
   ]
  },
  {
   "cell_type": "code",
   "execution_count": 13,
   "metadata": {
    "scrolled": true
   },
   "outputs": [
    {
     "name": "stdout",
     "output_type": "stream",
     "text": [
      "8 7 6\n"
     ]
    }
   ],
   "source": [
    "class DepartmentIT:\n",
    "    python_dev = 8\n",
    "    go_dev = 7\n",
    "    react_dev = 6\n",
    "    \n",
    "    @staticmethod\n",
    "    def info_static():\n",
    "        print(DepartmentIT.python_dev, DepartmentIT.go_dev, DepartmentIT.react_dev)\n",
    "        \n",
    "it1 = DepartmentIT()\n",
    "it1.info_static()"
   ]
  },
  {
   "cell_type": "markdown",
   "metadata": {},
   "source": [
    "Ещё один пример. Допустим мы хотим нанять нового разработчика на питоне. Т.е. мы хотим атрибут python_dev увеличть на 1. Ошибка заключается вот в чём. Вы обращаетесь к атрибуту и успешно увеличиваете атрибут. Но если мы посмотрим на значения разработчиков, то увидим одну вещь:"
   ]
  },
  {
   "cell_type": "code",
   "execution_count": 15,
   "metadata": {},
   "outputs": [
    {
     "name": "stdout",
     "output_type": "stream",
     "text": [
      "4\n",
      "5\n",
      "4\n"
     ]
    }
   ],
   "source": [
    "class DepartmentIT:\n",
    "    python_dev = 4\n",
    "    go_dev = 3\n",
    "    react_dev = 2\n",
    "    \n",
    "    def info(self):\n",
    "        print(self.python_dev, self.go_dev, self.react_dev)\n",
    "        \n",
    "    def info2(self):\n",
    "        print(DepartmentIT.python_dev, DepartmentIT.go_dev, DepartmentIT.react_dev)\n",
    "        \n",
    "    def hiring_pyt_dev(self):\n",
    "        self.python_dev = self.python_dev + 1\n",
    "        \n",
    "it1 = DepartmentIT()\n",
    "print(it1.python_dev)  # смотрим сколько разработчиков\n",
    "it1.hiring_pyt_dev()   # нанимаем ещё одного\n",
    "print(it1.python_dev)  # смотрим сколько разработчиков\n",
    "print(DepartmentIT.python_dev)  # СМОТРИМ ЧТО ХРАНИТЬСЯ В DepartmentIT в переменной python_dev"
   ]
  },
  {
   "cell_type": "markdown",
   "metadata": {},
   "source": [
    "Видим, что в переменной 4, а не 5! А дело вот в чём. Когда мы вызываем метод, выполняется присвоение. Выполняется его правая часть - мы обращаемся к переменной `python_dev`: берём значение 4 и увеличиваем его на 1. И присваеваем его в атрибут экземпляра `self.python_dev`. Т.е. мы не изменяем значение во 2-й строчке, а создаём новый атрибут локальный внутри it1. в этом легко убедиться:"
   ]
  },
  {
   "cell_type": "code",
   "execution_count": 16,
   "metadata": {},
   "outputs": [
    {
     "data": {
      "text/plain": [
       "{'python_dev': 5}"
      ]
     },
     "execution_count": 16,
     "metadata": {},
     "output_type": "execute_result"
    }
   ],
   "source": [
    "it1.__dict__"
   ]
  },
  {
   "cell_type": "markdown",
   "metadata": {},
   "source": [
    "Мы создали локальный атрибут, но не изменили атрибут класса. Если же мы хотим изменить этот атрибут, обращаться к нему нужно по названию класса. Вот так:"
   ]
  },
  {
   "cell_type": "code",
   "execution_count": 2,
   "metadata": {},
   "outputs": [
    {
     "name": "stdout",
     "output_type": "stream",
     "text": [
      "4\n",
      "{}\n",
      "5\n",
      "5\n"
     ]
    }
   ],
   "source": [
    "class DepartmentIT:\n",
    "    python_dev = 4\n",
    "    go_dev = 3\n",
    "    react_dev = 2\n",
    "    \n",
    "    def info(self):\n",
    "        print(self.python_dev, self.go_dev, self.react_dev)\n",
    "        \n",
    "    def info2(self):\n",
    "        print(DepartmentIT.python_dev, DepartmentIT.go_dev, DepartmentIT.react_dev)\n",
    "        \n",
    "    def hiring_pyt_dev(self):\n",
    "        DepartmentIT.python_dev = DepartmentIT.python_dev + 1\n",
    "        \n",
    "it1 = DepartmentIT()\n",
    "print(it1.python_dev)  # смотрим сколько разработчиков\n",
    "it1.hiring_pyt_dev()   # нанимаем ещё одного\n",
    "print(it1.__dict__)\n",
    "print(it1.python_dev)  # смотрим сколько разработчиков\n",
    "print(DepartmentIT.python_dev)  # СМОТРИМ ЧТО ХРАНИТЬСЯ В DepartmentIT в переменной python_dev"
   ]
  },
  {
   "cell_type": "markdown",
   "metadata": {},
   "source": [
    "После такой записи мы не создали ни одного локального атрибута внутри экземпляра и в 19-й строчке мы ссылаемся на одну и ту же переменную, которая отностися к нашему классу.\n",
    "\n",
    "А если мы создадим 2-й отдел разарботки, то количество разработчиков юудет как и у первого - увеличенным, т.к. переменная ОБЩАЯ."
   ]
  },
  {
   "cell_type": "code",
   "execution_count": 4,
   "metadata": {},
   "outputs": [
    {
     "name": "stdout",
     "output_type": "stream",
     "text": [
      "4\n",
      "{}\n",
      "5\n",
      "5\n",
      "5\n"
     ]
    }
   ],
   "source": [
    "class DepartmentIT:\n",
    "    python_dev = 4\n",
    "    go_dev = 3\n",
    "    react_dev = 2\n",
    "    \n",
    "    def info(self):\n",
    "        print(self.python_dev, self.go_dev, self.react_dev)\n",
    "        \n",
    "    def info2(self):\n",
    "        print(DepartmentIT.python_dev, DepartmentIT.go_dev, DepartmentIT.react_dev)\n",
    "        \n",
    "    def hiring_pyt_dev(self):\n",
    "        DepartmentIT.python_dev = DepartmentIT.python_dev + 1\n",
    "        \n",
    "it1 = DepartmentIT()\n",
    "print(it1.python_dev)  # смотрим сколько разработчиков\n",
    "it1.hiring_pyt_dev()   # нанимаем ещё одного\n",
    "print(it1.__dict__)\n",
    "print(it1.python_dev)  # смотрим сколько разработчиков\n",
    "print(DepartmentIT.python_dev)  # СМОТРИМ ЧТО ХРАНИТЬСЯ В DepartmentIT в переменной python_dev\n",
    "\n",
    "it2 = DepartmentIT()\n",
    "print(it2.python_dev)"
   ]
  },
  {
   "cell_type": "markdown",
   "metadata": {},
   "source": [
    "## Практика по методам и свойствам (property)\n",
    "\n",
    "Создадим класс для хранения логина и пароля пользователя."
   ]
  },
  {
   "cell_type": "code",
   "execution_count": 9,
   "metadata": {},
   "outputs": [
    {
     "name": "stdout",
     "output_type": "stream",
     "text": [
      "123\n",
      "123456\n"
     ]
    }
   ],
   "source": [
    "class User:\n",
    "    \n",
    "    def __init__(self, login, password):\n",
    "        self.login = login\n",
    "        self.password = password\n",
    "        \n",
    "q = User('Ivan', 123)\n",
    "print(q.password)          # смотрим пароль\n",
    "q.password = 123456      # меняем пароль\n",
    "print(q.password)          # смотрим пароль"
   ]
  },
  {
   "cell_type": "markdown",
   "metadata": {},
   "source": [
    "Проблема в том, что мы можем обращаться к атрибутам жтого класса , например получить пароль или даже его поменять. Реализация класс никак не мешает это сделать. Мы даже можем сохранить в пароль список или словарь, да что угодно. Но мы понимаем, что:\n",
    "1. паролем должна быть строка\n",
    "2. нужно ограничить доступ - запретить другим пользователям смотреть этот пароль\n",
    "3. мы должны быть уверены, что пароль должен быть сложным.\n",
    "\n",
    "Имено чтобы выполнить эти требования, нам нужен атрибут property. Т.е. проперти отлавливает события геттера (получения) и сеттера (установки) значений. А когда отловим, на него можно повлиять - запретить или разрешить.\n",
    "\n",
    "Давать разные имена геттерам и сеттерам нет смысла."
   ]
  },
  {
   "cell_type": "code",
   "execution_count": 13,
   "metadata": {},
   "outputs": [
    {
     "name": "stdout",
     "output_type": "stream",
     "text": [
      "getter called\n",
      "123153\n",
      "setter called\n",
      "getter called\n",
      "123456\n"
     ]
    }
   ],
   "source": [
    "class User:\n",
    "    \n",
    "    def __init__(self, login, password):\n",
    "        self.login = login\n",
    "        self.__password = password  # делаем атрибут защищённым\n",
    "        \n",
    "    @property\n",
    "    def password(self):  # функция - геттер по умолчанию\n",
    "        print('getter called')\n",
    "        return self.__password\n",
    "    \n",
    "    @password.setter # устанавливаем обработку присвоения значения атрибуту\n",
    "    def password(self, value):\n",
    "        print('setter called')\n",
    "        self.__password = value\n",
    "    \n",
    "    \n",
    "a = User('aaa', 123153)\n",
    "# ни геттер ни сеетр не сработали\n",
    "print(a.password)          # срабатывает геттер\n",
    "a.password = 123456      # меняем пароль - срабатывает сеттер\n",
    "print(a.password)          # смотрим пароль - срабатывает геттер"
   ]
  },
  {
   "cell_type": "markdown",
   "metadata": {},
   "source": [
    "Добавим в код минимальные проверки."
   ]
  },
  {
   "cell_type": "code",
   "execution_count": 21,
   "metadata": {},
   "outputs": [
    {
     "name": "stdout",
     "output_type": "stream",
     "text": [
      "getter called\n",
      "123\n",
      "setter called\n"
     ]
    },
    {
     "ename": "TypeError",
     "evalue": "Пароль должен быть строкой",
     "output_type": "error",
     "traceback": [
      "\u001b[1;31m---------------------------------------------------------------------------\u001b[0m",
      "\u001b[1;31mTypeError\u001b[0m                                 Traceback (most recent call last)",
      "\u001b[1;32m<ipython-input-21-534177c91267>\u001b[0m in \u001b[0;36m<module>\u001b[1;34m\u001b[0m\n\u001b[0;32m     38\u001b[0m \u001b[0mr\u001b[0m \u001b[1;33m=\u001b[0m \u001b[0mUser\u001b[0m\u001b[1;33m(\u001b[0m\u001b[1;34m'aaa'\u001b[0m\u001b[1;33m,\u001b[0m \u001b[1;34m'123'\u001b[0m\u001b[1;33m)\u001b[0m  \u001b[1;31m# кода мы создаём нового пользователя, проверки не осуществляются!!!\u001b[0m\u001b[1;33m\u001b[0m\u001b[1;33m\u001b[0m\u001b[0m\n\u001b[0;32m     39\u001b[0m \u001b[0mprint\u001b[0m\u001b[1;33m(\u001b[0m\u001b[0mr\u001b[0m\u001b[1;33m.\u001b[0m\u001b[0mpassword\u001b[0m\u001b[1;33m)\u001b[0m\u001b[1;33m\u001b[0m\u001b[1;33m\u001b[0m\u001b[0m\n\u001b[1;32m---> 40\u001b[1;33m \u001b[0mr\u001b[0m\u001b[1;33m.\u001b[0m\u001b[0mpassword\u001b[0m \u001b[1;33m=\u001b[0m \u001b[1;33m[\u001b[0m\u001b[1;36m12\u001b[0m\u001b[1;33m]\u001b[0m\u001b[1;33m\u001b[0m\u001b[1;33m\u001b[0m\u001b[0m\n\u001b[0m",
      "\u001b[1;32m<ipython-input-21-534177c91267>\u001b[0m in \u001b[0;36mpassword\u001b[1;34m(self, value)\u001b[0m\n\u001b[0;32m     26\u001b[0m         \u001b[0mprint\u001b[0m\u001b[1;33m(\u001b[0m\u001b[1;34m'setter called'\u001b[0m\u001b[1;33m)\u001b[0m\u001b[1;33m\u001b[0m\u001b[1;33m\u001b[0m\u001b[0m\n\u001b[0;32m     27\u001b[0m         \u001b[1;32mif\u001b[0m \u001b[1;32mnot\u001b[0m \u001b[0misinstance\u001b[0m\u001b[1;33m(\u001b[0m\u001b[0mvalue\u001b[0m\u001b[1;33m,\u001b[0m \u001b[0mstr\u001b[0m\u001b[1;33m)\u001b[0m\u001b[1;33m:\u001b[0m\u001b[1;33m\u001b[0m\u001b[1;33m\u001b[0m\u001b[0m\n\u001b[1;32m---> 28\u001b[1;33m             \u001b[1;32mraise\u001b[0m \u001b[0mTypeError\u001b[0m\u001b[1;33m(\u001b[0m\u001b[1;34m'Пароль должен быть строкой'\u001b[0m\u001b[1;33m)\u001b[0m\u001b[1;33m\u001b[0m\u001b[1;33m\u001b[0m\u001b[0m\n\u001b[0m\u001b[0;32m     29\u001b[0m         \u001b[1;32mif\u001b[0m \u001b[0mlen\u001b[0m\u001b[1;33m(\u001b[0m\u001b[0mvalue\u001b[0m\u001b[1;33m)\u001b[0m \u001b[1;33m<\u001b[0m \u001b[1;36m4\u001b[0m\u001b[1;33m:\u001b[0m\u001b[1;33m\u001b[0m\u001b[1;33m\u001b[0m\u001b[0m\n\u001b[0;32m     30\u001b[0m             \u001b[1;32mraise\u001b[0m \u001b[0mValueError\u001b[0m\u001b[1;33m(\u001b[0m\u001b[1;34m'Длина пароля слишком мала. Минимум 4 символов'\u001b[0m\u001b[1;33m)\u001b[0m\u001b[1;33m\u001b[0m\u001b[1;33m\u001b[0m\u001b[0m\n",
      "\u001b[1;31mTypeError\u001b[0m: Пароль должен быть строкой"
     ]
    }
   ],
   "source": [
    "from string import digits\n",
    "class User:\n",
    "    \n",
    "    def __init__(self, login, password):\n",
    "        self.login = login\n",
    "        self.__password = password  # делаем атрибут защищённым\n",
    "        \n",
    "    @property\n",
    "    def password(self):  # функция - геттер по умолчанию\n",
    "        print('getter called')\n",
    "        return self.__password\n",
    "    \n",
    "    # функция проверки, что в пароле есть числа. Мы можем сделать эту функцию отдельно, а можем внутри класса\n",
    "    # Но если мы пишем функцию внутри класса, она по умолчаню должна принимать self, т.е. она должна являться методом\n",
    "    # Но self нам сюда передавать не нужно, на нужно проверять пароль. Чтобы self не принимался\n",
    "    # мы должны повесить декоратор staticmethod\n",
    "    @staticmethod\n",
    "    def is_include_number(password):\n",
    "        for digit in digits:\n",
    "            if digit in password:\n",
    "                return True\n",
    "            return False\n",
    "    \n",
    "    @password.setter # устанавливаем обработку присвоения значения атрибуту\n",
    "    def password(self, value):\n",
    "        print('setter called')\n",
    "        if not isinstance(value, str):\n",
    "            raise TypeError('Пароль должен быть строкой')\n",
    "        if len(value) < 4:\n",
    "            raise ValueError('Длина пароля слишком мала. Минимум 4 символов')\n",
    "        if len(value) > 12:\n",
    "            raise ValueError('Длина пароля слишком велика. Максимум 12 символов')\n",
    "        if not User.is_include_number(value):\n",
    "            raise ValueError('Пароль должен содержать хотя бы одну цифру')\n",
    "        self.__password = value\n",
    "    \n",
    "    \n",
    "r = User('aaa', '123')  # кода мы создаём нового пользователя, проверки не осуществляются!!!\n",
    "print(r.password)\n",
    "r.password = [12]"
   ]
  },
  {
   "cell_type": "code",
   "execution_count": 22,
   "metadata": {},
   "outputs": [
    {
     "name": "stdout",
     "output_type": "stream",
     "text": [
      "setter called\n"
     ]
    },
    {
     "ename": "ValueError",
     "evalue": "Длина пароля слишком мала. Минимум 4 символов",
     "output_type": "error",
     "traceback": [
      "\u001b[1;31m---------------------------------------------------------------------------\u001b[0m",
      "\u001b[1;31mValueError\u001b[0m                                Traceback (most recent call last)",
      "\u001b[1;32m<ipython-input-22-18af550985aa>\u001b[0m in \u001b[0;36m<module>\u001b[1;34m\u001b[0m\n\u001b[1;32m----> 1\u001b[1;33m \u001b[0mr\u001b[0m\u001b[1;33m.\u001b[0m\u001b[0mpassword\u001b[0m \u001b[1;33m=\u001b[0m \u001b[1;34m'123'\u001b[0m\u001b[1;33m\u001b[0m\u001b[1;33m\u001b[0m\u001b[0m\n\u001b[0m",
      "\u001b[1;32m<ipython-input-21-534177c91267>\u001b[0m in \u001b[0;36mpassword\u001b[1;34m(self, value)\u001b[0m\n\u001b[0;32m     28\u001b[0m             \u001b[1;32mraise\u001b[0m \u001b[0mTypeError\u001b[0m\u001b[1;33m(\u001b[0m\u001b[1;34m'Пароль должен быть строкой'\u001b[0m\u001b[1;33m)\u001b[0m\u001b[1;33m\u001b[0m\u001b[1;33m\u001b[0m\u001b[0m\n\u001b[0;32m     29\u001b[0m         \u001b[1;32mif\u001b[0m \u001b[0mlen\u001b[0m\u001b[1;33m(\u001b[0m\u001b[0mvalue\u001b[0m\u001b[1;33m)\u001b[0m \u001b[1;33m<\u001b[0m \u001b[1;36m4\u001b[0m\u001b[1;33m:\u001b[0m\u001b[1;33m\u001b[0m\u001b[1;33m\u001b[0m\u001b[0m\n\u001b[1;32m---> 30\u001b[1;33m             \u001b[1;32mraise\u001b[0m \u001b[0mValueError\u001b[0m\u001b[1;33m(\u001b[0m\u001b[1;34m'Длина пароля слишком мала. Минимум 4 символов'\u001b[0m\u001b[1;33m)\u001b[0m\u001b[1;33m\u001b[0m\u001b[1;33m\u001b[0m\u001b[0m\n\u001b[0m\u001b[0;32m     31\u001b[0m         \u001b[1;32mif\u001b[0m \u001b[0mlen\u001b[0m\u001b[1;33m(\u001b[0m\u001b[0mvalue\u001b[0m\u001b[1;33m)\u001b[0m \u001b[1;33m>\u001b[0m \u001b[1;36m12\u001b[0m\u001b[1;33m:\u001b[0m\u001b[1;33m\u001b[0m\u001b[1;33m\u001b[0m\u001b[0m\n\u001b[0;32m     32\u001b[0m             \u001b[1;32mraise\u001b[0m \u001b[0mValueError\u001b[0m\u001b[1;33m(\u001b[0m\u001b[1;34m'Длина пароля слишком велика. Максимум 12 символов'\u001b[0m\u001b[1;33m)\u001b[0m\u001b[1;33m\u001b[0m\u001b[1;33m\u001b[0m\u001b[0m\n",
      "\u001b[1;31mValueError\u001b[0m: Длина пароля слишком мала. Минимум 4 символов"
     ]
    }
   ],
   "source": [
    "r.password = '123'"
   ]
  },
  {
   "cell_type": "code",
   "execution_count": 23,
   "metadata": {},
   "outputs": [
    {
     "name": "stdout",
     "output_type": "stream",
     "text": [
      "setter called\n"
     ]
    },
    {
     "ename": "ValueError",
     "evalue": "Длина пароля слишком велика. Максимум 12 символов",
     "output_type": "error",
     "traceback": [
      "\u001b[1;31m---------------------------------------------------------------------------\u001b[0m",
      "\u001b[1;31mValueError\u001b[0m                                Traceback (most recent call last)",
      "\u001b[1;32m<ipython-input-23-e7a117fdb7b2>\u001b[0m in \u001b[0;36m<module>\u001b[1;34m\u001b[0m\n\u001b[1;32m----> 1\u001b[1;33m \u001b[0mr\u001b[0m\u001b[1;33m.\u001b[0m\u001b[0mpassword\u001b[0m \u001b[1;33m=\u001b[0m \u001b[1;34m'jndcndcndndjdnvjvn'\u001b[0m\u001b[1;33m\u001b[0m\u001b[1;33m\u001b[0m\u001b[0m\n\u001b[0m",
      "\u001b[1;32m<ipython-input-21-534177c91267>\u001b[0m in \u001b[0;36mpassword\u001b[1;34m(self, value)\u001b[0m\n\u001b[0;32m     30\u001b[0m             \u001b[1;32mraise\u001b[0m \u001b[0mValueError\u001b[0m\u001b[1;33m(\u001b[0m\u001b[1;34m'Длина пароля слишком мала. Минимум 4 символов'\u001b[0m\u001b[1;33m)\u001b[0m\u001b[1;33m\u001b[0m\u001b[1;33m\u001b[0m\u001b[0m\n\u001b[0;32m     31\u001b[0m         \u001b[1;32mif\u001b[0m \u001b[0mlen\u001b[0m\u001b[1;33m(\u001b[0m\u001b[0mvalue\u001b[0m\u001b[1;33m)\u001b[0m \u001b[1;33m>\u001b[0m \u001b[1;36m12\u001b[0m\u001b[1;33m:\u001b[0m\u001b[1;33m\u001b[0m\u001b[1;33m\u001b[0m\u001b[0m\n\u001b[1;32m---> 32\u001b[1;33m             \u001b[1;32mraise\u001b[0m \u001b[0mValueError\u001b[0m\u001b[1;33m(\u001b[0m\u001b[1;34m'Длина пароля слишком велика. Максимум 12 символов'\u001b[0m\u001b[1;33m)\u001b[0m\u001b[1;33m\u001b[0m\u001b[1;33m\u001b[0m\u001b[0m\n\u001b[0m\u001b[0;32m     33\u001b[0m         \u001b[1;32mif\u001b[0m \u001b[1;32mnot\u001b[0m \u001b[0mUser\u001b[0m\u001b[1;33m.\u001b[0m\u001b[0mis_include_number\u001b[0m\u001b[1;33m(\u001b[0m\u001b[0mvalue\u001b[0m\u001b[1;33m)\u001b[0m\u001b[1;33m:\u001b[0m\u001b[1;33m\u001b[0m\u001b[1;33m\u001b[0m\u001b[0m\n\u001b[0;32m     34\u001b[0m             \u001b[1;32mraise\u001b[0m \u001b[0mValueError\u001b[0m\u001b[1;33m(\u001b[0m\u001b[1;34m'Пароль должен содержать хотя бы одну цифру'\u001b[0m\u001b[1;33m)\u001b[0m\u001b[1;33m\u001b[0m\u001b[1;33m\u001b[0m\u001b[0m\n",
      "\u001b[1;31mValueError\u001b[0m: Длина пароля слишком велика. Максимум 12 символов"
     ]
    }
   ],
   "source": [
    "r.password = 'jndcndcndndjdnvjvn'"
   ]
  },
  {
   "cell_type": "code",
   "execution_count": 25,
   "metadata": {},
   "outputs": [
    {
     "name": "stdout",
     "output_type": "stream",
     "text": [
      "setter called\n"
     ]
    },
    {
     "ename": "ValueError",
     "evalue": "Пароль должен содержать хотя бы одну цифру",
     "output_type": "error",
     "traceback": [
      "\u001b[1;31m---------------------------------------------------------------------------\u001b[0m",
      "\u001b[1;31mValueError\u001b[0m                                Traceback (most recent call last)",
      "\u001b[1;32m<ipython-input-25-294f6fafac9b>\u001b[0m in \u001b[0;36m<module>\u001b[1;34m\u001b[0m\n\u001b[1;32m----> 1\u001b[1;33m \u001b[0mr\u001b[0m\u001b[1;33m.\u001b[0m\u001b[0mpassword\u001b[0m \u001b[1;33m=\u001b[0m \u001b[1;34m'jndjnkj5'\u001b[0m\u001b[1;33m\u001b[0m\u001b[1;33m\u001b[0m\u001b[0m\n\u001b[0m",
      "\u001b[1;32m<ipython-input-21-534177c91267>\u001b[0m in \u001b[0;36mpassword\u001b[1;34m(self, value)\u001b[0m\n\u001b[0;32m     32\u001b[0m             \u001b[1;32mraise\u001b[0m \u001b[0mValueError\u001b[0m\u001b[1;33m(\u001b[0m\u001b[1;34m'Длина пароля слишком велика. Максимум 12 символов'\u001b[0m\u001b[1;33m)\u001b[0m\u001b[1;33m\u001b[0m\u001b[1;33m\u001b[0m\u001b[0m\n\u001b[0;32m     33\u001b[0m         \u001b[1;32mif\u001b[0m \u001b[1;32mnot\u001b[0m \u001b[0mUser\u001b[0m\u001b[1;33m.\u001b[0m\u001b[0mis_include_number\u001b[0m\u001b[1;33m(\u001b[0m\u001b[0mvalue\u001b[0m\u001b[1;33m)\u001b[0m\u001b[1;33m:\u001b[0m\u001b[1;33m\u001b[0m\u001b[1;33m\u001b[0m\u001b[0m\n\u001b[1;32m---> 34\u001b[1;33m             \u001b[1;32mraise\u001b[0m \u001b[0mValueError\u001b[0m\u001b[1;33m(\u001b[0m\u001b[1;34m'Пароль должен содержать хотя бы одну цифру'\u001b[0m\u001b[1;33m)\u001b[0m\u001b[1;33m\u001b[0m\u001b[1;33m\u001b[0m\u001b[0m\n\u001b[0m\u001b[0;32m     35\u001b[0m         \u001b[0mself\u001b[0m\u001b[1;33m.\u001b[0m\u001b[0m__password\u001b[0m \u001b[1;33m=\u001b[0m \u001b[0mvalue\u001b[0m\u001b[1;33m\u001b[0m\u001b[1;33m\u001b[0m\u001b[0m\n\u001b[0;32m     36\u001b[0m \u001b[1;33m\u001b[0m\u001b[0m\n",
      "\u001b[1;31mValueError\u001b[0m: Пароль должен содержать хотя бы одну цифру"
     ]
    }
   ],
   "source": [
    "r.password = 'jndjnkj5'"
   ]
  },
  {
   "cell_type": "markdown",
   "metadata": {},
   "source": [
    "В момент инициализации в пароль сохраняется пароль без проверок. Чтобы запустились все проверки, которые стоят в сеттере, вы должны вместо имени `__password` в `__init__`  использовать имя свойства в сеттере (password) которое без 2-х подчёркиваний. Как только мы удилим  2 подчёркивания - сразу отработает сеттер.\n",
    "\n",
    "Чтобы пароль был строкой ео нужно взять в кавычки."
   ]
  },
  {
   "cell_type": "code",
   "execution_count": 28,
   "metadata": {},
   "outputs": [
    {
     "name": "stdout",
     "output_type": "stream",
     "text": [
      "setter called\n"
     ]
    },
    {
     "ename": "TypeError",
     "evalue": "Пароль должен быть строкой",
     "output_type": "error",
     "traceback": [
      "\u001b[1;31m---------------------------------------------------------------------------\u001b[0m",
      "\u001b[1;31mTypeError\u001b[0m                                 Traceback (most recent call last)",
      "\u001b[1;32m<ipython-input-28-9da1ac458031>\u001b[0m in \u001b[0;36m<module>\u001b[1;34m\u001b[0m\n\u001b[0;32m     48\u001b[0m \u001b[1;33m\u001b[0m\u001b[0m\n\u001b[0;32m     49\u001b[0m \u001b[1;33m\u001b[0m\u001b[0m\n\u001b[1;32m---> 50\u001b[1;33m \u001b[0mp\u001b[0m \u001b[1;33m=\u001b[0m \u001b[0mUser\u001b[0m\u001b[1;33m(\u001b[0m\u001b[1;34m'aaa'\u001b[0m\u001b[1;33m,\u001b[0m \u001b[1;36m123\u001b[0m\u001b[1;33m)\u001b[0m  \u001b[1;31m# кода мы создаём нового пользователя, проверки не осуществляются!!!\u001b[0m\u001b[1;33m\u001b[0m\u001b[1;33m\u001b[0m\u001b[0m\n\u001b[0m\u001b[0;32m     51\u001b[0m \u001b[0mprint\u001b[0m\u001b[1;33m(\u001b[0m\u001b[0mp\u001b[0m\u001b[1;33m.\u001b[0m\u001b[0mpassword\u001b[0m\u001b[1;33m)\u001b[0m\u001b[1;33m\u001b[0m\u001b[1;33m\u001b[0m\u001b[0m\n\u001b[0;32m     52\u001b[0m \u001b[0mp\u001b[0m\u001b[1;33m.\u001b[0m\u001b[0mpassword\u001b[0m \u001b[1;33m=\u001b[0m \u001b[1;33m[\u001b[0m\u001b[1;36m12\u001b[0m\u001b[1;33m]\u001b[0m\u001b[1;33m\u001b[0m\u001b[1;33m\u001b[0m\u001b[0m\n",
      "\u001b[1;32m<ipython-input-28-9da1ac458031>\u001b[0m in \u001b[0;36m__init__\u001b[1;34m(self, login, password)\u001b[0m\n\u001b[0;32m      4\u001b[0m     \u001b[1;32mdef\u001b[0m \u001b[0m__init__\u001b[0m\u001b[1;33m(\u001b[0m\u001b[0mself\u001b[0m\u001b[1;33m,\u001b[0m \u001b[0mlogin\u001b[0m\u001b[1;33m,\u001b[0m \u001b[0mpassword\u001b[0m\u001b[1;33m)\u001b[0m\u001b[1;33m:\u001b[0m\u001b[1;33m\u001b[0m\u001b[1;33m\u001b[0m\u001b[0m\n\u001b[0;32m      5\u001b[0m         \u001b[0mself\u001b[0m\u001b[1;33m.\u001b[0m\u001b[0mlogin\u001b[0m \u001b[1;33m=\u001b[0m \u001b[0mlogin\u001b[0m\u001b[1;33m\u001b[0m\u001b[1;33m\u001b[0m\u001b[0m\n\u001b[1;32m----> 6\u001b[1;33m         \u001b[0mself\u001b[0m\u001b[1;33m.\u001b[0m\u001b[0mpassword\u001b[0m \u001b[1;33m=\u001b[0m \u001b[0mpassword\u001b[0m  \u001b[1;31m# делаем атрибут защищённым\u001b[0m\u001b[1;33m\u001b[0m\u001b[1;33m\u001b[0m\u001b[0m\n\u001b[0m\u001b[0;32m      7\u001b[0m         \u001b[0mself\u001b[0m\u001b[1;33m.\u001b[0m\u001b[0m__secret\u001b[0m \u001b[1;33m=\u001b[0m \u001b[1;34m'abracadabra'\u001b[0m\u001b[1;33m\u001b[0m\u001b[1;33m\u001b[0m\u001b[0m\n\u001b[0;32m      8\u001b[0m \u001b[1;33m\u001b[0m\u001b[0m\n",
      "\u001b[1;32m<ipython-input-28-9da1ac458031>\u001b[0m in \u001b[0;36mpassword\u001b[1;34m(self, value)\u001b[0m\n\u001b[0;32m     38\u001b[0m         \u001b[0mprint\u001b[0m\u001b[1;33m(\u001b[0m\u001b[1;34m'setter called'\u001b[0m\u001b[1;33m)\u001b[0m\u001b[1;33m\u001b[0m\u001b[1;33m\u001b[0m\u001b[0m\n\u001b[0;32m     39\u001b[0m         \u001b[1;32mif\u001b[0m \u001b[1;32mnot\u001b[0m \u001b[0misinstance\u001b[0m\u001b[1;33m(\u001b[0m\u001b[0mvalue\u001b[0m\u001b[1;33m,\u001b[0m \u001b[0mstr\u001b[0m\u001b[1;33m)\u001b[0m\u001b[1;33m:\u001b[0m\u001b[1;33m\u001b[0m\u001b[1;33m\u001b[0m\u001b[0m\n\u001b[1;32m---> 40\u001b[1;33m             \u001b[1;32mraise\u001b[0m \u001b[0mTypeError\u001b[0m\u001b[1;33m(\u001b[0m\u001b[1;34m'Пароль должен быть строкой'\u001b[0m\u001b[1;33m)\u001b[0m\u001b[1;33m\u001b[0m\u001b[1;33m\u001b[0m\u001b[0m\n\u001b[0m\u001b[0;32m     41\u001b[0m         \u001b[1;32mif\u001b[0m \u001b[0mlen\u001b[0m\u001b[1;33m(\u001b[0m\u001b[0mvalue\u001b[0m\u001b[1;33m)\u001b[0m \u001b[1;33m<\u001b[0m \u001b[1;36m4\u001b[0m\u001b[1;33m:\u001b[0m\u001b[1;33m\u001b[0m\u001b[1;33m\u001b[0m\u001b[0m\n\u001b[0;32m     42\u001b[0m             \u001b[1;32mraise\u001b[0m \u001b[0mValueError\u001b[0m\u001b[1;33m(\u001b[0m\u001b[1;34m'Длина пароля слишком мала. Минимум 4 символов'\u001b[0m\u001b[1;33m)\u001b[0m\u001b[1;33m\u001b[0m\u001b[1;33m\u001b[0m\u001b[0m\n",
      "\u001b[1;31mTypeError\u001b[0m: Пароль должен быть строкой"
     ]
    }
   ],
   "source": [
    "from string import digits\n",
    "class User:\n",
    "    \n",
    "    def __init__(self, login, password):\n",
    "        self.login = login\n",
    "        self.password = password  # делаем атрибут защищённым\n",
    "        self.__secret = 'abracadabra'\n",
    "    \n",
    "    \n",
    "    # пускай есть серктеный параметр. сделаем свойство. При помощи этого совйства будем обращаться к секретному атрибуту\n",
    "    # если пароль правильный получаем доступ к секрет\n",
    "    @property\n",
    "    def secret(self):\n",
    "        s = input('Введите ваш пароль: ')\n",
    "        if s == self.password:\n",
    "            return self.__secret\n",
    "        else:\n",
    "            raise ValueError('Доступ закрыт')\n",
    "        \n",
    "    @property\n",
    "    def password(self):  # функция - геттер по умолчанию\n",
    "        print('getter called')\n",
    "        return self.__password\n",
    "    \n",
    "    # функция проверки, что в пароле есть числа. Мы можем сделать эту функцию отдельно, а можем внутри класса\n",
    "    # Но если мы пишем функцию внутри класса, она по умолчаню должна принимать self, т.е. она должна являться методом\n",
    "    # Но self нам сюда передавать не нужно, на нужно проверять пароль. Чтобы self не принимался\n",
    "    # мы должны повесить декоратор staticmethod\n",
    "    @staticmethod\n",
    "    def is_include_number(password):\n",
    "        for digit in digits:\n",
    "            if digit in password:\n",
    "                return True\n",
    "            return False\n",
    "    \n",
    "    @password.setter # устанавливаем обработку присвоения значения атрибуту\n",
    "    def password(self, value):\n",
    "        print('setter called')\n",
    "        if not isinstance(value, str):\n",
    "            raise TypeError('Пароль должен быть строкой')\n",
    "        if len(value) < 4:\n",
    "            raise ValueError('Длина пароля слишком мала. Минимум 4 символов')\n",
    "        if len(value) > 12:\n",
    "            raise ValueError('Длина пароля слишком велика. Максимум 12 символов')\n",
    "        if not User.is_include_number(value):\n",
    "            raise ValueError('Пароль должен содержать хотя бы одну цифру')\n",
    "        self.__password = value\n",
    "    \n",
    "    \n",
    "p = User('aaa', 123)  # кода мы создаём нового пользователя, проверки не осуществляются!!!\n",
    "print(p.password)\n",
    "p.password = [12]"
   ]
  },
  {
   "cell_type": "markdown",
   "metadata": {},
   "source": [
    "**Задание**\n",
    "\n",
    "В статикметоде реализовать пароль на наличие его в словаре паролей. Создать текстовый файл и в него занести пароли. Или найти такой файл в интернете. Проверить содержиться ли пароль в словаре или нет. Если содержиться - сообщить пользователю."
   ]
  },
  {
   "cell_type": "code",
   "execution_count": null,
   "metadata": {},
   "outputs": [],
   "source": []
  }
 ],
 "metadata": {
  "kernelspec": {
   "display_name": "Python 3 (ipykernel)",
   "language": "python",
   "name": "python3"
  },
  "language_info": {
   "codemirror_mode": {
    "name": "ipython",
    "version": 3
   },
   "file_extension": ".py",
   "mimetype": "text/x-python",
   "name": "python",
   "nbconvert_exporter": "python",
   "pygments_lexer": "ipython3",
   "version": "3.9.7"
  },
  "toc": {
   "base_numbering": 1,
   "nav_menu": {},
   "number_sections": true,
   "sideBar": true,
   "skip_h1_title": false,
   "title_cell": "Table of Contents",
   "title_sidebar": "Contents",
   "toc_cell": false,
   "toc_position": {},
   "toc_section_display": true,
   "toc_window_display": false
  },
  "varInspector": {
   "cols": {
    "lenName": 16,
    "lenType": 16,
    "lenVar": 40
   },
   "kernels_config": {
    "python": {
     "delete_cmd_postfix": "",
     "delete_cmd_prefix": "del ",
     "library": "var_list.py",
     "varRefreshCmd": "print(var_dic_list())"
    },
    "r": {
     "delete_cmd_postfix": ") ",
     "delete_cmd_prefix": "rm(",
     "library": "var_list.r",
     "varRefreshCmd": "cat(var_dic_list()) "
    }
   },
   "types_to_exclude": [
    "module",
    "function",
    "builtin_function_or_method",
    "instance",
    "_Feature"
   ],
   "window_display": false
  }
 },
 "nbformat": 4,
 "nbformat_minor": 4
}
