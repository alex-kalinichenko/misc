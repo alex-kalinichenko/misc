{
 "cells": [
  {
   "cell_type": "markdown",
   "id": "b90d4df0",
   "metadata": {},
   "source": [
    "Скопировать шаблон в gisto"
   ]
  },
  {
   "cell_type": "markdown",
   "id": "f97d5ae2",
   "metadata": {},
   "source": [
    "**Построение модели Lama**\n",
    "1. сгенерировать дополнительные признаки исходя из знаний о данных\n",
    "2. tabular automl с очень большим временем расчёта (10 ч), который проделает все шаги\n",
    "3. посмотреть итоговый результат в логах - какие модели использовались, за какое время посчиталось, понимаешь сколько будет считаться каждый конфиг внутри утилайзда\n",
    "4. планируешь расчёт только с нужными моделями и известным временем.\n",
    "\n",
    "[LightAutoML vs Titanic: 80% accuracy in several lines of code](https://towardsdatascience.com/lightautoml-preset-usage-tutorial-2cce7da6f936)"
   ]
  },
  {
   "cell_type": "code",
   "execution_count": null,
   "id": "a033e5b1",
   "metadata": {},
   "outputs": [],
   "source": [
    "#!pip install -U lightautoml"
   ]
  },
  {
   "cell_type": "code",
   "execution_count": null,
   "id": "cb5cbd0b",
   "metadata": {},
   "outputs": [],
   "source": [
    "#!pip install autowoe"
   ]
  },
  {
   "cell_type": "code",
   "execution_count": 1,
   "id": "4d7a7f14",
   "metadata": {
    "ExecuteTime": {
     "end_time": "2021-11-28T16:53:04.387764Z",
     "start_time": "2021-11-28T16:53:00.179032Z"
    }
   },
   "outputs": [],
   "source": [
    "import pandas as pd\n",
    "import numpy as np\n",
    "from pathlib2 import Path\n",
    "import matplotlib.pyplot as plt\n",
    "\n",
    "import logging\n",
    "\n",
    "import lightautoml\n",
    "from lightautoml.automl.presets.tabular_presets import TabularAutoML, TabularUtilizedAutoML\n",
    "from lightautoml.pipelines.selection.importance_based import ImportanceCutoffSelector, ModelBasedImportanceEstimator\n",
    "from lightautoml.tasks import Task\n",
    "from lightautoml.report import ReportDeco\n",
    "\n",
    "from autowoe import AutoWoE, ReportDeco\n",
    "#logging.basicConfig(format='[%(asctime)s] (%(levelname)s): %(message)s', level=logging.INFO)"
   ]
  },
  {
   "cell_type": "markdown",
   "id": "7eb2d995",
   "metadata": {},
   "source": [
    "**There is 3 different `task types`**:\n",
    "- `binary` - for binary classification.\n",
    "- `reg` - for regression.\n",
    "- `multiclass` - for multiclass classification.\n",
    "\n",
    "Avaliable **`losses` for binary task**:\n",
    "- `logloss` - (uses by default) Standard logistic loss.\n",
    "\n",
    "Avaliable **`losses` for regression task**:\n",
    "- `mse` - (uses by default) Mean Squared Error.\n",
    "- `mae` - Mean Absolute Error.\n",
    "- `mape` - Mean Absolute Percentage Error.\n",
    "- `rmsle` - Root Mean Squared Log Error.\n",
    "- `huber` - Huber loss, reqired params: a - threshold between MAE and MSE losses.\n",
    "- `fair` - Fair loss, required params: c - sets smoothness.\n",
    "- `quantile` - Quantile loss, required params: q - sets quantile.\n",
    "\n",
    "Avaliable **`losses` for multi-classification task**:\n",
    "- `crossentropy` - (uses by default) Standard crossentropy function.\n",
    "- `f1` - Optimizes F1-Macro Score, now avaliable for LightGBM and NN models. Here we implicitly assume that the prediction lies not in the set {0, 1}, but in the interval [0, 1].\n",
    "\n",
    "Available **`metrics` for binary task**:\n",
    "- `auc` - (uses by default) ROC-AUC score.\n",
    "- `accuracy` - Accuracy score (uses argmax prediction).\n",
    "- `logloss` - Standard logistic loss.\n",
    "\n",
    "Avaliable **`metrics` for regression task**:\n",
    "- `mse` - (uses by default) Mean Squared Error.\n",
    "- `mae` - Mean Absolute Error.\n",
    "- `mape` - Mean Absolute Percentage Error.\n",
    "- `rmsle` - Root Mean Squared Log Error.\n",
    "- `huber` - Huber loss, reqired params: a - threshold between MAE and MSE losses.\n",
    "- `fair` - Fair loss, required params: c - sets smoothness.\n",
    "- `quantile` - Quantile loss, required params: q - sets quantile.\n",
    "\n",
    "Avaliable **`metrics` for multi-classification task**:\n",
    "- `crossentropy` - (uses by default) Standard cross-entropy loss.\n",
    "- `auc` - ROC-AUC of each class against the rest.\n",
    "- `auc_mu` - AUC-Mu. Multi-class extension of standard AUC for binary classification. In short, mean of n_classes * (n_classes - 1) / 2 binary AUCs. More info on http://proceedings.mlr.press/v97/kleiman19a/kleiman19a.pdf\n",
    "\n",
    "[Source](https://lightautoml.readthedocs.io/en/latest/generated/lightautoml.tasks.base.Task.html)"
   ]
  },
  {
   "cell_type": "code",
   "execution_count": null,
   "id": "0f15556d",
   "metadata": {},
   "outputs": [],
   "source": [
    "task = Task('reg', metric = 'mse')"
   ]
  },
  {
   "cell_type": "markdown",
   "id": "2a178b33",
   "metadata": {},
   "source": [
    "**Available presets**\n",
    "- **TabularAutoML**\n",
    "- **TabularUtilizedAutoML** - preset for TIMEOUT utilization (try to spend it as much as possible inside TIMEOUT boundary)\n",
    "\n",
    "**Base algorithms**, which are currently available to be in general_params use_algos:\n",
    "- Linear model (called `linear_l2`)\n",
    "- LightGBM model with expert params based on dataset (`lgb`)\n",
    "- LightGBM with tuned params using Optuna (`lgb_tuned`)\n",
    "- CatBoost model with expert params (`cb`) and\n",
    "- CatBoost with params from Optuna (`cb_tuned`)\n",
    "\n",
    "As you can see, `use_algos` are **lists in the list** — this is the notation to create ML pipelines with as many levels of algorithms as you want. For example, `[['linear_l2', 'lgb', 'cb'], ['lgb_tuned', 'cb']]` stands for 3 algorithms on the first level and 2 on the second. After the second level will be fully trained, predictions from the 2 algorithms are weighted averaged to construct the final prediction. The full set of parameters (not only general ones), which can be provided for the TabularAutoML customization, can be found in its [YAML config](https://github.com/sberbank-ai-lab/LightAutoML/blob/master/lightautoml/automl/presets/tabular_config.yml)."
   ]
  },
  {
   "cell_type": "code",
   "execution_count": null,
   "id": "d628d323",
   "metadata": {},
   "outputs": [],
   "source": [
    "automl = TabularUtilizedAutoML(task = task, \n",
    "                               timeout = 600, # 600 seconds = 10 minutes\n",
    "                               cpu_limit = 8, # Optimal for Kaggle kernels\n",
    "                               general_params = {'use_algos': [['linear_l2', 'lgb', 'lgb_tuned']]}\n",
    "                              )\n",
    "\n",
    "# automl = TabularAutoML(task = task, \n",
    "#                                timeout = 600, # 600 seconds = 10 minutes\n",
    "#                                cpu_limit = 8, # Optimal for Kaggle kernels\n",
    "#                                general_params = {'use_algos': [['linear_l2', 'lgb', 'lgb_tuned']]}\n",
    "#                               )"
   ]
  },
  {
   "cell_type": "markdown",
   "id": "5127f2f5",
   "metadata": {},
   "source": [
    "**`verbose` – Controls the verbosity: the higher, the more messages**. \n",
    "- `<1` : messages are not displayed; \n",
    "- `>=1` : the computation process for layers is displayed; \n",
    "- `>=2` : the information about folds processing is also displayed; \n",
    "- `>=3` : the hyperparameters optimization process is also displayed; \n",
    "- `>=4` : the training process for every algorithm is displayed;"
   ]
  },
  {
   "cell_type": "code",
   "execution_count": null,
   "id": "6d1e2491",
   "metadata": {},
   "outputs": [],
   "source": [
    "oof_pred = automl.fit_predict(train,  roles = {'target': 'Qж м3сут', 'drop': ''}, verbose = 2)"
   ]
  },
  {
   "cell_type": "code",
   "execution_count": null,
   "id": "085c948e",
   "metadata": {},
   "outputs": [],
   "source": [
    "#logging.info('oof_pred:\\n{}\\nShape = {}'.format(oof_pred, oof_pred.shape))"
   ]
  },
  {
   "cell_type": "code",
   "execution_count": null,
   "id": "5d5a7b3a",
   "metadata": {},
   "outputs": [],
   "source": [
    "test_pred = automl.predict(test.drop(['Qж м3сут'], axis=1))"
   ]
  },
  {
   "cell_type": "code",
   "execution_count": null,
   "id": "a3a511e5",
   "metadata": {},
   "outputs": [],
   "source": [
    "# Fast feature importances calculation\n",
    "fast_fi = automl.get_feature_scores('fast')\n",
    "fast_fi.set_index('Feature')['Importance'].plot.bar(figsize = (30, 10), grid = True);"
   ]
  },
  {
   "cell_type": "code",
   "execution_count": null,
   "id": "3e34177d",
   "metadata": {},
   "outputs": [],
   "source": [
    "# Accurate feature importances calculation (Permutation importances) -  can take long time to calculate\n",
    "accurate_fi = automl.get_feature_scores('accurate', train, silent = False)\n",
    "accurate_fi.set_index('Feature')['Importance'].plot.bar(figsize = (30, 10), grid = True);"
   ]
  }
 ],
 "metadata": {
  "kernelspec": {
   "display_name": "Python 3",
   "language": "python",
   "name": "python3"
  },
  "language_info": {
   "codemirror_mode": {
    "name": "ipython",
    "version": 3
   },
   "file_extension": ".py",
   "mimetype": "text/x-python",
   "name": "python",
   "nbconvert_exporter": "python",
   "pygments_lexer": "ipython3",
   "version": "3.8.8"
  },
  "toc": {
   "base_numbering": 1,
   "nav_menu": {},
   "number_sections": false,
   "sideBar": true,
   "skip_h1_title": false,
   "title_cell": "Table of Contents",
   "title_sidebar": "Contents",
   "toc_cell": false,
   "toc_position": {},
   "toc_section_display": true,
   "toc_window_display": false
  },
  "varInspector": {
   "cols": {
    "lenName": 16,
    "lenType": 16,
    "lenVar": 40
   },
   "kernels_config": {
    "python": {
     "delete_cmd_postfix": "",
     "delete_cmd_prefix": "del ",
     "library": "var_list.py",
     "varRefreshCmd": "print(var_dic_list())"
    },
    "r": {
     "delete_cmd_postfix": ") ",
     "delete_cmd_prefix": "rm(",
     "library": "var_list.r",
     "varRefreshCmd": "cat(var_dic_list()) "
    }
   },
   "types_to_exclude": [
    "module",
    "function",
    "builtin_function_or_method",
    "instance",
    "_Feature"
   ],
   "window_display": false
  }
 },
 "nbformat": 4,
 "nbformat_minor": 5
}
