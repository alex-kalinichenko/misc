{
 "cells": [
  {
   "cell_type": "markdown",
   "metadata": {},
   "source": [
    "**1108. Defanging an IP Address**\n",
    "\n",
    "https://leetcode.com/problems/defanging-an-ip-address/\n",
    "\n",
    "Given a valid (IPv4) IP address, return a defanged version of that IP address.\n",
    "\n",
    "A defanged IP address replaces every period \".\" with \"[.]\".\n",
    "\n",
    "Example 1:\n",
    "```\n",
    "Input: address = \"1.1.1.1\"\n",
    "Output: \"1[.]1[.]1[.]1\"\n",
    "```\n",
    "Example 2:\n",
    "```\n",
    "Input: address = \"255.100.50.0\"\n",
    "Output: \"255[.]100[.]50[.]0\"\n",
    "```\n",
    "Constraints: The given address is a valid IPv4 address."
   ]
  },
  {
   "cell_type": "code",
   "execution_count": 5,
   "metadata": {},
   "outputs": [
    {
     "name": "stdout",
     "output_type": "stream",
     "text": [
      "1[.]1[.]1[.]1\n",
      "255[.]100[.]50[.]0\n"
     ]
    }
   ],
   "source": [
    "class Solution:\n",
    "    def defangIPaddr(self, address: str) -> str:\n",
    "        def_addres = ''\n",
    "        for i in address:\n",
    "            if i == '.':\n",
    "                def_addres += '[.]'\n",
    "            else:\n",
    "                def_addres += i\n",
    "        return def_addres\n",
    "        \n",
    "        \n",
    "address = \"1.1.1.1\"  # \"1[.]1[.]1[.]1\"\n",
    "print(Solution().defangIPaddr(address))\n",
    "address = \"255.100.50.0\" # \"255[.]100[.]50[.]0\"\n",
    "print(Solution().defangIPaddr(address))"
   ]
  },
  {
   "cell_type": "code",
   "execution_count": 8,
   "metadata": {},
   "outputs": [
    {
     "name": "stdout",
     "output_type": "stream",
     "text": [
      "1[.]1[.]1[.]1\n",
      "255[.]100[.]50[.]0\n"
     ]
    }
   ],
   "source": [
    "class Solution:\n",
    "    def defangIPaddr(self, address: str) -> str:\n",
    "        return address.replace('.', '[.]')\n",
    "        \n",
    "address = \"1.1.1.1\"  # \"1[.]1[.]1[.]1\"\n",
    "print(Solution().defangIPaddr(address))\n",
    "address = \"255.100.50.0\" # \"255[.]100[.]50[.]0\"\n",
    "print(Solution().defangIPaddr(address))"
   ]
  },
  {
   "cell_type": "markdown",
   "metadata": {},
   "source": [
    "**13. Roman to Integer**\n",
    "\n",
    "Roman numerals are represented by seven different symbols: I, V, X, L, C, D and M.\n",
    "```\n",
    "Symbol       Value\n",
    "I             1\n",
    "V             5\n",
    "X             10\n",
    "L             50\n",
    "C             100\n",
    "D             500\n",
    "M             1000\n",
    "```\n",
    "For example, 2 is written as II in Roman numeral, just two one's added together. 12 is written as XII, which is simply X + II. The number 27 is written as XXVII, which is XX + V + II.\n",
    "\n",
    "Roman numerals are usually written largest to smallest from left to right. However, the numeral for four is not IIII. Instead, the number four is written as IV. Because the one is before the five we subtract it making four. The same principle applies to the number nine, which is written as IX. There are six instances where subtraction is used:\n",
    "\n",
    "- I can be placed before V (5) and X (10) to make 4 and 9. \n",
    "- X can be placed before L (50) and C (100) to make 40 and 90. \n",
    "- C can be placed before D (500) and M (1000) to make 400 and 900.\n",
    "Given a roman numeral, convert it to an integer.\n",
    "\n",
    "Constraints:\n",
    "- 1 <= s.length <= 15\n",
    "- s contains only the characters ('I', 'V', 'X', 'L', 'C', 'D', 'M').\n",
    "- It is **guaranteed** that s is a valid roman numeral in the range [1, 3999]."
   ]
  },
  {
   "cell_type": "code",
   "execution_count": 37,
   "metadata": {},
   "outputs": [
    {
     "name": "stdout",
     "output_type": "stream",
     "text": [
      "3\n",
      "4\n",
      "9\n",
      "58\n",
      "1994\n"
     ]
    }
   ],
   "source": [
    "# v.2: Runtime: 40 ms, faster than 90.00% of Python3 online submissions for Roman to Integer.\n",
    "# Memory Usage: 14.4 MB, less than 12.19% of Python3 online submissions for Roman to Integer.\n",
    "class Solution:\n",
    "    def romanToInt(self, s: str) -> int:\n",
    "        rom_dic = {'I': 1, \n",
    "                   'V': 5, \n",
    "                   'X': 10, \n",
    "                   'L': 50, \n",
    "                   'C': 100, \n",
    "                   'D': 500, \n",
    "                   'M': 1000}\n",
    "        number = 0\n",
    "        for pos, i in enumerate(s):\n",
    "            for k, v in rom_dic.items():\n",
    "                if k == i:\n",
    "                    if pos > 0 and v > rom_dic.get(prev_i):\n",
    "                        number += v - rom_dic.get(prev_i) * 2\n",
    "                    else:\n",
    "                        number += v\n",
    "            prev_i = i\n",
    "        return number\n",
    "        \n",
    "s = \"III\"\n",
    "print(Solution().romanToInt(s)) # 3\n",
    "s = \"IV\"\n",
    "print(Solution().romanToInt(s)) # 4\n",
    "s = \"IX\"\n",
    "print(Solution().romanToInt(s)) # 9\n",
    "s = \"LVIII\"\n",
    "print(Solution().romanToInt(s)) # 58   L = 50, V= 5, III = 3.\n",
    "s = \"MCMXCIV\"\n",
    "print(Solution().romanToInt(s)) # 1994  Explanation: M = 1000, CM = 900, XC = 90 and IV = 4."
   ]
  },
  {
   "cell_type": "code",
   "execution_count": 38,
   "metadata": {},
   "outputs": [
    {
     "name": "stdout",
     "output_type": "stream",
     "text": [
      "3\n",
      "4\n",
      "9\n",
      "58\n",
      "1994\n"
     ]
    }
   ],
   "source": [
    "# v.1: Runtime: 84 ms, faster than 8.4% of Python3 online submissions for Roman to Integer. Memory Usage: 14.4 MB\n",
    "class Solution:\n",
    "    def romanToInt(self, s: str) -> int:\n",
    "        rom_dic = {'I': 1, \n",
    "                   'V': 5, \n",
    "                   'X': 10, \n",
    "                   'L': 50, \n",
    "                   'C': 100, \n",
    "                   'D': 500, \n",
    "                   'M': 1000}\n",
    "        number = 0\n",
    "        for pos, i in enumerate(s):\n",
    "            for k, v in rom_dic.items():\n",
    "                if k == i:\n",
    "                    if pos > 0 and v > rom_dic.get(s[pos - 1]):\n",
    "                        number += v - rom_dic.get(s[pos - 1]) * 2\n",
    "                    else:\n",
    "                        number += v\n",
    "        return number\n",
    "        \n",
    "s = \"III\"\n",
    "print(Solution().romanToInt(s)) # 3\n",
    "s = \"IV\"\n",
    "print(Solution().romanToInt(s)) # 4\n",
    "s = \"IX\"\n",
    "print(Solution().romanToInt(s)) # 9\n",
    "s = \"LVIII\"\n",
    "print(Solution().romanToInt(s)) # 58   L = 50, V= 5, III = 3.\n",
    "s = \"MCMXCIV\"\n",
    "print(Solution().romanToInt(s)) # 1994  Explanation: M = 1000, CM = 900, XC = 90 and IV = 4."
   ]
  }
 ],
 "metadata": {
  "kernelspec": {
   "display_name": "Python 3",
   "language": "python",
   "name": "python3"
  },
  "language_info": {
   "codemirror_mode": {
    "name": "ipython",
    "version": 3
   },
   "file_extension": ".py",
   "mimetype": "text/x-python",
   "name": "python",
   "nbconvert_exporter": "python",
   "pygments_lexer": "ipython3",
   "version": "3.7.7"
  },
  "toc": {
   "base_numbering": 1,
   "nav_menu": {},
   "number_sections": true,
   "sideBar": true,
   "skip_h1_title": false,
   "title_cell": "Table of Contents",
   "title_sidebar": "Contents",
   "toc_cell": false,
   "toc_position": {},
   "toc_section_display": true,
   "toc_window_display": false
  },
  "varInspector": {
   "cols": {
    "lenName": 16,
    "lenType": 16,
    "lenVar": 40
   },
   "kernels_config": {
    "python": {
     "delete_cmd_postfix": "",
     "delete_cmd_prefix": "del ",
     "library": "var_list.py",
     "varRefreshCmd": "print(var_dic_list())"
    },
    "r": {
     "delete_cmd_postfix": ") ",
     "delete_cmd_prefix": "rm(",
     "library": "var_list.r",
     "varRefreshCmd": "cat(var_dic_list()) "
    }
   },
   "types_to_exclude": [
    "module",
    "function",
    "builtin_function_or_method",
    "instance",
    "_Feature"
   ],
   "window_display": false
  }
 },
 "nbformat": 4,
 "nbformat_minor": 4
}
