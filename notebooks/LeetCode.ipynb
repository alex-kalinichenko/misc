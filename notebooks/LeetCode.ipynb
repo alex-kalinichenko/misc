{
 "cells": [
  {
   "cell_type": "code",
   "execution_count": 94,
   "metadata": {},
   "outputs": [],
   "source": [
    "from datetime import datetime\n",
    "start_time = datetime.now()\n",
    "def time_elapsed():\n",
    "    global start_time\n",
    "    print(datetime.now() - start_time)"
   ]
  },
  {
   "cell_type": "code",
   "execution_count": 95,
   "metadata": {},
   "outputs": [
    {
     "name": "stdout",
     "output_type": "stream",
     "text": [
      "0:00:01.628733\n"
     ]
    }
   ],
   "source": [
    "time_elapsed()"
   ]
  },
  {
   "cell_type": "markdown",
   "metadata": {},
   "source": [
    "# ✅ 1. Two sum\n",
    "\n",
    "Given an array of integers, return indices of the two numbers such that they add up to a specific target.\n",
    "\n",
    "You may assume that each input would have exactly one solution, and you may not use the same element twice.\n",
    "```\n",
    "Example:\n",
    "Given nums = [2, 7, 11, 15], target = 9,\n",
    "Because nums[0] + nums[1] = 2 + 7 = 9,\n",
    "return [0, 1].\n",
    "```\n",
    "Start 0:27 Finish 01:16 Time 45 min"
   ]
  },
  {
   "cell_type": "code",
   "execution_count": 73,
   "metadata": {},
   "outputs": [
    {
     "name": "stdout",
     "output_type": "stream",
     "text": [
      "[2, 3]\n",
      "[1, 2]\n"
     ]
    }
   ],
   "source": [
    "class Solution:\n",
    "    def twoSum(self, nums: list, target: int) -> list:\n",
    "        for i_1, num1 in enumerate(nums):\n",
    "            num2 = target - num1\n",
    "            #print('i_1=', i_1, 'num1=', num1, 'num2=', num2)\n",
    "            for i_2, num3 in enumerate(nums):\n",
    "                #print('i_2=', i_2, 'num3=', num3)\n",
    "                if num3 == num2 and i_1 != i_2:\n",
    "                    return [i_1, i_2]\n",
    "\n",
    "\n",
    "print(Solution().twoSum([2, 7, 11, 15], 26))\n",
    "print(Solution().twoSum([3, 2, 4], 6))"
   ]
  },
  {
   "cell_type": "markdown",
   "metadata": {},
   "source": [
    "# ✅ 7. Reverse integer\n",
    "\n",
    "Given a 32-bit signed integer, reverse digits of an integer.\n",
    "```\n",
    "Example 1: Input: 123 Output: 321\n",
    "Example 2: Input: -123 Output: -321\n",
    "Example 3: Input: 120 Output: 21\n",
    "```\n",
    "Note: Assume we are dealing with an environment which could only store integers within the 32-bit signed integer range: [−2**31,  2**31 − 1]. For the purpose of this problem, assume that your function returns 0 when the reversed integer overflows.\n",
    "\n",
    "Time 1 hour 30 min"
   ]
  },
  {
   "cell_type": "code",
   "execution_count": 74,
   "metadata": {},
   "outputs": [
    {
     "name": "stdout",
     "output_type": "stream",
     "text": [
      "1927694924\n",
      "5924\n",
      "-321\n",
      "321\n",
      "532\n",
      "\n",
      "1927694924\n",
      "5924\n",
      "-321\n"
     ]
    }
   ],
   "source": [
    "class Solution:\n",
    "    def reverse(self, x: int) -> int:\n",
    "        if str(x).startswith('-'):\n",
    "            answer = int('-' + str(x).replace('-', '')[::-1])\n",
    "            return answer if answer > -2**31 else 0\n",
    "        else:\n",
    "            answer = int(str(x)[::-1])\n",
    "            return answer if answer < 2**31 - 1 else 0\n",
    "\n",
    "\n",
    "print(Solution().reverse(4_294_967_291))\n",
    "print(Solution().reverse(4295_000_000))\n",
    "print(Solution().reverse(-123))\n",
    "print(Solution().reverse(123))\n",
    "print(Solution().reverse(235))\n",
    "\n",
    "# Result: Runtime: 44 ms, faster than 7.25% of Python3 online submissions for Reverse Integer.\n",
    "# Memory Usage: 12.9 MB, less than 100.00% of Python3 online submissions for Reverse Integer.\n",
    "\n",
    "print()  # ============================================================\n",
    "\n",
    "class Solution1:\n",
    "    def reverse(self, x: int) -> int:\n",
    "        a = ''\n",
    "        for _ in str(abs(x)):\n",
    "            a = _ + a\n",
    "        if x < 0:\n",
    "            a = '-' + a\n",
    "        a = int(a)\n",
    "        return a if -2**31 < a < 2**31 - 1 else 0\n",
    "\n",
    "print(Solution1().reverse(4_294_967_291))\n",
    "print(Solution1().reverse(4295_000_000))\n",
    "print(Solution1().reverse(-123))\n",
    "\n",
    "# Result: Runtime: 28 ms, faster than 76.61% of Python3 online submissions for Reverse Integer.\n",
    "# Memory Usage: 12.7 MB, less than 100.00% of Python3 online submissions for Reverse Integer."
   ]
  },
  {
   "cell_type": "markdown",
   "metadata": {},
   "source": [
    "# ✅ 9. Palindrome number\n",
    "\n",
    "Determine whether an integer is a palindrome. An integer is a palindrome when it reads the same backward as forward.\n",
    "```\n",
    "Example 1: Input: 121 Output: true\n",
    "Example 2: Input: -121 Output: false\n",
    "Explanation: From left to right, it reads -121. From right to left, it becomes 121-.\n",
    "Therefore it is not a palindrome.\n",
    "Example 3: Input: 10 Output: false\n",
    "Explanation: Reads 01 from right to left. Therefore it is not a palindrome.\n",
    "```\n",
    "Follow up: Could you solve it without converting the integer to a string?\n",
    "\n",
    "Time 1 hour 20 min"
   ]
  },
  {
   "cell_type": "code",
   "execution_count": 75,
   "metadata": {},
   "outputs": [
    {
     "name": "stdout",
     "output_type": "stream",
     "text": [
      "False\n",
      "True\n",
      "True\n",
      "False\n",
      "\n",
      "False\n",
      "True\n",
      "True\n",
      "False\n"
     ]
    }
   ],
   "source": [
    "# Runtime: 60 ms, faster than 62.22% of Python3 online submissions for Palindrome Number.\n",
    "# Memory Usage: 12.7 MB, less than 100.00% of Python3 online submissions for Palindrome Number.\n",
    "class Solution:\n",
    "    def isPalindrome(self, x: int) -> bool:\n",
    "        if x < 0:\n",
    "            return False\n",
    "        str_x = str(x)\n",
    "        length = len(str_x)\n",
    "        half_length = int(length / 2)\n",
    "        if length % 2 == 0:\n",
    "            if str_x[:half_length] == str_x[:half_length - 1:-1]:\n",
    "                return True\n",
    "            else:\n",
    "                return False\n",
    "        elif str_x[:half_length] == str_x[:half_length:-1]:\n",
    "            return True\n",
    "        else:\n",
    "            return False\n",
    "\n",
    "\n",
    "print(Solution().isPalindrome(123456791)) # False\n",
    "print(Solution().isPalindrome(1234554321)) # True\n",
    "print(Solution().isPalindrome(123454321)) # True\n",
    "print(Solution().isPalindrome(-123454321)) # False\n",
    "\n",
    "print()\n",
    "# Runtime: 40 ms, faster than 99.74% of Python3 online submissions for Palindrome Number.\n",
    "# Memory Usage: 12.7 MB, less than 100.00% of Python3 online submissions for Palindrome Number.\n",
    "class Solution1:\n",
    "    def isPalindrome1(self, x: int) -> bool:\n",
    "        return str(x) == str(x)[::-1] if x >= 0 else False\n",
    "\n",
    "\n",
    "print(Solution1().isPalindrome1(123456791)) # False\n",
    "print(Solution1().isPalindrome1(1234554321)) # True\n",
    "print(Solution1().isPalindrome1(123454321)) # True\n",
    "print(Solution1().isPalindrome1(-123454321)) # False"
   ]
  },
  {
   "cell_type": "markdown",
   "metadata": {},
   "source": [
    "# ✅ 14. Longest common prefix\n",
    "\n",
    "Write a function to find the longest common prefix string amongst an array of strings. If there is no common prefix, return an empty string \"\".\n",
    "```\n",
    "Example 1: Input: [\"flower\",\"flow\",\"flight\"] Output: \"fl\"\n",
    "Example 2: Input: [\"dog\",\"racecar\",\"car\"] Output: \"\"\n",
    "Explanation: There is no common prefix among the input strings.\n",
    "```\n",
    "Note: All given inputs are in lowercase letters a-z.\n",
    "\n",
    "---\n",
    "Runtime: 40 ms, faster than 17.35% of Python3 online submissions for Longest Common Prefix.\n",
    "Memory Usage: 14.4 MB, less than 10.63% of Python3 online submissions for Longest Common Prefix."
   ]
  },
  {
   "cell_type": "code",
   "execution_count": 76,
   "metadata": {},
   "outputs": [
    {
     "name": "stdout",
     "output_type": "stream",
     "text": [
      "fl\n",
      "\n",
      "c\n"
     ]
    }
   ],
   "source": [
    "class Solution:\n",
    "    def longestCommonPrefix(self, strs) -> str:\n",
    "        if len(strs) > 0:\n",
    "            word_prev = strs[0]\n",
    "            #print('word_1=', word_prev)\n",
    "\n",
    "            for word in strs[1:]:\n",
    "                #print('word=', word)\n",
    "                com_pref = ''\n",
    "                for pos, s in enumerate(word):\n",
    "                    #print('s=', s)\n",
    "                    #print('pos=', pos)\n",
    "                    if pos <= len(word_prev) - 1:\n",
    "                        if s == word_prev[pos]:\n",
    "                            com_pref += s\n",
    "                        else:\n",
    "                            break\n",
    "                            #print('com_pref=', com_pref)\n",
    "                #print('com_pref=', com_pref)\n",
    "                word_prev = com_pref\n",
    "                #print('word_prev=', word_prev)\n",
    "        else:\n",
    "            return ''\n",
    "        return word_prev\n",
    "        \n",
    "print(Solution().longestCommonPrefix([\"flower\", \"flow\", \"flight\"])) # 'f1'\n",
    "print(Solution().longestCommonPrefix([\"dog\", \"racecar\", \"car\"]))    # ''\n",
    "print(Solution().longestCommonPrefix([\"cir\",\"car\"]))  # \"c\""
   ]
  },
  {
   "cell_type": "markdown",
   "metadata": {},
   "source": [
    "# 20. Valid Parentheses\n",
    "\n",
    "Given a string s containing just the characters '(', ')', '{', '}', '[' and ']', determine if the input string is valid.\n",
    "An input string is valid if:\n",
    "- Open brackets must be closed by the same type of brackets.\n",
    "- Open brackets must be closed in the correct order."
   ]
  },
  {
   "cell_type": "code",
   "execution_count": 77,
   "metadata": {},
   "outputs": [
    {
     "name": "stdout",
     "output_type": "stream",
     "text": [
      "True\n",
      "True\n",
      "True\n",
      "True\n",
      "True\n"
     ]
    }
   ],
   "source": [
    "class Solution:\n",
    "    def isValid(self, s: str) -> bool:\n",
    "#         sym_dict = { '(': 1, ')': -1,\n",
    "#                     '{': 10, '}': -10, \n",
    "#                     '[': 100, ']':-100\n",
    "#                    }\n",
    "        o_br = ['(','{', '[']\n",
    "        c_br = {')', '}', ']'}\n",
    "#         for sym in s:\n",
    "            \n",
    "        return True\n",
    "\n",
    "\n",
    "print(Solution().isValid(\"()\"))     # True\n",
    "print(Solution().isValid(\"()[]{}\")) # True\n",
    "print(Solution().isValid(\"(]\"))     # False\n",
    "print(Solution().isValid(\"([)]\"))   # False\n",
    "print(Solution().isValid(\"{[]}\"))   # True\n",
    "\n",
    "assert Solution().isValid(\"()\") == True, 'True'\n"
   ]
  },
  {
   "cell_type": "markdown",
   "metadata": {},
   "source": [
    "# ✅ 258. Add digits\n",
    "\n",
    "Given a non-negative integer num, repeatedly add all its digits until the result has only one digit.\n",
    "```\n",
    "Example: Input: 38 Output: 2\n",
    "Explanation: The process is like: 3 + 8 = 11, 1 + 1 = 2.\n",
    "Since 2 has only one digit, return it.\n",
    "```\n",
    "Follow up: Could you do it without any loop/recursion in O(1) runtime?\n",
    "\n",
    "Runtime: 28 ms, faster than 75.99%"
   ]
  },
  {
   "cell_type": "code",
   "execution_count": 78,
   "metadata": {},
   "outputs": [
    {
     "name": "stdout",
     "output_type": "stream",
     "text": [
      "2\n",
      "6\n",
      "7\n",
      "6\n"
     ]
    }
   ],
   "source": [
    "\n",
    "class Solution:\n",
    "    def addDigits(self, num: int) -> int:\n",
    "        number = str(num)\n",
    "        result = 0\n",
    "        for digit in number:\n",
    "            result += int(digit)\n",
    "            if result > 9:\n",
    "                result = result % 10 + result // 10\n",
    "        return result\n",
    "\n",
    "\n",
    "print(Solution().addDigits(38))\n",
    "print(Solution().addDigits(15))\n",
    "print(Solution().addDigits(124))\n",
    "print(Solution().addDigits(897))"
   ]
  },
  {
   "cell_type": "markdown",
   "metadata": {},
   "source": [
    "# ✅ 344. Reverse string\n",
    "\n",
    "Write a function that reverses a string. The input string is given as an array of characters char[].\n",
    "\n",
    "Do not allocate extra space for another array, you must do this by modifying the input array in-place with O(1) extra memory.\n",
    "\n",
    "You may assume all the characters consist of printable ascii characters.\n",
    "```\n",
    "Example 1: Input: [\"h\",\"e\",\"l\",\"l\",\"o\"] Output: [\"o\",\"l\",\"l\",\"e\",\"h\"]\n",
    "Example 2: Input: [\"H\",\"a\",\"n\",\"n\",\"a\",\"h\"] Output: [\"h\",\"a\",\"n\",\"n\",\"a\",\"H\"]\n",
    "```"
   ]
  },
  {
   "cell_type": "code",
   "execution_count": 79,
   "metadata": {},
   "outputs": [
    {
     "name": "stdout",
     "output_type": "stream",
     "text": [
      "['h', 'e', 'l', 'l', 'o']\n",
      "None\n",
      "=====\n",
      "['o', 'l', 'l', 'e', 'h']\n"
     ]
    }
   ],
   "source": [
    "class Solution:\n",
    "    def reverseString(self, s) -> None:\n",
    "        \"\"\"\n",
    "        Do not return anything, modify s in-place instead.\n",
    "        \"\"\"\n",
    "        s[:] = s[::-1] # Runtime: 212 ms, faster than 70.40% Memory: 17.5 MB, less than 88.37%\n",
    "        s.reverse() # Runtime: 212 ms, faster than 70.40%. Memory: 17.3 MB, less than 97.67%\n",
    "        print(s)\n",
    "\n",
    "\n",
    "print(Solution().reverseString([\"h\",\"e\",\"l\",\"l\",\"o\"]))\n",
    "\n",
    "print(5 * '=')\n",
    "s= [\"h\",\"e\",\"l\",\"l\",\"o\"]\n",
    "print(s[::-1])"
   ]
  },
  {
   "cell_type": "markdown",
   "metadata": {},
   "source": [
    "# ✅ 509. Fibonacci Number\n",
    "\n",
    "The Fibonacci numbers, commonly denoted F(n) form a sequence, called the Fibonacci sequence, such that each number is the sum of the two preceding ones, starting from 0 and 1. That is,\n",
    "\n",
    "F(0) = 0,   F(1) = 1\n",
    "\n",
    "F(N) = F(N - 1) + F(N - 2), for N > 1.\n",
    "\n",
    "Given N, calculate F(N).\n",
    "```\n",
    "Example 1: Input: 2 Output: 1 Explanation: F(2) = F(1) + F(0) = 1 + 0 = 1.\n",
    "Example 2: Input: 3 Output: 2 Explanation: F(3) = F(2) + F(1) = 1 + 1 = 2.\n",
    "Example 3: Input: 4 Output: 3 Explanation: F(4) = F(3) + F(2) = 2 + 1 = 3.\n",
    "```\n",
    "Note: 0 ≤ N ≤ 30."
   ]
  },
  {
   "cell_type": "code",
   "execution_count": 80,
   "metadata": {},
   "outputs": [
    {
     "name": "stdout",
     "output_type": "stream",
     "text": [
      "8\n",
      "13\n"
     ]
    }
   ],
   "source": [
    "class Solution:\n",
    "    def fib(self, N: int) -> int:\n",
    "        if N == 0:\n",
    "            return 0\n",
    "        elif N == 1:\n",
    "            return 1\n",
    "        else:\n",
    "            fib = 1\n",
    "            fib_1 = 0\n",
    "            for _ in range(N - 1):\n",
    "                fib = fib + fib_1  # новое фиб = пред.фиб + фиб-1\n",
    "                fib_1 = fib - fib_1  # фиб-1 = новое фиб - пред фиб-1\n",
    "        return fib\n",
    "\n",
    "\n",
    "print(Solution().fib(6))\n",
    "\n",
    "# через рекурсию\n",
    "def fib_rec(n):\n",
    "    if n <= 1:\n",
    "        return 1\n",
    "    else:\n",
    "        return fib_rec(n - 1) + fib_rec(n - 2)\n",
    "\n",
    "\n",
    "print(fib_rec(6))"
   ]
  },
  {
   "cell_type": "markdown",
   "metadata": {},
   "source": [
    "# ✅ 929. Unique Email Addresses\n",
    "\n",
    "Every email consists of a local name and a domain name, separated by the @ sign. For example, in alice@leetcode.com, alice is the local name, and leetcode.com is the domain name. Besides lowercase letters, these emails may contain '.'s or '+'s. If you add periods ('.') between some characters in the local name part of an email address, mail sent there will be forwarded to the same address without dots in the local name.  For example, \"alice.z@leetcode.com\" and \"alicez@leetcode.com\" forward to the same email address.  (Note that this rule does not apply for domain names.) If you add a plus ('+') in the local name, everything after the first plus sign will be ignored. This allows certain emails to be filtered, for example m.y+name@email.com\n",
    "will be forwarded to my@email.com.  (Again, this rule does not apply for domain names.) It is possible to use both of these rules at the same time. Given a list of emails, we send one email to each address in the list.  How many different addresses actually receive mails?\n",
    "```\n",
    "Example 1:\n",
    "Input: [\"test.email+alex@leetcode.com\",\"test.e.mail+bob.cathy@leetcode.com\",\"testemail+david@lee.tcode.com\"]  \n",
    "Output: 2\n",
    "Explanation: \"testemail@leetcode.com\" and \"testemail@lee.tcode.com\" actually receive mails\n",
    "```\n",
    "Note:\n",
    "1 <= emails[i].length <= 100\n",
    "\n",
    "1 <= emails.length <= 100\n",
    "\n",
    "Each emails[i] contains exactly one '@' character.\n",
    "\n",
    "All local and domain names are non-empty.\n",
    "\n",
    "Local names do not start with a '+' character.\n",
    "\n",
    "time 3 hour"
   ]
  },
  {
   "cell_type": "code",
   "execution_count": 81,
   "metadata": {},
   "outputs": [
    {
     "name": "stdout",
     "output_type": "stream",
     "text": [
      "{'testemail@leetcode.com'}\n",
      "{'testemail@leetcode.com'}\n",
      "{'testemail@leetcode.com', 'testemail@lee.tcode.com'}\n",
      "2\n",
      "{'testemail@leetcode.com'}\n",
      "{'testemail@leetcode.com'}\n",
      "1\n"
     ]
    }
   ],
   "source": [
    "class Solution:\n",
    "    def numUniqueEmails(self, emails) -> int:\n",
    "        email_set = set()\n",
    "        for email in emails:\n",
    "            email_set.add(email[:(min(email.find('+'), email.find('@')) if email.find('+') != -1 else\n",
    "                          email.find('@'))].replace('.', '') + email[email.find('@'):])\n",
    "            \"\"\"  срез адреса до символа который встретиться раньше + или @. \n",
    "            условие => проверка что находится '+' и не возвращается -1\n",
    "            Удаление точек + доменная часть после @ как есть\"\"\"\n",
    "            print(email_set)\n",
    "        return len(email_set)\n",
    "\n",
    "\n",
    "print(Solution().numUniqueEmails([\"test.email+alex@leetcode.com\",\n",
    "                                  \"test.e.mail+bob.cathy@leetcode.com\",\n",
    "                                  \"testemail+david@lee.tcode.com\"]))\n",
    "print(Solution().numUniqueEmails([\"test.email+alex@leetcode.com\", \"test.email@leetcode.com\"]))"
   ]
  },
  {
   "cell_type": "markdown",
   "metadata": {},
   "source": [
    "# ✅ 1051. Hieght checker\n",
    "\n",
    "Students are asked to stand in non-decreasing order of heights for an annual photo. Return the minimum number of students not standing in the right positions. (This is the number of students that must move in order for all students to be standing in non-decreasing order of height.)\n",
    "```\n",
    "Example 1: Input: [1,1,4,2,1,3] Output: 3. Explanation:\n",
    "Students with heights 4, 3 and the last 1 are not standing in the right positions.\n",
    "```\n",
    "Note:\n",
    "\n",
    "1 <= heights.length <= 100\n",
    "\n",
    "1 <= heights[i] <= 100\n",
    "\n",
    "Time 10 min"
   ]
  },
  {
   "cell_type": "code",
   "execution_count": 82,
   "metadata": {},
   "outputs": [
    {
     "name": "stdout",
     "output_type": "stream",
     "text": [
      "3\n"
     ]
    }
   ],
   "source": [
    "class Solution:\n",
    "    def heightChecker(self, heights) -> int:\n",
    "        heights1 = sorted(heights)\n",
    "        stud_num = 0\n",
    "        for el, el1 in zip(heights, heights1):\n",
    "            if el != el1:\n",
    "                stud_num += 1\n",
    "        return stud_num\n",
    "\n",
    "\n",
    "print(Solution().heightChecker([1, 1, 4, 2, 1, 3]))"
   ]
  },
  {
   "cell_type": "markdown",
   "metadata": {},
   "source": [
    "# ✅ 1232. Straight line\n",
    "\n",
    "https://leetcode.com/problems/check-if-it-is-a-straight-line/submissions/\n",
    "\n",
    "You are given an array coordinates, coordinates[i] = [x, y], where [x, y] represents the coordinate of a point. Check if these points make a straight line in the XY plane.\n",
    "```\n",
    "Input: coordinates = [[1,2],[2,3],[3,4],[4,5],[5,6],[6,7]]\n",
    "Output: true\n",
    "\n",
    "Input: coordinates = [[1,1],[2,2],[3,4],[4,5],[5,6],[7,7]]\n",
    "Output: false\n",
    "```\n",
    "Constraints:\n",
    "- 2 <= coordinates.length <= 1000\n",
    "- coordinates[i].length == 2\n",
    "- -10^4 <= coordinates[i][0], coordinates[i][1] <= 10^4\n",
    "- coordinates contains no duplicate point.\n",
    "\n",
    "Start 01:45 stop 2:10\n",
    "Start 19:10 stop 19:24 Time 40 min"
   ]
  },
  {
   "cell_type": "code",
   "execution_count": 83,
   "metadata": {},
   "outputs": [
    {
     "name": "stdout",
     "output_type": "stream",
     "text": [
      "False\n",
      "True\n",
      "False\n"
     ]
    }
   ],
   "source": [
    "class Solution:\n",
    "    def checkStraightLine(self, coordinates) -> bool:\n",
    "        check_i = 0\n",
    "        x1 = coordinates[check_i][0]\n",
    "        y1 = coordinates[check_i][1]\n",
    "        x2 = coordinates[check_i + 1][0]\n",
    "        y2 = coordinates[check_i + 1][1]\n",
    "        for _ in range(len(coordinates)):\n",
    "            if x1 == x2 and _ < len(coordinates):\n",
    "                check_i += 1\n",
    "                x1 = coordinates[check_i][0]\n",
    "                x2 = coordinates[check_i + 1][0]\n",
    "            elif _ == len(coordinates):\n",
    "                return False\n",
    "            else:\n",
    "                break\n",
    "        x1 = coordinates[check_i][0]\n",
    "        y1 = coordinates[check_i][1]\n",
    "        x2 = coordinates[check_i + 1][0]\n",
    "        y2 = coordinates[check_i + 1][1]\n",
    "        k = (y2 - y1) / (x2 - x1)\n",
    "        b = y2 - k * x2\n",
    "        for x, y in coordinates:\n",
    "            if y != k * x + b:\n",
    "                return False\n",
    "        return True\n",
    "\n",
    "\n",
    "print(Solution().checkStraightLine([[1, 1], [2, 2], [3, 4], [4, 5], [5, 6], [7, 7]]))\n",
    "print(Solution().checkStraightLine([[1, 3], [2, 5], [3, 7], [4, 9], [5, 11]]))\n",
    "print(Solution().checkStraightLine([[2, 3], [2, 5], [3, 7], [3, 9], [5, 11]]))"
   ]
  },
  {
   "cell_type": "code",
   "execution_count": null,
   "metadata": {},
   "outputs": [],
   "source": []
  },
  {
   "cell_type": "markdown",
   "metadata": {},
   "source": [
    "# ✅ **1108. Defanging an IP Address**\n",
    "\n",
    "https://leetcode.com/problems/defanging-an-ip-address/\n",
    "\n",
    "Given a valid (IPv4) IP address, return a defanged version of that IP address.\n",
    "\n",
    "A defanged IP address replaces every period \".\" with \"[.]\".\n",
    "\n",
    "Example 1:\n",
    "```\n",
    "Input: address = \"1.1.1.1\"\n",
    "Output: \"1[.]1[.]1[.]1\"\n",
    "```\n",
    "Example 2:\n",
    "```\n",
    "Input: address = \"255.100.50.0\"\n",
    "Output: \"255[.]100[.]50[.]0\"\n",
    "```\n",
    "Constraints: The given address is a valid IPv4 address."
   ]
  },
  {
   "cell_type": "code",
   "execution_count": 84,
   "metadata": {},
   "outputs": [
    {
     "name": "stdout",
     "output_type": "stream",
     "text": [
      "1[.]1[.]1[.]1\n",
      "255[.]100[.]50[.]0\n"
     ]
    }
   ],
   "source": [
    "class Solution:\n",
    "    def defangIPaddr(self, address: str) -> str:\n",
    "        def_addres = ''\n",
    "        for i in address:\n",
    "            if i == '.':\n",
    "                def_addres += '[.]'\n",
    "            else:\n",
    "                def_addres += i\n",
    "        return def_addres\n",
    "        \n",
    "        \n",
    "address = \"1.1.1.1\"  # \"1[.]1[.]1[.]1\"\n",
    "print(Solution().defangIPaddr(address))\n",
    "address = \"255.100.50.0\" # \"255[.]100[.]50[.]0\"\n",
    "print(Solution().defangIPaddr(address))"
   ]
  },
  {
   "cell_type": "code",
   "execution_count": 85,
   "metadata": {},
   "outputs": [
    {
     "name": "stdout",
     "output_type": "stream",
     "text": [
      "1[.]1[.]1[.]1\n",
      "255[.]100[.]50[.]0\n"
     ]
    }
   ],
   "source": [
    "class Solution:\n",
    "    def defangIPaddr(self, address: str) -> str:\n",
    "        return address.replace('.', '[.]')\n",
    "        \n",
    "address = \"1.1.1.1\"  # \"1[.]1[.]1[.]1\"\n",
    "print(Solution().defangIPaddr(address))\n",
    "address = \"255.100.50.0\" # \"255[.]100[.]50[.]0\"\n",
    "print(Solution().defangIPaddr(address))"
   ]
  },
  {
   "cell_type": "markdown",
   "metadata": {},
   "source": [
    "# ✅ **13. Roman to Integer** \n",
    "\n",
    "Roman numerals are represented by seven different symbols: I, V, X, L, C, D and M.\n",
    "```\n",
    "Symbol       Value\n",
    "I             1\n",
    "V             5\n",
    "X             10\n",
    "L             50\n",
    "C             100\n",
    "D             500\n",
    "M             1000\n",
    "```\n",
    "For example, 2 is written as II in Roman numeral, just two one's added together. 12 is written as XII, which is simply X + II. The number 27 is written as XXVII, which is XX + V + II.\n",
    "\n",
    "Roman numerals are usually written largest to smallest from left to right. However, the numeral for four is not IIII. Instead, the number four is written as IV. Because the one is before the five we subtract it making four. The same principle applies to the number nine, which is written as IX. There are six instances where subtraction is used:\n",
    "\n",
    "- I can be placed before V (5) and X (10) to make 4 and 9. \n",
    "- X can be placed before L (50) and C (100) to make 40 and 90. \n",
    "- C can be placed before D (500) and M (1000) to make 400 and 900.\n",
    "Given a roman numeral, convert it to an integer.\n",
    "\n",
    "Constraints:\n",
    "- 1 <= s.length <= 15\n",
    "- s contains only the characters ('I', 'V', 'X', 'L', 'C', 'D', 'M').\n",
    "- It is **guaranteed** that s is a valid roman numeral in the range [1, 3999]."
   ]
  },
  {
   "cell_type": "code",
   "execution_count": 86,
   "metadata": {},
   "outputs": [
    {
     "name": "stdout",
     "output_type": "stream",
     "text": [
      "3\n",
      "4\n",
      "9\n",
      "58\n",
      "1994\n"
     ]
    }
   ],
   "source": [
    "# v.2: Runtime: 40 ms, faster than 90.00% of Python3 online submissions for Roman to Integer.\n",
    "# Memory Usage: 14.4 MB, less than 12.19% of Python3 online submissions for Roman to Integer.\n",
    "class Solution:\n",
    "    def romanToInt(self, s: str) -> int:\n",
    "        rom_dic = {'I': 1, \n",
    "                   'V': 5, \n",
    "                   'X': 10, \n",
    "                   'L': 50, \n",
    "                   'C': 100, \n",
    "                   'D': 500, \n",
    "                   'M': 1000}\n",
    "        number = 0\n",
    "        for pos, i in enumerate(s):\n",
    "            for k, v in rom_dic.items():\n",
    "                if k == i:\n",
    "                    if pos > 0 and v > rom_dic.get(prev_i):\n",
    "                        number += v - rom_dic.get(prev_i) * 2\n",
    "                    else:\n",
    "                        number += v\n",
    "            prev_i = i\n",
    "        return number\n",
    "        \n",
    "s = \"III\"\n",
    "print(Solution().romanToInt(s)) # 3\n",
    "s = \"IV\"\n",
    "print(Solution().romanToInt(s)) # 4\n",
    "s = \"IX\"\n",
    "print(Solution().romanToInt(s)) # 9\n",
    "s = \"LVIII\"\n",
    "print(Solution().romanToInt(s)) # 58   L = 50, V= 5, III = 3.\n",
    "s = \"MCMXCIV\"\n",
    "print(Solution().romanToInt(s)) # 1994  Explanation: M = 1000, CM = 900, XC = 90 and IV = 4."
   ]
  },
  {
   "cell_type": "code",
   "execution_count": 87,
   "metadata": {},
   "outputs": [
    {
     "name": "stdout",
     "output_type": "stream",
     "text": [
      "3\n",
      "4\n",
      "9\n",
      "58\n",
      "1994\n"
     ]
    }
   ],
   "source": [
    "# v.1: Runtime: 84 ms, faster than 8.4% of Python3 online submissions for Roman to Integer. Memory Usage: 14.4 MB\n",
    "class Solution:\n",
    "    def romanToInt(self, s: str) -> int:\n",
    "        rom_dic = {'I': 1, \n",
    "                   'V': 5, \n",
    "                   'X': 10, \n",
    "                   'L': 50, \n",
    "                   'C': 100, \n",
    "                   'D': 500, \n",
    "                   'M': 1000}\n",
    "        number = 0\n",
    "        for pos, i in enumerate(s):\n",
    "            for k, v in rom_dic.items():\n",
    "                if k == i:\n",
    "                    if pos > 0 and v > rom_dic.get(s[pos - 1]):\n",
    "                        number += v - rom_dic.get(s[pos - 1]) * 2\n",
    "                    else:\n",
    "                        number += v\n",
    "        return number\n",
    "        \n",
    "s = \"III\"\n",
    "print(Solution().romanToInt(s)) # 3\n",
    "s = \"IV\"\n",
    "print(Solution().romanToInt(s)) # 4\n",
    "s = \"IX\"\n",
    "print(Solution().romanToInt(s)) # 9\n",
    "s = \"LVIII\"\n",
    "print(Solution().romanToInt(s)) # 58   L = 50, V= 5, III = 3.\n",
    "s = \"MCMXCIV\"\n",
    "print(Solution().romanToInt(s)) # 1994  Explanation: M = 1000, CM = 900, XC = 90 and IV = 4."
   ]
  },
  {
   "cell_type": "code",
   "execution_count": 88,
   "metadata": {},
   "outputs": [
    {
     "name": "stdout",
     "output_type": "stream",
     "text": [
      "0:00:00.504494\n"
     ]
    }
   ],
   "source": [
    "time_elapsed()"
   ]
  },
  {
   "cell_type": "markdown",
   "metadata": {},
   "source": [
    "# 21. Merge Two Sorted Lists\n",
    "\n",
    "Merge two sorted linked lists and return it as a new sorted list. The new list should be made by splicing together the nodes of the first two lists.\n",
    "```\n",
    "Example 1:\n",
    "Input: l1 = [1,2,4], l2 = [1,3,4]\n",
    "Output: [1,1,2,3,4,4]\n",
    "Example 2:\n",
    "Input: l1 = [], l2 = []\n",
    "Output: []\n",
    "Example 3:\n",
    "Input: l1 = [], l2 = [0]\n",
    "Output: [0]\n",
    "```\n",
    "Constraints:\n",
    "- The number of nodes in both lists is in the range [0, 50].\n",
    "- -100 <= Node.val <= 100\n",
    "- Both l1 and l2 are sorted in non-decreasing order."
   ]
  },
  {
   "cell_type": "code",
   "execution_count": 89,
   "metadata": {},
   "outputs": [
    {
     "data": {
      "text/plain": [
       "['apple', 'banana', 'cherry', ['Ford', 'BMW', 'Volvo']]"
      ]
     },
     "execution_count": 89,
     "metadata": {},
     "output_type": "execute_result"
    }
   ],
   "source": [
    "a = [\"apple\", \"banana\", \"cherry\"]\n",
    "b = [\"Ford\", \"BMW\", \"Volvo\"]\n",
    "a.append(b)\n",
    "a"
   ]
  },
  {
   "cell_type": "markdown",
   "metadata": {},
   "source": [
    "# ✅ 26. Remove Duplicates from Sorted Array\n",
    "\n",
    "Given a sorted array nums, remove the duplicates in-place such that each element appears only once and returns the new length.\n",
    "\n",
    "Do not allocate extra space for another array, you must do this by modifying the input array in-place with O(1) extra memory.\n",
    "\n",
    "Clarification: Confused why the returned value is an integer but your answer is an array?\n",
    "\n",
    "Note that the input array is passed in by reference, which means a modification to the input array will be known to the caller as well.\n",
    "\n",
    "Internally you can think of this:\n",
    "```\n",
    "// nums is passed in by reference. (i.e., without making a copy)\n",
    "int len = removeDuplicates(nums);\n",
    "\n",
    "// any modification to nums in your function would be known by the caller.\n",
    "// using the length returned by your function, it prints the first len elements.\n",
    "for (int i = 0; i < len; i++) {\n",
    "    print(nums[i]);\n",
    "}\n",
    "```\n",
    "```\n",
    "Example 1:\n",
    "Input: nums = [1,1,2]\n",
    "Output: 2, nums = [1,2]\n",
    "Explanation: Your function should return length = 2, with the first two elements of nums being 1 and 2 respectively. It doesn't matter what you leave beyond the returned length.\n",
    "\n",
    "Example 2:\n",
    "Input: nums = [0,0,1,1,1,2,2,3,3,4]\n",
    "Output: 5, nums = [0,1,2,3,4]\n",
    "Explanation: Your function should return length = 5, with the first five elements of nums being modified to 0, 1, 2, 3, and 4 respectively. It doesn't matter what values are set beyond the returned length.\n",
    " ```"
   ]
  },
  {
   "cell_type": "code",
   "execution_count": 90,
   "metadata": {},
   "outputs": [
    {
     "name": "stdout",
     "output_type": "stream",
     "text": [
      "2\n",
      "5\n"
     ]
    }
   ],
   "source": [
    "# не прохоидт тест кейсы\n",
    "class Solution:\n",
    "    def removeDuplicates(self, nums) -> int:\n",
    "        return int(len(list(set(nums))))\n",
    "    \n",
    "print(Solution().removeDuplicates([1,1,2]))\n",
    "print(Solution().removeDuplicates([0,0,1,1,1,2,2,3,3,4]))"
   ]
  },
  {
   "cell_type": "code",
   "execution_count": 91,
   "metadata": {},
   "outputs": [
    {
     "name": "stdout",
     "output_type": "stream",
     "text": [
      "2\n",
      "5\n"
     ]
    }
   ],
   "source": [
    "# проходит тест кейсы\n",
    "class Solution:\n",
    "    def removeDuplicates(self, nums) -> int:\n",
    "        nums[:] = sorted(list(set(nums)))\n",
    "        return len(nums)\n",
    "\n",
    "print(Solution().removeDuplicates([1,1,2]))\n",
    "print(Solution().removeDuplicates([0,0,1,1,1,2,2,3,3,4]))"
   ]
  },
  {
   "cell_type": "markdown",
   "metadata": {},
   "source": [
    "# ✅ 27. Remove Element\n",
    "\n",
    "Given an array nums and a value val, remove all instances of that value in-place and return the new length.  Do not allocate extra space for another array, you must do this by modifying the input array in-place with O(1) extra memory. The order of elements can be changed. It doesn't matter what you leave beyond the new length.\n",
    "```\n",
    "Example 1:\n",
    "Input: nums = [3,2,2,3], val = 3\n",
    "Output: 2, nums = [2,2]\n",
    "Explanation: Your function should return length = 2, with the first two elements of nums being 2.\n",
    "It doesn't matter what you leave beyond the returned length. For example if you return 2 with nums = [2,2,3,3] or nums = [2,3,0,0], your answer will be accepted.\n",
    "Example 2:\n",
    "Input: nums = [0,1,2,2,3,0,4,2], val = 2\n",
    "Output: 5, nums = [0,1,4,0,3]\n",
    "Explanation: Your function should return length = 5, with the first five elements of nums containing 0, 1, 3, 0, and 4. Note that the order of those five elements can be arbitrary. It doesn't matter what values are set beyond the returned length.\n",
    "```\n",
    "_Solution result: Runtime: 36 ms, faster than 25.02% of Python3 online submissions for Remove Element._\n",
    "\n",
    "_Memory Usage: 14.1 MB, less than 36.25% of Python3 online submissions for Remove Element._"
   ]
  },
  {
   "cell_type": "code",
   "execution_count": 92,
   "metadata": {},
   "outputs": [
    {
     "name": "stdout",
     "output_type": "stream",
     "text": [
      "2\n",
      "5\n"
     ]
    }
   ],
   "source": [
    "class Solution:\n",
    "    def removeElement(self, nums, val: int) -> int:\n",
    "        for i in range(nums.count(val)):\n",
    "            nums.remove(val)\n",
    "        return len(nums)\n",
    "        \n",
    "        \n",
    "print(Solution().removeElement([3,2,2,3], 3))           # Output: 2, nums = [2,2]\n",
    "print(Solution().removeElement([0,1,2,2,3,0,4,2], 2))   # Output: 5, nums = [0,1,4,0,3]"
   ]
  },
  {
   "cell_type": "markdown",
   "metadata": {},
   "source": [
    "# ✅ 28. Implement strStr()\n",
    "\n",
    "Implement strStr(). Return the index of the first occurrence of needle in haystack, or -1 if needle is not part of haystack.\n",
    "\n",
    "Clarification: What should we return when needle is an empty string? This is a great question to ask during an interview.\n",
    "For the purpose of this problem, we will return 0 when needle is an empty string. This is consistent to C's strstr() and Java's indexOf().\n",
    "\n",
    "Runtime: 28 ms, faster than 82.91% of Python3 online submissions for Implement strStr().\n",
    "Memory Usage: 14.6 MB, less than 6.18% of Python3 online submissions for Implement strStr()."
   ]
  },
  {
   "cell_type": "code",
   "execution_count": 98,
   "metadata": {},
   "outputs": [
    {
     "name": "stdout",
     "output_type": "stream",
     "text": [
      "2\n",
      "-1\n",
      "0\n"
     ]
    }
   ],
   "source": [
    "class Solution:\n",
    "    def strStr(self, haystack: str, needle: str) -> int:\n",
    "        return haystack.find(needle)\n",
    "        \n",
    "        \n",
    "print(Solution().strStr(\"hello\", \"ll\"))     # 2\n",
    "print(Solution().strStr(\"aaaaa\", \"bba\"))    # -1\n",
    "print(Solution().strStr(\"\", \"\"))           # 0"
   ]
  },
  {
   "cell_type": "markdown",
   "metadata": {},
   "source": [
    "# ✅ 35. Search Insert Position\n",
    "\n",
    "Given a sorted array of distinct integers and a target value, return the index if the target is found. If not, return the index where it would be if it were inserted in order.\n",
    "\n",
    "*Runtime: 48 ms, faster than 61.51% of Python3 online submissions for Search Insert Position.*\n",
    "*Memory Usage: 15 MB, less than 5.01% of Python3 online submissions for Search Insert Position.*"
   ]
  },
  {
   "cell_type": "code",
   "execution_count": 123,
   "metadata": {},
   "outputs": [
    {
     "name": "stdout",
     "output_type": "stream",
     "text": [
      "2\n",
      "1\n",
      "4\n",
      "0\n",
      "0\n"
     ]
    }
   ],
   "source": [
    "class Solution:\n",
    "    def searchInsert(self, nums, target: int) -> int:\n",
    "        for pos, num in enumerate(nums):\n",
    "            if target == num:\n",
    "                return pos\n",
    "            elif target < num:\n",
    "                    return pos\n",
    "        return len(nums)\n",
    "\n",
    "\n",
    "print(Solution().searchInsert([1,3,5,6], 5))   # 2\n",
    "print(Solution().searchInsert([1,3,5,6], 2))   # 1\n",
    "print(Solution().searchInsert([1,3,5,6], 7))   # 4\n",
    "print(Solution().searchInsert([1,3,5,6], 0))   # 0\n",
    "print(Solution().searchInsert([1], 0))         # 0"
   ]
  },
  {
   "cell_type": "markdown",
   "metadata": {},
   "source": [
    "# 53. Maximum Subarray\n",
    "\n",
    "Given an integer array nums, find the contiguous subarray (containing at least one number) which has the largest sum and return its sum.\n",
    "\n",
    "Follow up: If you have figured out the O(n) solution, try coding another solution using the divide and conquer approach, which is more subtle.\n",
    "```\n",
    "Example 1:\n",
    "Input: nums = [-2,1,-3,4,-1,2,1,-5,4]\n",
    "Output: 6\n",
    "Explanation: [4,-1,2,1] has the largest sum = 6.\n",
    "\n",
    "Example 2:\n",
    "Input: nums = [1]\n",
    "Output: 1\n",
    "\n",
    "Example 3:\n",
    "Input: nums = [0]\n",
    "Output: 0\n",
    "\n",
    "Example 4:\n",
    "Input: nums = [-1]\n",
    "Output: -1\n",
    "\n",
    "Example 5:\n",
    "Input: nums = [-2147483647]\n",
    "Output: -2147483647\n",
    "```\n",
    "\n",
    "Задача решена, но не проходит тест, когда подаётся очень длинный список. Надо решить по принципу \"разделяй и властвуй\"."
   ]
  },
  {
   "cell_type": "code",
   "execution_count": 40,
   "metadata": {},
   "outputs": [
    {
     "name": "stdout",
     "output_type": "stream",
     "text": [
      "6\n",
      "=======\n",
      "1\n",
      "=======\n",
      "0\n",
      "=======\n",
      "-1\n",
      "=======\n",
      "-2147483647\n",
      "=======\n",
      "-1\n"
     ]
    }
   ],
   "source": [
    "class Solution:\n",
    "    def maxSubArray(self, nums) -> int:\n",
    "        if len(nums) == 1:\n",
    "            return nums[0]\n",
    "        max_sum = -999999999999\n",
    "        for sub_arr_len in range(1, len(nums)+1):\n",
    "            for sub_arr_start_pos in range(0, len(nums) - sub_arr_len + 1):\n",
    "                # print(nums[sub_arr_start_pos : sub_arr_start_pos + sub_arr_len])\n",
    "                if sum(nums[sub_arr_start_pos : sub_arr_start_pos + sub_arr_len]) > max_sum:\n",
    "                    max_sum = sum(nums[sub_arr_start_pos : sub_arr_start_pos + sub_arr_len])\n",
    "            sub_arr_len += 1\n",
    "        return max_sum\n",
    "        \n",
    "        \n",
    "print(Solution().maxSubArray([-2,1,-3,4,-1,2,1,-5,4]))\n",
    "print('=======')\n",
    "print(Solution().maxSubArray([1]))\n",
    "print('=======')\n",
    "print(Solution().maxSubArray([0]))\n",
    "print('=======')\n",
    "print(Solution().maxSubArray([-1]))\n",
    "print('=======')\n",
    "print(Solution().maxSubArray([-2147483647]))\n",
    "print('=======')\n",
    "print(Solution().maxSubArray([-2, -1]))"
   ]
  },
  {
   "cell_type": "markdown",
   "metadata": {},
   "source": [
    "# ✅ 58. Length of Last Word\n",
    "\n",
    "Given a string s consists of some words separated by spaces, return the length of the last word in the string. If the last word does not exist, return 0.\n",
    "\n",
    "A **word** is a maximal substring consisting of non-space characters only.\n",
    "\n",
    " \n",
    "```\n",
    "Example 1:\n",
    "Input: s = \"Hello World\"\n",
    "Output: 5\n",
    "\n",
    "Example 2:\n",
    "Input: s = \" \"\n",
    "Output: 0\n",
    "```\n",
    "Runtime: 32 ms, faster than 37.72% of Python3 online submissions for Length of Last Word.\n",
    "\n",
    "Memory Usage: 14.1 MB, less than 75.39% of Python3 online submissions for Length of Last Word."
   ]
  },
  {
   "cell_type": "code",
   "execution_count": 51,
   "metadata": {},
   "outputs": [
    {
     "name": "stdout",
     "output_type": "stream",
     "text": [
      "5\n",
      "0\n",
      "0\n"
     ]
    }
   ],
   "source": [
    "class Solution:\n",
    "    def lengthOfLastWord(self, s: str) -> int:\n",
    "        consist_sym = False\n",
    "        for i in s:\n",
    "            if i.isalpha() == True:\n",
    "                consist_sym = True\n",
    "        if consist_sym == True:\n",
    "            return len(s.split()[-1])\n",
    "        else:\n",
    "            return 0\n",
    "        \n",
    "print(Solution().lengthOfLastWord(\"Hello World\"))\n",
    "print(Solution().lengthOfLastWord(' '))\n",
    "print(Solution().lengthOfLastWord('        '))"
   ]
  },
  {
   "cell_type": "code",
   "execution_count": 49,
   "metadata": {},
   "outputs": [
    {
     "name": "stdout",
     "output_type": "stream",
     "text": [
      "5\n",
      "0\n",
      "0\n"
     ]
    }
   ],
   "source": [
    "# не моё решение\n",
    "class Solution:\n",
    "    def lengthOfLastWord(self, s: str) -> int:\n",
    "        return 0 if not s.split() else len(s.split()[-1])\n",
    "    \n",
    "print(Solution().lengthOfLastWord(\"Hello World\"))\n",
    "print(Solution().lengthOfLastWord(' '))\n",
    "print(Solution().lengthOfLastWord('        '))"
   ]
  },
  {
   "cell_type": "markdown",
   "metadata": {},
   "source": [
    "# ✅ 66. Plus One\n",
    "\n",
    "Given a non-empty array of decimal digits representing a non-negative integer, increment one to the integer.\n",
    "The digits are stored such that the most significant digit is at the head of the list, and each element in the array contains a single digit.\n",
    "You may assume the integer does not contain any leading zero, except the number 0 itself.\n",
    " \n",
    "```\n",
    "Example 1:\n",
    "Input: digits = [1,2,3]\n",
    "Output: [1,2,4]\n",
    "Explanation: The array represents the integer 123.\n",
    "\n",
    "Example 2:\n",
    "Input: digits = [4,3,2,1]\n",
    "Output: [4,3,2,2]\n",
    "Explanation: The array represents the integer 4321.\n",
    "\n",
    "Example 3:\n",
    "Input: digits = [0]\n",
    "Output: [1]\n",
    "```\n",
    "\n",
    "Учитывая непустой массив десятичных цифр, представляющих неотрицательное целое число, увеличьте единицу до целого числа.\n",
    "Цифры хранятся таким образом, что наиболее значимая цифра находится в начале списка, а каждый элемент в массиве содержит одну цифру.\n",
    "Вы можете предположить, что целое число не содержит начального нуля, кроме самого числа 0.\n",
    "```\n",
    "Runtime: 36 ms, faster than 13.76% of Python3 online submissions for Plus One.\n",
    "Memory Usage: 14.3 MB, less than 10.32% of Python3 online submissions for Plus One.\n",
    "```"
   ]
  },
  {
   "cell_type": "code",
   "execution_count": 44,
   "metadata": {},
   "outputs": [
    {
     "name": "stdout",
     "output_type": "stream",
     "text": [
      "[1, 2, 4]\n",
      "[4, 3, 2, 2]\n",
      "[1]\n",
      "[1, 0]\n",
      "[1, 0, 0]\n",
      "[0, 1]\n",
      "[0, 0, 1]\n"
     ]
    }
   ],
   "source": [
    "class Solution:\n",
    "    def plusOne(self, digits):\n",
    "        s = ''\n",
    "        for digit in digits:\n",
    "            s += str(digit)\n",
    "        number = int(s) + 1\n",
    "        num_list = []\n",
    "        for i in str(number):\n",
    "            num_list.append(int(i))\n",
    "        while len(num_list) < len(digits):\n",
    "            num_list.insert(0, 0)\n",
    "        return num_list\n",
    "        \n",
    "print(Solution().plusOne([1,2,3]))    # [1,2,4]\n",
    "print(Solution().plusOne([4,3,2,1]))  # [4,3,2,2]\n",
    "print(Solution().plusOne([0]))        # [1]\n",
    "print(Solution().plusOne([9]))    # [1,0] \n",
    "print(Solution().plusOne([9,9]))  # [1,0,0]\n",
    "print(Solution().plusOne([0,0]))  # [0,1]\n",
    "print(Solution().plusOne([0,0,0]))  # [0,0,1]"
   ]
  }
 ],
 "metadata": {
  "kernelspec": {
   "display_name": "Python 3",
   "language": "python",
   "name": "python3"
  },
  "language_info": {
   "codemirror_mode": {
    "name": "ipython",
    "version": 3
   },
   "file_extension": ".py",
   "mimetype": "text/x-python",
   "name": "python",
   "nbconvert_exporter": "python",
   "pygments_lexer": "ipython3",
   "version": "3.7.7"
  },
  "toc": {
   "base_numbering": 1,
   "nav_menu": {},
   "number_sections": true,
   "sideBar": true,
   "skip_h1_title": false,
   "title_cell": "Table of Contents",
   "title_sidebar": "Contents",
   "toc_cell": false,
   "toc_position": {},
   "toc_section_display": true,
   "toc_window_display": true
  },
  "varInspector": {
   "cols": {
    "lenName": 16,
    "lenType": 16,
    "lenVar": 40
   },
   "kernels_config": {
    "python": {
     "delete_cmd_postfix": "",
     "delete_cmd_prefix": "del ",
     "library": "var_list.py",
     "varRefreshCmd": "print(var_dic_list())"
    },
    "r": {
     "delete_cmd_postfix": ") ",
     "delete_cmd_prefix": "rm(",
     "library": "var_list.r",
     "varRefreshCmd": "cat(var_dic_list()) "
    }
   },
   "position": {
    "height": "285px",
    "left": "1164px",
    "right": "20px",
    "top": "120px",
    "width": "500px"
   },
   "types_to_exclude": [
    "module",
    "function",
    "builtin_function_or_method",
    "instance",
    "_Feature"
   ],
   "window_display": false
  }
 },
 "nbformat": 4,
 "nbformat_minor": 4
}
