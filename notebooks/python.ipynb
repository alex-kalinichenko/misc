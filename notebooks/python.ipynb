{
 "cells": [
  {
   "cell_type": "markdown",
   "metadata": {},
   "source": [
    "# Упражнения по курсу:Инди-курс программирования на Python от egoroff_channel"
   ]
  },
  {
   "cell_type": "markdown",
   "metadata": {},
   "source": [
    "## 7.10 Анонимная функция Lambda\n",
    "\n",
    "Функия выполняется в одну строчку или выполняет одно действие.\n",
    "\n",
    "Шаблон:\n",
    "\n",
    "lambda арг1, арг2,... : выражение\n",
    "\n",
    "В лямбда функциях нельзя реализовать циклы."
   ]
  },
  {
   "cell_type": "code",
   "execution_count": 5,
   "metadata": {
    "scrolled": true
   },
   "outputs": [
    {
     "name": "stdout",
     "output_type": "stream",
     "text": [
      "[5000, 41, 54512, 23, 2354, 65, 95, 56, 78, 8]\n"
     ]
    }
   ],
   "source": [
    "# сортировка списка по последней цифре числа\n",
    "# def f(x):\n",
    "#     return x%10\n",
    "\n",
    "a = [78, 56, 23, 8, 54512, 65, 95, 2354, 41, 5000]\n",
    "a.sort(key=lambda x: x%10)\n",
    "print(a)"
   ]
  },
  {
   "cell_type": "code",
   "execution_count": 4,
   "metadata": {},
   "outputs": [
    {
     "name": "stdout",
     "output_type": "stream",
     "text": [
      "[8, 5000, 54512, 23, 41, 56, 2354, 65, 78, 95]\n"
     ]
    }
   ],
   "source": [
    "# по предпоследней цифре\n",
    "a = [78, 56, 23, 8, 54512, 65, 95, 2354, 41, 5000]\n",
    "a.sort(key=lambda x: x//10%10)\n",
    "print(a)"
   ]
  },
  {
   "cell_type": "code",
   "execution_count": 11,
   "metadata": {},
   "outputs": [
    {
     "name": "stdout",
     "output_type": "stream",
     "text": [
      "11\n",
      "-19\n"
     ]
    }
   ],
   "source": [
    "# график линейной функции\n",
    "def linear(k, b):\n",
    "    return lambda x: x*k+b\n",
    "\n",
    "graf1 = linear(2, 5)\n",
    "print(graf1(3))\n",
    "\n",
    "graf2 = linear(-4, 1)\n",
    "print(graf2(5))"
   ]
  },
  {
   "cell_type": "markdown",
   "metadata": {},
   "source": [
    "**Задания**\n",
    "\n",
    "Напишите lambda функцию, которая принимает одно число и увеличивает его на 10.\n",
    "\n",
    "Для проверки решения присвойте вашу  lambda функцию переменной adding_10"
   ]
  },
  {
   "cell_type": "code",
   "execution_count": 7,
   "metadata": {
    "scrolled": false
   },
   "outputs": [
    {
     "name": "stdout",
     "output_type": "stream",
     "text": [
      "20\n"
     ]
    }
   ],
   "source": [
    "adding_10 = lambda x: x + 10\n",
    "print(adding_10(10))"
   ]
  },
  {
   "cell_type": "markdown",
   "metadata": {},
   "source": [
    "Напишите lambda функцию, которая принимает строку и отвечает на вопрос начинается ли переданная строка с буквы W\n",
    "\n",
    "Для проверки решения присвойте вашу  lambda функцию переменной starts_with"
   ]
  },
  {
   "cell_type": "code",
   "execution_count": 8,
   "metadata": {},
   "outputs": [
    {
     "name": "stdout",
     "output_type": "stream",
     "text": [
      "True\n",
      "False\n"
     ]
    }
   ],
   "source": [
    "starts_with = lambda s: s[0] == 'W'\n",
    "print(starts_with('World'))\n",
    "print(starts_with('word'))"
   ]
  },
  {
   "cell_type": "markdown",
   "metadata": {},
   "source": [
    "В python есть стандартный модуль datetime. \n",
    "\n",
    "Внутри него имеется функция datetime.datetime.now() при помощи которой, можно найти текущую дату в формате (год, месяц, день, час, минуты, секунды, млсекунды)\n",
    "\n",
    "Ваша задача написать три lambda функция, которые принимают текущую дату и возвращают год, месяц и день соответственно.\n",
    "\n",
    "Эти три lambda функции нужно будет сохранить в переменные get_year, get_month и get_day соответственно.\n",
    "\n",
    "Вызывать ничего не нужно, просто создайте функции"
   ]
  },
  {
   "cell_type": "code",
   "execution_count": 28,
   "metadata": {},
   "outputs": [
    {
     "name": "stdout",
     "output_type": "stream",
     "text": [
      "2020\n"
     ]
    }
   ],
   "source": [
    "import datetime\n",
    "\n",
    "now = datetime.datetime.now()\n",
    "\n",
    "get_year = lambda now: now.year\n",
    "get_month = lambda now: now.month\n",
    "get_day = lambda now: now.day\n",
    "print(now.year)"
   ]
  },
  {
   "cell_type": "markdown",
   "metadata": {},
   "source": [
    "# 10.1 Генераторы списков Python | List comprehension\n",
    "\n",
    "Шаблон:\n",
    "\n",
    "[выражение for val in коллекция]\n",
    "\n",
    "значение val подставляется в выражение"
   ]
  },
  {
   "cell_type": "code",
   "execution_count": 29,
   "metadata": {},
   "outputs": [
    {
     "name": "stdout",
     "output_type": "stream",
     "text": [
      "[0, 0, 0, 0, 0, 0, 0]\n"
     ]
    }
   ],
   "source": [
    "a = [0 for i in range(7)]\n",
    "print(a)"
   ]
  },
  {
   "cell_type": "code",
   "execution_count": 30,
   "metadata": {},
   "outputs": [
    {
     "name": "stdout",
     "output_type": "stream",
     "text": [
      "[2, 2, 2, 2, 2, 2, 2]\n"
     ]
    }
   ],
   "source": [
    "a = [2 for i in range(7)]\n",
    "print(a)"
   ]
  },
  {
   "cell_type": "code",
   "execution_count": 33,
   "metadata": {},
   "outputs": [
    {
     "name": "stdout",
     "output_type": "stream",
     "text": [
      "[0, 1, 2, 3, 4, 5, 6, 7, 8, 9]\n"
     ]
    }
   ],
   "source": [
    "# подставляем само число из range\n",
    "a = [i for i in range(10)]\n",
    "print(a)"
   ]
  },
  {
   "cell_type": "code",
   "execution_count": 34,
   "metadata": {},
   "outputs": [
    {
     "name": "stdout",
     "output_type": "stream",
     "text": [
      "[0, 1, 4, 9, 16, 25, 36, 49, 64, 81]\n"
     ]
    }
   ],
   "source": [
    "# возводим число из range в квадрат\n",
    "a = [i**2 for i in range(10)]\n",
    "print(a)"
   ]
  },
  {
   "cell_type": "code",
   "execution_count": 35,
   "metadata": {},
   "outputs": [
    {
     "name": "stdout",
     "output_type": "stream",
     "text": [
      "[1, 2, 3, 0, 1, 2, 3, 0, 1, 2, 3, 0, 1, 2]\n"
     ]
    }
   ],
   "source": [
    "# выведем остатуи от деления на 4 и поменяем пределы\n",
    "a = [i%4 for i in range(1, 15)]\n",
    "print(a)"
   ]
  },
  {
   "cell_type": "markdown",
   "metadata": {},
   "source": [
    "В качестве коллекции можно обходить другие итерабельные объекты, например строки"
   ]
  },
  {
   "cell_type": "code",
   "execution_count": 36,
   "metadata": {},
   "outputs": [
    {
     "name": "stdout",
     "output_type": "stream",
     "text": [
      "['h', 'e', 'l', 'l', 'o']\n"
     ]
    }
   ],
   "source": [
    "a = [i for i in 'hello']\n",
    "print(a)"
   ]
  },
  {
   "cell_type": "code",
   "execution_count": 37,
   "metadata": {},
   "outputs": [
    {
     "name": "stdout",
     "output_type": "stream",
     "text": [
      "['hhhhh', 'eeeee', 'lllll', 'lllll', 'ooooo']\n"
     ]
    }
   ],
   "source": [
    "a = [i*5 for i in 'hello']\n",
    "print(a)"
   ]
  },
  {
   "cell_type": "markdown",
   "metadata": {},
   "source": [
    "В выражениях можно использовать другие функции. Например найдём код символа таблицы ascii"
   ]
  },
  {
   "cell_type": "code",
   "execution_count": 39,
   "metadata": {},
   "outputs": [
    {
     "name": "stdout",
     "output_type": "stream",
     "text": [
      "[97, 98, 99, 100]\n"
     ]
    }
   ],
   "source": [
    "a = [ord(i) for i in 'abcd']\n",
    "print(a)"
   ]
  },
  {
   "cell_type": "markdown",
   "metadata": {},
   "source": [
    "Генерация списка случайных чисел"
   ]
  },
  {
   "cell_type": "code",
   "execution_count": 40,
   "metadata": {},
   "outputs": [
    {
     "name": "stdout",
     "output_type": "stream",
     "text": [
      "[-4, 0, -2, 2, -1, 4, 6, -4, -6, 10]\n"
     ]
    }
   ],
   "source": [
    "import random\n",
    "a = [random.randint(-10, 10) for i in range(10)]\n",
    "print(a)"
   ]
  },
  {
   "cell_type": "markdown",
   "metadata": {},
   "source": [
    "Генератором можно обходить элементы другого списка"
   ]
  },
  {
   "cell_type": "code",
   "execution_count": 42,
   "metadata": {},
   "outputs": [
    {
     "name": "stdout",
     "output_type": "stream",
     "text": [
      "[2, 10, 4, -9, -7, 1, 4, -1, 10, 2]\n",
      "[2, 10, 4, 9, 7, 1, 4, 1, 10, 2]\n"
     ]
    }
   ],
   "source": [
    "# в списке B отбрасываем минусы списка a\n",
    "import random\n",
    "a = [random.randint(-10, 10) for i in range(10)]\n",
    "print(a)\n",
    "b = [abs(elem) for elem in a]\n",
    "print(b)"
   ]
  },
  {
   "cell_type": "markdown",
   "metadata": {},
   "source": [
    "При помощи генератора можно изменять элементы первоначального списка"
   ]
  },
  {
   "cell_type": "code",
   "execution_count": 45,
   "metadata": {},
   "outputs": [
    {
     "name": "stdout",
     "output_type": "stream",
     "text": [
      "[-2, 5, -5, 2, -10, 1, -2, 7, 4, 4]\n",
      "[-1, 6, -4, 3, -9, 2, -1, 8, 5, 5]\n"
     ]
    }
   ],
   "source": [
    "import random\n",
    "a = [random.randint(-10, 10) for i in range(10)]\n",
    "print(a)\n",
    "a = [elem + 1 for elem in a]\n",
    "print(a)"
   ]
  },
  {
   "cell_type": "markdown",
   "metadata": {},
   "source": [
    "Условные коллекции в генераторах: выведем только чётные элементы (которые деляться без остатка на 2)"
   ]
  },
  {
   "cell_type": "code",
   "execution_count": 49,
   "metadata": {},
   "outputs": [
    {
     "name": "stdout",
     "output_type": "stream",
     "text": [
      "[8, -6, 2, 4, -2, 9, -2, 0, -4, 7]\n",
      "[8, -6, 2, 4, -2, -2, 0, -4]\n"
     ]
    }
   ],
   "source": [
    "import random\n",
    "a = [random.randint(-10, 10) for i in range(10)]\n",
    "print(a)\n",
    "b = [elem for elem in a if elem%2==0]\n",
    "print(b)"
   ]
  },
  {
   "cell_type": "code",
   "execution_count": 50,
   "metadata": {},
   "outputs": [
    {
     "name": "stdout",
     "output_type": "stream",
     "text": [
      "[-3, 8, 5, 0, 6, 0, -10, 2, 9, 5]\n",
      "[0, 6, 0]\n"
     ]
    }
   ],
   "source": [
    "import random\n",
    "a = [random.randint(-10, 10) for i in range(10)]\n",
    "print(a)\n",
    "b = [elem for elem in a if elem%2==0 and elem%3==0]\n",
    "print(b)"
   ]
  },
  {
   "cell_type": "markdown",
   "metadata": {},
   "source": [
    "Разбиение введённой строки по пробелу и преобразование в число"
   ]
  },
  {
   "cell_type": "code",
   "execution_count": 52,
   "metadata": {},
   "outputs": [
    {
     "name": "stdout",
     "output_type": "stream",
     "text": [
      "3 4 56\n",
      "[3, 4, 56]\n"
     ]
    }
   ],
   "source": [
    "a = input().split()\n",
    "a = [int(i) for i in a]\n",
    "print(a)"
   ]
  },
  {
   "cell_type": "markdown",
   "metadata": {},
   "source": [
    "Инициализация двухмерного списка с помощью генератора"
   ]
  },
  {
   "cell_type": "code",
   "execution_count": 57,
   "metadata": {},
   "outputs": [
    {
     "name": "stdout",
     "output_type": "stream",
     "text": [
      "[[0, 0, 0, 0], [0, 0, 0, 0], [0, 0, 0, 0], [0, 0, 0, 0], [0, 0, 0, 0]]\n",
      "[0, 0, 0, 0]\n",
      "[0, 0, 0, 0]\n",
      "[0, 0, 0, 0]\n",
      "[0, 0, 0, 0]\n",
      "[0, 0, 0, 0]\n"
     ]
    }
   ],
   "source": [
    "n = 5\n",
    "m = 4\n",
    "\n",
    "a = [[0]*m for i in range(n)]\n",
    "print(a)\n",
    "\n",
    "# чтобы походило на таблицу пробежимся поэлементно\n",
    "for i in a:\n",
    "    print(i)"
   ]
  },
  {
   "cell_type": "markdown",
   "metadata": {},
   "source": [
    "Использование двойных циклов в генераторах списков (вложенные циклы)"
   ]
  },
  {
   "cell_type": "code",
   "execution_count": 58,
   "metadata": {},
   "outputs": [
    {
     "name": "stdout",
     "output_type": "stream",
     "text": [
      "[('a', 1), ('a', 2), ('a', 3), ('b', 1), ('b', 2), ('b', 3), ('c', 1), ('c', 2), ('c', 3)]\n"
     ]
    }
   ],
   "source": [
    "# выводим кортежи\n",
    "a = [(i,j) for i in 'abc' for j in [1, 2, 3]]\n",
    "print(a)"
   ]
  },
  {
   "cell_type": "code",
   "execution_count": 60,
   "metadata": {},
   "outputs": [
    {
     "name": "stdout",
     "output_type": "stream",
     "text": [
      "[12, 15]\n"
     ]
    }
   ],
   "source": [
    "# выводим произведения которые больше 10\n",
    "a = [i*j for i in [2, 3, 4, 5] for j in [1, 2, 3] if i*j>10]\n",
    "print(a)"
   ]
  },
  {
   "cell_type": "markdown",
   "metadata": {},
   "source": [
    "## 10.2 Генераторы списков 2 | List comprehension | Вложенные генераторы\n",
    "\n",
    "К элемнту списков можно обращаться по адресу"
   ]
  },
  {
   "cell_type": "code",
   "execution_count": 61,
   "metadata": {},
   "outputs": [
    {
     "name": "stdout",
     "output_type": "stream",
     "text": [
      "Kostin\n"
     ]
    }
   ],
   "source": [
    "a = [('Sidorov', 1995),\n",
    "    ('Lukov', 2002),\n",
    "    ('Petrov', 1991),\n",
    "    ('Gorbachev', 1984),\n",
    "    ('Kostin', 2000)]\n",
    "print(a[4][0])"
   ]
  },
  {
   "cell_type": "markdown",
   "metadata": {},
   "source": [
    "Как доставить необходимые значение при помощи генераторов списков"
   ]
  },
  {
   "cell_type": "code",
   "execution_count": 62,
   "metadata": {
    "scrolled": true
   },
   "outputs": [
    {
     "name": "stdout",
     "output_type": "stream",
     "text": [
      "['Sidorov', 'Lukov', 'Petrov', 'Gorbachev', 'Kostin']\n"
     ]
    }
   ],
   "source": [
    "b = [elem[0] for elem in a]\n",
    "print(b)"
   ]
  },
  {
   "cell_type": "code",
   "execution_count": 63,
   "metadata": {},
   "outputs": [
    {
     "name": "stdout",
     "output_type": "stream",
     "text": [
      "[1995, 2002, 1991, 1984, 2000]\n"
     ]
    }
   ],
   "source": [
    "b = [elem[1] for elem in a]\n",
    "print(b)"
   ]
  },
  {
   "cell_type": "code",
   "execution_count": 65,
   "metadata": {},
   "outputs": [
    {
     "name": "stdout",
     "output_type": "stream",
     "text": [
      "['Petrov']\n"
     ]
    }
   ],
   "source": [
    "b = [elem[0] for elem in a if elem[0].startswith('P')]\n",
    "print(b)"
   ]
  },
  {
   "cell_type": "code",
   "execution_count": 67,
   "metadata": {},
   "outputs": [
    {
     "name": "stdout",
     "output_type": "stream",
     "text": [
      "['Lukov']\n"
     ]
    }
   ],
   "source": [
    "b = [elem[0] for elem in a if elem[1] > 2000]\n",
    "print(b)"
   ]
  },
  {
   "cell_type": "code",
   "execution_count": 68,
   "metadata": {},
   "outputs": [
    {
     "name": "stdout",
     "output_type": "stream",
     "text": [
      "['L']\n"
     ]
    }
   ],
   "source": [
    "b = [elem[0][0] for elem in a if elem[1] > 2000]\n",
    "print(b)"
   ]
  },
  {
   "attachments": {
    "image.png": {
     "image/png": "[encoded data removed]"
    }
   },
   "cell_type": "markdown",
   "metadata": {},
   "source": [
    "![image.png](attachment:image.png)"
   ]
  },
  {
   "cell_type": "code",
   "execution_count": null,
   "metadata": {},
   "outputs": [],
   "source": [
    "# есть вложенный словарь\n",
    "a\n",
    "b = [a[elem]['car'] for elem in a]\n",
    "print(b)"
   ]
  },
  {
   "attachments": {
    "image.png": {
     "image/png": "[encoded data removed]"
    }
   },
   "cell_type": "markdown",
   "metadata": {},
   "source": [
    "![image.png](attachment:image.png)"
   ]
  },
  {
   "cell_type": "code",
   "execution_count": null,
   "metadata": {},
   "outputs": [],
   "source": [
    "b = [a[elem]['car'] for elem in a if a[elem]['age'] < 2000 and a[elem]['hobby']=='soccer']\n",
    "print(b)"
   ]
  },
  {
   "cell_type": "markdown",
   "metadata": {},
   "source": [
    "output:>>> [('Sidorov', 'BMW')]"
   ]
  },
  {
   "cell_type": "markdown",
   "metadata": {},
   "source": [
    "Генератором взять из строки только цифры или только буквы"
   ]
  },
  {
   "cell_type": "code",
   "execution_count": 69,
   "metadata": {},
   "outputs": [
    {
     "name": "stdout",
     "output_type": "stream",
     "text": [
      "['4', '7', '5', '8', '4', '7', '7', '6']\n"
     ]
    }
   ],
   "source": [
    "s = 'jflk475KSNMfjnl84vk7sdkfg76dl'\n",
    "b = [i for i in s if i.isdigit()]\n",
    "print(b)"
   ]
  },
  {
   "cell_type": "code",
   "execution_count": 70,
   "metadata": {},
   "outputs": [
    {
     "name": "stdout",
     "output_type": "stream",
     "text": [
      "['j', 'f', 'l', 'k', 'K', 'S', 'N', 'M', 'f', 'j', 'n', 'l', 'v', 'k', 's', 'd', 'k', 'f', 'g', 'd', 'l']\n"
     ]
    }
   ],
   "source": [
    "s = 'jflk475KSNMfjnl84vk7sdkfg76dl'\n",
    "b = [i for i in s if i.isalpha()]\n",
    "print(b)"
   ]
  },
  {
   "cell_type": "code",
   "execution_count": 71,
   "metadata": {},
   "outputs": [
    {
     "name": "stdout",
     "output_type": "stream",
     "text": [
      "[4, 7, 5, 8, 4, 7, 7, 6]\n"
     ]
    }
   ],
   "source": [
    "s = 'jflk475KSNMfjnl84vk7sdkfg76dl'\n",
    "b = [int(i) for i in s if i.isdigit()]\n",
    "print(b)"
   ]
  },
  {
   "cell_type": "markdown",
   "metadata": {},
   "source": [
    "Вложенный генератор"
   ]
  },
  {
   "cell_type": "code",
   "execution_count": 72,
   "metadata": {},
   "outputs": [
    {
     "name": "stdout",
     "output_type": "stream",
     "text": [
      "[2, 6, 3]\n",
      "[2, 1, 3]\n",
      "[6, 4, 3]\n",
      "[4, 1, 6]\n",
      "[4, 3, 6]\n"
     ]
    }
   ],
   "source": [
    "import random\n",
    "n = 5\n",
    "m = 3\n",
    "\n",
    "a = [[random.randint(1, 6) for j in range(m)] for i in range(n)]\n",
    "for i in a:\n",
    "    print(i)"
   ]
  },
  {
   "cell_type": "markdown",
   "metadata": {},
   "source": [
    "возмём элементы с главной диагонали"
   ]
  },
  {
   "cell_type": "code",
   "execution_count": 77,
   "metadata": {},
   "outputs": [
    {
     "name": "stdout",
     "output_type": "stream",
     "text": [
      "[4, 2, 4, 1, 5, 1, 4]\n",
      "[5, 5, 4, 5, 4, 4, 3]\n",
      "[3, 2, 4, 4, 3, 3, 4]\n",
      "[1, 2, 2, 1, 2, 4, 5]\n",
      "[6, 2, 3, 5, 5, 3, 6]\n",
      "[5, 2, 3, 3, 6, 5, 1]\n",
      "[3, 6, 5, 3, 1, 6, 1]\n",
      "main diagon [4, 5, 4, 1, 5, 5, 1]\n",
      "2 stroka [3, 2, 4, 4, 3, 3, 4]\n",
      "3 stolb [1, 5, 4, 1, 5, 3, 3]\n"
     ]
    }
   ],
   "source": [
    "import random\n",
    "n = 7\n",
    "m = 7\n",
    "\n",
    "a = [[random.randint(1, 6) for j in range(m)] for i in range(n)]\n",
    "for i in a:\n",
    "    print(i)\n",
    "b = [a[i][j] for i in range(n) for j in range(m) if i == j]\n",
    "c = [a[2][j] for j in range(m)]\n",
    "d = [a[i][3] for i in range(n)]\n",
    "print('main diagon', b)\n",
    "print('2 stroka', c)\n",
    "print('3 stolb', d)"
   ]
  },
  {
   "cell_type": "markdown",
   "metadata": {},
   "source": [
    "Таблица умножения при помощи генераторов"
   ]
  },
  {
   "cell_type": "code",
   "execution_count": 78,
   "metadata": {},
   "outputs": [
    {
     "name": "stdout",
     "output_type": "stream",
     "text": [
      "[0, 0, 0, 0, 0]\n",
      "[0, 1, 2, 3, 4]\n",
      "[0, 2, 4, 6, 8]\n",
      "[0, 3, 6, 9, 12]\n",
      "[0, 4, 8, 12, 16]\n"
     ]
    }
   ],
   "source": [
    "n = 5\n",
    "m = 5\n",
    "\n",
    "a = [[i*j for j in range(m)] for i in range(n)]\n",
    "for i in a:\n",
    "    print(i)"
   ]
  },
  {
   "cell_type": "code",
   "execution_count": 80,
   "metadata": {},
   "outputs": [
    {
     "name": "stdout",
     "output_type": "stream",
     "text": [
      "[1, 2, 3, 4, 5, 6, 7]\n",
      "[2, 4, 6, 8, 10, 12, 14]\n",
      "[3, 6, 9, 12, 15, 18, 21]\n",
      "[4, 8, 12, 16, 20, 24, 28]\n",
      "[5, 10, 15, 20, 25, 30, 35]\n",
      "[6, 12, 18, 24, 30, 36, 42]\n",
      "[7, 14, 21, 28, 35, 42, 49]\n"
     ]
    }
   ],
   "source": [
    "n = 7\n",
    "m = 7\n",
    "\n",
    "a = [[i*j for j in range(1, m+1)] for i in range(1, n+1)]\n",
    "for i in a:\n",
    "    print(i)"
   ]
  },
  {
   "cell_type": "markdown",
   "metadata": {},
   "source": [
    "## 10.3 Выражения-генераторы\n",
    "\n",
    "Выражения-генераторы отличаются от генератора списков только скобками.\n",
    "\n",
    "**Генератор** - это итератор, элементы котрого можно итерировать (обойти) только один раз.\n",
    "\n",
    "**Итератор** - это объект, который поддерживает функцию next(). Помнит о том, какой эелемнт будет браться следующим в случае вызова функции next().\n",
    "\n",
    "**Итерируемый объект** - это объект, который предоставляет возможность обойти поочерёдно свои элементы. Может быть преобразован к итератору."
   ]
  },
  {
   "cell_type": "code",
   "execution_count": 82,
   "metadata": {},
   "outputs": [
    {
     "name": "stdout",
     "output_type": "stream",
     "text": [
      "[1, 4, 9, 16, 25]\n",
      "<generator object <genexpr> at 0x000001E4360AFF90>\n",
      "1\n",
      "4\n",
      "9\n"
     ]
    }
   ],
   "source": [
    "# генератор списка\n",
    "a = [i**2 for i in range(1, 6)]\n",
    "print(a)\n",
    "\n",
    "# выражения-генераторы\n",
    "b = (i**2 for i in range(1, 6))\n",
    "print(b)\n",
    "print(next(b))\n",
    "print(next(b))\n",
    "print(next(b))"
   ]
  },
  {
   "cell_type": "code",
   "execution_count": 83,
   "metadata": {},
   "outputs": [
    {
     "name": "stdout",
     "output_type": "stream",
     "text": [
      "55\n",
      "0\n"
     ]
    }
   ],
   "source": [
    "b = (i**2 for i in range(1, 6))\n",
    "print(sum(b))\n",
    "print(sum(b))"
   ]
  },
  {
   "cell_type": "markdown",
   "metadata": {},
   "source": [
    "Такое поведение объясняется тем, что элементы генератора не храняться в памяти все вместе, а формируются налету. Т.е. при каждом новом обращении к этой переменной при помощи функции next() мы сразу получаем следующий элемент.\n",
    "\n",
    "Это необходимо для работы с большими массивами данных или вычислений, например:"
   ]
  },
  {
   "cell_type": "code",
   "execution_count": 84,
   "metadata": {},
   "outputs": [
    {
     "ename": "MemoryError",
     "evalue": "",
     "output_type": "error",
     "traceback": [
      "\u001b[1;31m---------------------------------------------------------------------------\u001b[0m",
      "\u001b[1;31mMemoryError\u001b[0m                               Traceback (most recent call last)",
      "\u001b[1;32m<ipython-input-84-195c45d36332>\u001b[0m in \u001b[0;36m<module>\u001b[1;34m\u001b[0m\n\u001b[1;32m----> 1\u001b[1;33m \u001b[0mс\u001b[0m \u001b[1;33m=\u001b[0m \u001b[0mlist\u001b[0m\u001b[1;33m(\u001b[0m\u001b[0mrange\u001b[0m\u001b[1;33m(\u001b[0m\u001b[1;36m100000000\u001b[0m\u001b[1;33m)\u001b[0m\u001b[1;33m)\u001b[0m\u001b[1;33m\u001b[0m\u001b[1;33m\u001b[0m\u001b[0m\n\u001b[0m",
      "\u001b[1;31mMemoryError\u001b[0m: "
     ]
    }
   ],
   "source": [
    "с = list(range(100000000))"
   ]
  },
  {
   "cell_type": "code",
   "execution_count": 85,
   "metadata": {},
   "outputs": [
    {
     "ename": "MemoryError",
     "evalue": "",
     "output_type": "error",
     "traceback": [
      "\u001b[1;31m---------------------------------------------------------------------------\u001b[0m",
      "\u001b[1;31mMemoryError\u001b[0m                               Traceback (most recent call last)",
      "\u001b[1;32m<ipython-input-85-2e75878b206e>\u001b[0m in \u001b[0;36m<module>\u001b[1;34m\u001b[0m\n\u001b[1;32m----> 1\u001b[1;33m \u001b[0mc\u001b[0m \u001b[1;33m=\u001b[0m \u001b[1;33m[\u001b[0m\u001b[0mi\u001b[0m \u001b[1;32mfor\u001b[0m \u001b[0mi\u001b[0m \u001b[1;32min\u001b[0m \u001b[0mrange\u001b[0m\u001b[1;33m(\u001b[0m\u001b[1;36m100000000\u001b[0m\u001b[1;33m)\u001b[0m\u001b[1;33m]\u001b[0m\u001b[1;33m\u001b[0m\u001b[1;33m\u001b[0m\u001b[0m\n\u001b[0m",
      "\u001b[1;32m<ipython-input-85-2e75878b206e>\u001b[0m in \u001b[0;36m<listcomp>\u001b[1;34m(.0)\u001b[0m\n\u001b[1;32m----> 1\u001b[1;33m \u001b[0mc\u001b[0m \u001b[1;33m=\u001b[0m \u001b[1;33m[\u001b[0m\u001b[0mi\u001b[0m \u001b[1;32mfor\u001b[0m \u001b[0mi\u001b[0m \u001b[1;32min\u001b[0m \u001b[0mrange\u001b[0m\u001b[1;33m(\u001b[0m\u001b[1;36m100000000\u001b[0m\u001b[1;33m)\u001b[0m\u001b[1;33m]\u001b[0m\u001b[1;33m\u001b[0m\u001b[1;33m\u001b[0m\u001b[0m\n\u001b[0m",
      "\u001b[1;31mMemoryError\u001b[0m: "
     ]
    }
   ],
   "source": [
    "c = [i for i in range(100000000)]"
   ]
  },
  {
   "cell_type": "code",
   "execution_count": 91,
   "metadata": {},
   "outputs": [
    {
     "name": "stdout",
     "output_type": "stream",
     "text": [
      "99999999 <generator object <genexpr> at 0x000001E436108DD0>\n"
     ]
    }
   ],
   "source": [
    "c = (i for i in range(100000000))\n",
    "for i in c:\n",
    "    if i == 100000000 - 1:\n",
    "        print(i, c)"
   ]
  },
  {
   "cell_type": "markdown",
   "metadata": {},
   "source": [
    "генератор можно преобразовать к списку\n",
    "\n",
    "у генератора нельзя посмотреть длину len()\n",
    "\n",
    "к генераторам нельзя применить индекс c[1]\n",
    "\n",
    "нельзя опускать скобки - будет ошибка\n",
    "\n",
    "если внутри квадратных скобок записать круглые, всё равно получиться генератор\n",
    "\n",
    "генераторы можно обходить только 1 раз!"
   ]
  },
  {
   "cell_type": "code",
   "execution_count": 93,
   "metadata": {},
   "outputs": [
    {
     "name": "stdout",
     "output_type": "stream",
     "text": [
      "<generator object <genexpr> at 0x000001E436114200>\n",
      "[1, 4, 9, 16, 25]\n"
     ]
    }
   ],
   "source": [
    "c = (i**2 for i in range(1, 6))\n",
    "print(c)\n",
    "print(list(c))"
   ]
  },
  {
   "cell_type": "code",
   "execution_count": 95,
   "metadata": {},
   "outputs": [
    {
     "name": "stdout",
     "output_type": "stream",
     "text": [
      "[<generator object <genexpr> at 0x000001E436114580>]\n"
     ]
    }
   ],
   "source": [
    "c = [(i**2 for i in range(1, 6))]\n",
    "print(c)"
   ]
  },
  {
   "cell_type": "markdown",
   "metadata": {},
   "source": [
    "При первом запуске функции преобразования к списку запустился генератор, который был преобразован к списку. Эта функция исчерпала возможность одного прохода по генератору.  Поэтому при запуске преобразования к списку второй раз мы получаем пустой список."
   ]
  },
  {
   "cell_type": "code",
   "execution_count": 96,
   "metadata": {},
   "outputs": [
    {
     "name": "stdout",
     "output_type": "stream",
     "text": [
      "<generator object <genexpr> at 0x000001E4361145F0>\n",
      "[1, 4, 9, 16, 25]\n",
      "[]\n"
     ]
    }
   ],
   "source": [
    "c = (i**2 for i in range(1, 6))\n",
    "print(c)\n",
    "print(list(c))\n",
    "print(list(c))"
   ]
  },
  {
   "cell_type": "markdown",
   "metadata": {},
   "source": [
    "## 10.4 Функция генератор. Создание генератора при помощи yield\n",
    "\n",
    "Функция-генератор запоимнает какой элемент она возвращала при помощи `yield` в прошлый ра и какой нужно вернуть следующим."
   ]
  },
  {
   "cell_type": "code",
   "execution_count": 99,
   "metadata": {},
   "outputs": [
    {
     "name": "stdout",
     "output_type": "stream",
     "text": [
      "<generator object genf at 0x000001E436114BA0>\n",
      "43\n",
      "65\n",
      "32\n"
     ]
    },
    {
     "ename": "StopIteration",
     "evalue": "",
     "output_type": "error",
     "traceback": [
      "\u001b[1;31m---------------------------------------------------------------------------\u001b[0m",
      "\u001b[1;31mStopIteration\u001b[0m                             Traceback (most recent call last)",
      "\u001b[1;32m<ipython-input-99-181db033e295>\u001b[0m in \u001b[0;36m<module>\u001b[1;34m\u001b[0m\n\u001b[0;32m      8\u001b[0m \u001b[0mprint\u001b[0m\u001b[1;33m(\u001b[0m\u001b[0mnext\u001b[0m\u001b[1;33m(\u001b[0m\u001b[0ms\u001b[0m\u001b[1;33m)\u001b[0m\u001b[1;33m)\u001b[0m\u001b[1;33m\u001b[0m\u001b[1;33m\u001b[0m\u001b[0m\n\u001b[0;32m      9\u001b[0m \u001b[0mprint\u001b[0m\u001b[1;33m(\u001b[0m\u001b[0mnext\u001b[0m\u001b[1;33m(\u001b[0m\u001b[0ms\u001b[0m\u001b[1;33m)\u001b[0m\u001b[1;33m)\u001b[0m\u001b[1;33m\u001b[0m\u001b[1;33m\u001b[0m\u001b[0m\n\u001b[1;32m---> 10\u001b[1;33m \u001b[0mprint\u001b[0m\u001b[1;33m(\u001b[0m\u001b[0mnext\u001b[0m\u001b[1;33m(\u001b[0m\u001b[0ms\u001b[0m\u001b[1;33m)\u001b[0m\u001b[1;33m)\u001b[0m\u001b[1;33m\u001b[0m\u001b[1;33m\u001b[0m\u001b[0m\n\u001b[0m",
      "\u001b[1;31mStopIteration\u001b[0m: "
     ]
    }
   ],
   "source": [
    "def genf():\n",
    "    for i in [43, 65, 32]:\n",
    "        yield i\n",
    "\n",
    "s = genf()\n",
    "print(s)\n",
    "print(next(s))\n",
    "print(next(s))\n",
    "print(next(s))\n",
    "print(next(s))"
   ]
  },
  {
   "cell_type": "code",
   "execution_count": 101,
   "metadata": {},
   "outputs": [
    {
     "name": "stdout",
     "output_type": "stream",
     "text": [
      "43\n",
      "65\n",
      "32\n"
     ]
    }
   ],
   "source": [
    "def genf():\n",
    "    for i in [43, 65, 32]:\n",
    "        yield i\n",
    "        \n",
    "for i in genf():\n",
    "    print(i)"
   ]
  },
  {
   "cell_type": "markdown",
   "metadata": {},
   "source": [
    "Инструкция `yield` возвращает значение и замораживает функцию со всеми локальными переменными на этом месте.\n",
    "\n",
    "Если обратиться к этой функции ещё раз, она запуститься со следующей строчки после инструкции `yield`. пример:"
   ]
  },
  {
   "cell_type": "code",
   "execution_count": 102,
   "metadata": {},
   "outputs": [
    {
     "name": "stdout",
     "output_type": "stream",
     "text": [
      "43\n",
      "7\n",
      "65\n",
      "77\n",
      "32\n"
     ]
    }
   ],
   "source": [
    "def genf():\n",
    "    s = 7\n",
    "    for i in [43, 65, 32]:\n",
    "        yield i\n",
    "        print(s)\n",
    "        s = s*10 + 7\n",
    "        \n",
    "g = genf()\n",
    "print(next(g))\n",
    "print(next(g))\n",
    "print(next(g))"
   ]
  },
  {
   "cell_type": "markdown",
   "metadata": {},
   "source": [
    "Выведем список факториалов"
   ]
  },
  {
   "cell_type": "code",
   "execution_count": 103,
   "metadata": {},
   "outputs": [
    {
     "name": "stdout",
     "output_type": "stream",
     "text": [
      "[1, 2, 6, 24, 120, 720, 5040, 40320, 362880, 3628800]\n"
     ]
    }
   ],
   "source": [
    "def fact(n):\n",
    "    pr = 1\n",
    "    a = [] # список факториалов до n\n",
    "    for i in range(1, n+1):\n",
    "        pr = pr*i\n",
    "        a.append(pr)\n",
    "    return a\n",
    "\n",
    "print(fact(10))"
   ]
  },
  {
   "cell_type": "markdown",
   "metadata": {},
   "source": [
    "Минус этой реализации - для хранения всех этих значений используется память.\n",
    "\n",
    "Перепишем эту функцию, чтобы она стала генератором."
   ]
  },
  {
   "cell_type": "code",
   "execution_count": 104,
   "metadata": {},
   "outputs": [
    {
     "name": "stdout",
     "output_type": "stream",
     "text": [
      "1\n",
      "2\n",
      "6\n",
      "24\n",
      "120\n",
      "720\n"
     ]
    }
   ],
   "source": [
    "def fact(n):\n",
    "    pr = 1\n",
    "    for i in range(1, n+1):\n",
    "        pr = pr*i\n",
    "        yield pr\n",
    "\n",
    "s = fact(10)\n",
    "print(next(s))\n",
    "print(next(s))\n",
    "print(next(s))\n",
    "print(next(s))\n",
    "print(next(s))\n",
    "print(next(s))"
   ]
  },
  {
   "cell_type": "markdown",
   "metadata": {},
   "source": [
    "Теперь все эти значения не храняться в списке, а все эти значения выдаются по одному. И при данной реализации мы экономим память. "
   ]
  },
  {
   "cell_type": "code",
   "execution_count": 1,
   "metadata": {},
   "outputs": [
    {
     "data": {
      "text/plain": [
       "{0: 0, 1: 0, 2: 0}"
      ]
     },
     "execution_count": 1,
     "metadata": {},
     "output_type": "execute_result"
    }
   ],
   "source": [
    "y_train = [0, 0, 2, 1, 1, 1, 1, 2, 2, 1, 2, 0, 1, 1, 2, 0, 2, 1, 1, 0, 0, 2,\n",
    "       2, 1, 2, 2, 0, 0, 2, 0, 0, 0, 0, 2, 0, 1, 2, 1, 2, 2, 1, 1, 2, 2,\n",
    "       1, 1, 2, 1, 1, 0, 2, 0, 2, 0, 0, 1, 0, 1, 2, 0, 2, 0, 0, 2, 2, 0,\n",
    "       1, 0, 0, 1, 2, 1, 1, 0, 0, 1, 2, 1, 1, 2, 1, 2, 0, 1, 2, 1, 1, 0,\n",
    "       0, 2, 1, 2, 1, 0, 1, 2, 2, 0, 0, 2, 2, 0, 2, 1, 1, 1, 2, 0, 2, 1,\n",
    "       2, 0, 2, 0, 1, 0, 1, 0, 0, 0]\n",
    "classes = {class_item: 0 for class_item in set(y_train)}\n",
    "print(classes)\n",
    "classes[d[1]] += 1"
   ]
  },
  {
   "cell_type": "markdown",
   "metadata": {},
   "source": [
    "## 10.5 Функция map Python\n",
    "\n",
    "Функция map принимает: функцию, а затем итерабельную последовательность (списки, словари, строки...)\n",
    "\n",
    "map(func, *iterables) --> map object\n",
    "\n",
    "Make an iterator that computes the function using arguments from each of the iterables"
   ]
  },
  {
   "cell_type": "code",
   "execution_count": 1,
   "metadata": {},
   "outputs": [
    {
     "name": "stdout",
     "output_type": "stream",
     "text": [
      "<map object at 0x000001C70C351D30>\n"
     ]
    }
   ],
   "source": [
    "a = [-1, 2, -3, 4, 5]\n",
    "b = map(abs, a)\n",
    "print(b)"
   ]
  },
  {
   "cell_type": "markdown",
   "metadata": {},
   "source": [
    "А если обернуть финкцию функией list, то объект b становиться списком. Функция abs применяется поочерёдно к каждому элементу:\n",
    "\n",
    "`[abs(-1), abs(2), abs(-3), abs(4), abs(5)]`"
   ]
  },
  {
   "cell_type": "code",
   "execution_count": 2,
   "metadata": {},
   "outputs": [
    {
     "name": "stdout",
     "output_type": "stream",
     "text": [
      "[1, 2, 3, 4, 5]\n"
     ]
    }
   ],
   "source": [
    "a = [-1, 2, -3, 4, 5]\n",
    "b = list(map(abs, a))\n",
    "print(b)"
   ]
  },
  {
   "cell_type": "markdown",
   "metadata": {},
   "source": [
    "Можно написать то же самое с помощью генератора списков:"
   ]
  },
  {
   "cell_type": "code",
   "execution_count": 3,
   "metadata": {},
   "outputs": [
    {
     "name": "stdout",
     "output_type": "stream",
     "text": [
      "[1, 2, 3, 4, 5]\n"
     ]
    }
   ],
   "source": [
    "a = [-1, 2, -3, 4, 5]\n",
    "c = [abs(i) for i in a]\n",
    "print(c)"
   ]
  },
  {
   "cell_type": "markdown",
   "metadata": {},
   "source": [
    "Также можно передавать собственные функции"
   ]
  },
  {
   "cell_type": "code",
   "execution_count": 4,
   "metadata": {},
   "outputs": [
    {
     "name": "stdout",
     "output_type": "stream",
     "text": [
      "[1, 4, 9, 16, 25]\n"
     ]
    }
   ],
   "source": [
    "def f(x):\n",
    "    return x**2\n",
    "\n",
    "a = [-1, 2, -3, 4, 5]\n",
    "b = list(map(f, a))\n",
    "print(b)"
   ]
  },
  {
   "cell_type": "markdown",
   "metadata": {},
   "source": [
    "Занесём в список строки и посчитаем длины строк"
   ]
  },
  {
   "cell_type": "code",
   "execution_count": 5,
   "metadata": {},
   "outputs": [
    {
     "name": "stdout",
     "output_type": "stream",
     "text": [
      "[5, 2, 12]\n"
     ]
    }
   ],
   "source": [
    "def f(x):\n",
    "    return x**2\n",
    "\n",
    "a = ['hello', 'hi', 'good morning']\n",
    "b = list(map(len, a))\n",
    "print(b)"
   ]
  },
  {
   "cell_type": "markdown",
   "metadata": {},
   "source": [
    "В map можно передавать не только функции, но и методы этих объектов. Например для строк есть метод .upper. Прописываем str.upper"
   ]
  },
  {
   "cell_type": "code",
   "execution_count": 7,
   "metadata": {},
   "outputs": [
    {
     "name": "stdout",
     "output_type": "stream",
     "text": [
      "['HELLO', 'HI', 'GOOD MORNING']\n"
     ]
    }
   ],
   "source": [
    "a = ['hello', 'hi', 'good morning']\n",
    "b = list(map(str.upper, a))\n",
    "print(b)"
   ]
  },
  {
   "cell_type": "markdown",
   "metadata": {},
   "source": [
    "Можно передавать анонимные lambda функции. Берём срез от начала до конца, но с шагом -1. Тем самым получаем строку наоборот."
   ]
  },
  {
   "cell_type": "code",
   "execution_count": 8,
   "metadata": {},
   "outputs": [
    {
     "name": "stdout",
     "output_type": "stream",
     "text": [
      "['olleh', 'ih', 'gninrom doog']\n"
     ]
    }
   ],
   "source": [
    "a = ['hello', 'hi', 'good morning']\n",
    "b = list(map(lambda x: x[::-1], a))\n",
    "print(b)"
   ]
  },
  {
   "cell_type": "markdown",
   "metadata": {},
   "source": [
    "То же самое генератором списков"
   ]
  },
  {
   "cell_type": "code",
   "execution_count": 9,
   "metadata": {},
   "outputs": [
    {
     "name": "stdout",
     "output_type": "stream",
     "text": [
      "['olleh', 'ih', 'gninrom doog']\n"
     ]
    }
   ],
   "source": [
    "c = [i[::-1] for i in a]\n",
    "print(c)"
   ]
  },
  {
   "cell_type": "code",
   "execution_count": 10,
   "metadata": {},
   "outputs": [
    {
     "name": "stdout",
     "output_type": "stream",
     "text": [
      "['hello!', 'hi!', 'good morning!']\n"
     ]
    }
   ],
   "source": [
    "a = ['hello', 'hi', 'good morning']\n",
    "b = list(map(lambda x: x + '!', a))\n",
    "print(b)"
   ]
  },
  {
   "cell_type": "markdown",
   "metadata": {},
   "source": [
    "Преобразуем строки к списку. Каждоя трока разобъётся на элементы списка."
   ]
  },
  {
   "cell_type": "code",
   "execution_count": 11,
   "metadata": {},
   "outputs": [
    {
     "name": "stdout",
     "output_type": "stream",
     "text": [
      "[['h', 'e', 'l', 'l', 'o'], ['h', 'i'], ['g', 'o', 'o', 'd', ' ', 'm', 'o', 'r', 'n', 'i', 'n', 'g']]\n"
     ]
    }
   ],
   "source": [
    "a = ['hello', 'hi', 'good morning']\n",
    "b = list(map(list, a))\n",
    "print(b)"
   ]
  },
  {
   "cell_type": "markdown",
   "metadata": {},
   "source": [
    "Функция sorted отсортирует элементы каждого списка в алфавитном порядке"
   ]
  },
  {
   "cell_type": "code",
   "execution_count": 12,
   "metadata": {},
   "outputs": [
    {
     "name": "stdout",
     "output_type": "stream",
     "text": [
      "[['e', 'h', 'l', 'l', 'o'], ['h', 'i'], [' ', 'd', 'g', 'g', 'i', 'm', 'n', 'n', 'o', 'o', 'o', 'r']]\n"
     ]
    }
   ],
   "source": [
    "a = ['hello', 'hi', 'good morning']\n",
    "b = list(map(list, a))\n",
    "c = list(map(sorted, b))\n",
    "print(c)"
   ]
  },
  {
   "cell_type": "markdown",
   "metadata": {},
   "source": [
    "Если через input вместо одного вводить несколько чисел через пробел,то будет ошибка, т.к. не получается преобразовать пробел к числу. Это нужно сделать через map."
   ]
  },
  {
   "cell_type": "code",
   "execution_count": 14,
   "metadata": {},
   "outputs": [
    {
     "name": "stdout",
     "output_type": "stream",
     "text": [
      "1 2 3 4 5\n",
      "[1, 2, 3, 4, 5]\n"
     ]
    }
   ],
   "source": [
    "# map(преобразование к целому, ввод с клавиатуры и разделение по пробелу)\n",
    "s = list(map(int, input().split()))\n",
    "print(s)"
   ]
  }
 ],
 "metadata": {
  "kernelspec": {
   "display_name": "Python 3",
   "language": "python",
   "name": "python3"
  },
  "language_info": {
   "codemirror_mode": {
    "name": "ipython",
    "version": 3
   },
   "file_extension": ".py",
   "mimetype": "text/x-python",
   "name": "python",
   "nbconvert_exporter": "python",
   "pygments_lexer": "ipython3",
   "version": "3.8.5"
  },
  "toc": {
   "base_numbering": 1,
   "nav_menu": {},
   "number_sections": true,
   "sideBar": true,
   "skip_h1_title": false,
   "title_cell": "Table of Contents",
   "title_sidebar": "Contents",
   "toc_cell": false,
   "toc_position": {},
   "toc_section_display": true,
   "toc_window_display": true
  },
  "varInspector": {
   "cols": {
    "lenName": 16,
    "lenType": 16,
    "lenVar": 40
   },
   "kernels_config": {
    "python": {
     "delete_cmd_postfix": "",
     "delete_cmd_prefix": "del ",
     "library": "var_list.py",
     "varRefreshCmd": "print(var_dic_list())"
    },
    "r": {
     "delete_cmd_postfix": ") ",
     "delete_cmd_prefix": "rm(",
     "library": "var_list.r",
     "varRefreshCmd": "cat(var_dic_list()) "
    }
   },
   "types_to_exclude": [
    "module",
    "function",
    "builtin_function_or_method",
    "instance",
    "_Feature"
   ],
   "window_display": false
  }
 },
 "nbformat": 4,
 "nbformat_minor": 4
}
