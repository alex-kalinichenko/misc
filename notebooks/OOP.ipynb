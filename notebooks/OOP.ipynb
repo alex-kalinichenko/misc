{
 "cells": [
  {
   "cell_type": "markdown",
   "metadata": {},
   "source": [
    "# Введение в классы"
   ]
  },
  {
   "cell_type": "markdown",
   "metadata": {},
   "source": [
    "## Классы, объекты, экземпляры"
   ]
  },
  {
   "cell_type": "markdown",
   "metadata": {},
   "source": [
    "Объект - это контейнер, состоящий из:\n",
    "1. Данных и состояния\n",
    "2. Поведения (это метод объекта)\n",
    "\n",
    "Класс может сожержать:\n",
    "1. данные, называемые *атрибутами* - существительные т.к. хранят данные\n",
    "2. методы, или *функции* - глаголы"
   ]
  },
  {
   "cell_type": "code",
   "execution_count": 1,
   "metadata": {},
   "outputs": [],
   "source": [
    "# создадим класс. Имя класс обязательно с большой буквы.\n",
    "class Car:\n",
    "    pass"
   ]
  },
  {
   "cell_type": "code",
   "execution_count": 2,
   "metadata": {},
   "outputs": [],
   "source": [
    "# создадим объект класса. Объект создается путем вызова класса по его имени.\n",
    "# При этом после имени класса обязательно ставятся скобки. То есть класс вызывается подобно функции.\n",
    "# Однако в случае вызова класса происходит не выполнение его тела, как это происходило бы при вызове функции,\n",
    "# а создается объект. Поскольку в программном коде важно не потерять ссылку на только что созданный объект,\n",
    "# то обычно его связывают с переменной. Поэтому создание объекта чаще всего выглядит так:\n",
    "a = Car()"
   ]
  },
  {
   "cell_type": "code",
   "execution_count": 3,
   "metadata": {},
   "outputs": [
    {
     "data": {
      "text/plain": [
       "__main__.Car"
      ]
     },
     "execution_count": 3,
     "metadata": {},
     "output_type": "execute_result"
    }
   ],
   "source": [
    "# проверим тип оюъекта - \n",
    "type(a)"
   ]
  },
  {
   "cell_type": "code",
   "execution_count": 12,
   "metadata": {},
   "outputs": [
    {
     "name": "stdout",
     "output_type": "stream",
     "text": [
      "True\n",
      "False\n"
     ]
    },
    {
     "data": {
      "text/plain": [
       "True"
      ]
     },
     "execution_count": 12,
     "metadata": {},
     "output_type": "execute_result"
    }
   ],
   "source": [
    "# функция проверяет принадлежит ли объект какому то классу\n",
    "print(isinstance(4, int))\n",
    "print(isinstance(4.5, int))\n",
    "isinstance(Car, object)"
   ]
  },
  {
   "cell_type": "markdown",
   "metadata": {},
   "source": [
    "## Атрибуты класса\n",
    "\n",
    "В этом разделе приводятся функции для действий с атрибутами классов, а не экземпляров!!!\n",
    "\n",
    "Действия с атрибутами чаще всего совершаются через точку. Через функцции (getattr, setattr) гораздо реже."
   ]
  },
  {
   "cell_type": "code",
   "execution_count": 8,
   "metadata": {},
   "outputs": [],
   "source": [
    "# создание класса с атрибутами\n",
    "class Person:\n",
    "    name = 'Ivan'\n",
    "    age = 30"
   ]
  },
  {
   "cell_type": "code",
   "execution_count": 9,
   "metadata": {},
   "outputs": [
    {
     "data": {
      "text/plain": [
       "'Ivan'"
      ]
     },
     "execution_count": 9,
     "metadata": {},
     "output_type": "execute_result"
    }
   ],
   "source": [
    "# обращение к атрибуту экземляра  - через точку\n",
    "Person.name"
   ]
  },
  {
   "cell_type": "code",
   "execution_count": 10,
   "metadata": {},
   "outputs": [
    {
     "data": {
      "text/plain": [
       "mappingproxy({'__module__': '__main__',\n",
       "              'name': 'Ivan',\n",
       "              'age': 30,\n",
       "              '__dict__': <attribute '__dict__' of 'Person' objects>,\n",
       "              '__weakref__': <attribute '__weakref__' of 'Person' objects>,\n",
       "              '__doc__': None})"
      ]
     },
     "execution_count": 10,
     "metadata": {},
     "output_type": "execute_result"
    }
   ],
   "source": [
    "# чтобы посмотреть все имеющиеся атрибуты нужно использовать магической переменной __dict__\n",
    "Person.__dict__"
   ]
  },
  {
   "cell_type": "code",
   "execution_count": 13,
   "metadata": {},
   "outputs": [
    {
     "data": {
      "text/plain": [
       "'Ivan'"
      ]
     },
     "execution_count": 13,
     "metadata": {},
     "output_type": "execute_result"
    }
   ],
   "source": [
    "# также обращаться к атрибутам можно через getattr. Значение атрибута указывать строкой!\n",
    "getattr(Person, 'name')"
   ]
  },
  {
   "cell_type": "code",
   "execution_count": 14,
   "metadata": {},
   "outputs": [
    {
     "data": {
      "text/plain": [
       "100"
      ]
     },
     "execution_count": 14,
     "metadata": {},
     "output_type": "execute_result"
    }
   ],
   "source": [
    "# 3-й параметр - что возвращать в случае если такого атрибута нет\n",
    "getattr(Person, 'x', 100)"
   ]
  },
  {
   "cell_type": "code",
   "execution_count": 15,
   "metadata": {},
   "outputs": [
    {
     "data": {
      "text/plain": [
       "'Misha'"
      ]
     },
     "execution_count": 15,
     "metadata": {},
     "output_type": "execute_result"
    }
   ],
   "source": [
    "# изменение атрибута\n",
    "Person.name = 'Misha'\n",
    "Person.name"
   ]
  },
  {
   "cell_type": "code",
   "execution_count": 16,
   "metadata": {},
   "outputs": [
    {
     "data": {
      "text/plain": [
       "mappingproxy({'__module__': '__main__',\n",
       "              'name': 'Misha',\n",
       "              'age': 30,\n",
       "              '__dict__': <attribute '__dict__' of 'Person' objects>,\n",
       "              '__weakref__': <attribute '__weakref__' of 'Person' objects>,\n",
       "              '__doc__': None,\n",
       "              'x': 100})"
      ]
     },
     "execution_count": 16,
     "metadata": {},
     "output_type": "execute_result"
    }
   ],
   "source": [
    "# если переопределить атрибут, которого не было, Питон динамически создаст этот атрибут\n",
    "Person.x = 100\n",
    "Person.__dict__"
   ]
  },
  {
   "cell_type": "code",
   "execution_count": 20,
   "metadata": {},
   "outputs": [
    {
     "data": {
      "text/plain": [
       "200"
      ]
     },
     "execution_count": 20,
     "metadata": {},
     "output_type": "execute_result"
    }
   ],
   "source": [
    "# устанавливать значения атрибута можно командой setattr. У неё 3 параметра: объект, имя, значение\n",
    "setattr(Person, 'x', 200)\n",
    "Person.x"
   ]
  },
  {
   "cell_type": "code",
   "execution_count": 23,
   "metadata": {},
   "outputs": [
    {
     "data": {
      "text/plain": [
       "500"
      ]
     },
     "execution_count": 23,
     "metadata": {},
     "output_type": "execute_result"
    }
   ],
   "source": [
    "setattr(Person, 'y', 500)\n",
    "Person.y"
   ]
  },
  {
   "cell_type": "code",
   "execution_count": 40,
   "metadata": {},
   "outputs": [
    {
     "ename": "AttributeError",
     "evalue": "type object 'Person' has no attribute 'x'",
     "output_type": "error",
     "traceback": [
      "\u001b[1;31m---------------------------------------------------------------------------\u001b[0m",
      "\u001b[1;31mAttributeError\u001b[0m                            Traceback (most recent call last)",
      "\u001b[1;32m<ipython-input-40-7d63047ac84d>\u001b[0m in \u001b[0;36m<module>\u001b[1;34m\u001b[0m\n\u001b[0;32m      1\u001b[0m \u001b[1;31m# обращение к несуществующему атрибуты вызовет ошибку AttributeError\u001b[0m\u001b[1;33m\u001b[0m\u001b[1;33m\u001b[0m\u001b[1;33m\u001b[0m\u001b[0m\n\u001b[1;32m----> 2\u001b[1;33m \u001b[0mPerson\u001b[0m\u001b[1;33m.\u001b[0m\u001b[0mx\u001b[0m\u001b[1;33m\u001b[0m\u001b[1;33m\u001b[0m\u001b[0m\n\u001b[0m",
      "\u001b[1;31mAttributeError\u001b[0m: type object 'Person' has no attribute 'x'"
     ]
    }
   ],
   "source": [
    "# обращение к несуществующему атрибуты вызовет ошибку AttributeError\n",
    "Person.x"
   ]
  },
  {
   "cell_type": "code",
   "execution_count": 21,
   "metadata": {},
   "outputs": [
    {
     "data": {
      "text/plain": [
       "mappingproxy({'__module__': '__main__',\n",
       "              'name': 'Misha',\n",
       "              'age': 30,\n",
       "              '__dict__': <attribute '__dict__' of 'Person' objects>,\n",
       "              '__weakref__': <attribute '__weakref__' of 'Person' objects>,\n",
       "              '__doc__': None})"
      ]
     },
     "execution_count": 21,
     "metadata": {},
     "output_type": "execute_result"
    }
   ],
   "source": [
    "# чтобы удалить атрибут внутри словаря\n",
    "del Person.x\n",
    "Person.__dict__"
   ]
  },
  {
   "cell_type": "code",
   "execution_count": 25,
   "metadata": {},
   "outputs": [
    {
     "data": {
      "text/plain": [
       "mappingproxy({'__module__': '__main__',\n",
       "              'name': 'Misha',\n",
       "              'age': 30,\n",
       "              '__dict__': <attribute '__dict__' of 'Person' objects>,\n",
       "              '__weakref__': <attribute '__weakref__' of 'Person' objects>,\n",
       "              '__doc__': None})"
      ]
     },
     "execution_count": 25,
     "metadata": {},
     "output_type": "execute_result"
    }
   ],
   "source": [
    "# встроеная функция для удаления атрибута\n",
    "delattr(Person, 'y')\n",
    "Person.__dict__"
   ]
  },
  {
   "cell_type": "markdown",
   "metadata": {},
   "source": [
    "Узнаем теперь как действия с атрибутами классов влияют на экземпляры."
   ]
  },
  {
   "cell_type": "code",
   "execution_count": 26,
   "metadata": {},
   "outputs": [],
   "source": [
    "class Person:\n",
    "    name = 'Ivan'\n",
    "    age = 30"
   ]
  },
  {
   "cell_type": "code",
   "execution_count": 27,
   "metadata": {},
   "outputs": [
    {
     "data": {
      "text/plain": [
       "<__main__.Person at 0x2222d8483c8>"
      ]
     },
     "execution_count": 27,
     "metadata": {},
     "output_type": "execute_result"
    }
   ],
   "source": [
    "# если вызвать класс (оператор вызова - это поставить 2 круглые скобки в конце), то результат вызова вернёт нам экземпляр класса\n",
    "Person()"
   ]
  },
  {
   "cell_type": "code",
   "execution_count": 31,
   "metadata": {},
   "outputs": [
    {
     "data": {
      "text/plain": [
       "(<__main__.Person at 0x2222d834ac8>, <__main__.Person at 0x2222d834908>)"
      ]
     },
     "execution_count": 31,
     "metadata": {},
     "output_type": "execute_result"
    }
   ],
   "source": [
    "# экземпляр класса можно сохранять в переменную\n",
    "a = Person()\n",
    "b = Person()\n",
    "a, b"
   ]
  },
  {
   "cell_type": "code",
   "execution_count": 33,
   "metadata": {},
   "outputs": [
    {
     "data": {
      "text/plain": [
       "mappingproxy({'__module__': '__main__',\n",
       "              'name': 'Ivan',\n",
       "              'age': 30,\n",
       "              '__dict__': <attribute '__dict__' of 'Person' objects>,\n",
       "              '__weakref__': <attribute '__weakref__' of 'Person' objects>,\n",
       "              '__doc__': None})"
      ]
     },
     "execution_count": 33,
     "metadata": {},
     "output_type": "execute_result"
    }
   ],
   "source": [
    "a.__class__.__dict__"
   ]
  },
  {
   "cell_type": "code",
   "execution_count": 34,
   "metadata": {},
   "outputs": [
    {
     "data": {
      "text/plain": [
       "mappingproxy({'__module__': '__main__',\n",
       "              'name': 'Ivan',\n",
       "              'age': 30,\n",
       "              '__dict__': <attribute '__dict__' of 'Person' objects>,\n",
       "              '__weakref__': <attribute '__weakref__' of 'Person' objects>,\n",
       "              '__doc__': None,\n",
       "              'z': 100})"
      ]
     },
     "execution_count": 34,
     "metadata": {},
     "output_type": "execute_result"
    }
   ],
   "source": [
    "# если теперь мы добавим к классу атрибут, то и экземпляра добавиться атрибут. То же самое и с удалением атрибутов.\n",
    "Person.z = 100\n",
    "a.__class__.__dict__"
   ]
  },
  {
   "cell_type": "code",
   "execution_count": 36,
   "metadata": {},
   "outputs": [
    {
     "data": {
      "text/plain": [
       "(mappingproxy({'__module__': '__main__',\n",
       "               'name': 'Ivan',\n",
       "               'age': 30,\n",
       "               '__dict__': <attribute '__dict__' of 'Person' objects>,\n",
       "               '__weakref__': <attribute '__weakref__' of 'Person' objects>,\n",
       "               '__doc__': None,\n",
       "               'z': 100}),\n",
       " mappingproxy({'__module__': '__main__',\n",
       "               'name': 'Ivan',\n",
       "               'age': 30,\n",
       "               '__dict__': <attribute '__dict__' of 'Person' objects>,\n",
       "               '__weakref__': <attribute '__weakref__' of 'Person' objects>,\n",
       "               '__doc__': None,\n",
       "               'z': 100}))"
      ]
     },
     "execution_count": 36,
     "metadata": {},
     "output_type": "execute_result"
    }
   ],
   "source": [
    "# но если зоздать атрибут только у экземпляра, то изменение коснётся только этого конкретного экземпляра\n",
    "a.b = 200\n",
    "a.__class__.__dict__ , b.__class__.__dict__"
   ]
  },
  {
   "cell_type": "code",
   "execution_count": 38,
   "metadata": {},
   "outputs": [
    {
     "data": {
      "text/plain": [
       "({'b': 200}, {})"
      ]
     },
     "execution_count": 38,
     "metadata": {},
     "output_type": "execute_result"
    }
   ],
   "source": [
    "a.__dict__, b.__dict__"
   ]
  },
  {
   "cell_type": "code",
   "execution_count": null,
   "metadata": {},
   "outputs": [],
   "source": [
    "# Вам необходимо создать класс Cat и внутри него два атрибута: name со значением 'Матроскин' и color со значением 'black'\n",
    "# После этого создайте экземпляр класса и сохраните его в переменную my_cat\n",
    "class Cat:\n",
    "    name = 'Матроскин'\n",
    "    color = 'black'\n",
    "\n",
    "my_cat = Cat()"
   ]
  },
  {
   "cell_type": "markdown",
   "metadata": {},
   "source": [
    "## Атрибуты экземпляра класса"
   ]
  },
  {
   "cell_type": "code",
   "execution_count": 42,
   "metadata": {},
   "outputs": [
    {
     "data": {
      "text/plain": [
       "__main__.Car"
      ]
     },
     "execution_count": 42,
     "metadata": {},
     "output_type": "execute_result"
    }
   ],
   "source": [
    "# создадим класс\n",
    "class Car:\n",
    "    model = 'BMW'\n",
    "    engine = 1.6\n",
    "\n",
    "# имеем доступ к классу\n",
    "Car"
   ]
  },
  {
   "cell_type": "code",
   "execution_count": 43,
   "metadata": {},
   "outputs": [
    {
     "data": {
      "text/plain": [
       "<__main__.Car at 0x2222d827ac8>"
      ]
     },
     "execution_count": 43,
     "metadata": {},
     "output_type": "execute_result"
    }
   ],
   "source": [
    "# вызовем класс\n",
    "Car()"
   ]
  },
  {
   "cell_type": "code",
   "execution_count": 44,
   "metadata": {},
   "outputs": [
    {
     "data": {
      "text/plain": [
       "mappingproxy({'__module__': '__main__',\n",
       "              'model': 'BMW',\n",
       "              'engine': 1.6,\n",
       "              '__dict__': <attribute '__dict__' of 'Car' objects>,\n",
       "              '__weakref__': <attribute '__weakref__' of 'Car' objects>,\n",
       "              '__doc__': None})"
      ]
     },
     "execution_count": 44,
     "metadata": {},
     "output_type": "execute_result"
    }
   ],
   "source": [
    "# создадим 2 экземпляра машины\n",
    "a1 = Car()\n",
    "a2 = Car()\n",
    "\n",
    "# посмотрим атрибуты класса\n",
    "Car.__dict__"
   ]
  },
  {
   "cell_type": "code",
   "execution_count": 45,
   "metadata": {},
   "outputs": [
    {
     "data": {
      "text/plain": [
       "{}"
      ]
     },
     "execution_count": 45,
     "metadata": {},
     "output_type": "execute_result"
    }
   ],
   "source": [
    "# у экземпляров класса также можно посмотреть атрибуты, они будут пустые.\n",
    "a1.__dict__"
   ]
  },
  {
   "cell_type": "code",
   "execution_count": 47,
   "metadata": {},
   "outputs": [
    {
     "data": {
      "text/plain": [
       "({'seat': 4},\n",
       " {},\n",
       " mappingproxy({'__module__': '__main__',\n",
       "               'model': 'BMW',\n",
       "               'engine': 1.6,\n",
       "               '__dict__': <attribute '__dict__' of 'Car' objects>,\n",
       "               '__weakref__': <attribute '__weakref__' of 'Car' objects>,\n",
       "               '__doc__': None}))"
      ]
     },
     "execution_count": 47,
     "metadata": {},
     "output_type": "execute_result"
    }
   ],
   "source": [
    "# создаём новый атрибут экземеляра. он появлятеся только в его атрибутах\n",
    "a1.seat = 4\n",
    "a1.__dict__, a2.__dict__, Car.__dict__"
   ]
  },
  {
   "cell_type": "code",
   "execution_count": 48,
   "metadata": {},
   "outputs": [
    {
     "data": {
      "text/plain": [
       "('Lada', 'BMW', 'BMW')"
      ]
     },
     "execution_count": 48,
     "metadata": {},
     "output_type": "execute_result"
    }
   ],
   "source": [
    "# изменим значение атрибута экземпляра и проверим какие атрибуты у экземпляров и у класса\n",
    "a1.model = 'Lada'\n",
    "a1.model, a2.model, Car.model"
   ]
  },
  {
   "cell_type": "markdown",
   "metadata": {},
   "source": [
    "Каждый экземпляр класса представляет собой пространство имён. Экземпляр входит в класс. Имена атрибутов экземпляра и класса могут совпадать. В начале при обращении к атрибуту, ищется атрибут внутри экземпляра. Если таковой есть - он возвращается. Если нет, проверяется наличие атрибута у класса и возвращается он."
   ]
  },
  {
   "cell_type": "code",
   "execution_count": 49,
   "metadata": {},
   "outputs": [
    {
     "data": {
      "text/plain": [
       "80"
      ]
     },
     "execution_count": 49,
     "metadata": {},
     "output_type": "execute_result"
    }
   ],
   "source": [
    "# Создадим атрибут у второго экземпляра\n",
    "a2.size = 80\n",
    "a2.size"
   ]
  },
  {
   "cell_type": "code",
   "execution_count": 50,
   "metadata": {},
   "outputs": [
    {
     "data": {
      "text/plain": [
       "mappingproxy({'__module__': '__main__',\n",
       "              'model': 'BMW',\n",
       "              'engine': 1.6,\n",
       "              '__dict__': <attribute '__dict__' of 'Car' objects>,\n",
       "              '__weakref__': <attribute '__weakref__' of 'Car' objects>,\n",
       "              '__doc__': None})"
      ]
     },
     "execution_count": 50,
     "metadata": {},
     "output_type": "execute_result"
    }
   ],
   "source": [
    "# но атрибут по прежнему есть только у экземлпяра\n",
    "Car.__dict__"
   ]
  },
  {
   "cell_type": "markdown",
   "metadata": {},
   "source": [
    "Принцип атрибутов класса и экземпляра очень похожа на локальные и глобальные переменные внутри функции. Т.е. если создать атрибут внутри экземпляра - это будет локальная переменная - она будет видна только в этом экземпляре класса.\n",
    "\n",
    "Если мы удалим занчение атрибута из экземпляра, то если в классе есть такой атрибут, то его значение возмётся из класса."
   ]
  },
  {
   "cell_type": "markdown",
   "metadata": {},
   "source": [
    "## Функции как атрибут класса"
   ]
  },
  {
   "cell_type": "code",
   "execution_count": 52,
   "metadata": {},
   "outputs": [],
   "source": [
    "# создадим класс. Внутри класса можно создавать не только переменные (называющиеся атрибутами), но и функции.\n",
    "class Car:\n",
    "    model = 'BMW'\n",
    "    engine = 1.6\n",
    "    \n",
    "    def drive():\n",
    "        print(\"Let's go\")"
   ]
  },
  {
   "cell_type": "code",
   "execution_count": 53,
   "metadata": {},
   "outputs": [
    {
     "data": {
      "text/plain": [
       "mappingproxy({'__module__': '__main__',\n",
       "              'model': 'BMW',\n",
       "              'engine': 1.6,\n",
       "              'drive': <function __main__.Car.drive()>,\n",
       "              '__dict__': <attribute '__dict__' of 'Car' objects>,\n",
       "              '__weakref__': <attribute '__weakref__' of 'Car' objects>,\n",
       "              '__doc__': None})"
      ]
     },
     "execution_count": 53,
     "metadata": {},
     "output_type": "execute_result"
    }
   ],
   "source": [
    "# Посмотрим что храниться внутри класса.\n",
    "Car.__dict__"
   ]
  },
  {
   "cell_type": "code",
   "execution_count": 54,
   "metadata": {},
   "outputs": [
    {
     "name": "stdout",
     "output_type": "stream",
     "text": [
      "Let's go\n"
     ]
    }
   ],
   "source": [
    "# Т.к. в классе есть функция, мы можем к ней обращаться\n",
    "# () - круглые скобки означают вызов функции.\n",
    "Car.drive()"
   ]
  },
  {
   "cell_type": "code",
   "execution_count": 55,
   "metadata": {},
   "outputs": [
    {
     "data": {
      "text/plain": [
       "<function __main__.Car.drive()>"
      ]
     },
     "execution_count": 55,
     "metadata": {},
     "output_type": "execute_result"
    }
   ],
   "source": [
    "#Если скобки не поставить, мы просто обратимся к объекту, который храниться по этому имени\n",
    "Car.drive"
   ]
  },
  {
   "cell_type": "code",
   "execution_count": 56,
   "metadata": {},
   "outputs": [
    {
     "data": {
      "text/plain": [
       "<function __main__.Car.drive()>"
      ]
     },
     "execution_count": 56,
     "metadata": {},
     "output_type": "execute_result"
    }
   ],
   "source": [
    "# Также вызвать функцию можно через getattr\n",
    "getattr(Car, 'drive')"
   ]
  },
  {
   "cell_type": "code",
   "execution_count": 57,
   "metadata": {},
   "outputs": [
    {
     "name": "stdout",
     "output_type": "stream",
     "text": [
      "Let's go\n"
     ]
    }
   ],
   "source": [
    "# но после образения к атрибуту нужно поставить (), т.е. сделать вызов функции\n",
    "getattr(Car, 'drive')()"
   ]
  },
  {
   "cell_type": "code",
   "execution_count": 58,
   "metadata": {},
   "outputs": [],
   "source": [
    "# До этого функция вызывалась через класс. Попробуем вызвать её через экземпляр класса\n",
    "a = Car()"
   ]
  },
  {
   "cell_type": "code",
   "execution_count": 60,
   "metadata": {},
   "outputs": [
    {
     "data": {
      "text/plain": [
       "{}"
      ]
     },
     "execution_count": 60,
     "metadata": {},
     "output_type": "execute_result"
    }
   ],
   "source": [
    "# посмотрим есть ли функция\n",
    "a.__dict__"
   ]
  },
  {
   "cell_type": "markdown",
   "metadata": {},
   "source": [
    "её здесь нет и это логично: все атрибуты созданные в классе не находятся в пространстве имён экземпляра класса. Но мы можем к нему обращаться."
   ]
  },
  {
   "cell_type": "code",
   "execution_count": 61,
   "metadata": {},
   "outputs": [
    {
     "data": {
      "text/plain": [
       "<bound method Car.drive of <__main__.Car object at 0x000002222D747548>>"
      ]
     },
     "execution_count": 61,
     "metadata": {},
     "output_type": "execute_result"
    }
   ],
   "source": [
    "# Попробуем сделать это без вызова функции\n",
    "a.drive"
   ]
  },
  {
   "cell_type": "code",
   "execution_count": 62,
   "metadata": {},
   "outputs": [
    {
     "ename": "TypeError",
     "evalue": "drive() takes 0 positional arguments but 1 was given",
     "output_type": "error",
     "traceback": [
      "\u001b[1;31m---------------------------------------------------------------------------\u001b[0m",
      "\u001b[1;31mTypeError\u001b[0m                                 Traceback (most recent call last)",
      "\u001b[1;32m<ipython-input-62-354dce288373>\u001b[0m in \u001b[0;36m<module>\u001b[1;34m\u001b[0m\n\u001b[0;32m      1\u001b[0m \u001b[1;31m# Нам выдаёт, что это bound method, а при вызове Car.drive писалось что это функция.\u001b[0m\u001b[1;33m\u001b[0m\u001b[1;33m\u001b[0m\u001b[1;33m\u001b[0m\u001b[0m\n\u001b[0;32m      2\u001b[0m \u001b[1;31m# При попытке вызвать функцию через экземпляр, получим ошибку\u001b[0m\u001b[1;33m\u001b[0m\u001b[1;33m\u001b[0m\u001b[1;33m\u001b[0m\u001b[0m\n\u001b[1;32m----> 3\u001b[1;33m \u001b[0ma\u001b[0m\u001b[1;33m.\u001b[0m\u001b[0mdrive\u001b[0m\u001b[1;33m(\u001b[0m\u001b[1;33m)\u001b[0m\u001b[1;33m\u001b[0m\u001b[1;33m\u001b[0m\u001b[0m\n\u001b[0m",
      "\u001b[1;31mTypeError\u001b[0m: drive() takes 0 positional arguments but 1 was given"
     ]
    }
   ],
   "source": [
    "# Нам выдаёт, что это bound method, а при вызове Car.drive писалось что это функция.\n",
    "a.drive()"
   ]
  },
  {
   "cell_type": "markdown",
   "metadata": {},
   "source": [
    "При попытке вызвать функцию через экземпляр, получим ошибку, а мы ему ничего не передавали.\n",
    "\n",
    "При таком определении функции внутри класса, мы може вызвать функцию от самого класса, но не можем вызвать от экземпляра класса. Это может создавать большие проблемы. Данная реализация функции внутри класса не принята.\n",
    "\n",
    "Если вы хотите написать функцию, которую можно вызывать как от класса так и от экземпляра, нужно воспользоваться специальным декоратором ```@staticmethod```.\n",
    "\n"
   ]
  },
  {
   "cell_type": "code",
   "execution_count": 63,
   "metadata": {},
   "outputs": [],
   "source": [
    "class Car:\n",
    "    model = 'BMW'\n",
    "    engine = 1.6\n",
    "    @staticmethod\n",
    "    def drive():\n",
    "        print(\"Let's go\")"
   ]
  },
  {
   "cell_type": "code",
   "execution_count": 64,
   "metadata": {},
   "outputs": [
    {
     "name": "stdout",
     "output_type": "stream",
     "text": [
      "Let's go\n"
     ]
    }
   ],
   "source": [
    "# теперь можно спокойно вызывать функцию от самого класса\n",
    "Car.drive()"
   ]
  },
  {
   "cell_type": "code",
   "execution_count": 65,
   "metadata": {},
   "outputs": [
    {
     "name": "stdout",
     "output_type": "stream",
     "text": [
      "Let's go\n"
     ]
    }
   ],
   "source": [
    "# и также от экземпляра - без ошибок\n",
    "b = Car()\n",
    "b.drive()"
   ]
  },
  {
   "cell_type": "markdown",
   "metadata": {},
   "source": [
    "# Методы и свойства"
   ]
  },
  {
   "cell_type": "markdown",
   "metadata": {},
   "source": [
    "## Методы экземпляра. Аргумент self"
   ]
  },
  {
   "cell_type": "code",
   "execution_count": 1,
   "metadata": {},
   "outputs": [],
   "source": [
    "# Воспроизведём ошибку\n",
    "class Cat:\n",
    "    def hello():\n",
    "        print(\"Hello world from kitty\")"
   ]
  },
  {
   "cell_type": "code",
   "execution_count": 2,
   "metadata": {},
   "outputs": [
    {
     "name": "stdout",
     "output_type": "stream",
     "text": [
      "Hello world from kitty\n"
     ]
    }
   ],
   "source": [
    "# нет рпоблем когда обращаемся к функции через класс\n",
    "Cat.hello()"
   ]
  },
  {
   "cell_type": "code",
   "execution_count": 3,
   "metadata": {},
   "outputs": [
    {
     "ename": "TypeError",
     "evalue": "hello() takes 0 positional arguments but 1 was given",
     "output_type": "error",
     "traceback": [
      "\u001b[1;31m---------------------------------------------------------------------------\u001b[0m",
      "\u001b[1;31mTypeError\u001b[0m                                 Traceback (most recent call last)",
      "\u001b[1;32m<ipython-input-3-be0945edff6d>\u001b[0m in \u001b[0;36m<module>\u001b[1;34m\u001b[0m\n\u001b[0;32m      1\u001b[0m \u001b[1;31m# но если мы создаём экземпляр и вызовем функцию от него, то получим ошибку\u001b[0m\u001b[1;33m\u001b[0m\u001b[1;33m\u001b[0m\u001b[1;33m\u001b[0m\u001b[0m\n\u001b[0;32m      2\u001b[0m \u001b[0mbob\u001b[0m \u001b[1;33m=\u001b[0m \u001b[0mCat\u001b[0m\u001b[1;33m(\u001b[0m\u001b[1;33m)\u001b[0m\u001b[1;33m\u001b[0m\u001b[1;33m\u001b[0m\u001b[0m\n\u001b[1;32m----> 3\u001b[1;33m \u001b[0mbob\u001b[0m\u001b[1;33m.\u001b[0m\u001b[0mhello\u001b[0m\u001b[1;33m(\u001b[0m\u001b[1;33m)\u001b[0m\u001b[1;33m\u001b[0m\u001b[1;33m\u001b[0m\u001b[0m\n\u001b[0m",
      "\u001b[1;31mTypeError\u001b[0m: hello() takes 0 positional arguments but 1 was given"
     ]
    }
   ],
   "source": [
    "# но если мы создаём экземпляр и вызовем функцию от него, то получим ошибку\n",
    "bob = Cat()\n",
    "bob.hello()"
   ]
  },
  {
   "cell_type": "code",
   "execution_count": 4,
   "metadata": {},
   "outputs": [
    {
     "data": {
      "text/plain": [
       "(<function __main__.Cat.hello()>,\n",
       " <bound method Cat.hello of <__main__.Cat object at 0x0000022D811C6A08>>)"
      ]
     },
     "execution_count": 4,
     "metadata": {},
     "output_type": "execute_result"
    }
   ],
   "source": [
    "# когда мы обращаемся к функции, но без вызова (без()) или к функции, но от экземпляра, то получим 2 разных объекта:\n",
    "# 1. это функция, 2. это метод\n",
    "Cat.hello, bob.hello"
   ]
  },
  {
   "cell_type": "markdown",
   "metadata": {},
   "source": [
    "__Метод отличается от функции__ тем, что \n",
    "1. метод - эта та же самая функция, но объявленная внутри класса.\n",
    "2. метод привязан к конкретному объекту. Функция не связана ни с кем, и её можно вызывать отдельно.\n",
    "Это означает что нельзя просто вызвать функцию вот так ```hello()```. Функцию нужно вызывать какому-то объекту: ```bob.hello()```\n",
    "3. При вызове метода, тот объект с которым он связан, будет автоматически вставляться в аргумент метода.\n",
    "\n",
    "Именно с этим и связна предыдущая ошибка: ```hello() takes 0 positional arguments but 1 was given```\n",
    "Функция не принимали никаких аргументов, но Питон пишет, что был передан 1 аргумент. Этим аргументом будет тот объект, у которого был вызван метод (в нашем случае ```bob.hello()```).\n",
    "\n",
    "Чтобы в этом убедиться, попишем в функции приём произвольного количества аргументов ```*args```. А в ```print``` посмотрим что же мы передали в качестве аргумента."
   ]
  },
  {
   "cell_type": "code",
   "execution_count": 5,
   "metadata": {},
   "outputs": [],
   "source": [
    "class Cat:\n",
    "    def hello(*args):\n",
    "        print(\"Hello world from kitty\", args)"
   ]
  },
  {
   "cell_type": "code",
   "execution_count": 6,
   "metadata": {},
   "outputs": [
    {
     "name": "stdout",
     "output_type": "stream",
     "text": [
      "Hello world from kitty (<__main__.Cat object at 0x0000022D810B4A88>,)\n"
     ]
    }
   ],
   "source": [
    "jim = Cat()\n",
    "jim.hello()"
   ]
  },
  {
   "cell_type": "markdown",
   "metadata": {},
   "source": [
    "Видим, что выводиться объект принадлежащий классу Cat: ```(<__main__.Cat object at 0x0000022D810B4A88>,```. Значене ```0x0000022D810B4A88``` - это адрес памяти, где находится объект. По жим значениям мы видим, что это один и тот же объект."
   ]
  },
  {
   "cell_type": "code",
   "execution_count": 7,
   "metadata": {},
   "outputs": [
    {
     "data": {
      "text/plain": [
       "<__main__.Cat at 0x22d810b4a88>"
      ]
     },
     "execution_count": 7,
     "metadata": {},
     "output_type": "execute_result"
    }
   ],
   "source": [
    "jim"
   ]
  },
  {
   "cell_type": "markdown",
   "metadata": {},
   "source": [
    "**Метод обязательно связывается с объектом, к которому он был вызван**. Например метод ```sort```"
   ]
  },
  {
   "cell_type": "code",
   "execution_count": 9,
   "metadata": {},
   "outputs": [
    {
     "data": {
      "text/plain": [
       "[3, 4, 5]"
      ]
     },
     "execution_count": 9,
     "metadata": {},
     "output_type": "execute_result"
    }
   ],
   "source": [
    "a = [5, 3, 4]\n",
    "a.sort()\n",
    "a"
   ]
  },
  {
   "cell_type": "markdown",
   "metadata": {},
   "source": [
    "Через объект, который попадает первым аргументом внутрь метода, мы можем получать доступ например к атрибутам класса.\n",
    "\n",
    "Продемонстрируем это. Создадим породу для всех кошек."
   ]
  },
  {
   "cell_type": "code",
   "execution_count": 11,
   "metadata": {},
   "outputs": [],
   "source": [
    "class Cat:\n",
    "    breed = 'pers'\n",
    "    def hello(*args):\n",
    "        print(\"Hello world from kitty\", args)\n",
    "    \n",
    "    # instance - это экземпляр класса, который будет лететь 1-м обязательным аргументом при вызове метода.\n",
    "    # instance мы обязаны написать если пишем метод \n",
    "    def show_breed(instance):\n",
    "        # обращаемся к инстансу-объекту, у которого был вызван метод и узнаём его породу\n",
    "        print(f'my breed is {instance.breed}')"
   ]
  },
  {
   "cell_type": "code",
   "execution_count": 12,
   "metadata": {},
   "outputs": [
    {
     "name": "stdout",
     "output_type": "stream",
     "text": [
      "my breed is pers\n"
     ]
    }
   ],
   "source": [
    "# создаём кота и вызываем у него метод show_breed. Аргументы никакие не передаём. В инстанс автоматически прилетит сам walt\n",
    "walt = Cat()\n",
    "walt.show_breed()"
   ]
  },
  {
   "cell_type": "code",
   "execution_count": 13,
   "metadata": {},
   "outputs": [
    {
     "name": "stdout",
     "output_type": "stream",
     "text": [
      "my breed is siam\n"
     ]
    }
   ],
   "source": [
    "# изменим породу. Но этим мы изменим атрибут не класса, а экземпляра.\n",
    "walt.breed = 'siam'\n",
    "walt.show_breed()"
   ]
  },
  {
   "cell_type": "markdown",
   "metadata": {},
   "source": [
    "Создадим метод для показа имени"
   ]
  },
  {
   "cell_type": "code",
   "execution_count": 15,
   "metadata": {},
   "outputs": [
    {
     "data": {
      "text/plain": [
       "'MARY'"
      ]
     },
     "execution_count": 15,
     "metadata": {},
     "output_type": "execute_result"
    }
   ],
   "source": [
    "mary = Cat()\n",
    "mary.show_name = 'MARY'\n",
    "mary.show_name"
   ]
  },
  {
   "cell_type": "code",
   "execution_count": 19,
   "metadata": {},
   "outputs": [],
   "source": [
    "class Cat:\n",
    "    breed = 'pers'\n",
    "    def hello(*args):\n",
    "        print(\"Hello world from kitty\", args)\n",
    "    \n",
    "    def show_breed(instance):\n",
    "        print(f'my breed is {instance.breed}')\n",
    "        \n",
    "    def show_name(instance):\n",
    "        # проверка того, что у экземпляра есть имя\n",
    "        if hasattr(instance, \"name\"):\n",
    "            print(f'my name is {instance.name}')\n",
    "        else:\n",
    "            print('nothing')"
   ]
  },
  {
   "cell_type": "code",
   "execution_count": 20,
   "metadata": {},
   "outputs": [
    {
     "name": "stdout",
     "output_type": "stream",
     "text": [
      "nothing\n"
     ]
    }
   ],
   "source": [
    "mary = Cat()\n",
    "mary.show_name()"
   ]
  },
  {
   "cell_type": "code",
   "execution_count": 21,
   "metadata": {},
   "outputs": [
    {
     "name": "stdout",
     "output_type": "stream",
     "text": [
      "my name is www\n"
     ]
    }
   ],
   "source": [
    "mary.name = 'www'\n",
    "mary.show_name()"
   ]
  },
  {
   "cell_type": "markdown",
   "metadata": {},
   "source": [
    "Работать с атрибутами не очень удобно, потому что для вывода на экран их вначале нужно создать.\n",
    "\n",
    "Для того чтобы создать атрибуты можно тоже воспользоваться методом. Вместо ```self``` пишем любое значение. Это 1-й атрибут который будет принимать объект от которого вызван метод.\n",
    "\n",
    "Независимо от имени (instanse, koshka) сюда придёт наш объект. Но после объекта можно перечислить параметры, которые вы хотите, чтобы метожд принял. Например примем 1 аргумент ```value```.\n",
    "\n",
    "А кошке в качестве атрибута name присвоим параметр (```value```), который будет поступать из метода."
   ]
  },
  {
   "cell_type": "code",
   "execution_count": 22,
   "metadata": {},
   "outputs": [],
   "source": [
    "class Cat:\n",
    "    breed = 'pers'\n",
    "    def hello(*args):\n",
    "        print(\"Hello world from kitty\", args)\n",
    "    \n",
    "    def show_breed(instance):\n",
    "        print(f'my breed is {instance.breed}')\n",
    "        \n",
    "    def show_name(instance):\n",
    "        # проверка того, что у экземпляра есть имя\n",
    "        if hasattr(instance, \"name\"):\n",
    "            print(f'my name is {instance.name}')\n",
    "        else:\n",
    "            print('nothing')\n",
    "    \n",
    "    def set_value(koshka, value): # вместо self - любое значение (здесь koshka). Value - параметр прилетающий вместе с объектом\n",
    "        koshka.name = value # параметр прилетевший с объектом присваиваем атрибуту name"
   ]
  },
  {
   "cell_type": "code",
   "execution_count": 27,
   "metadata": {},
   "outputs": [
    {
     "name": "stdout",
     "output_type": "stream",
     "text": [
      "my breed is pers\n",
      "nothing\n"
     ]
    },
    {
     "ename": "AttributeError",
     "evalue": "'Cat' object has no attribute 'name'",
     "output_type": "error",
     "traceback": [
      "\u001b[1;31m---------------------------------------------------------------------------\u001b[0m",
      "\u001b[1;31mAttributeError\u001b[0m                            Traceback (most recent call last)",
      "\u001b[1;32m<ipython-input-27-242cc3f2bc92>\u001b[0m in \u001b[0;36m<module>\u001b[1;34m\u001b[0m\n\u001b[0;32m      3\u001b[0m \u001b[0mtom\u001b[0m\u001b[1;33m.\u001b[0m\u001b[0mshow_breed\u001b[0m\u001b[1;33m(\u001b[0m\u001b[1;33m)\u001b[0m\u001b[1;33m\u001b[0m\u001b[1;33m\u001b[0m\u001b[0m\n\u001b[0;32m      4\u001b[0m \u001b[0mtom\u001b[0m\u001b[1;33m.\u001b[0m\u001b[0mshow_name\u001b[0m\u001b[1;33m(\u001b[0m\u001b[1;33m)\u001b[0m\u001b[1;33m\u001b[0m\u001b[1;33m\u001b[0m\u001b[0m\n\u001b[1;32m----> 5\u001b[1;33m \u001b[0mtom\u001b[0m\u001b[1;33m.\u001b[0m\u001b[0mname\u001b[0m\u001b[1;33m\u001b[0m\u001b[1;33m\u001b[0m\u001b[0m\n\u001b[0m",
      "\u001b[1;31mAttributeError\u001b[0m: 'Cat' object has no attribute 'name'"
     ]
    }
   ],
   "source": [
    "# создаём Тома. У него есть порода, но нет имени\n",
    "tom = Cat()\n",
    "tom.show_breed()\n",
    "tom.show_name()\n",
    "tom.name"
   ]
  },
  {
   "cell_type": "markdown",
   "metadata": {},
   "source": [
    "Воспользуемся методом set_value. 1-й параметр, который отвечает за кошку, мы не передаём - в него автоматически попадёт Том, потому что мы именно у него вызываем метод. а 2-м параметром мы хотим передать его имя.\n",
    "\n",
    "Теперь мы сможем к нему бращаться через точку."
   ]
  },
  {
   "cell_type": "code",
   "execution_count": 29,
   "metadata": {},
   "outputs": [
    {
     "data": {
      "text/plain": [
       "'Tom'"
      ]
     },
     "execution_count": 29,
     "metadata": {},
     "output_type": "execute_result"
    }
   ],
   "source": [
    "tom.set_value('Tom')\n",
    "tom.name"
   ]
  },
  {
   "cell_type": "code",
   "execution_count": 30,
   "metadata": {},
   "outputs": [
    {
     "name": "stdout",
     "output_type": "stream",
     "text": [
      "my name is Tom\n"
     ]
    }
   ],
   "source": [
    "tom.show_name()"
   ]
  },
  {
   "cell_type": "code",
   "execution_count": 31,
   "metadata": {},
   "outputs": [
    {
     "ename": "TypeError",
     "evalue": "set_value() missing 1 required positional argument: 'value'",
     "output_type": "error",
     "traceback": [
      "\u001b[1;31m---------------------------------------------------------------------------\u001b[0m",
      "\u001b[1;31mTypeError\u001b[0m                                 Traceback (most recent call last)",
      "\u001b[1;32m<ipython-input-31-5c6528eb9bee>\u001b[0m in \u001b[0;36m<module>\u001b[1;34m\u001b[0m\n\u001b[0;32m      1\u001b[0m \u001b[1;31m# вызывать метод без аргументов теперь нельзя, потому что мы прописали, что функция должна принимать 1 аргумент\u001b[0m\u001b[1;33m\u001b[0m\u001b[1;33m\u001b[0m\u001b[1;33m\u001b[0m\u001b[0m\n\u001b[1;32m----> 2\u001b[1;33m \u001b[0mtom\u001b[0m\u001b[1;33m.\u001b[0m\u001b[0mset_value\u001b[0m\u001b[1;33m(\u001b[0m\u001b[1;33m)\u001b[0m\u001b[1;33m\u001b[0m\u001b[1;33m\u001b[0m\u001b[0m\n\u001b[0m",
      "\u001b[1;31mTypeError\u001b[0m: set_value() missing 1 required positional argument: 'value'"
     ]
    }
   ],
   "source": [
    "# вызывать метод без аргументов теперь нельзя, потому что мы прописали, что функция должна принимать 1 аргумент\n",
    "tom.set_value()"
   ]
  },
  {
   "cell_type": "markdown",
   "metadata": {},
   "source": [
    "Пропишем ещё один аргумент - возраст и присвоим ему значение по умолчанию."
   ]
  },
  {
   "cell_type": "code",
   "execution_count": 33,
   "metadata": {},
   "outputs": [],
   "source": [
    "class Cat:\n",
    "    breed = 'pers'\n",
    "    def hello(*args):\n",
    "        print(\"Hello world from kitty\", args)\n",
    "    \n",
    "    def show_breed(instance):\n",
    "        print(f'my breed is {instance.breed}')\n",
    "        \n",
    "    def show_name(instance):\n",
    "        # проверка того, что у экземпляра есть имя\n",
    "        if hasattr(instance, \"name\"):\n",
    "            print(f'my name is {instance.name}')\n",
    "        else:\n",
    "            print('nothing')\n",
    "    \n",
    "    def set_value(koshka, value, age=0):\n",
    "        koshka.name = value\n",
    "        koshka.age = age\n",
    "        # имена age совпадают. но правый age - это аргумент из фугкции (где age=0)\n",
    "        # а левый (гле koshka.age) - атрибут класса koshka"
   ]
  },
  {
   "cell_type": "code",
   "execution_count": 34,
   "metadata": {},
   "outputs": [
    {
     "data": {
      "text/plain": [
       "0"
      ]
     },
     "execution_count": 34,
     "metadata": {},
     "output_type": "execute_result"
    }
   ],
   "source": [
    "# создадим Джерри без передачи 2-го параметра\n",
    "jerry = Cat()\n",
    "jerry.set_value('Jerry')\n",
    "jerry.age"
   ]
  },
  {
   "cell_type": "code",
   "execution_count": 35,
   "metadata": {},
   "outputs": [
    {
     "data": {
      "text/plain": [
       "15"
      ]
     },
     "execution_count": 35,
     "metadata": {},
     "output_type": "execute_result"
    }
   ],
   "source": [
    "# если хотим передать другой возраст\n",
    "jerry.set_value('Jery', 15)\n",
    "jerry.age"
   ]
  },
  {
   "cell_type": "markdown",
   "metadata": {},
   "source": [
    "```self``` - это общепринятое название объекта, у которого был вызван метод. В 1-м случае мы указывали instance, во втором koshka. В принципе, можно давать любое название. Но в Питоне принято, тот объект, от которого был вызван метод называть self-ом. Поэтому преименуем в self. Именно поэтому PyCharm первым аргументом в скобках автоматически вставляет self - он напоминает, что 1-м аргументом должен прилететь объект у которого бдет вызван метод."
   ]
  },
  {
   "cell_type": "code",
   "execution_count": 70,
   "metadata": {},
   "outputs": [],
   "source": [
    "class Cat:\n",
    "    breed = 'pers'\n",
    "    def hello(*args):\n",
    "        print(\"Hello world from kitty\", args)\n",
    "    \n",
    "    def show_breed(self):\n",
    "        print(f'my breed is {self.breed}')\n",
    "        \n",
    "    def show_name(self):\n",
    "        # проверка того, что у экземпляра есть имя\n",
    "        if hasattr(self, \"name\"):\n",
    "            print(f'my name is {self.name}')\n",
    "        else:\n",
    "            print('nothing')\n",
    "    \n",
    "    def set_value(self, value, age=0):\n",
    "        self.name = value\n",
    "        self.age = age"
   ]
  },
  {
   "cell_type": "code",
   "execution_count": 73,
   "metadata": {},
   "outputs": [
    {
     "name": "stdout",
     "output_type": "stream",
     "text": [
      "nothing\n"
     ]
    }
   ],
   "source": [
    "barsik = Cat()\n",
    "# ещё один способ вызывать экземпляр\n",
    "Cat.show_name(barsik)"
   ]
  },
  {
   "cell_type": "markdown",
   "metadata": {},
   "source": [
    "**Задание 1**\n",
    "\n",
    "Создайте класс Lion. В нем должен быть метод roar, который печатает на экран \"Rrrrrrr!!!\"\n",
    "\n",
    "Пример работы с классом Lion\n",
    "\n",
    "``` python\n",
    "simba = Lion()\n",
    "simba.roar() # печатает Rrrrrrr!!!\n",
    "```"
   ]
  },
  {
   "cell_type": "code",
   "execution_count": 37,
   "metadata": {},
   "outputs": [],
   "source": [
    "class Lion:\n",
    "    def roar(self):\n",
    "        print('Rrrrrrr!!!')"
   ]
  },
  {
   "cell_type": "code",
   "execution_count": 38,
   "metadata": {},
   "outputs": [
    {
     "name": "stdout",
     "output_type": "stream",
     "text": [
      "Rrrrrrr!!!\n"
     ]
    }
   ],
   "source": [
    "simba = Lion()\n",
    "simba.roar()"
   ]
  },
  {
   "cell_type": "markdown",
   "metadata": {},
   "source": [
    "**Задание 2**\n",
    "\n",
    "Создайте класс Counter, экземпляры которого будут подсчитывать внутри себя значения.\n",
    "\n",
    "В классе Counter нужно определить метод start_from, который принимает один необязательный аргумент - значение, с которого начинается подсчет, по умолчанию равно 0\n",
    "\n",
    "Также нужно создать метод increment, который увеличивает счетчик на 1.\n",
    "\n",
    "Затем необходимо создать метод display, который печатает фразу \"Текущее значение счетчика = <value>\" и метод reset,  который обнуляет экземпляр счетчика\n",
    "\n",
    "Пример работы с классом Counter\n",
    "\n",
    "``` python\n",
    "c1 = Counter()\n",
    "c1.start_from()\n",
    "c1.increment()\n",
    "c1.display() # печатает \"Текущее значение счетчика = 1\"\n",
    "c1.increment()\n",
    "c1.display() # печатает \"Текущее значение счетчика = 2\"\n",
    "c1.reset()\n",
    "c1.display() # печатает \"Текущее значение счетчика = 0\"\n",
    "\n",
    "c2 = Counter()\n",
    "c2.start_from(3)\n",
    "c2.display() # печатает \"Текущее значение счетчика = 3\"\n",
    "c2.increment()\n",
    "c2.display() # печатает \"Текущее значение счетчика = 4\"\n",
    "```"
   ]
  },
  {
   "cell_type": "code",
   "execution_count": 42,
   "metadata": {},
   "outputs": [],
   "source": [
    "class Counter:\n",
    "    def start_from(self, start_from=0):\n",
    "        self.i = start_from\n",
    "        \n",
    "    def increment(self):\n",
    "        self.i += 1\n",
    "        \n",
    "    def display(self):\n",
    "        print(f\"Текущее значение счетчика = {self.i}\")\n",
    "        \n",
    "    def reset(self):\n",
    "        self.i = 0"
   ]
  },
  {
   "cell_type": "code",
   "execution_count": 43,
   "metadata": {},
   "outputs": [
    {
     "name": "stdout",
     "output_type": "stream",
     "text": [
      "Текущее значение счетчика = 1\n",
      "Текущее значение счетчика = 2\n",
      "Текущее значение счетчика = 0\n"
     ]
    }
   ],
   "source": [
    "c1 = Counter()\n",
    "c1.start_from()\n",
    "c1.increment()\n",
    "c1.display() # печатает \"Текущее значение счетчика = 1\"\n",
    "c1.increment()\n",
    "c1.display() # печатает \"Текущее значение счетчика = 2\"\n",
    "c1.reset()\n",
    "c1.display() # печатает \"Текущее значение счетчика = 0\""
   ]
  },
  {
   "cell_type": "code",
   "execution_count": 44,
   "metadata": {},
   "outputs": [
    {
     "name": "stdout",
     "output_type": "stream",
     "text": [
      "Текущее значение счетчика = 3\n",
      "Текущее значение счетчика = 4\n"
     ]
    }
   ],
   "source": [
    "c2 = Counter()\n",
    "c2.start_from(3)\n",
    "c2.display() # печатает \"Текущее значение счетчика = 3\"\n",
    "c2.increment()\n",
    "c2.display() # печатает \"Текущее значение счетчика = 4\""
   ]
  },
  {
   "cell_type": "markdown",
   "metadata": {},
   "source": [
    "**Задание 3**\n",
    "\n",
    "Создайте класс Point. У этого класса должны быть\n",
    "\n",
    "- метод ```set_coordinates```, который принимает координаты по x и по y, и сохраняет их в экземпляр класса соответственно в атрибуты x и y \n",
    "- метод ```get_distance```, который обязательно принимает экземпляр класса Point и возвращает расстояние между двумя точками по теореме Пифагора. В случае, если в данный метод передается не экземпляр класса Point необходимо вывести сообщение \"Передана не точка\"\n",
    "\n",
    "Пример работы с классом Point\n",
    "\n",
    "``` python\n",
    "p1 = Point()\n",
    "p2 = Point()\n",
    "p1.set_coordinates(1, 2)\n",
    "p2.set_coordinates(4, 6)\n",
    "d = p1.get_distance(p2) # вернёт 5.0\n",
    "p1.get_distance(10) # Распечатает \"Передана не точка\"\n",
    "```"
   ]
  },
  {
   "cell_type": "code",
   "execution_count": 319,
   "metadata": {},
   "outputs": [
    {
     "name": "stdout",
     "output_type": "stream",
     "text": [
      "5.0\n",
      "Передана не точка\n"
     ]
    }
   ],
   "source": [
    "class Point:\n",
    "    def set_coordinates(self, x, y):\n",
    "        self.x = x\n",
    "        self.y = y\n",
    "    \n",
    "    def get_distance(self, another):\n",
    "        # проверяем отношение объекта к классу через isinstance(объект, класс)\n",
    "        if isinstance(another, Point):\n",
    "            print(((self.x - another.x) ** 2 + (self.y - another.y) ** 2) ** (1 / 2))  # можно вместо print - return\n",
    "        else:\n",
    "            print('Передана не точка')\n",
    "            \n",
    "        \n",
    "p1 = Point()\n",
    "p2 = Point()\n",
    "p1.set_coordinates(1, 2)\n",
    "p2.set_coordinates(4, 6)\n",
    "d = p1.get_distance(p2) # вернёт 5.0\n",
    "#print(d)\n",
    "p1.get_distance(10) # Распечатает \"Передана не точка\""
   ]
  },
  {
   "cell_type": "code",
   "execution_count": 313,
   "metadata": {},
   "outputs": [
    {
     "data": {
      "text/plain": [
       "({'x': 1, 'y': 2}, {'x': 4, 'y': 6})"
      ]
     },
     "execution_count": 313,
     "metadata": {},
     "output_type": "execute_result"
    }
   ],
   "source": [
    "p1.__dict__, p2.__dict__"
   ]
  },
  {
   "cell_type": "markdown",
   "metadata": {},
   "source": [
    "## Инициализация объекта. Метод init"
   ]
  },
  {
   "cell_type": "markdown",
   "metadata": {},
   "source": [
    "Для создания атрибута необходимо вызывать метод. Это не совсем удобно. Это решают с помощью магических методов.\n",
    "\n",
    "Магический метод в Питоне - это метод у которого в начале и в конце 2 подчёркивания.\n",
    "\n",
    "Вторая особенность магических методов - каждый из них срабатывает в определённый момент. Например ```__init__``` срабатывает после создания объекта (и после создания пространства имён - т.е. мы уже можем обращаться к атрибутам объекта). Новые объекты создаёт магический метод ```__new__```"
   ]
  },
  {
   "cell_type": "code",
   "execution_count": 125,
   "metadata": {},
   "outputs": [],
   "source": [
    "class Cat:\n",
    "    breed = 'Pers'\n",
    "    \n",
    "    def set_value(self, value, age=0):\n",
    "        self.name = value\n",
    "        self.age = age\n",
    "        \n",
    "    def __init__(self):\n",
    "        print('hello')"
   ]
  },
  {
   "cell_type": "code",
   "execution_count": 128,
   "metadata": {},
   "outputs": [
    {
     "name": "stdout",
     "output_type": "stream",
     "text": [
      "hello\n"
     ]
    },
    {
     "data": {
      "text/plain": [
       "<__main__.Cat at 0x22d81739dc8>"
      ]
     },
     "execution_count": 128,
     "metadata": {},
     "output_type": "execute_result"
    }
   ],
   "source": [
    "# после создания экземпляра срабатывает __init__\n",
    "Cat()"
   ]
  },
  {
   "cell_type": "code",
   "execution_count": 129,
   "metadata": {},
   "outputs": [
    {
     "name": "stdout",
     "output_type": "stream",
     "text": [
      "hello\n"
     ]
    }
   ],
   "source": [
    "tom = Cat()"
   ]
  },
  {
   "cell_type": "markdown",
   "metadata": {},
   "source": [
    "Добавим в класс вывод объекта self"
   ]
  },
  {
   "cell_type": "code",
   "execution_count": 130,
   "metadata": {},
   "outputs": [],
   "source": [
    "class Cat:\n",
    "    breed = 'Pers'\n",
    "    \n",
    "    def set_value(self, value, age=0):\n",
    "        self.name = value\n",
    "        self.age = age\n",
    "        \n",
    "    def __init__(self):\n",
    "        print('hello new object is ', self)"
   ]
  },
  {
   "cell_type": "markdown",
   "metadata": {},
   "source": [
    "Видим, что один и тот же адрес."
   ]
  },
  {
   "cell_type": "code",
   "execution_count": 131,
   "metadata": {},
   "outputs": [
    {
     "name": "stdout",
     "output_type": "stream",
     "text": [
      "hello new object is  <__main__.Cat object at 0x0000022D816D2BC8>\n"
     ]
    }
   ],
   "source": [
    "tom = Cat()"
   ]
  },
  {
   "cell_type": "code",
   "execution_count": 132,
   "metadata": {},
   "outputs": [
    {
     "data": {
      "text/plain": [
       "<__main__.Cat at 0x22d816d2bc8>"
      ]
     },
     "execution_count": 132,
     "metadata": {},
     "output_type": "execute_result"
    }
   ],
   "source": [
    "tom"
   ]
  },
  {
   "cell_type": "markdown",
   "metadata": {},
   "source": [
    "Пространство имён - это атрибуты экземпляра, которые можно посмотреть командой ```__dict__```\n",
    "\n",
    "Метод ```__init__``` нужен для инициализации и заполнения переменных какими-либо значениями."
   ]
  },
  {
   "cell_type": "code",
   "execution_count": 133,
   "metadata": {},
   "outputs": [],
   "source": [
    "class Cat:\n",
    "    breed = 'Pers'\n",
    "    \n",
    "    def set_value(self, value, age=0):\n",
    "        self.name = value\n",
    "        self.age = age\n",
    "        \n",
    "    def __init__(self, name, breed, age, color):\n",
    "        print('hello new object is ', self, name, breed, age, color)"
   ]
  },
  {
   "cell_type": "markdown",
   "metadata": {},
   "source": [
    "Все значения атрибутов мы увидем в выводе и значит в функции init мы сможем ими воспользоваться."
   ]
  },
  {
   "cell_type": "code",
   "execution_count": 134,
   "metadata": {},
   "outputs": [
    {
     "name": "stdout",
     "output_type": "stream",
     "text": [
      "hello new object is  <__main__.Cat object at 0x0000022D816F31C8> Tom siam 40 black\n"
     ]
    },
    {
     "data": {
      "text/plain": [
       "<__main__.Cat at 0x22d816f31c8>"
      ]
     },
     "execution_count": 134,
     "metadata": {},
     "output_type": "execute_result"
    }
   ],
   "source": [
    "Cat('Tom', 'siam', 40, 'black')"
   ]
  },
  {
   "cell_type": "code",
   "execution_count": 139,
   "metadata": {},
   "outputs": [],
   "source": [
    "class Cat:\n",
    "    \n",
    "    def set_value(self, value, age=0):\n",
    "        self.name = value\n",
    "        self.age = age\n",
    "        \n",
    "    def __init__(self, name, breed='pers', age=1, color='white'):\n",
    "        print('hello new object is ', self, name, breed, age, color)\n",
    "        self.name = name \n",
    "        self.breed = breed\n",
    "        self.age = age\n",
    "        self.color = color\n",
    "# слева от равно - имена атрибутов | справа - входящие аргументы функции"
   ]
  },
  {
   "cell_type": "code",
   "execution_count": 136,
   "metadata": {},
   "outputs": [
    {
     "name": "stdout",
     "output_type": "stream",
     "text": [
      "hello new object is  <__main__.Cat object at 0x0000022D8170C9C8> walt pers 1 white\n"
     ]
    }
   ],
   "source": [
    "# можно передать 1 параметр, т.к. только он обязательный\n",
    "walt = Cat('walt')"
   ]
  },
  {
   "cell_type": "markdown",
   "metadata": {},
   "source": [
    "Экземпляр уже имеет 4 атрибуты, котрые мы проставили в момент инициализации. 3 атрибута взялись по умолчанию."
   ]
  },
  {
   "cell_type": "code",
   "execution_count": 137,
   "metadata": {},
   "outputs": [
    {
     "data": {
      "text/plain": [
       "{'name': 'walt', 'breed': 'pers', 'age': 1, 'color': 'white'}"
      ]
     },
     "execution_count": 137,
     "metadata": {},
     "output_type": "execute_result"
    }
   ],
   "source": [
    "walt.__dict__"
   ]
  },
  {
   "cell_type": "code",
   "execution_count": 138,
   "metadata": {},
   "outputs": [
    {
     "name": "stdout",
     "output_type": "stream",
     "text": [
      "hello new object is  <__main__.Cat object at 0x0000022D816E4B08> Kelly pers 40 white\n"
     ]
    }
   ],
   "source": [
    "# создадим ещё одну кошку\n",
    "kelly = Cat('Kelly', age=40)"
   ]
  },
  {
   "cell_type": "markdown",
   "metadata": {},
   "source": [
    "Теперь отпала необходимость в методе set_value. Но при создании экземпляра класса нужно обязательно передавать один аргусент - имя."
   ]
  },
  {
   "cell_type": "code",
   "execution_count": 140,
   "metadata": {},
   "outputs": [],
   "source": [
    "class Cat:\n",
    "        \n",
    "    def __init__(self, name, breed='pers', age=1, color='white'):\n",
    "        print('hello new object is ', self, name, breed, age, color)\n",
    "        self.name = name \n",
    "        self.breed = breed\n",
    "        self.age = age\n",
    "        self.color = color"
   ]
  },
  {
   "cell_type": "code",
   "execution_count": 141,
   "metadata": {},
   "outputs": [
    {
     "name": "stdout",
     "output_type": "stream",
     "text": [
      "hello new object is  <__main__.Cat object at 0x0000022D816D0C48> walt pers 1 white\n"
     ]
    }
   ],
   "source": [
    "walt = Cat('walt')"
   ]
  },
  {
   "cell_type": "markdown",
   "metadata": {},
   "source": [
    "**Задание 1**\n",
    "\n",
    "Создайте класс Laptop, у которого есть:\n",
    "\n",
    "конструктор __init__, принимающий 3 аргумента: brand, model, price . Также во время инициализации необходимо создать атрибут laptop_name - строковое значение, вида ```\"<brand> <model>\"```\n",
    "\n",
    "``` python\n",
    "hp = Laptop('hp', '15-bw0xx', 57000)\n",
    "print(hp.laptop_name) # выводит \"hp 15-bw0xx\"\n",
    "```\n",
    "И затем создайте 2 экземпляра класса Laptop и сохраните их в переменные laptop1 и laptop2."
   ]
  },
  {
   "cell_type": "code",
   "execution_count": 161,
   "metadata": {},
   "outputs": [],
   "source": [
    "class Laptop:\n",
    "    def __init__(self, brand, model, price):\n",
    "        self.brand = brand\n",
    "        self.model = model\n",
    "        self.price = price\n",
    "        self.laptop_name = f\"{brand} {model}\""
   ]
  },
  {
   "cell_type": "code",
   "execution_count": 162,
   "metadata": {},
   "outputs": [],
   "source": [
    "laptop1 = Laptop('hp', '15-bw0xx', 57000)"
   ]
  },
  {
   "cell_type": "code",
   "execution_count": 163,
   "metadata": {},
   "outputs": [],
   "source": [
    "laptop2 = Laptop('dell', '17-bw0xx', 67000)"
   ]
  },
  {
   "cell_type": "code",
   "execution_count": 164,
   "metadata": {},
   "outputs": [
    {
     "name": "stdout",
     "output_type": "stream",
     "text": [
      "hp 15-bw0xx\n"
     ]
    }
   ],
   "source": [
    "hp = Laptop('hp', '15-bw0xx', 57000)\n",
    "print(hp.laptop_name) # выводит \"hp 15-bw0xx\""
   ]
  },
  {
   "cell_type": "markdown",
   "metadata": {},
   "source": [
    "**Задача 3**\n",
    "\n",
    "Создайте класс SoccerPlayer, у которого есть:\n",
    "\n",
    "1. конструктор ```__init__```, принимающий 2 аргумента: name, surname. Также во время инициализации необходимо создать 2 атрибута экземпляра: **goals** и **assists** - общее количество голов и передач игрока, изначально оба значения должны быть 0\n",
    "2. метод **score**, который принимает количество голов, забитых игроком, по умолчанию данное значение равно единице. Метод должен увеличить общее количество забитых голов игрока на переданное значение;\n",
    "3. метод **make_assist**, который принимает количество передач, сделанных игроком за матч, по умолчанию данное значение равно единице. Метод должен увеличить общее количество сделанных передач игроком на переданное значение;\n",
    "4. метод **statistics**, который вывод на экран статистику игрока в виде:\n",
    "<Фамилия> <Имя> - голы: <goals>, передачи: <assists>\n",
    "\n",
    "``` python\n",
    "leo = SoccerPlayer('Leo', 'Messi')\n",
    "leo.score(700)\n",
    "leo.make_assist(500)\n",
    "leo.statistics() # выводит \"Messi Leo - голы: 700, передачи: 500\"\n",
    "kokorin = SoccerPlayer('Alex', 'Kokorin')\n",
    "kokorin.score()\n",
    "kokorin.statistics() # выводит \"Kokorin Alex - голы: 1, передачи: 0\"\n",
    "```"
   ]
  },
  {
   "cell_type": "code",
   "execution_count": 284,
   "metadata": {},
   "outputs": [
    {
     "name": "stdout",
     "output_type": "stream",
     "text": [
      "Messi Leo - голы: 700, передачи: 500\n",
      "Kokorin Alex - голы: 1, передачи: 0\n"
     ]
    }
   ],
   "source": [
    "class SoccerPlayer:\n",
    "    def __init__(self, name, surname):\n",
    "        self.name = name\n",
    "        self.surname = surname\n",
    "        self.goals = 0\n",
    "        self.assists = 0\n",
    "        \n",
    "    def score(self, goals=1):\n",
    "        self.goals += goals\n",
    "    \n",
    "    def make_assist(self, assists=1):\n",
    "        self.assists += assists\n",
    "    \n",
    "    def statistics(self):\n",
    "        print(f'{self.surname} {self.name} - голы: {self.goals}, передачи: {self.assists}')\n",
    "        \n",
    "        \n",
    "leo = SoccerPlayer('Leo', 'Messi')\n",
    "leo.score(700)\n",
    "leo.make_assist(500)\n",
    "leo.statistics() # выводит \"Messi Leo - голы: 700, передачи: 500\"\n",
    "kokorin = SoccerPlayer('Alex', 'Kokorin')\n",
    "kokorin.score()\n",
    "kokorin.statistics() # выводит \"Kokorin Alex - голы: 1, передачи: 0\""
   ]
  },
  {
   "cell_type": "markdown",
   "metadata": {},
   "source": [
    "**Задача 3**\n",
    "Создайте класс Zebra, внутри которого есть метод ```which_stripe```, который поочередно печатает фразы \"Полоска белая\", \"Полоска черная\", начиная именно с фразы \"Полоска белая\"\n",
    "\n",
    "Пример работы с классом Zebra\n",
    "\n",
    "``` python\n",
    "z1 = Zebra()\n",
    "z1.which_stripe() # печатает \"Полоска белая\"\n",
    "z1.which_stripe() # печатает \"Полоска черная\"\n",
    "z1.which_stripe() # печатает \"Полоска белая\"\n",
    "\n",
    "z2 = Zebra()\n",
    "z2.which_stripe() # печатает \"Полоска белая\"\n",
    "```"
   ]
  },
  {
   "cell_type": "code",
   "execution_count": 283,
   "metadata": {},
   "outputs": [
    {
     "name": "stdout",
     "output_type": "stream",
     "text": [
      "Полоска белая\n",
      "Полоска черная\n",
      "Полоска белая\n",
      "Полоска белая\n"
     ]
    }
   ],
   "source": [
    "class Zebra:\n",
    "    def __init__(self, stripe=1):\n",
    "        self.stripe = stripe\n",
    "    \n",
    "    def which_stripe(self):\n",
    "        self.stripe += 1\n",
    "        if self.stripe % 2 == 0:\n",
    "            print(\"Полоска белая\")\n",
    "        else:\n",
    "            print(\"Полоска черная\")\n",
    "        \n",
    "\n",
    "z1 = Zebra()\n",
    "z1.which_stripe() # печатает \"Полоска белая\"\n",
    "z1.which_stripe() # печатает \"Полоска черная\"\n",
    "z1.which_stripe() # печатает \"Полоска белая\"\n",
    "\n",
    "z2 = Zebra()\n",
    "z2.which_stripe() # печатает \"Полоска белая\""
   ]
  },
  {
   "cell_type": "markdown",
   "metadata": {},
   "source": [
    "**Задача 4**\n",
    "\n",
    "Создайте класс Person, у которого есть:\n",
    "\n",
    "1. конструктор ```__init__```, принимающий 3 аргумента: first_name, last_name, age. \n",
    "2. метод ```full_name```, который возвращает строку в виде \"<Фамилия> <Имя>\"\n",
    "3. метод ```is_adult```, который возвращает True, если человек достиг 18 лет и False в противном случае;\n",
    "\n",
    "``` python\n",
    "p1 = Person('Jimi', 'Hendrix', 55)\n",
    "print(p1.full_name())  # выводит \"Hendrix Jimi\"\n",
    "print(p1.is_adult()) # выводит \"True\"\n",
    "```"
   ]
  },
  {
   "cell_type": "code",
   "execution_count": 292,
   "metadata": {},
   "outputs": [
    {
     "name": "stdout",
     "output_type": "stream",
     "text": [
      "Hendrix Jimi\n",
      "True\n"
     ]
    }
   ],
   "source": [
    "class Person:\n",
    "    def __init__(self, first_name, last_name, age):\n",
    "        self.first_name = first_name\n",
    "        self.last_name = last_name\n",
    "        self.age = age\n",
    "        \n",
    "    def full_name(self):\n",
    "        return f'{self.last_name} {self.first_name}'\n",
    "        \n",
    "    def is_adult(self):\n",
    "        return self.age >= 18     #    <=======================  !!!!!!!!!!!!!\n",
    "\n",
    "            \n",
    "p1 = Person('Jimi', 'Hendrix', 55)\n",
    "print(p1.full_name())  # выводит \"Hendrix Jimi\"\n",
    "print(p1.is_adult()) # выводит \"True\""
   ]
  },
  {
   "cell_type": "markdown",
   "metadata": {},
   "source": [
    "## Практика \"Создание класса и его методов\""
   ]
  },
  {
   "cell_type": "markdown",
   "metadata": {},
   "source": [
    "Можно вызывать метод из другого метода. Но так как метод привязан к объекту, его нужно вызывать после self.\n",
    "\n",
    "Ниже иллюстрирован принцип DRY - Do not Repeat Yourself."
   ]
  },
  {
   "cell_type": "code",
   "execution_count": 320,
   "metadata": {},
   "outputs": [
    {
     "name": "stdout",
     "output_type": "stream",
     "text": [
      "{'x': 4, 'y': 0}\n",
      "{'x': 4, 'y': 8}\n",
      "{'x': 0, 'y': 0}\n",
      "Точка с координатами (0,0)\n"
     ]
    }
   ],
   "source": [
    "class Point:\n",
    "    \n",
    "    def __init__(self, coord_x=0, coord_y=0):\n",
    "        self.move_to(coord_x, coord_y)   # <============ !!!!!\n",
    "        \n",
    "    def move_to(self, new_x, new_y):\n",
    "        self.x = new_x\n",
    "        self.y = new_y\n",
    "        \n",
    "    def go_home(self):\n",
    "        self.move_to(0, 0)   # <======  вызов метода из другого метода  ========= !!!!!\n",
    "        \n",
    "    def print_point(self):\n",
    "        print(f'Точка с координатами ({self.x},{self.y})')\n",
    "    \n",
    "p4 = Point(4)\n",
    "print(p4.__dict__)\n",
    "p4.move_to(4, 8)\n",
    "print(p4.__dict__)\n",
    "p4.go_home()\n",
    "print(p4.__dict__)\n",
    "p4.print_point()"
   ]
  },
  {
   "cell_type": "markdown",
   "metadata": {},
   "source": [
    "Создадим класс с атрибутами класса ()"
   ]
  },
  {
   "cell_type": "code",
   "execution_count": 324,
   "metadata": {},
   "outputs": [
    {
     "data": {
      "text/plain": [
       "[<__main__.Point at 0x22d827f17c8>, <__main__.Point at 0x22d827f1508>]"
      ]
     },
     "execution_count": 324,
     "metadata": {},
     "output_type": "execute_result"
    }
   ],
   "source": [
    "class Point:\n",
    "    \n",
    "    list_points = []  # атрибут всего класса: список точек, котрые создаются\n",
    "    \n",
    "    def __init__(self, coord_x=0, coord_y=0):\n",
    "        self.move_to(coord_x, coord_y)\n",
    "        Point.list_points.append(self)   # если не уазывать через имя класса (Point.) атрибут не будет виден внутри функции \n",
    "        \n",
    "    def move_to(self, new_x, new_y):\n",
    "        self.x = new_x\n",
    "        self.y = new_y\n",
    "        \n",
    "    def go_home(self):\n",
    "        self.move_to(0, 0)   # <======  вызов метода из другого метода  ========= !!!!!\n",
    "        \n",
    "    def print_point(self):\n",
    "        print(f'Точка с координатами ({self.x},{self.y})')\n",
    "\n",
    "p11 = Point()\n",
    "Point.list_points\n",
    "p12 = Point(4, 5)\n",
    "Point.list_points"
   ]
  },
  {
   "cell_type": "code",
   "execution_count": 325,
   "metadata": {},
   "outputs": [
    {
     "data": {
      "text/plain": [
       "<__main__.Point at 0x22d827f1508>"
      ]
     },
     "execution_count": 325,
     "metadata": {},
     "output_type": "execute_result"
    }
   ],
   "source": [
    "# т.к. это лист, можно брать его срез и атрибуты\n",
    "Point.list_points[1]"
   ]
  },
  {
   "cell_type": "code",
   "execution_count": 326,
   "metadata": {},
   "outputs": [
    {
     "data": {
      "text/plain": [
       "4"
      ]
     },
     "execution_count": 326,
     "metadata": {},
     "output_type": "execute_result"
    }
   ],
   "source": [
    "# т.к. это лист, можно брать его срез и атрибуты\n",
    "Point.list_points[1].x"
   ]
  },
  {
   "cell_type": "markdown",
   "metadata": {},
   "source": [
    "**Задание**\n",
    "\n",
    "Создайте класс Dog, у которого есть:\n",
    "\n",
    "1. конструктор __init__, принимающий 2 аргумента: name, age. \n",
    "2. метод description, который возвращает строку в виде \"<name> is <age> years old\"\n",
    "3. метод speak принимающий один аргумент, который возвращает строку вида \"<name> says <sound>\";\n",
    "   \n",
    "``` python\n",
    "jack = Dog(\"Jack\", 4)\n",
    "\n",
    "print(jack.description()) # распечатает 'Jack is 4 years old'\n",
    "print(jack.speak(\"Woof Woof\")) # распечатает 'Jack says Woof Woof'\n",
    "print(jack.speak(\"Bow Wow\")) # распечатает 'Jack says Bow Wow'\n",
    "```"
   ]
  },
  {
   "cell_type": "code",
   "execution_count": 335,
   "metadata": {},
   "outputs": [
    {
     "name": "stdout",
     "output_type": "stream",
     "text": [
      "Jack is 4 years old\n",
      "Jack says Woof Woof\n",
      "Jack says Bow Wow\n"
     ]
    }
   ],
   "source": [
    "class Dog:\n",
    "    def __init__(self, name, age):\n",
    "        self.name = name\n",
    "        self.age = age\n",
    "        \n",
    "    def description(self):\n",
    "        return f'{self.name} is {self.age} years old'\n",
    "        \n",
    "    def speak(self, word):\n",
    "        self.word = word\n",
    "        return f'{self.name} says {self.word}'\n",
    "        \n",
    "jack = Dog(\"Jack\", 4)\n",
    "\n",
    "print(jack.description()) # распечатает 'Jack is 4 years old'\n",
    "print(jack.speak(\"Woof Woof\")) # распечатает 'Jack says Woof Woof'\n",
    "print(jack.speak(\"Bow Wow\")) # распечатает 'Jack says Bow Wow'"
   ]
  }
 ],
 "metadata": {
  "kernelspec": {
   "display_name": "Python 3",
   "language": "python",
   "name": "python3"
  },
  "language_info": {
   "codemirror_mode": {
    "name": "ipython",
    "version": 3
   },
   "file_extension": ".py",
   "mimetype": "text/x-python",
   "name": "python",
   "nbconvert_exporter": "python",
   "pygments_lexer": "ipython3",
   "version": "3.7.7"
  },
  "toc": {
   "base_numbering": 1,
   "nav_menu": {},
   "number_sections": true,
   "sideBar": true,
   "skip_h1_title": false,
   "title_cell": "Table of Contents",
   "title_sidebar": "Contents",
   "toc_cell": false,
   "toc_position": {},
   "toc_section_display": true,
   "toc_window_display": false
  },
  "varInspector": {
   "cols": {
    "lenName": 16,
    "lenType": 16,
    "lenVar": 40
   },
   "kernels_config": {
    "python": {
     "delete_cmd_postfix": "",
     "delete_cmd_prefix": "del ",
     "library": "var_list.py",
     "varRefreshCmd": "print(var_dic_list())"
    },
    "r": {
     "delete_cmd_postfix": ") ",
     "delete_cmd_prefix": "rm(",
     "library": "var_list.r",
     "varRefreshCmd": "cat(var_dic_list()) "
    }
   },
   "types_to_exclude": [
    "module",
    "function",
    "builtin_function_or_method",
    "instance",
    "_Feature"
   ],
   "window_display": false
  }
 },
 "nbformat": 4,
 "nbformat_minor": 4
}
