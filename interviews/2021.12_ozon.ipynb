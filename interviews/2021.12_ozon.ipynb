{
 "cells": [
  {
   "cell_type": "markdown",
   "id": "4e3cc3e8",
   "metadata": {},
   "source": [
    "## Ozone\n",
    "\n",
    "**Декабрь 2021 г**\n",
    "\n",
    "Даны два целочисленных упорядоченных списка A и B. Объедините их в один упорядоченный список С (должно быть len(A) + len(B) элементов). Напишите функцию, которая возвращает полученный список. Какая сложность у Вашего алгоритма?"
   ]
  },
  {
   "cell_type": "code",
   "execution_count": 1,
   "id": "94842703",
   "metadata": {
    "ExecuteTime": {
     "end_time": "2021-11-23T09:03:09.747868Z",
     "start_time": "2021-11-23T09:03:09.736732Z"
    }
   },
   "outputs": [],
   "source": [
    "a = [1, 3, 8, 10, 15]\n",
    "b = [6, 16, 18, 29, 450]"
   ]
  },
  {
   "cell_type": "markdown",
   "id": "e1f0b132",
   "metadata": {},
   "source": [
    "Я написал"
   ]
  },
  {
   "cell_type": "code",
   "execution_count": 19,
   "id": "39107fed",
   "metadata": {
    "ExecuteTime": {
     "end_time": "2021-11-23T09:02:55.243715Z",
     "start_time": "2021-11-23T09:02:55.227644Z"
    }
   },
   "outputs": [],
   "source": [
    "def concat_list(a, b):\n",
    "\n",
    "    return a.append(b)\n",
    "\n",
    "c = concat_list(a, b)\n",
    "c"
   ]
  },
  {
   "cell_type": "markdown",
   "id": "ad30ce8c",
   "metadata": {},
   "source": [
    "Возвращает None"
   ]
  },
  {
   "cell_type": "code",
   "execution_count": 23,
   "id": "9157be00",
   "metadata": {
    "ExecuteTime": {
     "end_time": "2021-11-23T09:03:04.410461Z",
     "start_time": "2021-11-23T09:03:04.395830Z"
    }
   },
   "outputs": [],
   "source": [
    "def concat_list(a, b):\n",
    "    a.extend(b)\n",
    "    c = a.sort()\n",
    "    return c\n",
    "\n",
    "\n",
    "c = concat_list(a, b)\n",
    "c"
   ]
  },
  {
   "cell_type": "markdown",
   "id": "5ff64328",
   "metadata": {},
   "source": [
    "Опять возвращает None"
   ]
  },
  {
   "cell_type": "markdown",
   "id": "967cd4e0",
   "metadata": {},
   "source": [
    "**Как надо было. Способ 1**"
   ]
  },
  {
   "cell_type": "code",
   "execution_count": 26,
   "id": "1c754fbc",
   "metadata": {
    "ExecuteTime": {
     "end_time": "2021-11-23T09:03:11.741652Z",
     "start_time": "2021-11-23T09:03:11.736667Z"
    }
   },
   "outputs": [
    {
     "data": {
      "text/plain": [
       "[1, 3, 6, 8, 10, 15, 16, 18, 29, 450]"
      ]
     },
     "execution_count": 26,
     "metadata": {},
     "output_type": "execute_result"
    }
   ],
   "source": [
    "def concat_list_1(a, b):\n",
    "    return sorted(a + b)\n",
    "\n",
    "concat_list_1(a, b)"
   ]
  },
  {
   "cell_type": "markdown",
   "id": "3fa414bd",
   "metadata": {},
   "source": [
    "**Способ 2**"
   ]
  },
  {
   "cell_type": "code",
   "execution_count": 12,
   "id": "d65ae388",
   "metadata": {
    "ExecuteTime": {
     "end_time": "2021-11-23T09:01:06.912215Z",
     "start_time": "2021-11-23T09:01:06.891766Z"
    }
   },
   "outputs": [
    {
     "data": {
      "text/plain": [
       "[1, 3, 6, 6, 8, 10, 15, 16, 16, 18, 18, 29, 29, 450, 450]"
      ]
     },
     "execution_count": 12,
     "metadata": {},
     "output_type": "execute_result"
    }
   ],
   "source": [
    "def concat_list_2(a, b):\n",
    "    for i in b:\n",
    "        a.append(i)\n",
    "    return sorted(a)\n",
    "    \n",
    "concat_list_2(a, b)"
   ]
  },
  {
   "cell_type": "markdown",
   "id": "e28d350f",
   "metadata": {},
   "source": [
    "Недостаток способа 2 - изменяет исходный список.\n",
    "\n",
    "**Способ 3**"
   ]
  },
  {
   "cell_type": "code",
   "execution_count": 28,
   "id": "dfcff6bb",
   "metadata": {
    "ExecuteTime": {
     "end_time": "2021-11-23T09:04:01.131529Z",
     "start_time": "2021-11-23T09:04:01.123550Z"
    }
   },
   "outputs": [
    {
     "data": {
      "text/plain": [
       "[1, 3, 6, 6, 8, 10, 15, 16, 16, 18, 18, 29, 29, 450, 450]"
      ]
     },
     "execution_count": 28,
     "metadata": {},
     "output_type": "execute_result"
    }
   ],
   "source": [
    "def concat_list_3(a, b):\n",
    "    a.extend(b)\n",
    "    return sorted(a)\n",
    "\n",
    "concat_list_3(a, b)"
   ]
  },
  {
   "cell_type": "code",
   "execution_count": 29,
   "id": "e3066caf",
   "metadata": {
    "ExecuteTime": {
     "end_time": "2021-11-23T09:04:03.787644Z",
     "start_time": "2021-11-23T09:04:03.774540Z"
    }
   },
   "outputs": [
    {
     "data": {
      "text/plain": [
       "[1, 3, 8, 10, 15, 6, 16, 18, 29, 450, 6, 16, 18, 29, 450]"
      ]
     },
     "execution_count": 29,
     "metadata": {},
     "output_type": "execute_result"
    }
   ],
   "source": [
    "a"
   ]
  },
  {
   "cell_type": "markdown",
   "id": "e8e4e3d8",
   "metadata": {},
   "source": [
    "Недостаток способа 3 - изменяет исходный список."
   ]
  }
 ],
 "metadata": {
  "kernelspec": {
   "display_name": "Python 3.9.7 ('base')",
   "language": "python",
   "name": "python3"
  },
  "language_info": {
   "codemirror_mode": {
    "name": "ipython",
    "version": 3
   },
   "file_extension": ".py",
   "mimetype": "text/x-python",
   "name": "python",
   "nbconvert_exporter": "python",
   "pygments_lexer": "ipython3",
   "version": "3.9.7"
  },
  "toc": {
   "base_numbering": 1,
   "nav_menu": {},
   "number_sections": false,
   "sideBar": true,
   "skip_h1_title": false,
   "title_cell": "Table of Contents",
   "title_sidebar": "Contents",
   "toc_cell": false,
   "toc_position": {},
   "toc_section_display": true,
   "toc_window_display": false
  },
  "varInspector": {
   "cols": {
    "lenName": 16,
    "lenType": 16,
    "lenVar": 40
   },
   "kernels_config": {
    "python": {
     "delete_cmd_postfix": "",
     "delete_cmd_prefix": "del ",
     "library": "var_list.py",
     "varRefreshCmd": "print(var_dic_list())"
    },
    "r": {
     "delete_cmd_postfix": ") ",
     "delete_cmd_prefix": "rm(",
     "library": "var_list.r",
     "varRefreshCmd": "cat(var_dic_list()) "
    }
   },
   "types_to_exclude": [
    "module",
    "function",
    "builtin_function_or_method",
    "instance",
    "_Feature"
   ],
   "window_display": false
  },
  "vscode": {
   "interpreter": {
    "hash": "6bcd08b9d07a1bbf1ca3d2e85cf520478653b674492b433d59be3f14d722c959"
   }
  }
 },
 "nbformat": 4,
 "nbformat_minor": 5
}
