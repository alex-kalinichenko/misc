{
 "cells": [
  {
   "cell_type": "markdown",
   "id": "76051ad1",
   "metadata": {},
   "source": [
    "What are like-to-view ratios for US and CA citizens with the last answer (rows with the same video_id and trending_date were dropped) and such data:\n",
    "\n",
    "Please write the whole calculation, so I understand which dates and videos were used."
   ]
  },
  {
   "cell_type": "code",
   "execution_count": 1,
   "id": "41090d54",
   "metadata": {
    "ExecuteTime": {
     "end_time": "2022-05-13T12:26:48.169897Z",
     "start_time": "2022-05-13T12:26:47.731600Z"
    }
   },
   "outputs": [],
   "source": [
    "import numpy as np\n",
    "import pandas as pd"
   ]
  },
  {
   "cell_type": "code",
   "execution_count": 2,
   "id": "390e8395",
   "metadata": {
    "ExecuteTime": {
     "end_time": "2022-05-13T12:26:48.205445Z",
     "start_time": "2022-05-13T12:26:48.175250Z"
    }
   },
   "outputs": [
    {
     "data": {
      "text/html": [
       "<div>\n",
       "<style scoped>\n",
       "    .dataframe tbody tr th:only-of-type {\n",
       "        vertical-align: middle;\n",
       "    }\n",
       "\n",
       "    .dataframe tbody tr th {\n",
       "        vertical-align: top;\n",
       "    }\n",
       "\n",
       "    .dataframe thead th {\n",
       "        text-align: right;\n",
       "    }\n",
       "</style>\n",
       "<table border=\"1\" class=\"dataframe\">\n",
       "  <thead>\n",
       "    <tr style=\"text-align: right;\">\n",
       "      <th></th>\n",
       "      <th>date</th>\n",
       "      <th>country</th>\n",
       "      <th>video</th>\n",
       "      <th>views</th>\n",
       "      <th>likes</th>\n",
       "    </tr>\n",
       "  </thead>\n",
       "  <tbody>\n",
       "    <tr>\n",
       "      <th>0</th>\n",
       "      <td>2022-01-01</td>\n",
       "      <td>US</td>\n",
       "      <td>Video_A</td>\n",
       "      <td>2000</td>\n",
       "      <td>40</td>\n",
       "    </tr>\n",
       "    <tr>\n",
       "      <th>1</th>\n",
       "      <td>2020-01-02</td>\n",
       "      <td>CA</td>\n",
       "      <td>Video_B</td>\n",
       "      <td>3000</td>\n",
       "      <td>15</td>\n",
       "    </tr>\n",
       "    <tr>\n",
       "      <th>2</th>\n",
       "      <td>2022-01-03</td>\n",
       "      <td>US</td>\n",
       "      <td>Video_C</td>\n",
       "      <td>1010</td>\n",
       "      <td>101</td>\n",
       "    </tr>\n",
       "    <tr>\n",
       "      <th>3</th>\n",
       "      <td>2022-01-03</td>\n",
       "      <td>CA</td>\n",
       "      <td>Video_C</td>\n",
       "      <td>1010</td>\n",
       "      <td>101</td>\n",
       "    </tr>\n",
       "    <tr>\n",
       "      <th>4</th>\n",
       "      <td>2022-01-03</td>\n",
       "      <td>GB</td>\n",
       "      <td>Video_C</td>\n",
       "      <td>1010</td>\n",
       "      <td>101</td>\n",
       "    </tr>\n",
       "    <tr>\n",
       "      <th>5</th>\n",
       "      <td>2022-01-04</td>\n",
       "      <td>US</td>\n",
       "      <td>Video_C</td>\n",
       "      <td>1020</td>\n",
       "      <td>102</td>\n",
       "    </tr>\n",
       "    <tr>\n",
       "      <th>6</th>\n",
       "      <td>2022-01-04</td>\n",
       "      <td>CA</td>\n",
       "      <td>Video_C</td>\n",
       "      <td>1020</td>\n",
       "      <td>102</td>\n",
       "    </tr>\n",
       "    <tr>\n",
       "      <th>7</th>\n",
       "      <td>2022-01-04</td>\n",
       "      <td>GB</td>\n",
       "      <td>Video_C</td>\n",
       "      <td>1020</td>\n",
       "      <td>102</td>\n",
       "    </tr>\n",
       "    <tr>\n",
       "      <th>8</th>\n",
       "      <td>2022-01-05</td>\n",
       "      <td>US</td>\n",
       "      <td>Video_C</td>\n",
       "      <td>1030</td>\n",
       "      <td>103</td>\n",
       "    </tr>\n",
       "    <tr>\n",
       "      <th>9</th>\n",
       "      <td>2022-01-05</td>\n",
       "      <td>CA</td>\n",
       "      <td>Video_C</td>\n",
       "      <td>1030</td>\n",
       "      <td>103</td>\n",
       "    </tr>\n",
       "    <tr>\n",
       "      <th>10</th>\n",
       "      <td>2022-01-05</td>\n",
       "      <td>GB</td>\n",
       "      <td>Video_C</td>\n",
       "      <td>1030</td>\n",
       "      <td>103</td>\n",
       "    </tr>\n",
       "    <tr>\n",
       "      <th>11</th>\n",
       "      <td>2022-01-06</td>\n",
       "      <td>US</td>\n",
       "      <td>Video_C</td>\n",
       "      <td>1040</td>\n",
       "      <td>104</td>\n",
       "    </tr>\n",
       "    <tr>\n",
       "      <th>12</th>\n",
       "      <td>2022-01-06</td>\n",
       "      <td>CA</td>\n",
       "      <td>Video_D</td>\n",
       "      <td>1000</td>\n",
       "      <td>70</td>\n",
       "    </tr>\n",
       "  </tbody>\n",
       "</table>\n",
       "</div>"
      ],
      "text/plain": [
       "         date country    video  views  likes\n",
       "0  2022-01-01      US  Video_A   2000     40\n",
       "1  2020-01-02      CA  Video_B   3000     15\n",
       "2  2022-01-03      US  Video_C   1010    101\n",
       "3  2022-01-03      CA  Video_C   1010    101\n",
       "4  2022-01-03      GB  Video_C   1010    101\n",
       "5  2022-01-04      US  Video_C   1020    102\n",
       "6  2022-01-04      CA  Video_C   1020    102\n",
       "7  2022-01-04      GB  Video_C   1020    102\n",
       "8  2022-01-05      US  Video_C   1030    103\n",
       "9  2022-01-05      CA  Video_C   1030    103\n",
       "10 2022-01-05      GB  Video_C   1030    103\n",
       "11 2022-01-06      US  Video_C   1040    104\n",
       "12 2022-01-06      CA  Video_D   1000     70"
      ]
     },
     "execution_count": 2,
     "metadata": {},
     "output_type": "execute_result"
    }
   ],
   "source": [
    "df = pd.read_csv('data.csv', \n",
    "                 parse_dates=['date'],\n",
    "                 dayfirst=True,\n",
    "                )\n",
    "df"
   ]
  },
  {
   "cell_type": "markdown",
   "id": "3bc2facc",
   "metadata": {},
   "source": [
    "**Delete those videos that are present in 2 or more countries at the same time, since we can't know what contribution (likes and views) each country has made.**"
   ]
  },
  {
   "cell_type": "code",
   "execution_count": 3,
   "id": "0872e8d8",
   "metadata": {
    "ExecuteTime": {
     "end_time": "2022-05-13T12:26:48.221442Z",
     "start_time": "2022-05-13T12:26:48.206453Z"
    }
   },
   "outputs": [
    {
     "data": {
      "text/html": [
       "<div>\n",
       "<style scoped>\n",
       "    .dataframe tbody tr th:only-of-type {\n",
       "        vertical-align: middle;\n",
       "    }\n",
       "\n",
       "    .dataframe tbody tr th {\n",
       "        vertical-align: top;\n",
       "    }\n",
       "\n",
       "    .dataframe thead th {\n",
       "        text-align: right;\n",
       "    }\n",
       "</style>\n",
       "<table border=\"1\" class=\"dataframe\">\n",
       "  <thead>\n",
       "    <tr style=\"text-align: right;\">\n",
       "      <th></th>\n",
       "      <th>date</th>\n",
       "      <th>country</th>\n",
       "      <th>video</th>\n",
       "      <th>views</th>\n",
       "      <th>likes</th>\n",
       "    </tr>\n",
       "  </thead>\n",
       "  <tbody>\n",
       "    <tr>\n",
       "      <th>0</th>\n",
       "      <td>2022-01-01</td>\n",
       "      <td>US</td>\n",
       "      <td>Video_A</td>\n",
       "      <td>2000</td>\n",
       "      <td>40</td>\n",
       "    </tr>\n",
       "    <tr>\n",
       "      <th>1</th>\n",
       "      <td>2020-01-02</td>\n",
       "      <td>CA</td>\n",
       "      <td>Video_B</td>\n",
       "      <td>3000</td>\n",
       "      <td>15</td>\n",
       "    </tr>\n",
       "    <tr>\n",
       "      <th>11</th>\n",
       "      <td>2022-01-06</td>\n",
       "      <td>US</td>\n",
       "      <td>Video_C</td>\n",
       "      <td>1040</td>\n",
       "      <td>104</td>\n",
       "    </tr>\n",
       "    <tr>\n",
       "      <th>12</th>\n",
       "      <td>2022-01-06</td>\n",
       "      <td>CA</td>\n",
       "      <td>Video_D</td>\n",
       "      <td>1000</td>\n",
       "      <td>70</td>\n",
       "    </tr>\n",
       "  </tbody>\n",
       "</table>\n",
       "</div>"
      ],
      "text/plain": [
       "         date country    video  views  likes\n",
       "0  2022-01-01      US  Video_A   2000     40\n",
       "1  2020-01-02      CA  Video_B   3000     15\n",
       "11 2022-01-06      US  Video_C   1040    104\n",
       "12 2022-01-06      CA  Video_D   1000     70"
      ]
     },
     "execution_count": 3,
     "metadata": {},
     "output_type": "execute_result"
    }
   ],
   "source": [
    "df_last = df.drop_duplicates(subset=['video'], keep='last')\n",
    "df_last"
   ]
  },
  {
   "cell_type": "markdown",
   "id": "b6cde084",
   "metadata": {},
   "source": [
    "**Summing up the likes and views by country**"
   ]
  },
  {
   "cell_type": "code",
   "execution_count": 4,
   "id": "9d4b45dc",
   "metadata": {
    "ExecuteTime": {
     "end_time": "2022-05-13T12:26:48.237008Z",
     "start_time": "2022-05-13T12:26:48.223413Z"
    }
   },
   "outputs": [
    {
     "data": {
      "text/html": [
       "<div>\n",
       "<style scoped>\n",
       "    .dataframe tbody tr th:only-of-type {\n",
       "        vertical-align: middle;\n",
       "    }\n",
       "\n",
       "    .dataframe tbody tr th {\n",
       "        vertical-align: top;\n",
       "    }\n",
       "\n",
       "    .dataframe thead th {\n",
       "        text-align: right;\n",
       "    }\n",
       "</style>\n",
       "<table border=\"1\" class=\"dataframe\">\n",
       "  <thead>\n",
       "    <tr style=\"text-align: right;\">\n",
       "      <th></th>\n",
       "      <th>views</th>\n",
       "      <th>likes</th>\n",
       "    </tr>\n",
       "    <tr>\n",
       "      <th>country</th>\n",
       "      <th></th>\n",
       "      <th></th>\n",
       "    </tr>\n",
       "  </thead>\n",
       "  <tbody>\n",
       "    <tr>\n",
       "      <th>CA</th>\n",
       "      <td>4000</td>\n",
       "      <td>85</td>\n",
       "    </tr>\n",
       "    <tr>\n",
       "      <th>US</th>\n",
       "      <td>3040</td>\n",
       "      <td>144</td>\n",
       "    </tr>\n",
       "  </tbody>\n",
       "</table>\n",
       "</div>"
      ],
      "text/plain": [
       "         views  likes\n",
       "country              \n",
       "CA        4000     85\n",
       "US        3040    144"
      ]
     },
     "execution_count": 4,
     "metadata": {},
     "output_type": "execute_result"
    }
   ],
   "source": [
    "df_group = df_last.groupby(by=['country']).agg('sum')\n",
    "df_group"
   ]
  },
  {
   "cell_type": "markdown",
   "id": "e0ff989d",
   "metadata": {},
   "source": [
    "**Calculate the ratio of likes to views by country.**"
   ]
  },
  {
   "cell_type": "code",
   "execution_count": 5,
   "id": "10f2793a",
   "metadata": {
    "ExecuteTime": {
     "end_time": "2022-05-13T12:26:48.252762Z",
     "start_time": "2022-05-13T12:26:48.238004Z"
    }
   },
   "outputs": [
    {
     "data": {
      "text/html": [
       "<div>\n",
       "<style scoped>\n",
       "    .dataframe tbody tr th:only-of-type {\n",
       "        vertical-align: middle;\n",
       "    }\n",
       "\n",
       "    .dataframe tbody tr th {\n",
       "        vertical-align: top;\n",
       "    }\n",
       "\n",
       "    .dataframe thead th {\n",
       "        text-align: right;\n",
       "    }\n",
       "</style>\n",
       "<table border=\"1\" class=\"dataframe\">\n",
       "  <thead>\n",
       "    <tr style=\"text-align: right;\">\n",
       "      <th></th>\n",
       "      <th>views</th>\n",
       "      <th>likes</th>\n",
       "      <th>like / view</th>\n",
       "    </tr>\n",
       "    <tr>\n",
       "      <th>country</th>\n",
       "      <th></th>\n",
       "      <th></th>\n",
       "      <th></th>\n",
       "    </tr>\n",
       "  </thead>\n",
       "  <tbody>\n",
       "    <tr>\n",
       "      <th>CA</th>\n",
       "      <td>4000</td>\n",
       "      <td>85</td>\n",
       "      <td>0.021250</td>\n",
       "    </tr>\n",
       "    <tr>\n",
       "      <th>US</th>\n",
       "      <td>3040</td>\n",
       "      <td>144</td>\n",
       "      <td>0.047368</td>\n",
       "    </tr>\n",
       "  </tbody>\n",
       "</table>\n",
       "</div>"
      ],
      "text/plain": [
       "         views  likes  like / view\n",
       "country                           \n",
       "CA        4000     85     0.021250\n",
       "US        3040    144     0.047368"
      ]
     },
     "execution_count": 5,
     "metadata": {},
     "output_type": "execute_result"
    }
   ],
   "source": [
    "df_group['like / view'] = df_group['likes'] / df_group['views']\n",
    "df_group"
   ]
  },
  {
   "cell_type": "code",
   "execution_count": null,
   "id": "d8b3b274",
   "metadata": {},
   "outputs": [],
   "source": []
  }
 ],
 "metadata": {
  "kernelspec": {
   "display_name": "Python 3 (ipykernel)",
   "language": "python",
   "name": "python3"
  },
  "language_info": {
   "codemirror_mode": {
    "name": "ipython",
    "version": 3
   },
   "file_extension": ".py",
   "mimetype": "text/x-python",
   "name": "python",
   "nbconvert_exporter": "python",
   "pygments_lexer": "ipython3",
   "version": "3.9.7"
  },
  "toc": {
   "base_numbering": 1,
   "nav_menu": {},
   "number_sections": false,
   "sideBar": true,
   "skip_h1_title": true,
   "title_cell": "Table of Contents",
   "title_sidebar": "Contents",
   "toc_cell": false,
   "toc_position": {},
   "toc_section_display": true,
   "toc_window_display": false
  },
  "varInspector": {
   "cols": {
    "lenName": 16,
    "lenType": 16,
    "lenVar": 40
   },
   "kernels_config": {
    "python": {
     "delete_cmd_postfix": "",
     "delete_cmd_prefix": "del ",
     "library": "var_list.py",
     "varRefreshCmd": "print(var_dic_list())"
    },
    "r": {
     "delete_cmd_postfix": ") ",
     "delete_cmd_prefix": "rm(",
     "library": "var_list.r",
     "varRefreshCmd": "cat(var_dic_list()) "
    }
   },
   "types_to_exclude": [
    "module",
    "function",
    "builtin_function_or_method",
    "instance",
    "_Feature"
   ],
   "window_display": false
  }
 },
 "nbformat": 4,
 "nbformat_minor": 5
}
