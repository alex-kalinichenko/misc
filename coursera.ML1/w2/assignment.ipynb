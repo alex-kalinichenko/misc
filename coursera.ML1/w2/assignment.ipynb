{
 "cells": [
  {
   "cell_type": "markdown",
   "metadata": {},
   "source": [
    "# Линейная алгебра: сходство текстов и аппроксимация функций\n",
    "\n",
    "Данное задание основано на материалах секции, посвященной введению в линейную алгебру. Вам понадобится компьютер с установленным интерпретатором Python и подключенными библиотеками NumPy и SciPy.\n",
    "\n",
    "Вы научитесь:\n",
    "-  читать тексты из файла с помощью Python и разбивать их на слова\n",
    "- переводить тексты в векторные пространства, вычислять расстояния в этих пространствах\n",
    "- решать системы линейных уравнений\n",
    "- приближать любые функции с помощью многочленов\n",
    "\n",
    "**Введение**\n",
    "\n",
    "В этом задании вы познакомитесь с некоторыми базовыми методами из линейной алгебры, реализованными в пакете SciPy — в частности, с методами подсчета косинусного расстояния и решения систем линейных уравнений. Обе эти задачи еще много раз встретятся нам в специализации. Так, на решении систем линейных уравнений основана настройка линейных моделей — очень большого и важного класса алгоритмов машинного обучения. Косинусное расстояние же часто используется в анализе текстов для измерения сходства между ними.\n",
    "\n",
    "**Материалы**\n",
    "\n",
    "Справка по функциям пакета scipy.linalg: http://docs.scipy.org/doc/scipy/reference/linalg.html\n",
    "\n",
    "Справка по работе с файлами в Python: https://docs.python.org/2/tutorial/inputoutput.html#reading-and-writing-files\n",
    "\n",
    "Справка по регулярным выражениям в Python (если вы захотите узнать про них чуть больше): https://docs.python.org/2/library/re.html\n",
    "\n",
    "**Инструкция по выполнению**\n",
    "\n",
    "Данное задание состоит из двух частей. В каждой ответом будет набор чисел, который вам нужно будет ввести в соответствующее поле через пробел."
   ]
  },
  {
   "cell_type": "markdown",
   "metadata": {},
   "source": [
    "**Задача 1: сравнение предложений**\n",
    "\n",
    "Дан набор предложений, скопированных с Википедии. Каждое из них имеет \"кошачью тему\" в одном из трех смыслов:\n",
    "- кошки (животные)\n",
    "- UNIX-утилита cat для вывода содержимого файлов\n",
    "- версии операционной системы OS X, названные в честь семейства кошачьих\n",
    "\n",
    "Ваша задача — найти два предложения, которые ближе всего по смыслу к расположенному в самой первой строке. В качестве меры близости по смыслу мы будем использовать косинусное расстояние.\n",
    "\n",
    "**Выполните следующие шаги:**\n",
    "\n",
    "- Скачайте файл с предложениями (sentences.txt).\n",
    "- Каждая строка в файле соответствует одному предложению. Считайте их, приведите каждую к нижнему регистру с помощью строковой функции lower().\n",
    "- Произведите токенизацию, то есть разбиение текстов на слова. Для этого можно воспользоваться регулярным выражением, которое считает разделителем любой символ, не являющийся буквой: `re.split('[^a-z]', t)`. Не забудьте удалить пустые слова после разделения.\n",
    "- Составьте список всех слов, встречающихся в предложениях. Сопоставьте каждому слову индекс от нуля до (d - 1), где d — число различных слов в предложениях. Для этого удобно воспользоваться структурой dict.\n",
    "- Создайте матрицу размера n * d, где n — число предложений. Заполните ее: элемент с индексом (i, j) в этой матрице должен быть равен количеству вхождений j-го слова в i-е предложение. У вас должна получиться матрица размера 22 * 254.\n",
    "- Найдите косинусное расстояние от предложения в самой первой строке (In comparison to dogs, cats have not undergone...) до всех остальных с помощью функции scipy.spatial.distance.cosine. Какие номера у двух предложений, ближайших к нему по этому расстоянию (строки нумеруются с нуля)? Эти два числа и будут ответами на задание. Само предложение (In comparison to dogs, cats have not undergone... ) имеет индекс 0.\n",
    "- Запишите полученные числа в файл, разделив пробелом. Обратите внимание, что файл должен состоять из одной строки, в конце которой не должно быть переноса. Пример файла с решением вы можете найти в конце задания (submission-1.txt).\n",
    "- Совпадают ли ближайшие два предложения по тематике с первым? Совпадают ли тематики у следующих по близости предложений?\n",
    "\n",
    "Разумеется, использованный вами метод крайне простой. Например, он не учитывает формы слов (так, cat и cats он считает разными словами, хотя по сути они означают одно и то же), не удаляет из текстов артикли и прочие ненужные слова. Позже мы будем подробно изучать анализ текстов, где выясним, как достичь высокого качества в задаче поиска похожих предложений."
   ]
  },
  {
   "cell_type": "code",
   "execution_count": 4,
   "metadata": {},
   "outputs": [],
   "source": [
    "import re\n",
    "import sys\n",
    "#np.set_printoptions(threshold=sys.maxsize)"
   ]
  },
  {
   "cell_type": "code",
   "execution_count": 22,
   "metadata": {
    "scrolled": false
   },
   "outputs": [
    {
     "name": "stdout",
     "output_type": "stream",
     "text": [
      "['in', 'comparison', 'to', 'dogs', 'cats', 'have', 'not', 'undergone', 'major', 'changes', 'during', 'the', 'domestication', 'process', 'as', 'cat', 'simply', 'catenates', 'streams', 'of', 'bytes', 'it', 'can', 'be', 'also', 'used', 'to', 'concatenate', 'binary', 'files', 'where', 'it', 'will', 'just', 'concatenate', 'sequence', 'of', 'bytes', 'a', 'common', 'interactive', 'use', 'of', 'cat', 'for', 'a', 'single', 'file', 'is', 'to', 'output', 'the', 'content', 'of', 'a', 'file', 'to', 'standard', 'output', 'cats', 'can', 'hear', 'sounds', 'too', 'faint', 'or', 'too', 'high', 'in', 'frequency', 'for', 'human', 'ears', 'such', 'as', 'those', 'made', 'by', 'mice', 'and', 'other', 'small', 'animals', 'in', 'one', 'people', 'deliberately', 'tamed', 'cats', 'in', 'a', 'process', 'of', 'artificial', 'selection', 'as', 'they', 'were', 'useful', 'predators', 'of', 'vermin', 'the', 'domesticated', 'cat', 'and', 'its', 'closest', 'wild', 'ancestor', 'are', 'both', 'diploid', 'organisms', 'that', 'possess', 'chromosomes', 'and', 'roughly', 'genes', 'domestic', 'cats', 'are', 'similar', 'in', 'size', 'to', 'the', 'other', 'members', 'of', 'the', 'genus', 'felis', 'typically', 'weighing', 'between', 'and', 'kg', 'and', 'lb', 'however', 'if', 'the', 'output', 'is', 'piped', 'or', 'redirected', 'cat', 'is', 'unnecessary', 'cat', 'with', 'one', 'named', 'file', 'is', 'safer', 'where', 'human', 'error', 'is', 'a', 'concern', 'one', 'wrong', 'use', 'of', 'the', 'default', 'redirection', 'symbol', 'instead', 'of', 'often', 'adjacent', 'on', 'keyboards', 'may', 'permanently', 'delete', 'the', 'file', 'you', 'were', 'just', 'needing', 'to', 'read', 'in', 'terms', 'of', 'legibility', 'a', 'sequence', 'of', 'commands', 'starting', 'with', 'cat', 'and', 'connected', 'by', 'pipes', 'has', 'a', 'clear', 'left', 'to', 'right', 'flow', 'of', 'information', 'cat', 'command', 'is', 'one', 'of', 'the', 'basic', 'commands', 'that', 'you', 'learned', 'when', 'you', 'started', 'in', 'the', 'unix', 'linux', 'world', 'using', 'cat', 'command', 'the', 'lines', 'received', 'from', 'stdin', 'can', 'be', 'redirected', 'to', 'a', 'new', 'file', 'using', 'redirection', 'symbols', 'when', 'you', 'type', 'simply', 'cat', 'command', 'without', 'any', 'arguments', 'it', 'just', 'receives', 'the', 'stdin', 'content', 'and', 'displays', 'it', 'in', 'the', 'stdout', 'leopard', 'was', 'released', 'on', 'october', 'as', 'the', 'successor', 'of', 'tiger', 'version', 'and', 'is', 'available', 'in', 'two', 'editions', 'according', 'to', 'apple', 'leopard', 'contains', 'over', 'changes', 'and', 'enhancements', 'over', 'its', 'predecessor', 'mac', 'os', 'x', 'tiger', 'as', 'of', 'mid', 'some', 'apple', 'computers', 'have', 'firmware', 'factory', 'installed', 'which', 'will', 'no', 'longer', 'allow', 'installation', 'of', 'mac', 'os', 'x', 'leopard', 'since', 'apple', 'moved', 'to', 'using', 'intel', 'processors', 'in', 'their', 'computers', 'the', 'osx', 'community', 'has', 'developed', 'and', 'now', 'also', 'allows', 'mac', 'os', 'x', 'tiger', 'and', 'later', 'releases', 'to', 'be', 'installed', 'on', 'non', 'apple', 'x', 'based', 'computers', 'os', 'x', 'mountain', 'lion', 'was', 'released', 'on', 'july', 'for', 'purchase', 'and', 'download', 'through', 'apple', 's', 'mac', 'app', 'store', 'as', 'part', 'of', 'a', 'switch', 'to', 'releasing', 'os', 'x', 'versions', 'online', 'and', 'every', 'year', 'apple', 'has', 'released', 'a', 'small', 'patch', 'for', 'the', 'three', 'most', 'recent', 'versions', 'of', 'safari', 'running', 'on', 'os', 'x', 'yosemite', 'mavericks', 'and', 'mountain', 'lion', 'the', 'mountain', 'lion', 'release', 'marks', 'the', 'second', 'time', 'apple', 'has', 'offered', 'an', 'incremental', 'upgrade', 'rather', 'than', 'releasing', 'a', 'new', 'cat', 'entirely', 'mac', 'os', 'x', 'mountain', 'lion', 'installs', 'in', 'place', 'so', 'you', 'won', 't', 'need', 'to', 'create', 'a', 'separate', 'disk', 'or', 'run', 'the', 'installation', 'off', 'an', 'external', 'drive', 'the', 'fifth', 'major', 'update', 'to', 'mac', 'os', 'x', 'leopard', 'contains', 'such', 'a', 'mountain', 'of', 'features', 'more', 'than', 'by', 'apple', 's', 'count']\n",
      "{'in': 11, 'comparison': 1, 'to': 14, 'dogs': 1, 'cats': 4, 'have': 2, 'not': 1, 'undergone': 1, 'major': 2, 'changes': 2, 'during': 1, 'the': 20, 'domestication': 1, 'process': 2, 'as': 6, 'cat': 10, 'simply': 2, 'catenates': 1, 'streams': 1, 'of': 19, 'bytes': 2, 'it': 4, 'can': 3, 'be': 3, 'also': 2, 'used': 1, 'concatenate': 2, 'binary': 1, 'files': 1, 'where': 2, 'will': 2, 'just': 3, 'sequence': 2, 'a': 13, 'common': 1, 'interactive': 1, 'use': 2, 'for': 4, 'single': 1, 'file': 5, 'is': 7, 'output': 3, 'content': 2, 'standard': 1, 'hear': 1, 'sounds': 1, 'too': 2, 'faint': 1, 'or': 3, 'high': 1, 'frequency': 1, 'human': 2, 'ears': 1, 'such': 2, 'those': 1, 'made': 1, 'by': 3, 'mice': 1, 'and': 14, 'other': 2, 'small': 2, 'animals': 1, 'one': 4, 'people': 1, 'deliberately': 1, 'tamed': 1, 'artificial': 1, 'selection': 1, 'they': 1, 'were': 2, 'useful': 1, 'predators': 1, 'vermin': 1, 'domesticated': 1, 'its': 2, 'closest': 1, 'wild': 1, 'ancestor': 1, 'are': 2, 'both': 1, 'diploid': 1, 'organisms': 1, 'that': 2, 'possess': 1, 'chromosomes': 1, 'roughly': 1, 'genes': 1, 'domestic': 1, 'similar': 1, 'size': 1, 'members': 1, 'genus': 1, 'felis': 1, 'typically': 1, 'weighing': 1, 'between': 1, 'kg': 1, 'lb': 1, 'however': 1, 'if': 1, 'piped': 1, 'redirected': 2, 'unnecessary': 1, 'with': 2, 'named': 1, 'safer': 1, 'error': 1, 'concern': 1, 'wrong': 1, 'default': 1, 'redirection': 2, 'symbol': 1, 'instead': 1, 'often': 1, 'adjacent': 1, 'on': 5, 'keyboards': 1, 'may': 1, 'permanently': 1, 'delete': 1, 'you': 5, 'needing': 1, 'read': 1, 'terms': 1, 'legibility': 1, 'commands': 2, 'starting': 1, 'connected': 1, 'pipes': 1, 'has': 4, 'clear': 1, 'left': 1, 'right': 1, 'flow': 1, 'information': 1, 'command': 3, 'basic': 1, 'learned': 1, 'when': 2, 'started': 1, 'unix': 1, 'linux': 1, 'world': 1, 'using': 3, 'lines': 1, 'received': 1, 'from': 1, 'stdin': 2, 'new': 2, 'symbols': 1, 'type': 1, 'without': 1, 'any': 1, 'arguments': 1, 'receives': 1, 'displays': 1, 'stdout': 1, 'leopard': 4, 'was': 2, 'released': 3, 'october': 1, 'successor': 1, 'tiger': 3, 'version': 1, 'available': 1, 'two': 1, 'editions': 1, 'according': 1, 'apple': 8, 'contains': 2, 'over': 2, 'enhancements': 1, 'predecessor': 1, 'mac': 6, 'os': 8, 'x': 9, 'mid': 1, 'some': 1, 'computers': 3, 'firmware': 1, 'factory': 1, 'installed': 2, 'which': 1, 'no': 1, 'longer': 1, 'allow': 1, 'installation': 2, 'since': 1, 'moved': 1, 'intel': 1, 'processors': 1, 'their': 1, 'osx': 1, 'community': 1, 'developed': 1, 'now': 1, 'allows': 1, 'later': 1, 'releases': 1, 'non': 1, 'based': 1, 'mountain': 5, 'lion': 4, 'july': 1, 'purchase': 1, 'download': 1, 'through': 1, 's': 2, 'app': 1, 'store': 1, 'part': 1, 'switch': 1, 'releasing': 2, 'versions': 2, 'online': 1, 'every': 1, 'year': 1, 'patch': 1, 'three': 1, 'most': 1, 'recent': 1, 'safari': 1, 'running': 1, 'yosemite': 1, 'mavericks': 1, 'release': 1, 'marks': 1, 'second': 1, 'time': 1, 'offered': 1, 'an': 2, 'incremental': 1, 'upgrade': 1, 'rather': 1, 'than': 2, 'entirely': 1, 'installs': 1, 'place': 1, 'so': 1, 'won': 1, 't': 1, 'need': 1, 'create': 1, 'separate': 1, 'disk': 1, 'run': 1, 'off': 1, 'external': 1, 'drive': 1, 'fifth': 1, 'update': 1, 'features': 1, 'more': 1, 'count': 1}\n"
     ]
    }
   ],
   "source": [
    "file_obj = open('sentences.txt')\n",
    "\n",
    "# new array of given shape and type, without initializing entries\n",
    "matrix = np.zeros((22, 255), int)\n",
    "#print(matrix)\n",
    "\n",
    "sentence = []\n",
    "for pos_line, line in enumerate(file_obj):\n",
    "\n",
    "    #print('line=',line)\n",
    "    line = line.lower()\n",
    "    # делим строку по любому символу кроме букв\n",
    "    line = re.split(r'[^a-z]', line)\n",
    "\n",
    "    # генератор отбрасывает пустые слова\n",
    "    sentence.extend([elem for elem in line if elem != ''])\n",
    "    \n",
    "    \n",
    "    #print(sentence)\n",
    "    counts_dict = dict()\n",
    "\n",
    "\n",
    "    for pos_word, word in enumerate(sentence):\n",
    "        # dict.get(key[, default]) - возвращает значение ключа, но если его нет, возвращает None\n",
    "\n",
    "        counts_dict[word] = counts.get(word, 0) + 1\n",
    "        #matrix[pos_line][pos_word] =+ 1\n",
    "        \n",
    "    #print(counts)\n",
    "print(sentence)\n",
    "\n",
    "\n",
    "print(counts)\n",
    "\n",
    "for word in sentence:\n",
    "    if word\n",
    "print(counts)"
   ]
  }
 ],
 "metadata": {
  "kernelspec": {
   "display_name": "Python 3",
   "language": "python",
   "name": "python3"
  },
  "language_info": {
   "codemirror_mode": {
    "name": "ipython",
    "version": 3
   },
   "file_extension": ".py",
   "mimetype": "text/x-python",
   "name": "python",
   "nbconvert_exporter": "python",
   "pygments_lexer": "ipython3",
   "version": "3.8.5"
  },
  "toc": {
   "base_numbering": 1,
   "nav_menu": {},
   "number_sections": true,
   "sideBar": true,
   "skip_h1_title": false,
   "title_cell": "Table of Contents",
   "title_sidebar": "Contents",
   "toc_cell": false,
   "toc_position": {},
   "toc_section_display": true,
   "toc_window_display": false
  },
  "varInspector": {
   "cols": {
    "lenName": 16,
    "lenType": 16,
    "lenVar": 40
   },
   "kernels_config": {
    "python": {
     "delete_cmd_postfix": "",
     "delete_cmd_prefix": "del ",
     "library": "var_list.py",
     "varRefreshCmd": "print(var_dic_list())"
    },
    "r": {
     "delete_cmd_postfix": ") ",
     "delete_cmd_prefix": "rm(",
     "library": "var_list.r",
     "varRefreshCmd": "cat(var_dic_list()) "
    }
   },
   "types_to_exclude": [
    "module",
    "function",
    "builtin_function_or_method",
    "instance",
    "_Feature"
   ],
   "window_display": false
  }
 },
 "nbformat": 4,
 "nbformat_minor": 4
}
